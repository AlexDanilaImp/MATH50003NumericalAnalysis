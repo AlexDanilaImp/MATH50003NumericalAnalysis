{
 "cells": [
  {
   "cell_type": "markdown",
   "metadata": {},
   "source": [
    "# IEEE Floating Point Arithmetic\n",
    "\n",
    "\n",
    "Reference: [Overton](https://cs.nyu.edu/~overton/book/) Chapter 4.\n",
    "\n",
    "In this lecture, we introduce the\n",
    "[IEEE Standard for Floating-Point Arithmetic](https://en.wikipedia.org/wiki/IEEE_754).\n",
    "There are many  possible ways of representing real numbers on a computer, as well as \n",
    "the precise behaviour of operations such as addition, multiplication, etc.\n",
    "Before the 1980s each processor had potentially a different representation for \n",
    "real numbers, as well as different behaviour for operations.  \n",
    "IEEE introduced in 1985 was a means to standardise this across\n",
    "processors so that algorithms would produce consistent and reliable results.\n",
    "\n",
    "This chapter may seem very low level for a mathematics course but there are\n",
    "two important reasons to understand the behaviour of floating point numbers:\n",
    "1. Floating point arithmetic is very precisely defined, and can even be used\n",
    "in rigorous computations as we shall see in the problem sheets.\n",
    "2. Failure to understand floating point arithmetic can cause many errors\n",
    "in practice, with the extreme example being the [explosion of the Ariane 5 rocket](https://youtu.be/N6PWATvLQCY?t=86).\n",
    "\n",
    "\n",
    "Before we begin, we load two external packages. SetRounding.jl allows us \n",
    "to set the rounding mode of floating point arithmetic. ColorBitstring.jl\n",
    "  implements a function `printbits`\n",
    "which print the bits of floating point numbers in colour. \n",
    "Each colour corresponds to a different part of the representation:\n",
    "the <span style=\"color:red\">sign bit</span>, the <span style=\"color:green\">exponent bits</span>, \n",
    "and the <span style=\"color:blue\">significand bits</span> which we shall learn about shortly."
   ]
  },
  {
   "cell_type": "code",
   "execution_count": 1,
   "metadata": {
    "execution": {
     "iopub.execute_input": "2021-11-23T11:42:30.519987Z",
     "iopub.status.busy": "2021-11-23T11:42:29.960064Z",
     "iopub.status.idle": "2021-11-23T11:42:30.855581Z",
     "shell.execute_reply": "2021-11-23T11:42:30.855022Z"
    }
   },
   "outputs": [
    {
     "name": "stdout",
     "output_type": "stream",
     "text": [
      "\u001b[31m0\u001b[0m\u001b[32m01111111111\u001b[0m\u001b[34m0000000000000000000000000000000000000000000000000000\u001b[0m"
     ]
    }
   ],
   "source": [
    "using SetRounding, ColorBitstring\n",
    "printbits(1.0)"
   ]
  },
  {
   "cell_type": "markdown",
   "metadata": {},
   "source": [
    "In this chapter we discuss the following:\n",
    "\n",
    "1. Binary representation of real numbers: Any real number can be represented by an infinite sequence of bits. \n",
    "2. Floating point numbers: we discuss how real numbers are stored on a computer with a finite number of bits.\n",
    "3. Arithmetic: we discuss how arithmetic operations in floating point are exact up to rounding, and how the\n",
    "rounding mode can be set. This allows for precise error bounds in computations.\n",
    "4. High-precision floating point numbers: we discuss how the precision of floating point arithmetic can be increased arbitrary\n",
    "using `BigFloat`.\n",
    "\n",
    "\n",
    "## 1.  Binary representation of real numbers\n",
    "\n",
    "Before discussing how to represent real numbers with a finite number\n",
    "of bits, we consider what one could do with an infinite number of bits,\n",
    "that is, binary expansions.\n",
    "\n",
    "We use the notation:\n",
    "$$\n",
    "(b_0.b_1b_2b_3\\ldots)_2 = b_0 + {b_1 \\over 2} + {b_2 \\over 2^2} + {b_3 \\over 2^3} + \\cdots\n",
    "$$\n",
    "where $b_k$ are either 0 or 1. Every number $0 \\leq x < 1$ has a binary representation in this form.\n",
    "First we show some examples of verifying a numbers binary representation:\n",
    "\n",
    "**Example**\n",
    "Consider the number `1/3`.  In decimal we all know:\n",
    "$$\n",
    "1/3 = 0.3333\\ldots =  \\sum_{k=1}^\\infty {3 \\over 10^k}\n",
    "$$\n",
    "We will see that in binary\n",
    "$$\n",
    "1/3 = (0.010101\\ldots)_2 = \\sum_{k=1}^\\infty {1 \\over 2^{2k}}\n",
    "$$\n",
    "Both results can be proven using the geometric series:\n",
    "$$\n",
    "\\sum_{k=0}^\\infty z^k = {1 \\over 1 - z}\n",
    "$$\n",
    "provided $|z| < 1$. That is, with $z = 1/10$ we see the decimal case:\n",
    "$$\n",
    "3\\sum_{k=1}^\\infty {1 \\over 10^k} = {3 \\over 1 - {1 \\over 10}} - 3 = {1 \\over 3}\n",
    "$$\n",
    "A similar argument works for binary with $z = {1 \\over 4}$:\n",
    "$$\n",
    "\\sum_{k=1}^\\infty {1 \\over 4^k} = {1 \\over 1 - 1/4} - 1 = {1 \\over 3}\n",
    "$$\n",
    "\n",
    "The extension to numbers outside the range $0 \\leq x < 1$ is clear, e.g.\n",
    "$$\n",
    "(-101.010101\\ldots)_2 = -(5 + 1/3)\n",
    "$$\n",
    "But for floating point numbers we handle the integer part differently so\n",
    "we will not use this.\n",
    "\n",
    "\n",
    "\n",
    "\n",
    "## 2. Floating point numbers\n",
    "\n",
    "Floating point numbers are how a computer typically approximates\n",
    "a real number. \n",
    "\n",
    "**Definition** The _floating point numbers_ are\n",
    "$$\n",
    "F_{S,Q,P} := F^{\\rm normal}_{S,Q,P} \\cup F^{\\rm sub-normal}_{S,Q,P} \\cup F^{\\rm special}.\n",
    "$$\n",
    "The _normal floating point numbers_\n",
    "$F^{\\rm normal}_{S,Q,P} \\subset {\\mathbb R}$ are defined by\n",
    "$$\n",
    "F^{\\rm normal}_{S,Q,P} = \\{\\pm 2^{q-S} \\times (1.b_1b_2b_3\\ldots b_P)_2 : 1 \\leq q < 2^Q-1 \\}.\n",
    "$$\n",
    "The _sub-normal numbers_ $F^{\\rm sub-normal}_{S,Q,P} \\subset {\\mathbb R}$ are defined as\n",
    "$$\n",
    "F^{\\rm sub-normal}_{S,Q,P} = \\{\\pm 2^{1-S} \\times (0.b_1b_2b_3\\ldots b_P)_2\\}.\n",
    "$$\n",
    "The _special numbers_ $F^{\\rm special} \\not\\subset {\\mathbb R}$ are defined later.\n",
    "\n",
    "Note this set of real numbers has no nice algebraic structure: it is not closed under addition, subtraction, etc.\n",
    "and the normal floating point numbers does not include $0$. We will therefore need to define approximate versions of algebraic operations later.\n",
    "\n",
    "Floating point numbers are stored in $1 + Q + P$ total number of bits, in the format\n",
    "$$\n",
    "sq_1\\ldots q_Q b_1 \\ldots b_P\n",
    "$$\n",
    "The first bit ($s$) is the <span style=\"color:red\">sign bit</span>: 0 means positive and 1 means\n",
    "negative. The bits $q_1\\ldots q_Q$ are the <span style=\"color:green\">exponent bits</span>:\n",
    "they are the binary digits of the unsigned integer $q$: \n",
    "$$\n",
    "q = (q_1\\ldots q_Q)_2.\n",
    "$$\n",
    "Finally, the bits $b_1\\ldots b_P$ are the <span style=\"color:blue\">significand bits</span>.\n",
    "If $1 \\leq q < 2^Q-1$ then the bits represent the normal number\n",
    "$$\n",
    "x = \\pm 2^{q-S} \\times (1.b_1b_2b_3\\ldots b_P)_2.\n",
    "$$\n",
    "If $q = 0$ (i.e. all bits are 0) then the bits represent the sub-normal number\n",
    "$$\n",
    "x = \\pm 2^{1-S} \\times (0.b_1b_2b_3\\ldots b_P)_2.\n",
    "$$\n",
    "If $q = 2^Q-1$  (i.e. all bits are 1) then the bits represent a special number, discussed\n",
    "later.\n",
    "\n",
    "\n",
    "### IEEE floating point numbers\n",
    "\n",
    "**Definition** IEEE has 3 standard floating point numbers: 16-bit (half precision), 32-bit (single precision) and\n",
    "64-bit (double precision) defined by:\n",
    "$$\n",
    "\\begin{align*}\n",
    "F_{16} &:= F_{15,5,10} \\\\\n",
    "F_{32} &:= F_{127,8,23} \\\\\n",
    "F_{64} &:= F_{1023,11,52}\n",
    "\\end{align*}\n",
    "$$\n",
    "\n",
    "In Julia these correspond to 3 different floating point types:\n",
    "\n",
    "1.  `Float64` is a type representing $F_{64}$.\n",
    "We can create a `Float64` by including a \n",
    "decimal point when writing the number: \n",
    "`1.0` is a `Float64`. `Float64` is the default format for \n",
    "scientific computing (on the _Floating Point Unit_, FPU).  \n",
    "2. `Float32` is a type representing $F_{32}$.  We can create a `Float32` by including a \n",
    "`f0` when writing the number: \n",
    "`1f0` is a `Float32`. is generally the default format for graphics (on the _Graphics Processing Unit_, GPU), \n",
    "as the difference between 32 bits and 64 bits is indistinguishable to the eye in visualisation,\n",
    "and more data can be fit into a GPU's limitted memory.\n",
    "3.  `Float16` is a type representing $F_{16}$.\n",
    "It is important in machine learning where one wants to maximise the amount of data\n",
    "and high accuracy is not necessarily helpful. \n",
    "\n",
    "\n",
    "**Example** How is the number $1/3$ stored in `Float32`?\n",
    "Recall that\n",
    "$$\n",
    "1/3 = (0.010101\\ldots)_2 = 2^{-2} (1.0101\\ldots)_2 = 2^{125-127} (1.0101\\ldots)_2\n",
    "$$\n",
    "Since\n",
    "$$\n",
    "125 = (1111101)_2\n",
    "$$\n",
    "For the significand we round the last bit to the nearest (this is explained in detail in\n",
    "the section on rounding), so we have\n",
    "$$\n",
    "1.010101010101010101010101\\ldots \\approx 1.01010101010101010101011 \n",
    "$$\n",
    "Thus the `Float32` bits for $1/3$ are:"
   ]
  },
  {
   "cell_type": "code",
   "execution_count": 2,
   "metadata": {
    "execution": {
     "iopub.execute_input": "2021-11-23T11:42:30.857628Z",
     "iopub.status.busy": "2021-11-23T11:42:30.857121Z",
     "iopub.status.idle": "2021-11-23T11:42:30.942093Z",
     "shell.execute_reply": "2021-11-23T11:42:30.941661Z"
    }
   },
   "outputs": [
    {
     "name": "stdout",
     "output_type": "stream",
     "text": [
      "\u001b[31m0\u001b[0m\u001b[32m01111101\u001b[0m\u001b[34m01010101010101010101011\u001b[0m"
     ]
    }
   ],
   "source": [
    "printbits(1f0/3)"
   ]
  },
  {
   "cell_type": "markdown",
   "metadata": {},
   "source": [
    "The smallest positive normal number is $q = 1$ and $b_k$ all zero:\n",
    "$2^{1-S}$.\n",
    "For a given floating point type, it can be found using `floatmin`:"
   ]
  },
  {
   "cell_type": "code",
   "execution_count": 3,
   "metadata": {
    "execution": {
     "iopub.execute_input": "2021-11-23T11:42:30.944540Z",
     "iopub.status.busy": "2021-11-23T11:42:30.943845Z",
     "iopub.status.idle": "2021-11-23T11:42:31.382580Z",
     "shell.execute_reply": "2021-11-23T11:42:31.382015Z"
    }
   },
   "outputs": [
    {
     "data": {
      "text/plain": [
       "2.2250738585072014e-308"
      ]
     },
     "execution_count": 3,
     "metadata": {},
     "output_type": "execute_result"
    }
   ],
   "source": [
    "mn = floatmin(Float64)"
   ]
  },
  {
   "cell_type": "code",
   "execution_count": 4,
   "metadata": {
    "execution": {
     "iopub.execute_input": "2021-11-23T11:42:31.385973Z",
     "iopub.status.busy": "2021-11-23T11:42:31.384869Z",
     "iopub.status.idle": "2021-11-23T11:42:31.388545Z",
     "shell.execute_reply": "2021-11-23T11:42:31.387331Z"
    }
   },
   "outputs": [
    {
     "name": "stdout",
     "output_type": "stream",
     "text": [
      "\u001b[31m0\u001b[0m\u001b[32m00000000001\u001b[0m\u001b[34m0000000000000000000000000000000000000000000000000000\u001b[0m"
     ]
    }
   ],
   "source": [
    "printbits(mn)"
   ]
  },
  {
   "cell_type": "markdown",
   "metadata": {},
   "source": [
    "For sub-normal numbers, the simplest example is zero, which has $q=0$ and all significand bits zero:"
   ]
  },
  {
   "cell_type": "code",
   "execution_count": 5,
   "metadata": {
    "execution": {
     "iopub.execute_input": "2021-11-23T11:42:31.390796Z",
     "iopub.status.busy": "2021-11-23T11:42:31.390102Z",
     "iopub.status.idle": "2021-11-23T11:42:31.392521Z",
     "shell.execute_reply": "2021-11-23T11:42:31.391361Z"
    }
   },
   "outputs": [
    {
     "name": "stdout",
     "output_type": "stream",
     "text": [
      "\u001b[31m0\u001b[0m\u001b[32m00000000000\u001b[0m\u001b[34m0000000000000000000000000000000000000000000000000000\u001b[0m"
     ]
    }
   ],
   "source": [
    "printbits(0.0)"
   ]
  },
  {
   "cell_type": "markdown",
   "metadata": {},
   "source": [
    "Unlike integers, we also have a negative zero:"
   ]
  },
  {
   "cell_type": "code",
   "execution_count": 6,
   "metadata": {
    "execution": {
     "iopub.execute_input": "2021-11-23T11:42:31.395318Z",
     "iopub.status.busy": "2021-11-23T11:42:31.394269Z",
     "iopub.status.idle": "2021-11-23T11:42:31.396926Z",
     "shell.execute_reply": "2021-11-23T11:42:31.395879Z"
    }
   },
   "outputs": [
    {
     "name": "stdout",
     "output_type": "stream",
     "text": [
      "\u001b[31m1\u001b[0m\u001b[32m00000000000\u001b[0m\u001b[34m0000000000000000000000000000000000000000000000000000\u001b[0m"
     ]
    }
   ],
   "source": [
    "printbits(-0.0)"
   ]
  },
  {
   "cell_type": "markdown",
   "metadata": {},
   "source": [
    "This is treated as identical to `0.0`, except for with regards to special numbers.\n",
    "\n",
    "\n",
    "If we divide the smallest normal number by two, we get a subnormal number:"
   ]
  },
  {
   "cell_type": "code",
   "execution_count": 7,
   "metadata": {
    "execution": {
     "iopub.execute_input": "2021-11-23T11:42:31.400430Z",
     "iopub.status.busy": "2021-11-23T11:42:31.399856Z",
     "iopub.status.idle": "2021-11-23T11:42:31.405311Z",
     "shell.execute_reply": "2021-11-23T11:42:31.404883Z"
    }
   },
   "outputs": [
    {
     "name": "stdout",
     "output_type": "stream",
     "text": [
      "\u001b[31m0\u001b[0m\u001b[32m00000000000\u001b[0m\u001b[34m1000000000000000000000000000000000000000000000000000\u001b[0m"
     ]
    }
   ],
   "source": [
    "printbits(mn/2)"
   ]
  },
  {
   "cell_type": "markdown",
   "metadata": {},
   "source": [
    "Can you explain the bits?\n",
    "\n",
    "\n",
    "### Special numbers\n",
    "\n",
    "The special numbers extend the real line by adding $\\pm \\infty$ but also a notion of \"not-a-number\".\n",
    "**Definition**\n",
    "Denote ${\\rm NaN} := \\{\\}$ and define\n",
    "$$\n",
    "F^{\\rm special} := \\{\\infty, -\\infty, {\\rm NaN}\\}\n",
    "$$\n",
    "\n",
    "Whenever the bits of $q$ of a floating point number are all 1 then they represent an element of $F^{\\rm special}$.\n",
    "If all $b_k=0$, then the number represents either $\\pm\\infty$, called `Inf` and `-Inf`:"
   ]
  },
  {
   "cell_type": "code",
   "execution_count": 8,
   "metadata": {
    "execution": {
     "iopub.execute_input": "2021-11-23T11:42:31.407598Z",
     "iopub.status.busy": "2021-11-23T11:42:31.406913Z",
     "iopub.status.idle": "2021-11-23T11:42:31.410666Z",
     "shell.execute_reply": "2021-11-23T11:42:31.409898Z"
    }
   },
   "outputs": [
    {
     "name": "stdout",
     "output_type": "stream",
     "text": [
      "\u001b[31m0\u001b[0m\u001b[32m11111111111\u001b[0m\u001b[34m0000000000000000000000000000000000000000000000000000\u001b[0m\u001b[31m1\u001b[0m\u001b[32m11111111111\u001b[0m\u001b[34m0000000000000000000000000000000000000000000000000000\u001b[0m"
     ]
    }
   ],
   "source": [
    "printbits(Inf)\n",
    "printbits(-Inf)"
   ]
  },
  {
   "cell_type": "markdown",
   "metadata": {},
   "source": [
    "All other special floating point numbers represent `NaN`: `NaN` is stored with $q=(11111111111)_2$ and at least one of the $b_k =1$:"
   ]
  },
  {
   "cell_type": "code",
   "execution_count": 9,
   "metadata": {
    "execution": {
     "iopub.execute_input": "2021-11-23T11:42:31.414392Z",
     "iopub.status.busy": "2021-11-23T11:42:31.413217Z",
     "iopub.status.idle": "2021-11-23T11:42:31.416180Z",
     "shell.execute_reply": "2021-11-23T11:42:31.414959Z"
    }
   },
   "outputs": [
    {
     "name": "stdout",
     "output_type": "stream",
     "text": [
      "\u001b[31m0\u001b[0m\u001b[32m11111111111\u001b[0m\u001b[34m1000000000000000000000000000000000000000000000000000\u001b[0m"
     ]
    }
   ],
   "source": [
    "printbits(NaN)"
   ]
  },
  {
   "cell_type": "markdown",
   "metadata": {},
   "source": [
    "These are needed for undefined algebraic operations such as:"
   ]
  },
  {
   "cell_type": "code",
   "execution_count": 10,
   "metadata": {
    "execution": {
     "iopub.execute_input": "2021-11-23T11:42:31.418558Z",
     "iopub.status.busy": "2021-11-23T11:42:31.417720Z",
     "iopub.status.idle": "2021-11-23T11:42:31.420982Z",
     "shell.execute_reply": "2021-11-23T11:42:31.419064Z"
    }
   },
   "outputs": [
    {
     "data": {
      "text/plain": [
       "NaN"
      ]
     },
     "execution_count": 10,
     "metadata": {},
     "output_type": "execute_result"
    }
   ],
   "source": [
    "0/0"
   ]
  },
  {
   "cell_type": "markdown",
   "metadata": {},
   "source": [
    "**Example** What happens if we change some other $b_k$ to be nonzero?\n",
    "We can create bits as a string and see:"
   ]
  },
  {
   "cell_type": "code",
   "execution_count": 11,
   "metadata": {
    "execution": {
     "iopub.execute_input": "2021-11-23T11:42:31.423379Z",
     "iopub.status.busy": "2021-11-23T11:42:31.422855Z",
     "iopub.status.idle": "2021-11-23T11:42:31.436345Z",
     "shell.execute_reply": "2021-11-23T11:42:31.435969Z"
    }
   },
   "outputs": [
    {
     "data": {
      "text/plain": [
       "NaN"
      ]
     },
     "execution_count": 11,
     "metadata": {},
     "output_type": "execute_result"
    }
   ],
   "source": [
    "i=parse(UInt64, \"1111111111110000000000000000000010000001000000000010000000000000\"; base=2)\n",
    "reinterpret(Float64,i)"
   ]
  },
  {
   "cell_type": "markdown",
   "metadata": {},
   "source": [
    "Thus, there are more than one `NaN`s on a computer.  Can you figure out how many there are?\n",
    "\n",
    "\n",
    "## 3. Arithmetic\n",
    "\n",
    "\n",
    "Arithmetic operations are done exactly _up to rounding_.\n",
    "There are three basic rounding strategies: round up/down/towards zero/nearest.\n",
    "Mathematically we introduce the function ${\\rm round}$:\n",
    "\n",
    "**Definition** ${\\rm round}^{\\rm nearest}_{S,Q,P} : \\mathbb R \\rightarrow F_{S,Q,P}$ denotes \n",
    "the function that rounds a real number to the nearest floating point number. In case of a tie, the\n",
    "it returns the floating point number whose least significant bit is equal to zero.\n",
    "We use the notation ${\\rm round} := {\\rm round}^{\\rm nearest}$ when $S,Q,P$ are implied by context.\n",
    "\n",
    "\n",
    "\n",
    "In Julia, the rounding mode is specified by tags `RoundUp`, `RoundDown`, `RoundToZero`, and\n",
    "`RoundNearest`. (There are also more exotic rounding strategies `RoundNearestTiesAway` and\n",
    "`RoundNearestTiesUp` that we won't use.)\n",
    " Note that these rounding modes are part\n",
    "of the FPU instruction set so will be (roughly) equally fast as the default, `RoundNearest`.\n",
    "\n",
    "Let's try rounding a `Float64` to a `Float32`."
   ]
  },
  {
   "cell_type": "code",
   "execution_count": 12,
   "metadata": {
    "execution": {
     "iopub.execute_input": "2021-11-23T11:42:31.438613Z",
     "iopub.status.busy": "2021-11-23T11:42:31.437860Z",
     "iopub.status.idle": "2021-11-23T11:42:31.440318Z",
     "shell.execute_reply": "2021-11-23T11:42:31.439787Z"
    }
   },
   "outputs": [
    {
     "name": "stdout",
     "output_type": "stream",
     "text": [
      "\u001b[31m0\u001b[0m\u001b[32m01111111101\u001b[0m\u001b[34m0101010101010101010101010101010101010101010101010101\u001b[0m\u001b[31m0\u001b[0m\u001b[32m01111101\u001b[0m\u001b[34m01010101010101010101011\u001b[0m"
     ]
    }
   ],
   "source": [
    "printbits(1/3)  # 64 bits\n",
    "printbits(Float32(1/3))  # round to nearest 32-bit"
   ]
  },
  {
   "cell_type": "markdown",
   "metadata": {},
   "source": [
    "The default rounding mode can be changed:"
   ]
  },
  {
   "cell_type": "code",
   "execution_count": 13,
   "metadata": {
    "execution": {
     "iopub.execute_input": "2021-11-23T11:42:31.442322Z",
     "iopub.status.busy": "2021-11-23T11:42:31.441664Z",
     "iopub.status.idle": "2021-11-23T11:42:31.469415Z",
     "shell.execute_reply": "2021-11-23T11:42:31.469065Z"
    }
   },
   "outputs": [
    {
     "name": "stdout",
     "output_type": "stream",
     "text": [
      "\u001b[31m0\u001b[0m\u001b[32m01111101\u001b[0m\u001b[34m01010101010101010101010\u001b[0m"
     ]
    }
   ],
   "source": [
    "printbits(Float32(1/3,RoundDown) )"
   ]
  },
  {
   "cell_type": "markdown",
   "metadata": {},
   "source": [
    "Or alternatively we can change the rounding mode for a chunk of code\n",
    "using `setrounding`. The following changes `/` to round down:"
   ]
  },
  {
   "cell_type": "code",
   "execution_count": 14,
   "metadata": {
    "execution": {
     "iopub.execute_input": "2021-11-23T11:42:31.471425Z",
     "iopub.status.busy": "2021-11-23T11:42:31.470791Z",
     "iopub.status.idle": "2021-11-23T11:42:32.167080Z",
     "shell.execute_reply": "2021-11-23T11:42:32.166675Z"
    }
   },
   "outputs": [
    {
     "data": {
      "text/plain": [
       "0.33333334f0"
      ]
     },
     "execution_count": 14,
     "metadata": {},
     "output_type": "execute_result"
    }
   ],
   "source": [
    "setrounding(Float32, RoundDown) do\n",
    "    1f0/3\n",
    "end"
   ]
  },
  {
   "cell_type": "markdown",
   "metadata": {},
   "source": [
    "In IEEE arithmetic, the arithmetic operations `+`, `-`, `*`, `/` are defined by the property that they are exact up to \n",
    "rounding.  Mathematically we denote these operations as follows:\n",
    "$$\n",
    "x\\oplus y &:= {\\rm round}(x+y) \\\\\n",
    "x\\ominus y &:= {\\rm round}(x - y) \\\\\n",
    "x\\otimes y &:= {\\rm round}(x * y) \\\\\n",
    "x\\odiv y &:= {\\rm round}(x / y)\n",
    "$$\n",
    "Note also that  `^` and `sqrt` are similarly exact up to rounding.\n",
    "\n",
    "**WARNING** These operations are not associative! E.g. $(x \\oplus y) \\oplus z$ is not necessarily equal to $x \\oplus (y \\oplus z)$. \n",
    "Commutativity is preserved at least.\n",
    "\n",
    "\n",
    "**Example** `1.1+0.1` gives a different result than `1.2`:"
   ]
  },
  {
   "cell_type": "code",
   "execution_count": 15,
   "metadata": {
    "execution": {
     "iopub.execute_input": "2021-11-23T11:42:32.169327Z",
     "iopub.status.busy": "2021-11-23T11:42:32.168572Z",
     "iopub.status.idle": "2021-11-23T11:42:32.171110Z",
     "shell.execute_reply": "2021-11-23T11:42:32.170666Z"
    }
   },
   "outputs": [
    {
     "data": {
      "text/plain": [
       "2.220446049250313e-16"
      ]
     },
     "execution_count": 15,
     "metadata": {},
     "output_type": "execute_result"
    }
   ],
   "source": [
    "x=1.1\n",
    "y=0.1\n",
    "x + y - 1.2 # Not Zero?!?"
   ]
  },
  {
   "cell_type": "markdown",
   "metadata": {},
   "source": [
    "This is because ${\\rm round}(1.1) \\neq 1+1/10$, but rather:\n",
    "$$\n",
    "{\\rm round}(1.1) = 1 + 2^{-4}+2^{-5} + 2^{-8}+2^{-9}+\\cdots + 2^{-48}+2^{-49} + 2^{-51}= {2476979795053773 \\over 2251799813685248} = 1.1 +2^{-51} - 2^{-52} - 2^{-53} - 2^{-56} - 2^{-57} - \\cdots\n",
    "$$\n",
    "\n",
    "\n",
    "We can bound basic arithmetic operations in terms of:\n",
    "\n",
    "**Definition** _Machine epsilon_ is denoted $\\epsilon_{\\rm machine} := 2^{-P}$. \n",
    "\n",
    "This corresponds to the _relative error_ introduced\n",
    "by changing the last bit of a normal floating point number. \n",
    "\n",
    "**Proposition**\n",
    "$$\n",
    "\\begin{align*}\n",
    "|x \\oplus y - (x + y)| \\leq |x+y| \\epsilon_{\\rm machine}\n",
    "$$\n",
    "\n",
    "\n",
    "### Arithmetic and special numbers\n",
    "\n",
    "Arithmetic works differently on `Inf` and `NaN`. In particular we have:\n",
    "$$\n",
    "\\begin{align*}\n",
    "x \\odiv 0 &:= \\begin{cases}\n",
    "    (\\sign x) \\infty & x \\neq 0 \\\\\n",
    "    {\\rm NaN} & {\\rm otherwise}\\\\\n",
    "\\end{\\align*}\n",
    "$$"
   ]
  },
  {
   "cell_type": "code",
   "execution_count": 16,
   "metadata": {
    "execution": {
     "iopub.execute_input": "2021-11-23T11:42:32.172977Z",
     "iopub.status.busy": "2021-11-23T11:42:32.172485Z",
     "iopub.status.idle": "2021-11-23T11:42:32.482799Z",
     "shell.execute_reply": "2021-11-23T11:42:32.482213Z"
    }
   },
   "outputs": [
    {
     "data": {
      "text/plain": [
       "true"
      ]
     },
     "execution_count": 16,
     "metadata": {},
     "output_type": "execute_result"
    }
   ],
   "source": [
    "Inf*0      # NaN\n",
    "Inf+5      # Inf\n",
    "(-1)*Inf   # -Inf\n",
    "1/Inf      # 0\n",
    "1/(-Inf)   # -0\n",
    "Inf-Inf    # NaN\n",
    "Inf == Inf   # true\n",
    "Inf == -Inf  # false\n",
    "\n",
    "NaN*0      # NaN\n",
    "NaN+5      # NaN\n",
    "1/NaN      # NaN\n",
    "NaN == NaN    # false\n",
    "NaN != NaN    #true"
   ]
  },
  {
   "cell_type": "markdown",
   "metadata": {},
   "source": [
    "### Special functions\n",
    "\n",
    "Other special functions like `cos`, `sin`, `exp`, etc. are _not_ part of the IEEE standard.\n",
    "Instead, they are implemented by composing the basic arithmetic operations, which accumulate\n",
    "errors. Fortunately they are all designed to have relative accuracy, that is, there exists\n",
    "reasonably small $c > 0$ such that, for `s = sin(x)` (that is, the Julia implementation of $sin(x)$) satisfies\n",
    "$$\n",
    "|s - \\sin x| \\leq |sin(x)| c\\epsilon_{\\rm machine}\n",
    "$$\n",
    "Note these special functions are written in (advanced) Julia code, for example, \n",
    "[sin](https://github.com/JuliaLang/julia/blob/d08b05df6f01cf4ec6e4c28ad94cedda76cc62e8/base/special/trig.jl#L76).\n",
    "\n",
    "\n",
    "**WARNING** This is an extremely misleading statement for large `x`. Consider\n",
    "the following demonstration of the statement:"
   ]
  },
  {
   "cell_type": "code",
   "execution_count": 17,
   "metadata": {
    "execution": {
     "iopub.execute_input": "2021-11-23T11:42:32.486479Z",
     "iopub.status.busy": "2021-11-23T11:42:32.485415Z",
     "iopub.status.idle": "2021-11-23T11:42:32.708321Z",
     "shell.execute_reply": "2021-11-23T11:42:32.707936Z"
    }
   },
   "outputs": [
    {
     "data": {
      "text/plain": [
       "true"
      ]
     },
     "execution_count": 17,
     "metadata": {},
     "output_type": "execute_result"
    }
   ],
   "source": [
    "ε = eps() # machine epsilon, 2^(-52)\n",
    "x = 2*10.0^100\n",
    "abs(sin(x) - sin(big(x)))  ≤  abs(sin(big(x))) * ε"
   ]
  },
  {
   "cell_type": "markdown",
   "metadata": {},
   "source": [
    "But if we instead compute `10^100` using `BigFloat` we get a completely different\n",
    "answer that even has the wrong sign!"
   ]
  },
  {
   "cell_type": "code",
   "execution_count": 18,
   "metadata": {
    "execution": {
     "iopub.execute_input": "2021-11-23T11:42:32.711694Z",
     "iopub.status.busy": "2021-11-23T11:42:32.710527Z",
     "iopub.status.idle": "2021-11-23T11:42:33.195539Z",
     "shell.execute_reply": "2021-11-23T11:42:33.195155Z"
    }
   },
   "outputs": [
    {
     "data": {
      "text/plain": [
       "(-0.703969872087777, 0.6911910845037462219623751594978914260403966392716944990360937340001300242965408)"
      ]
     },
     "execution_count": 18,
     "metadata": {},
     "output_type": "execute_result"
    }
   ],
   "source": [
    "x̃ = 2*big(10.0)^100\n",
    "sin(x), sin(x̃)"
   ]
  },
  {
   "cell_type": "markdown",
   "metadata": {},
   "source": [
    "This is because we commit an error on the order of roughly $2 * 10^100 * \\epsilon_{\\machine} \\approx 4.44 * 10^(84)$\n",
    "when we round $2*10^100$ to the nearest float. \n",
    "\n",
    "## 4. High-precision floating point numbers (*advanced*)"
   ]
  }
 ],
 "metadata": {
  "kernelspec": {
   "display_name": "Julia 1.6.2",
   "language": "julia",
   "name": "julia-1.6"
  },
  "language_info": {
   "file_extension": ".jl",
   "mimetype": "application/julia",
   "name": "julia",
   "version": "1.6.2"
  }
 },
 "nbformat": 4,
 "nbformat_minor": 2
}
