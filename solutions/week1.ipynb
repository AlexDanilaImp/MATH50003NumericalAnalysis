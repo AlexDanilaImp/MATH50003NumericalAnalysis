{
 "cells": [
  {
   "cell_type": "markdown",
   "metadata": {},
   "source": [
    "# Week 1\n",
    "\n",
    "This problem sheet tests the representation of numbers on the computer, using\n",
    "modular arithmetic. We also use floating point rounding modes to implement \n",
    "interval arithmetic, and thereby\n",
    "produce rigorous bounds on the exponential."
   ]
  },
  {
   "cell_type": "code",
   "execution_count": 1,
   "metadata": {
    "execution": {
     "iopub.execute_input": "2021-12-13T15:01:43.051077Z",
     "iopub.status.busy": "2021-12-13T15:01:42.590511Z",
     "iopub.status.idle": "2021-12-13T15:01:43.292033Z",
     "shell.execute_reply": "2021-12-13T15:01:43.291465Z"
    }
   },
   "outputs": [],
   "source": [
    "using ColorBitstring, SetRounding"
   ]
  },
  {
   "cell_type": "markdown",
   "metadata": {},
   "source": [
    "## 1. Binary representation\n",
    "\n",
    "**Problem 1.1** Like decimal representation, all rational numbers have repeating sequence of binary digits,\n",
    "that is, $b_k = b_{k+r}$ for fixed integers $r$ and $K$ and all $k \\geq K$. Use the geometric series\n",
    "to determine the corresponding real number, and thence prove that a repeating sequence of binary digits\n",
    "implies that a number is rational.\n",
    "\n",
    "**Problem 1.2** What are the binary representations of $1/5$ and $1/100$? \n",
    "What is $\\pi$ to 5 binary decimal places? Hint: recall that $\\pi \\approx  3.14$.\n",
    "\n",
    "\n",
    "## 2. Integers\n",
    "\n",
    "**Problem 2.1** With 8-bit signed integers, find the bits for the following:\n",
    "$$\n",
    "10, 120, -10\n",
    "$$\n",
    "**SOLUTION**\n",
    "We can find the binary digits by repeatedly subtracting the largest power of 2 less than a number\n",
    "until we reach 0, e.g.:\n",
    "$$\n",
    "10 -2^3 - 2 = 0\n",
    "$$\n",
    "implies\n",
    "$$\n",
    "10 = (101)_2\n",
    "$$\n",
    "Thus the bits are:"
   ]
  },
  {
   "cell_type": "code",
   "execution_count": 2,
   "metadata": {
    "execution": {
     "iopub.execute_input": "2021-12-13T15:01:43.294671Z",
     "iopub.status.busy": "2021-12-13T15:01:43.293810Z",
     "iopub.status.idle": "2021-12-13T15:01:43.388332Z",
     "shell.execute_reply": "2021-12-13T15:01:43.387673Z"
    }
   },
   "outputs": [
    {
     "name": "stdout",
     "output_type": "stream",
     "text": [
      "\u001b[31m0\u001b[0m\u001b[34m0001010\u001b[0m\n"
     ]
    }
   ],
   "source": [
    "printlnbits(Int8(10))"
   ]
  },
  {
   "cell_type": "markdown",
   "metadata": {},
   "source": [
    "Similarly,\n",
    "$$\n",
    "120 = 2^6 + 2^5 + 2^4 + 2^3 = (1111000)_2\n",
    "$$\n",
    "Thus the bits are:"
   ]
  },
  {
   "cell_type": "code",
   "execution_count": 3,
   "metadata": {
    "execution": {
     "iopub.execute_input": "2021-12-13T15:01:43.390957Z",
     "iopub.status.busy": "2021-12-13T15:01:43.389927Z",
     "iopub.status.idle": "2021-12-13T15:01:43.393103Z",
     "shell.execute_reply": "2021-12-13T15:01:43.391591Z"
    }
   },
   "outputs": [
    {
     "name": "stdout",
     "output_type": "stream",
     "text": [
      "\u001b[31m0\u001b[0m\u001b[34m1111000\u001b[0m\n"
     ]
    }
   ],
   "source": [
    "printlnbits(Int8(120))"
   ]
  },
  {
   "cell_type": "markdown",
   "metadata": {},
   "source": [
    "For negative numbers we perform the same trick but adding $2^p$ to make it positive, e.g.,\n",
    "$$\n",
    "-10 = 2^8 - 10 ({\\rm mod 2^8}) = 246 = 2^7 + 2^6 + 2^5 + 2^4 + 2^2 + 2 = (11110110)_2\n",
    "$$\n",
    "This the bits are:"
   ]
  },
  {
   "cell_type": "code",
   "execution_count": 4,
   "metadata": {
    "execution": {
     "iopub.execute_input": "2021-12-13T15:01:43.395633Z",
     "iopub.status.busy": "2021-12-13T15:01:43.394789Z",
     "iopub.status.idle": "2021-12-13T15:01:43.397464Z",
     "shell.execute_reply": "2021-12-13T15:01:43.396309Z"
    }
   },
   "outputs": [
    {
     "name": "stdout",
     "output_type": "stream",
     "text": [
      "\u001b[31m1\u001b[0m\u001b[34m1110110\u001b[0m\n"
     ]
    }
   ],
   "source": [
    "printlnbits(Int8(-10))"
   ]
  },
  {
   "cell_type": "markdown",
   "metadata": {},
   "source": [
    "**Problem 2.2** What will `Int8(120) + Int8(10)` return?\n",
    "\n",
    "**SOLUTION**\n",
    "It will return\n",
    "$$\n",
    "130 ({\\rm mod\\ } 2^8) = -126 ({\\rm mod\\ } 2^8)\n",
    "$$"
   ]
  },
  {
   "cell_type": "code",
   "execution_count": 5,
   "metadata": {
    "execution": {
     "iopub.execute_input": "2021-12-13T15:01:43.399272Z",
     "iopub.status.busy": "2021-12-13T15:01:43.398776Z",
     "iopub.status.idle": "2021-12-13T15:01:43.874590Z",
     "shell.execute_reply": "2021-12-13T15:01:43.873677Z"
    }
   },
   "outputs": [
    {
     "data": {
      "text/plain": [
       "-126"
      ]
     },
     "execution_count": 5,
     "metadata": {},
     "output_type": "execute_result"
    }
   ],
   "source": [
    "Int8(120) + Int8(10)"
   ]
  },
  {
   "cell_type": "markdown",
   "metadata": {},
   "source": [
    "## 3. Floating point numbers\n",
    "\n",
    "**Problem 3.1** What is the single precision $F_{32}$ (`Float32`) floating point representation for the following: \n",
    "$$\n",
    "2, 30, 31, 32, 33, 23/4, (23/4)\\times 2^{100}, (23/4)\\times 2^{−100}, (23/4)\\times2^{−135}\n",
    "$$\n",
    "When rounded to nearest, what are the single precision bits of $1/5$?\n",
    "Check your answers using `printbits`.\n",
    "\n",
    "\n",
    "**SOLUTION**\n",
    "Recall that we have `σ,Q,S = 127,8,23`. Thus we write\n",
    "$$\n",
    "2 = 2^{128-127} * (1.00000000000000000000000)_2\n",
    "$$\n",
    "The exponent bits are those of\n",
    "$$\n",
    "128 = 2^7 = (10000000)_2\n",
    "$$\n",
    "Hence we get"
   ]
  },
  {
   "cell_type": "code",
   "execution_count": 6,
   "metadata": {
    "execution": {
     "iopub.execute_input": "2021-12-13T15:01:43.876990Z",
     "iopub.status.busy": "2021-12-13T15:01:43.876408Z",
     "iopub.status.idle": "2021-12-13T15:01:43.972677Z",
     "shell.execute_reply": "2021-12-13T15:01:43.972148Z"
    }
   },
   "outputs": [
    {
     "name": "stdout",
     "output_type": "stream",
     "text": [
      "\u001b[31m0\u001b[0m\u001b[32m10000000\u001b[0m\u001b[34m00000000000000000000000\u001b[0m\n"
     ]
    }
   ],
   "source": [
    "printlnbits(2f0)"
   ]
  },
  {
   "cell_type": "code",
   "execution_count": 7,
   "metadata": {
    "execution": {
     "iopub.execute_input": "2021-12-13T15:01:43.976088Z",
     "iopub.status.busy": "2021-12-13T15:01:43.975253Z",
     "iopub.status.idle": "2021-12-13T15:01:43.997977Z",
     "shell.execute_reply": "2021-12-13T15:01:43.997588Z"
    }
   },
   "outputs": [
    {
     "name": "stdout",
     "output_type": "stream",
     "text": [
      "\u001b[31m0\u001b[0m\u001b[32m10000011\u001b[0m\u001b[34m11100000000000000000000\u001b[0m\n",
      "\u001b[31m0\u001b[0m\u001b[32m10000011\u001b[0m\u001b[34m11110000000000000000000\u001b[0m\n",
      "\u001b[31m0\u001b[0m\u001b[32m10000100\u001b[0m\u001b[34m00000000000000000000000\u001b[0m\n",
      "\u001b[31m0\u001b[0m\u001b[32m10000100\u001b[0m\u001b[34m00001000000000000000000\u001b[0m\n",
      "\u001b[31m0\u001b[0m\u001b[32m10000001\u001b[0m\u001b[34m01110000000000000000000\u001b[0m\n",
      "\u001b[31m0\u001b[0m\u001b[32m11100011\u001b[0m\u001b[34m00000000000000000000000\u001b[0m\n",
      "\u001b[31m0\u001b[0m\u001b[32m00011101\u001b[0m\u001b[34m01110000000000000000000\u001b[0m\n",
      "\u001b[31m0\u001b[0m\u001b[32m00000000\u001b[0m\u001b[34m00000010111000000000000\u001b[0m\n",
      "\u001b[31m0\u001b[0m\u001b[32m01111100\u001b[0m\u001b[34m10011001100110011001101\u001b[0m\n"
     ]
    }
   ],
   "source": [
    "printlnbits(30f0)\n",
    "printlnbits(31f0)\n",
    "printlnbits(32f0)\n",
    "printlnbits(33f0)\n",
    "printlnbits(23f0/4)\n",
    "printlnbits(2f0^100)\n",
    "printlnbits(23f0/4 * 2f0^(-100))\n",
    "printlnbits(23f0/4 * 2f0^(-135))\n",
    "printlnbits(1f0/5)"
   ]
  },
  {
   "cell_type": "markdown",
   "metadata": {},
   "source": [
    "**Problem 3.2** Let $m(y) = \\min\\{x \\in F_{32} : x > y \\}$ be the smallest single precision number\n",
    "greater than $y$. What is $m(2) - 2$ and $m(1024) - 1024$? Check your answer using the `nextfloat`\n",
    "command."
   ]
  },
  {
   "cell_type": "code",
   "execution_count": 8,
   "metadata": {
    "execution": {
     "iopub.execute_input": "2021-12-13T15:01:44.000204Z",
     "iopub.status.busy": "2021-12-13T15:01:43.999579Z",
     "iopub.status.idle": "2021-12-13T15:01:44.336907Z",
     "shell.execute_reply": "2021-12-13T15:01:44.336482Z"
    }
   },
   "outputs": [
    {
     "data": {
      "text/plain": [
       "(2.3841858f-7, 0.00012207031f0)"
      ]
     },
     "execution_count": 8,
     "metadata": {},
     "output_type": "execute_result"
    }
   ],
   "source": [
    "nextfloat(2f0) - 2, nextfloat(1024f0) - 1024"
   ]
  },
  {
   "cell_type": "markdown",
   "metadata": {},
   "source": [
    "**SOLUTION**\n",
    "\n",
    "## 4. Arithmetic\n",
    "\n",
    "\n",
    "**Problem 4.1** Suppose $x = 1.25$ and consider 16-bit floating point arithmetic (`Float16`). \n",
    "What is the error in approximating $x$ by the nearest float point number ${\\rm fl}(x)$?\n",
    "What is the error in approximating $2x$, $x/2$, $x + 2$ and $x - 2$ by $2 \\otimes x$, $x \\oslash 2$, $x \\oplus 2$ and $x \\ominus 2$?\n",
    "For what floating point numbers is $x \\oslash 2 \\neq x/2$ and $x \\oplus 2 \\neq x + 2$?\n",
    "\n",
    "**Problem 4.2** Explain the following:"
   ]
  },
  {
   "cell_type": "code",
   "execution_count": 9,
   "metadata": {
    "execution": {
     "iopub.execute_input": "2021-12-13T15:01:44.339579Z",
     "iopub.status.busy": "2021-12-13T15:01:44.338790Z",
     "iopub.status.idle": "2021-12-13T15:01:44.587171Z",
     "shell.execute_reply": "2021-12-13T15:01:44.586598Z"
    }
   },
   "outputs": [
    {
     "data": {
      "text/plain": [
       "true"
      ]
     },
     "execution_count": 9,
     "metadata": {},
     "output_type": "execute_result"
    }
   ],
   "source": [
    "x = 10.0^100\n",
    "x + 1 == x"
   ]
  },
  {
   "cell_type": "markdown",
   "metadata": {},
   "source": [
    "What is the largest floating point number such that `x + 1 ≠ x`?\n",
    "\n",
    "**Problem 4.3** What are the exact bits for $1/5$, $1/5 + 1$, $(1/5)^2$, and $(1.1-1)/0.1$  computed\n",
    "using  half-precision (`Float16`) (using\n",
    "default rounding)?\n",
    "\n",
    "**Problem 4.4** Find a bound on the floating point error for the following\n",
    "$$\n",
    "\\begin{align*}\n",
    "(1.1 ⊖ 1) &⊘ 0.1 \\\\\n",
    "(1.1 ⊕ 1.2) &⊗ 1.3\n",
    "\\end{align*}\n",
    "$$\n",
    "How does your bound compare with the true error?\n",
    "\n",
    "\n",
    "\n",
    "## 5. Implementation\n",
    "\n",
    "\n",
    "\n",
    "**Problem 5.1** Complete the following function which computes the first `n` terms of the Taylor series of $\\exp(x)$, that is,\n",
    "$$\n",
    "\\sum_{k=0}^n {x^k \\over k!}\n",
    "$$\n",
    "using only algebraic operations (e.g. do not call `factorial(k)`)."
   ]
  },
  {
   "cell_type": "code",
   "execution_count": 10,
   "metadata": {
    "execution": {
     "iopub.execute_input": "2021-12-13T15:01:44.590041Z",
     "iopub.status.busy": "2021-12-13T15:01:44.588958Z",
     "iopub.status.idle": "2021-12-13T15:01:44.852499Z",
     "shell.execute_reply": "2021-12-13T15:01:44.851964Z"
    }
   },
   "outputs": [
    {
     "data": {
      "text/plain": [
       "exp_t (generic function with 1 method)"
      ]
     },
     "execution_count": 10,
     "metadata": {},
     "output_type": "execute_result"
    }
   ],
   "source": [
    "function exp_t(x, n)\n",
    "    ret = one(x) # 1 of same type as x\n",
    "    s = one(x)\n",
    "    for k = 1:n\n",
    "        s = s/k * x\n",
    "        ret = ret + s\n",
    "    end\n",
    "    ret\n",
    "end"
   ]
  },
  {
   "cell_type": "markdown",
   "metadata": {},
   "source": [
    "The following problems consider implementation of interval arithmetic for\n",
    "proving precise bounds on arithmetic operations. That is recall the set operations\n",
    "$$\n",
    "A + B = \\{x + y : x \\in A, y \\in B\\}, AB = \\{xy : x \\in A, y \\in B\\}.\n",
    "$$\n",
    "We want to implement floating point variants such that, for $S = [a,b] + [c,d]$\n",
    "and $P = [a,b] * [c,d]$,\n",
    "$$\n",
    "\\begin{align*}\n",
    "[a,b] \\oplus [c,d] &:= [{\\rm fl}^{\\rm down}(\\min S), {\\rm fl}^{\\rm up}(\\max S)] \\\\\n",
    "[a,b] \\oplus [c,d] &:= [{\\rm fl}^{\\rm down}(\\min P), {\\rm fl}^{\\rm up}(\\max P)]\n",
    "\\end{align*}\n",
    "$$\n",
    "This guarantees $[a,b] + [c,d] \\subset [a,b] \\oplus [c,d]$, i.e., if $x \\in [a,b]$ and\n",
    "$y \\in [c,d]$ then $x +y \\in [a,b] \\oplus [c,d]$, and we thereby have rigorous bounds.\n",
    "\n",
    "\n",
    "**Problem 5.2** For intervals $A = [a,b]$ and $B = [c,d]$ such that $0 \\notin A,B$\n",
    " and integer $n \\neq 0$, \n",
    "deduce formulas for the minimum and maximum of $A/n$, $A+B$ and $AB$.\n",
    "\n",
    "**Solution**\n",
    "\n",
    "$$\n",
    "\\begin{align*}\n",
    "{A \\over n} &= \\begin{cases}\n",
    "[a/n,b/n] & n > 0 \\\\\n",
    "[b/n,a/n] & n < 0\n",
    "\\end{cases},\\\\\n",
    "A + B &= [a + c, b + d] \\\\\n",
    "AB &= \\begin{cases}\n",
    "[cd,ab]& a,b,c,d < 0 \\\\\n",
    "[ad,bc]& a,b < 0 \\hbox{ and } c,d >0 \\\\\n",
    "[bc,ad]& a,b > 0 \\hbox{ and } c,d  < 0 \\\\\n",
    "[ab,cd]& a,b,c,d >> 0\n",
    "\\end{cases}\n",
    "\\end{align*}\n",
    "$$\n",
    "\n",
    "\n",
    "\n",
    "\n",
    "**Problem 5.3** Use the formulae from Problem 5.2 to complete the following definition:"
   ]
  },
  {
   "cell_type": "code",
   "execution_count": 11,
   "metadata": {
    "execution": {
     "iopub.execute_input": "2021-12-13T15:01:44.855185Z",
     "iopub.status.busy": "2021-12-13T15:01:44.854510Z",
     "iopub.status.idle": "2021-12-13T15:01:44.962995Z",
     "shell.execute_reply": "2021-12-13T15:01:44.962428Z"
    }
   },
   "outputs": [
    {
     "data": {
      "text/plain": [
       "+ (generic function with 247 methods)"
      ]
     },
     "execution_count": 11,
     "metadata": {},
     "output_type": "execute_result"
    }
   ],
   "source": [
    "struct Interval{T}\n",
    "    a::T\n",
    "    b::T\n",
    "end\n",
    "\n",
    "import Base: *, +, -, /, one, in\n",
    "one(x::Interval) = Interval(one(x.a), one(x.b))\n",
    "in(x, y::Interval) = y.a ≤ x ≤ y.b\n",
    "\n",
    "function /(x::Interval, n::Integer)\n",
    "    T = typeof(x.a)\n",
    "    if iszero(n)\n",
    "        error(\"Dividing by zero not support\")\n",
    "    end\n",
    "    a = setrounding(T, RoundDown) do\n",
    "        # TODO: lower bound\n",
    "        ## SOLUTION\n",
    "        if n > 0\n",
    "            x.a / n\n",
    "        else\n",
    "            x.b / n\n",
    "        end\n",
    "        ## END\n",
    "    end\n",
    "    b = setrounding(T, RoundUp) do\n",
    "        # TODO: upper bound\n",
    "        ## SOLUTION\n",
    "        if n > 0\n",
    "            x.b / n\n",
    "        else\n",
    "            x.a / n\n",
    "        end\n",
    "        ## END\n",
    "    end\n",
    "    Interval(a, b)\n",
    "end\n",
    "\n",
    "function *(x::Interval, y::Interval)\n",
    "    T = promote_type(typeof(x.a), typeof(x.b))\n",
    "    if 0 in x || 0 in y\n",
    "        error(\"Multiplying with intervals containing 0 not supported.\")\n",
    "    end\n",
    "    a = setrounding(T, RoundDown) do\n",
    "        # TODO: lower bound\n",
    "        ## SOLUTION\n",
    "        if x.a < 0 && x.b < 0 && y.a < 0 && y.b < 0\n",
    "            y.b * x.b\n",
    "        elseif x.a < 0 && x.b < 0 && y.a > 0 && y.b > 0\n",
    "            x.a * y.b\n",
    "        elseif x.a > 0 && x.b > 0 && y.a < 0 && y.b < 0\n",
    "            x.b * y.a\n",
    "        else\n",
    "            x.a * y.a\n",
    "        end\n",
    "        ## END\n",
    "    end\n",
    "    b = setrounding(T, RoundUp) do\n",
    "        # TODO: upper bound\n",
    "        ## SOLUTION\n",
    "        if x.a < 0 && x.b < 0 && y.a < 0 && y.b < 0\n",
    "            y.a * x.a\n",
    "        elseif x.a < 0 && x.b < 0 && y.a > 0 && y.b > 0\n",
    "            x.b * y.a\n",
    "        elseif x.a > 0 && x.b > 0 && y.a < 0 && y.b < 0\n",
    "            x.a * y.b\n",
    "        else\n",
    "            x.b * y.b\n",
    "        end\n",
    "        ## END\n",
    "    end\n",
    "    Interval(a, b)\n",
    "end\n",
    "\n",
    "function +(x::Interval, y::Interval)\n",
    "    T = promote_type(typeof(x.a), typeof(x.b))\n",
    "    a = setrounding(T, RoundDown) do\n",
    "        # TODO: upper bound\n",
    "        ## SOLUTION\n",
    "        x.a + y.a\n",
    "        ## END\n",
    "    end\n",
    "    b = setrounding(T, RoundUp) do\n",
    "        # TODO: upper bound\n",
    "        ## SOLUTION\n",
    "        x.b + y.b\n",
    "        ## END\n",
    "    end\n",
    "    Interval(a, b)\n",
    "end"
   ]
  },
  {
   "cell_type": "markdown",
   "metadata": {},
   "source": [
    "**Problem 5.4** Bound the tail of the Taylor series for ${\\rm e}^x$ assuming $|x| \\leq 1$. \n",
    "(Hint: ${\\rm e}^x \\leq 3$ for $x \\leq 1$.)\n",
    "Use the bound\n",
    "to complete the function `exp_bound` which computes ${\\rm e}^x$ with rigorous error bounds, that is\n",
    "so that when applied to an interval $[a,b]$ it returns an interval that is \n",
    "guaranteed to contain the interval $[{\\rm e}^a, {\\rm e}^b]$."
   ]
  },
  {
   "cell_type": "code",
   "execution_count": 12,
   "metadata": {
    "execution": {
     "iopub.execute_input": "2021-12-13T15:01:44.965181Z",
     "iopub.status.busy": "2021-12-13T15:01:44.964628Z",
     "iopub.status.idle": "2021-12-13T15:01:45.057323Z",
     "shell.execute_reply": "2021-12-13T15:01:45.056757Z"
    }
   },
   "outputs": [
    {
     "data": {
      "text/plain": [
       "exp_bound (generic function with 1 method)"
      ]
     },
     "execution_count": 12,
     "metadata": {},
     "output_type": "execute_result"
    }
   ],
   "source": [
    "function exp_bound(x::Interval, n)\n",
    "    if abs(x.a) > 1 || abs(x.b) > 1\n",
    "        error(\"Interval must be a subset of [-1, 1]\")\n",
    "    end\n",
    "    ret = exp_t(x, n) # the code for Taylor series should work on Interval unmodified\n",
    "    f = factorial(min(20, n + 1)) # avoid overflow in computing factorial\n",
    "    T = typeof(ret.a)\n",
    "\n",
    "    # TODO: modify ret so that exp(x) is guaranteed to lie in it\n",
    "    ## SOLUTION\n",
    "    err = setrounding(T, RoundUp) do\n",
    "        3 / f\n",
    "    end\n",
    "    ret + Interval(-err,err)\n",
    "    ## END\n",
    "end"
   ]
  },
  {
   "cell_type": "markdown",
   "metadata": {},
   "source": [
    "Check your result by assuring that\n",
    "the following returns true:"
   ]
  },
  {
   "cell_type": "code",
   "execution_count": 13,
   "metadata": {
    "execution": {
     "iopub.execute_input": "2021-12-13T15:01:45.059668Z",
     "iopub.status.busy": "2021-12-13T15:01:45.058933Z",
     "iopub.status.idle": "2021-12-13T15:01:45.180068Z",
     "shell.execute_reply": "2021-12-13T15:01:45.179557Z"
    }
   },
   "outputs": [
    {
     "data": {
      "text/plain": [
       "true"
      ]
     },
     "execution_count": 13,
     "metadata": {},
     "output_type": "execute_result"
    }
   ],
   "source": [
    "exp(big(1)) in exp_bound(Interval(1.0,1.0), 20) && exp(big(-1)) in exp_bound(Interval(-1.0,-1.0), 20)"
   ]
  },
  {
   "cell_type": "markdown",
   "metadata": {},
   "source": [
    "**SOLUTION** From the Taylor remainder theorem we know the error is\n",
    "$$\n",
    "{f^{(k+1)}(ξ) \\over (k+1)!} |x|^{k+1} \\leq {3 \\over (k+1)!}\n",
    "$$\n",
    "Thus by widening the computation by this error we ensure that we have\n",
    "captured the error by truncating the Taylor series.\n",
    "\n",
    "\n",
    "**Problem 5.4 (advanced)**  Compute the first 1000 (decimal) digits of ℯ, with rigorous error bounds.\n",
    "Check your result versus `exp(big(1.0))`.\n",
    "\n",
    "**SOLUTION**\n",
    "The tricky part of this problem is that we need to fix the bound on `factorial(n)` above\n",
    "as otherwise we won't get the necessary accuracy. We can do this as follows:\n",
    "as follows:"
   ]
  },
  {
   "cell_type": "code",
   "execution_count": 14,
   "metadata": {
    "execution": {
     "iopub.execute_input": "2021-12-13T15:01:45.182282Z",
     "iopub.status.busy": "2021-12-13T15:01:45.181676Z",
     "iopub.status.idle": "2021-12-13T15:01:45.809625Z",
     "shell.execute_reply": "2021-12-13T15:01:45.808976Z"
    }
   },
   "outputs": [
    {
     "data": {
      "text/plain": [
       "2.718281828459045235360287471352662497757247093699959574966967627724076630353547594571382178525166427427466391932003059921817413596629043572900334295260595630738132328627943490763233829880753195251019011573834187930702154089149934884167509244761460668082264800168477411853742345442437107539077744992069551702761838606261331384583000752044933826560297606737113200709328709127443747047230696977209310141692836819025515108657463772111252389784425056953696770785449969967946864454905987931636889230098793127736178215424999229576351482208269895193668033182528869398496465105820939239829488793320362509443117301238197068416140397019837679320683282376464804295311802328782509819455815301756717361332069811250996181881593041690351598888519345807273866738589422879228499892086805825749279610484198444363463244968487560233624827041978623209002160990235304369941849146314093431738143640546253152096183690888707016768396424378140592714563549061303107208510383750510115747704171898610687396965521267154688957035035402123407849819334321068170121005627880235193033224745015853904730419957777093503660416997329725088687696640355570716226844716256079882651787134195124665201030592123667719432527867539855894489697096409754591856956380236370162112047742722836489613422516445078182442352948636372141740238893441247963574370263755294448337998016125492278509257782562092622648326277933386566481627725164019105900491644998289315056604199689612923321850734302863879696273888101629840762759445000807783841945147771600852126174926112"
      ]
     },
     "execution_count": 14,
     "metadata": {},
     "output_type": "execute_result"
    }
   ],
   "source": [
    "function exp_bound(x::Interval, n)\n",
    "    if abs(x.a) > 1 || abs(x.b) > 1\n",
    "        error(\"Interval must be a subset of [-1, 1]\")\n",
    "    end\n",
    "    ret = exp_t(x, n) # the code for Taylor series should work on Interval unmodified\n",
    "    T = typeof(ret.a)\n",
    "    err = setrounding(T, RoundUp) do\n",
    "        err_i = 3one(T)\n",
    "        for k = 1:n+1\n",
    "            err_i = err_i/k\n",
    "        end\n",
    "        err_i\n",
    "    end\n",
    "    ret + Interval(-err,err)\n",
    "end\n",
    "setprecision(5000) do \n",
    "    x = Interval(big(1.0),big(1.0))\n",
    "    exp_bound(x, 600).a\n",
    "end"
   ]
  },
  {
   "cell_type": "markdown",
   "metadata": {},
   "source": [
    "The precision and number of Taylor series were increased until the\n",
    "bounsa matched `exp(big(1.0))` to over 1000 digits:"
   ]
  },
  {
   "cell_type": "code",
   "execution_count": 15,
   "metadata": {
    "execution": {
     "iopub.execute_input": "2021-12-13T15:01:45.811648Z",
     "iopub.status.busy": "2021-12-13T15:01:45.811108Z",
     "iopub.status.idle": "2021-12-13T15:01:45.870533Z",
     "shell.execute_reply": "2021-12-13T15:01:45.869992Z"
    }
   },
   "outputs": [
    {
     "data": {
      "text/plain": [
       "5.261131657085423044613503803790020208078291720745359617275555397625545027623743032384601235706854211691431723096918615935300150279729409882388758753628091410961970149334528634235271723582200423186985082455393663974343856444532368171891788036483315649919360940055299539669984462121551250335697048527634508988005253043707367368042310402038939464451427341223653765029702034883610937135014450608014812006105380094764903445824526844882144773431809477529867816974387316222479407179372921482494004255227482370888738074536640374342967434563697451719760771418761434204167585300736408036439928435295838906151568773781553473184107191368702431590407450279495706251342080532593649093358863393420310359421120128822496955153531073756243675212091869084917564238494545618174955445994618519279327747679208691481639913516775488796295388640104762195084526303663899525363784521815117796001699433699922360669509593732866737705645841280233209301360228352232979293259264450860763065153854445495695761591617283525695421634791296692903362379076944741547954735101798353803388252161204212309458233999968715365465160652169474916391170265046801732887378228360446294199195497526737265912767460764779262464033548180469196759992771555542602790156540425349432291683787118905525753943967398550043100106002729266512463120991717350069849397633997020471817887382055034239108750669366332570593818436187547464649602812637918160273311720335775053692361505394542968487027639490164164407150127242907216110003922756080010165638991928114952149123657003e-1411"
      ]
     },
     "execution_count": 15,
     "metadata": {},
     "output_type": "execute_result"
    }
   ],
   "source": [
    "setprecision(5000) do \n",
    "    x = Interval(big(1.0),big(1.0))\n",
    "    max(exp(big(1.0)) - exp_bound(x, 600).a, exp_bound(x, 600).b - exp(big(1.0)))\n",
    "end"
   ]
  }
 ],
 "metadata": {
  "kernelspec": {
   "display_name": "Julia 1.7.0",
   "language": "julia",
   "name": "julia-1.7"
  },
  "language_info": {
   "file_extension": ".jl",
   "mimetype": "application/julia",
   "name": "julia",
   "version": "1.7.0"
  }
 },
 "nbformat": 4,
 "nbformat_minor": 2
}
