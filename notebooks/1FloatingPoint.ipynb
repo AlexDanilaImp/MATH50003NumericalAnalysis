{
 "cells": [
  {
   "cell_type": "markdown",
   "metadata": {},
   "source": [
    "# IEEE Floating Point Arithematic\n",
    "\n",
    "\n",
    "Reference: [Overton]\n",
    "\n",
    "In this lecture, we introduce the\n",
    "[IEEE Standard for Floating-Point Arithmetic](https://en.wikipedia.org/wiki/IEEE_754).\n",
    "There are many  possible ways of representing real numbers on a computer, as well as \n",
    "the precise behaviour of operations such as addition, multiplication, etc.\n",
    "Before the 1980s each processor had potentially a different representation for \n",
    "real numbers, as well as different behaviour for operations.  \n",
    "IEEE introduced in 1985 was a means to standardise this across\n",
    "processors so that algorithms would produce consistent and reliable results.\n",
    "\n",
    "\n",
    "Before we begin, we load a package which implements a function `printbits`\n",
    "which print the bits of floating point numbers in colour. \n",
    "Each colour corresponds to a different part of the representation:\n",
    "the <span style=\"color:red\">sign bit</span>, the <span style=\"color:green\">exponent bits</span>, \n",
    "and the <span style=\"color:blue\">significand bits</span>."
   ]
  },
  {
   "cell_type": "code",
   "execution_count": 1,
   "metadata": {
    "execution": {
     "iopub.execute_input": "2021-11-06T22:00:04.287828Z",
     "iopub.status.busy": "2021-11-06T22:00:03.589428Z",
     "iopub.status.idle": "2021-11-06T22:00:04.555302Z",
     "shell.execute_reply": "2021-11-06T22:00:04.554611Z"
    }
   },
   "outputs": [],
   "source": [
    "using ColorBitstring"
   ]
  },
  {
   "cell_type": "markdown",
   "metadata": {},
   "source": [
    "## Real numbers in binary\n",
    "\n",
    "Before discussing how to represent real numbers with a finite number\n",
    "of bits, we consider what one could do with an infinite number of bits,\n",
    "that is, binary expansions.\n",
    "\n",
    "We use the notation\n",
    "$$\n",
    "(1.b_1b_2b_3\\ldots)_2 = \n",
    "$$\n",
    "\n",
    "\n",
    "**Example**\n",
    "Consider the number `1/3`.  In decimal we all know:\n",
    "$$\n",
    "1/3 = 0.3333\\ldots =  \\sum_{k=1}^\\infty {3 \\over 10^k}\n",
    "$$\n",
    "We will see that in binary\n",
    "$$\n",
    "1/3 = (0.010101\\ldots)_2 = \\sum_{k=1}^\\infty {1 \\over 2^{2k}}\n",
    "$$\n",
    "Both results can be proven using the geometric series:\n",
    "$$\n",
    "\\sum_{k=0}^\\infty z^k = {1 \\over 1 - z}\n",
    "$$\n",
    "provided $|z| < 1$. That is, with $z = 1/10$ we see the decimal case:\n",
    "$$\n",
    "3\\sum_{k=1}^\\infty {1 \\over 10^k} = {3 \\over 1 - {1 \\over 10}} - 3 = {1 \\over 3}\n",
    "$$\n",
    "A similar argument works for binary with $z = {1 \\over 4}$:\n",
    "$$\n",
    "\\sum_{k=1}^\\infty {1 \\over 4^k} = {1 \\over 1 - 1/4} - 1 = {1 \\over 3}\n",
    "$$\n",
    "\n",
    "\n",
    "\n",
    "\n",
    "## Floating point number examples\n",
    "\n",
    "`Float64` is a type representing real numbers using 64 bits, \n",
    "that is also known as double precision.\n",
    "We can create a `Float64` by including a \n",
    "decimal point when writing the number: \n",
    "`1.0` is a `Float64` while `1` is an `Int`.\n",
    "We use `printbits` to see what the bits of a `Float64` \n",
    "for a few numbers are.\n",
    "\n",
    "First, let's check an integer of type `Float64:"
   ]
  },
  {
   "cell_type": "code",
   "execution_count": 2,
   "metadata": {
    "execution": {
     "iopub.execute_input": "2021-11-06T22:00:04.557722Z",
     "iopub.status.busy": "2021-11-06T22:00:04.557106Z",
     "iopub.status.idle": "2021-11-06T22:00:04.665608Z",
     "shell.execute_reply": "2021-11-06T22:00:04.664754Z"
    }
   },
   "outputs": [
    {
     "name": "stdout",
     "output_type": "stream",
     "text": [
      "\u001b[31m0\u001b[0m\u001b[32m01111111111\u001b[0m\u001b[34m0000000000000000000000000000000000000000000000000000\u001b[0m"
     ]
    }
   ],
   "source": [
    "printbits(1.0)"
   ]
  },
  {
   "cell_type": "markdown",
   "metadata": {},
   "source": [
    "The format is very different from what we saw before with `Int`:"
   ]
  },
  {
   "cell_type": "code",
   "execution_count": 3,
   "metadata": {
    "execution": {
     "iopub.execute_input": "2021-11-06T22:00:04.668845Z",
     "iopub.status.busy": "2021-11-06T22:00:04.668061Z",
     "iopub.status.idle": "2021-11-06T22:00:05.214274Z",
     "shell.execute_reply": "2021-11-06T22:00:05.213823Z"
    }
   },
   "outputs": [
    {
     "data": {
      "text/plain": [
       "\"0000000000000000000000000000000000000000000000000000000000000001\""
      ]
     },
     "execution_count": 3,
     "metadata": {},
     "output_type": "execute_result"
    }
   ],
   "source": [
    "bitstring(1)"
   ]
  },
  {
   "cell_type": "markdown",
   "metadata": {},
   "source": [
    "Another example is `1.3`. This is representable with only two base-10 digits, \n",
    "it requires an infinite number of base-2 digits in `Float64`, which are \n",
    "cut off:"
   ]
  },
  {
   "cell_type": "code",
   "execution_count": 4,
   "metadata": {
    "execution": {
     "iopub.execute_input": "2021-11-06T22:00:05.216727Z",
     "iopub.status.busy": "2021-11-06T22:00:05.215842Z",
     "iopub.status.idle": "2021-11-06T22:00:05.218361Z",
     "shell.execute_reply": "2021-11-06T22:00:05.217293Z"
    }
   },
   "outputs": [
    {
     "name": "stdout",
     "output_type": "stream",
     "text": [
      "\u001b[31m0\u001b[0m\u001b[32m01111111111\u001b[0m\u001b[34m0100110011001100110011001100110011001100110011001101\u001b[0m"
     ]
    }
   ],
   "source": [
    "printbits(1.3)"
   ]
  },
  {
   "cell_type": "markdown",
   "metadata": {},
   "source": [
    "`Float32` is another type representing real numbers using 32 bits, that is also known \n",
    "as single precision.  `Float64` is now the default format for scientific computing (on the _Floating Point Unit_, FPU).  \n",
    "`Float32` is generally the default format for graphics (on the _Graphics Processing Unit_, GPU), \n",
    "as the difference between 32 bits and 64 bits is indistinguishable to the eye in visualisation.  \n",
    "`Float16` is an important type in machine learning where one wants to maximise the amount of data\n",
    "and high accuracy is not useful. \n",
    "\n",
    "Here we see that the format for `Float32` looks consistent with `Float64`:"
   ]
  },
  {
   "cell_type": "code",
   "execution_count": 5,
   "metadata": {
    "execution": {
     "iopub.execute_input": "2021-11-06T22:00:05.220457Z",
     "iopub.status.busy": "2021-11-06T22:00:05.219911Z",
     "iopub.status.idle": "2021-11-06T22:00:05.302286Z",
     "shell.execute_reply": "2021-11-06T22:00:05.301856Z"
    }
   },
   "outputs": [
    {
     "name": "stdout",
     "output_type": "stream",
     "text": [
      "\u001b[31m0\u001b[0m\u001b[32m01111111\u001b[0m\u001b[34m01001100110011001100110\u001b[0m"
     ]
    }
   ],
   "source": [
    "printbits(Float32(1.3))"
   ]
  },
  {
   "cell_type": "markdown",
   "metadata": {},
   "source": [
    "## IEEE Format\n",
    "\n",
    "\n",
    "Floats are stored in the format\n",
    "$$\n",
    "x=\\pm 2^{q-S} \\times (1.b_1b_2b_3\\ldots b_P)_2\n",
    "$$\n",
    "where $S$ and $P$ are fixed constants that depend on the type, \n",
    "$q$ is an unsigned integer of a fixed number bits, \n",
    "and $b_1b_2\\ldots b_P$ are binary digits, stored as $P$ bits.\n",
    "\n",
    "In the case of `Float64`, $S=1023$, $P=52$, and $q$ \n",
    "is stored with 11 bits.\n",
    "\n",
    "Let's do an example:"
   ]
  }
 ],
 "metadata": {
  "kernelspec": {
   "display_name": "Julia 1.6.1",
   "language": "julia",
   "name": "julia-1.6"
  },
  "language_info": {
   "file_extension": ".jl",
   "mimetype": "application/julia",
   "name": "julia",
   "version": "1.6.1"
  }
 },
 "nbformat": 4,
 "nbformat_minor": 2
}
