{
 "cells": [
  {
   "cell_type": "markdown",
   "metadata": {},
   "source": [
    "# Julia Problem Sheet\n",
    "\n",
    "This problem sheet is designed to test some basic Julia\n",
    "knowledge. Note each problem has multiple solutions, and the solution\n",
    "sheet will show different ways of solving the same problem.\n",
    "\n",
    "In assessment, _any_ \"solution\" will be accepted provided it does the right thing!\n",
    "So you do not need to be able to write broadcasting or comprehensions\n",
    "if you can do for loops.\n",
    "\n",
    "\n",
    "\n",
    "## Array creation and broadcasting\n",
    "\n",
    "**Problem** Create a vector of length 5 whose entries are `Int` which is\n",
    "zero in all entries. \n",
    "\n",
    "**SOLUTIONS**"
   ]
  },
  {
   "cell_type": "code",
   "execution_count": 1,
   "metadata": {
    "execution": {
     "iopub.execute_input": "2022-03-01T16:51:19.077300Z",
     "iopub.status.busy": "2022-03-01T16:51:18.643456Z",
     "iopub.status.idle": "2022-03-01T16:51:20.260496Z",
     "shell.execute_reply": "2022-03-01T16:51:20.259824Z"
    }
   },
   "outputs": [
    {
     "data": {
      "text/plain": [
       "5-element Vector{Int64}:\n",
       " 0\n",
       " 0\n",
       " 0\n",
       " 0\n",
       " 0"
      ]
     },
     "execution_count": 1,
     "metadata": {},
     "output_type": "execute_result"
    }
   ],
   "source": [
    "zeros(Int, 5)"
   ]
  },
  {
   "cell_type": "code",
   "execution_count": 2,
   "metadata": {
    "execution": {
     "iopub.execute_input": "2022-03-01T16:51:20.262453Z",
     "iopub.status.busy": "2022-03-01T16:51:20.261931Z",
     "iopub.status.idle": "2022-03-01T16:51:20.271309Z",
     "shell.execute_reply": "2022-03-01T16:51:20.270919Z"
    }
   },
   "outputs": [
    {
     "data": {
      "text/plain": [
       "5-element Vector{Int64}:\n",
       " 0\n",
       " 0\n",
       " 0\n",
       " 0\n",
       " 0"
      ]
     },
     "execution_count": 2,
     "metadata": {},
     "output_type": "execute_result"
    }
   ],
   "source": [
    "fill(0, 5)"
   ]
  },
  {
   "cell_type": "code",
   "execution_count": 3,
   "metadata": {
    "execution": {
     "iopub.execute_input": "2022-03-01T16:51:20.273482Z",
     "iopub.status.busy": "2022-03-01T16:51:20.272879Z",
     "iopub.status.idle": "2022-03-01T16:51:20.292726Z",
     "shell.execute_reply": "2022-03-01T16:51:20.292200Z"
    }
   },
   "outputs": [
    {
     "data": {
      "text/plain": [
       "5-element Vector{Int64}:\n",
       " 0\n",
       " 0\n",
       " 0\n",
       " 0\n",
       " 0"
      ]
     },
     "execution_count": 3,
     "metadata": {},
     "output_type": "execute_result"
    }
   ],
   "source": [
    "[0 for k=1:5]"
   ]
  },
  {
   "cell_type": "markdown",
   "metadata": {},
   "source": [
    "**Problem** Create a 5×6 matrix whose entries are `Int` which is\n",
    "one in all entries.\n",
    "\n",
    "**SOLUTIONS**\n",
    "\n",
    "1. For-loop:"
   ]
  },
  {
   "cell_type": "code",
   "execution_count": 4,
   "metadata": {
    "execution": {
     "iopub.execute_input": "2022-03-01T16:51:20.294841Z",
     "iopub.status.busy": "2022-03-01T16:51:20.294292Z",
     "iopub.status.idle": "2022-03-01T16:51:20.650254Z",
     "shell.execute_reply": "2022-03-01T16:51:20.649871Z"
    }
   },
   "outputs": [
    {
     "data": {
      "text/plain": [
       "5×6 Matrix{Int64}:\n",
       " 1  1  1  1  1  1\n",
       " 1  1  1  1  1  1\n",
       " 1  1  1  1  1  1\n",
       " 1  1  1  1  1  1\n",
       " 1  1  1  1  1  1"
      ]
     },
     "execution_count": 4,
     "metadata": {},
     "output_type": "execute_result"
    }
   ],
   "source": [
    "ret = zeros(Int, 5, 6)\n",
    "for k=1:5, j=1:6\n",
    "    ret[k,j] = 1\n",
    "end\n",
    "ret"
   ]
  },
  {
   "cell_type": "markdown",
   "metadata": {},
   "source": [
    "2. Ones:"
   ]
  },
  {
   "cell_type": "code",
   "execution_count": 5,
   "metadata": {
    "execution": {
     "iopub.execute_input": "2022-03-01T16:51:20.652096Z",
     "iopub.status.busy": "2022-03-01T16:51:20.651603Z",
     "iopub.status.idle": "2022-03-01T16:51:20.662778Z",
     "shell.execute_reply": "2022-03-01T16:51:20.662317Z"
    }
   },
   "outputs": [
    {
     "data": {
      "text/plain": [
       "5×6 Matrix{Int64}:\n",
       " 1  1  1  1  1  1\n",
       " 1  1  1  1  1  1\n",
       " 1  1  1  1  1  1\n",
       " 1  1  1  1  1  1\n",
       " 1  1  1  1  1  1"
      ]
     },
     "execution_count": 5,
     "metadata": {},
     "output_type": "execute_result"
    }
   ],
   "source": [
    "ones(Int, 5, 6)"
   ]
  },
  {
   "cell_type": "markdown",
   "metadata": {},
   "source": [
    "3. Fill:"
   ]
  },
  {
   "cell_type": "code",
   "execution_count": 6,
   "metadata": {
    "execution": {
     "iopub.execute_input": "2022-03-01T16:51:20.664732Z",
     "iopub.status.busy": "2022-03-01T16:51:20.664238Z",
     "iopub.status.idle": "2022-03-01T16:51:20.674034Z",
     "shell.execute_reply": "2022-03-01T16:51:20.673506Z"
    }
   },
   "outputs": [
    {
     "data": {
      "text/plain": [
       "5×6 Matrix{Int64}:\n",
       " 1  1  1  1  1  1\n",
       " 1  1  1  1  1  1\n",
       " 1  1  1  1  1  1\n",
       " 1  1  1  1  1  1\n",
       " 1  1  1  1  1  1"
      ]
     },
     "execution_count": 6,
     "metadata": {},
     "output_type": "execute_result"
    }
   ],
   "source": [
    "fill(1, 5, 6)"
   ]
  },
  {
   "cell_type": "markdown",
   "metadata": {},
   "source": [
    "4. Comprehension"
   ]
  },
  {
   "cell_type": "code",
   "execution_count": 7,
   "metadata": {
    "execution": {
     "iopub.execute_input": "2022-03-01T16:51:20.675977Z",
     "iopub.status.busy": "2022-03-01T16:51:20.675456Z",
     "iopub.status.idle": "2022-03-01T16:51:20.722041Z",
     "shell.execute_reply": "2022-03-01T16:51:20.721589Z"
    }
   },
   "outputs": [
    {
     "data": {
      "text/plain": [
       "5×6 Matrix{Int64}:\n",
       " 1  1  1  1  1  1\n",
       " 1  1  1  1  1  1\n",
       " 1  1  1  1  1  1\n",
       " 1  1  1  1  1  1\n",
       " 1  1  1  1  1  1"
      ]
     },
     "execution_count": 7,
     "metadata": {},
     "output_type": "execute_result"
    }
   ],
   "source": [
    "[1 for k=1:5, j=1:6]"
   ]
  },
  {
   "cell_type": "markdown",
   "metadata": {},
   "source": [
    "**Problem** Create a 1 × 5 `Matrix{Int}` with entries `A[k,j] = j`.\n",
    "\n",
    "1. For-loop"
   ]
  },
  {
   "cell_type": "code",
   "execution_count": 8,
   "metadata": {
    "execution": {
     "iopub.execute_input": "2022-03-01T16:51:20.724291Z",
     "iopub.status.busy": "2022-03-01T16:51:20.723734Z",
     "iopub.status.idle": "2022-03-01T16:51:20.746932Z",
     "shell.execute_reply": "2022-03-01T16:51:20.746479Z"
    }
   },
   "outputs": [],
   "source": [
    "A = zeros(Int, 1, 5)\n",
    "for j = 1:5\n",
    "    A[1,j] = j\n",
    "end"
   ]
  },
  {
   "cell_type": "markdown",
   "metadata": {},
   "source": [
    "2. Comprehension"
   ]
  },
  {
   "cell_type": "code",
   "execution_count": 9,
   "metadata": {
    "execution": {
     "iopub.execute_input": "2022-03-01T16:51:20.748846Z",
     "iopub.status.busy": "2022-03-01T16:51:20.748359Z",
     "iopub.status.idle": "2022-03-01T16:51:20.777264Z",
     "shell.execute_reply": "2022-03-01T16:51:20.776794Z"
    }
   },
   "outputs": [
    {
     "data": {
      "text/plain": [
       "1×5 Matrix{Int64}:\n",
       " 1  2  3  4  5"
      ]
     },
     "execution_count": 9,
     "metadata": {},
     "output_type": "execute_result"
    }
   ],
   "source": [
    "[j for k=1:1, j=1:5]"
   ]
  },
  {
   "cell_type": "markdown",
   "metadata": {},
   "source": [
    "3. convert transpose:"
   ]
  },
  {
   "cell_type": "code",
   "execution_count": 10,
   "metadata": {
    "execution": {
     "iopub.execute_input": "2022-03-01T16:51:20.779370Z",
     "iopub.status.busy": "2022-03-01T16:51:20.778876Z",
     "iopub.status.idle": "2022-03-01T16:51:20.818455Z",
     "shell.execute_reply": "2022-03-01T16:51:20.818069Z"
    }
   },
   "outputs": [
    {
     "data": {
      "text/plain": [
       "1×5 Matrix{Int64}:\n",
       " 1  2  3  4  5"
      ]
     },
     "execution_count": 10,
     "metadata": {},
     "output_type": "execute_result"
    }
   ],
   "source": [
    "# Note: (1:5)' is a \"row-vector\" which behaves differently than a matrix\n",
    "Matrix((1:5)')"
   ]
  },
  {
   "cell_type": "markdown",
   "metadata": {},
   "source": [
    "**Problem** Create a vector of length 5 whose entries are `Float64`\n",
    "approximations of `exp(-k)`. (Two solutions: one using a for loop and\n",
    "one using broadcasting.)\n",
    "\n",
    "**SOLUTIONS**\n",
    "\n",
    "1. For-loop"
   ]
  },
  {
   "cell_type": "code",
   "execution_count": 11,
   "metadata": {
    "execution": {
     "iopub.execute_input": "2022-03-01T16:51:20.820403Z",
     "iopub.status.busy": "2022-03-01T16:51:20.819917Z",
     "iopub.status.idle": "2022-03-01T16:51:20.852919Z",
     "shell.execute_reply": "2022-03-01T16:51:20.852476Z"
    }
   },
   "outputs": [],
   "source": [
    "v = zeros(5) # defaults to Float64\n",
    "for k = 1:5\n",
    "    v[k] = exp(-k)\n",
    "end"
   ]
  },
  {
   "cell_type": "markdown",
   "metadata": {},
   "source": [
    "2. Broadcast:"
   ]
  },
  {
   "cell_type": "code",
   "execution_count": 12,
   "metadata": {
    "execution": {
     "iopub.execute_input": "2022-03-01T16:51:20.855143Z",
     "iopub.status.busy": "2022-03-01T16:51:20.854447Z",
     "iopub.status.idle": "2022-03-01T16:51:21.360381Z",
     "shell.execute_reply": "2022-03-01T16:51:21.359961Z"
    }
   },
   "outputs": [
    {
     "data": {
      "text/plain": [
       "5-element Vector{Float64}:\n",
       " 0.36787944117144233\n",
       " 0.1353352832366127\n",
       " 0.049787068367863944\n",
       " 0.01831563888873418\n",
       " 0.006737946999085467"
      ]
     },
     "execution_count": 12,
     "metadata": {},
     "output_type": "execute_result"
    }
   ],
   "source": [
    "exp.(-(1:5))"
   ]
  },
  {
   "cell_type": "markdown",
   "metadata": {},
   "source": [
    "3. Explicit broadcsat:"
   ]
  },
  {
   "cell_type": "code",
   "execution_count": 13,
   "metadata": {
    "execution": {
     "iopub.execute_input": "2022-03-01T16:51:21.362475Z",
     "iopub.status.busy": "2022-03-01T16:51:21.361982Z",
     "iopub.status.idle": "2022-03-01T16:51:21.399442Z",
     "shell.execute_reply": "2022-03-01T16:51:21.399003Z"
    }
   },
   "outputs": [
    {
     "data": {
      "text/plain": [
       "5-element Vector{Float64}:\n",
       " 0.36787944117144233\n",
       " 0.1353352832366127\n",
       " 0.049787068367863944\n",
       " 0.01831563888873418\n",
       " 0.006737946999085467"
      ]
     },
     "execution_count": 13,
     "metadata": {},
     "output_type": "execute_result"
    }
   ],
   "source": [
    "broadcast(k -> exp(-k), 1:5)"
   ]
  },
  {
   "cell_type": "markdown",
   "metadata": {},
   "source": [
    "4. Comprehension:"
   ]
  },
  {
   "cell_type": "code",
   "execution_count": 14,
   "metadata": {
    "execution": {
     "iopub.execute_input": "2022-03-01T16:51:21.401380Z",
     "iopub.status.busy": "2022-03-01T16:51:21.400854Z",
     "iopub.status.idle": "2022-03-01T16:51:21.421174Z",
     "shell.execute_reply": "2022-03-01T16:51:21.420725Z"
    }
   },
   "outputs": [
    {
     "data": {
      "text/plain": [
       "5-element Vector{Float64}:\n",
       " 0.36787944117144233\n",
       " 0.1353352832366127\n",
       " 0.049787068367863944\n",
       " 0.01831563888873418\n",
       " 0.006737946999085467"
      ]
     },
     "execution_count": 14,
     "metadata": {},
     "output_type": "execute_result"
    }
   ],
   "source": [
    "[exp(-k) for k=1:5]"
   ]
  },
  {
   "cell_type": "markdown",
   "metadata": {},
   "source": [
    "**Problem** Create a 5 × 6 matrix `A` whose entries `A[k,j] == cos(k+j)`.\n",
    " (Two solutions: one using a for loop and\n",
    "one using broadcasting.)\n",
    "\n",
    "**SOLUTIONS**\n",
    "\n",
    "1. For-loop:"
   ]
  },
  {
   "cell_type": "code",
   "execution_count": 15,
   "metadata": {
    "execution": {
     "iopub.execute_input": "2022-03-01T16:51:21.423242Z",
     "iopub.status.busy": "2022-03-01T16:51:21.422567Z",
     "iopub.status.idle": "2022-03-01T16:51:21.843368Z",
     "shell.execute_reply": "2022-03-01T16:51:21.842833Z"
    }
   },
   "outputs": [
    {
     "data": {
      "text/plain": [
       "5×6 Matrix{Float64}:\n",
       " -0.416147  -0.989992  -0.653644   0.283662   0.96017    0.753902\n",
       " -0.989992  -0.653644   0.283662   0.96017    0.753902  -0.1455\n",
       " -0.653644   0.283662   0.96017    0.753902  -0.1455    -0.91113\n",
       "  0.283662   0.96017    0.753902  -0.1455    -0.91113   -0.839072\n",
       "  0.96017    0.753902  -0.1455    -0.91113   -0.839072   0.0044257"
      ]
     },
     "execution_count": 15,
     "metadata": {},
     "output_type": "execute_result"
    }
   ],
   "source": [
    "A = zeros(5,6)\n",
    "for k = 1:5, j = 1:6\n",
    "    A[k,j] = cos(k+j)\n",
    "end\n",
    "A"
   ]
  },
  {
   "cell_type": "markdown",
   "metadata": {},
   "source": [
    "2. Broadcasting:"
   ]
  },
  {
   "cell_type": "code",
   "execution_count": 16,
   "metadata": {
    "execution": {
     "iopub.execute_input": "2022-03-01T16:51:21.845323Z",
     "iopub.status.busy": "2022-03-01T16:51:21.844834Z",
     "iopub.status.idle": "2022-03-01T16:51:21.948238Z",
     "shell.execute_reply": "2022-03-01T16:51:21.947691Z"
    }
   },
   "outputs": [
    {
     "data": {
      "text/plain": [
       "5×6 Matrix{Float64}:\n",
       " -0.416147  -0.989992  -0.653644   0.283662   0.96017    0.753902\n",
       " -0.989992  -0.653644   0.283662   0.96017    0.753902  -0.1455\n",
       " -0.653644   0.283662   0.96017    0.753902  -0.1455    -0.91113\n",
       "  0.283662   0.96017    0.753902  -0.1455    -0.91113   -0.839072\n",
       "  0.96017    0.753902  -0.1455    -0.91113   -0.839072   0.0044257"
      ]
     },
     "execution_count": 16,
     "metadata": {},
     "output_type": "execute_result"
    }
   ],
   "source": [
    "k = 1:5\n",
    "j = 1:6\n",
    "cos.(k .+ j')"
   ]
  },
  {
   "cell_type": "markdown",
   "metadata": {},
   "source": [
    "3. Broadcasting (explicit):"
   ]
  },
  {
   "cell_type": "code",
   "execution_count": 17,
   "metadata": {
    "execution": {
     "iopub.execute_input": "2022-03-01T16:51:21.950328Z",
     "iopub.status.busy": "2022-03-01T16:51:21.949707Z",
     "iopub.status.idle": "2022-03-01T16:51:21.995332Z",
     "shell.execute_reply": "2022-03-01T16:51:21.994854Z"
    }
   },
   "outputs": [
    {
     "data": {
      "text/plain": [
       "5×6 Matrix{Float64}:\n",
       " -0.416147  -0.989992  -0.653644   0.283662   0.96017    0.753902\n",
       " -0.989992  -0.653644   0.283662   0.96017    0.753902  -0.1455\n",
       " -0.653644   0.283662   0.96017    0.753902  -0.1455    -0.91113\n",
       "  0.283662   0.96017    0.753902  -0.1455    -0.91113   -0.839072\n",
       "  0.96017    0.753902  -0.1455    -0.91113   -0.839072   0.0044257"
      ]
     },
     "execution_count": 17,
     "metadata": {},
     "output_type": "execute_result"
    }
   ],
   "source": [
    "broadcast((k,j) -> cos(k+j), 1:5, (1:6)')"
   ]
  },
  {
   "cell_type": "markdown",
   "metadata": {},
   "source": [
    "## Types"
   ]
  }
 ],
 "metadata": {
  "kernelspec": {
   "display_name": "Julia 1.7.0",
   "language": "julia",
   "name": "julia-1.7"
  },
  "language_info": {
   "file_extension": ".jl",
   "mimetype": "application/julia",
   "name": "julia",
   "version": "1.7.1"
  }
 },
 "nbformat": 4,
 "nbformat_minor": 2
}
