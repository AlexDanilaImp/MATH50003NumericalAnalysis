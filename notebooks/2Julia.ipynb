{
 "cells": [
  {
   "cell_type": "markdown",
   "metadata": {},
   "source": [
    "# Intro to julia\n",
    "\n",
    "$$\n",
    "\\def\\I{{\\rm i}}\n",
    "$$\n",
    "\n",
    "Reference: [The Julia Documentation](https://docs.julialang.org)\n",
    "\n",
    "This lecture gives an overview of Julia. [The Julia–Matlab–Python Cheatsheet](https://cheatsheets.quantecon.org)\n",
    "Is a valuable resource for translating between the three languages.\n",
    "\n",
    "## Integers\n",
    "\n",
    "Julia uses a math-like syntax for manipulating integers:"
   ]
  },
  {
   "cell_type": "code",
   "execution_count": 1,
   "metadata": {
    "execution": {
     "iopub.execute_input": "2021-11-10T15:18:00.230857Z",
     "iopub.status.busy": "2021-11-10T15:17:59.546572Z",
     "iopub.status.idle": "2021-11-10T15:18:00.906408Z",
     "shell.execute_reply": "2021-11-10T15:18:00.905838Z"
    }
   },
   "outputs": [
    {
     "data": {
      "text/plain": [
       "2"
      ]
     },
     "execution_count": 1,
     "metadata": {},
     "output_type": "execute_result"
    }
   ],
   "source": [
    "1 + 1 # Addition"
   ]
  },
  {
   "cell_type": "code",
   "execution_count": 2,
   "metadata": {
    "execution": {
     "iopub.execute_input": "2021-11-10T15:18:00.908951Z",
     "iopub.status.busy": "2021-11-10T15:18:00.907903Z",
     "iopub.status.idle": "2021-11-10T15:18:00.911222Z",
     "shell.execute_reply": "2021-11-10T15:18:00.909513Z"
    }
   },
   "outputs": [
    {
     "data": {
      "text/plain": [
       "6"
      ]
     },
     "execution_count": 2,
     "metadata": {},
     "output_type": "execute_result"
    }
   ],
   "source": [
    "2 * 3 # Multiplication"
   ]
  },
  {
   "cell_type": "code",
   "execution_count": 3,
   "metadata": {
    "execution": {
     "iopub.execute_input": "2021-11-10T15:18:00.913483Z",
     "iopub.status.busy": "2021-11-10T15:18:00.912929Z",
     "iopub.status.idle": "2021-11-10T15:18:00.918323Z",
     "shell.execute_reply": "2021-11-10T15:18:00.917894Z"
    }
   },
   "outputs": [
    {
     "data": {
      "text/plain": [
       "25"
      ]
     },
     "execution_count": 3,
     "metadata": {},
     "output_type": "execute_result"
    }
   ],
   "source": [
    "x = 5; # semicolon is optional but supresses output if used in last line\n",
    "x^2 # Powers"
   ]
  },
  {
   "cell_type": "markdown",
   "metadata": {},
   "source": [
    "In Julia everything has a type. This is similar in spirit to \n",
    "a class in Python, but much more lightweight. \n",
    "An integer defaults to type `Int`, \n",
    "which is either 32-bit (`Int32`) or 64-bit (`Int64`) depending\n",
    "on the processor of the machine. \n",
    "These are \"primative type\", instances of the type are stored in memory as \n",
    "a fixed length sequence of bits.\n",
    " \n",
    "We can see the bits using the function `bitstring`:"
   ]
  },
  {
   "cell_type": "code",
   "execution_count": 4,
   "metadata": {
    "execution": {
     "iopub.execute_input": "2021-11-10T15:18:00.920599Z",
     "iopub.status.busy": "2021-11-10T15:18:00.920059Z",
     "iopub.status.idle": "2021-11-10T15:18:01.201934Z",
     "shell.execute_reply": "2021-11-10T15:18:01.201488Z"
    }
   },
   "outputs": [
    {
     "data": {
      "text/plain": [
       "\"0000000000000000000000000000000000000000000000000000000000000001\""
      ]
     },
     "execution_count": 4,
     "metadata": {},
     "output_type": "execute_result"
    }
   ],
   "source": [
    "bitstring(1)"
   ]
  },
  {
   "cell_type": "markdown",
   "metadata": {},
   "source": [
    "The first bit is a sign bit: if it is equal to `1` the \n",
    "integer is negative"
   ]
  },
  {
   "cell_type": "code",
   "execution_count": 5,
   "metadata": {
    "execution": {
     "iopub.execute_input": "2021-11-10T15:18:01.204591Z",
     "iopub.status.busy": "2021-11-10T15:18:01.203567Z",
     "iopub.status.idle": "2021-11-10T15:18:01.206294Z",
     "shell.execute_reply": "2021-11-10T15:18:01.205150Z"
    }
   },
   "outputs": [
    {
     "data": {
      "text/plain": [
       "\"1111111111111111111111111111111111111111111111111111111111111111\""
      ]
     },
     "execution_count": 5,
     "metadata": {},
     "output_type": "execute_result"
    }
   ],
   "source": [
    "bitstring(-1)"
   ]
  },
  {
   "cell_type": "markdown",
   "metadata": {},
   "source": [
    "This may be counter-intuitive (did you expect `1000…00001`?)\n",
    "but has the nice benefit that addition behaves the same for \n",
    "positive integers and negative integers.  \n",
    "\n",
    "`Int` follows [modular arithmetic](https://en.wikipedia.org/wiki/Modular_arithmetic),\n",
    "that is, it is equivalent to the ring of integers modulo `2^p` where `p` is `32` or `64`. \n",
    "Thus for $p = 64$ we are interpreting\n",
    "$2^{32} \\mod 2^{64}$ through $(2^{64}-1) \\mod 2^{64}$ as negative numbers but \n",
    "they are not treated specially.\n",
    "\n",
    "\n",
    "**Example (addition)**\n",
    "Consider `(-1) + 1`. They behave like modular arithmetic so we have:\n",
    "$$\n",
    "(-1 \\mod 2^p) + (1 \\mod 2^p) = (2^p-1 \\mod 2^p) + (1 \\mod 2^p) = 2^p \\mod 2^p = 0 \\mod 2^p\n",
    "$$\n",
    "\n",
    "**Example (multiplication)**\n",
    "Consider `(-2) * 2`. We have:\n",
    "$$\n",
    "(-2 \\mod 2^p) * (2 \\mod 2^p) = (2^p-2 \\mod 2^p) * (2 \\mod 2^p) = (2^(p+1)-4 \\mod 2^p) = -4 \\mod 2^p\n",
    "$$\n",
    "\n",
    "\n",
    "\n",
    "\n",
    "We can find the largest and smallest instances of a type using `typemax` and `typemin`:"
   ]
  },
  {
   "cell_type": "code",
   "execution_count": 6,
   "metadata": {
    "execution": {
     "iopub.execute_input": "2021-11-10T15:18:01.208414Z",
     "iopub.status.busy": "2021-11-10T15:18:01.207868Z",
     "iopub.status.idle": "2021-11-10T15:18:01.498726Z",
     "shell.execute_reply": "2021-11-10T15:18:01.498298Z"
    }
   },
   "outputs": [
    {
     "data": {
      "text/plain": [
       "2147483647"
      ]
     },
     "execution_count": 6,
     "metadata": {},
     "output_type": "execute_result"
    }
   ],
   "source": [
    "typemax(Int32)"
   ]
  },
  {
   "cell_type": "code",
   "execution_count": 7,
   "metadata": {
    "execution": {
     "iopub.execute_input": "2021-11-10T15:18:01.500799Z",
     "iopub.status.busy": "2021-11-10T15:18:01.500260Z",
     "iopub.status.idle": "2021-11-10T15:18:01.506410Z",
     "shell.execute_reply": "2021-11-10T15:18:01.505985Z"
    }
   },
   "outputs": [
    {
     "data": {
      "text/plain": [
       "\"01111111111111111111111111111111\""
      ]
     },
     "execution_count": 7,
     "metadata": {},
     "output_type": "execute_result"
    }
   ],
   "source": [
    "bitstring(typemax(Int32))"
   ]
  },
  {
   "cell_type": "code",
   "execution_count": 8,
   "metadata": {
    "execution": {
     "iopub.execute_input": "2021-11-10T15:18:01.508816Z",
     "iopub.status.busy": "2021-11-10T15:18:01.507889Z",
     "iopub.status.idle": "2021-11-10T15:18:01.511316Z",
     "shell.execute_reply": "2021-11-10T15:18:01.509520Z"
    }
   },
   "outputs": [
    {
     "data": {
      "text/plain": [
       "-2147483648"
      ]
     },
     "execution_count": 8,
     "metadata": {},
     "output_type": "execute_result"
    }
   ],
   "source": [
    "typemin(Int32)"
   ]
  },
  {
   "cell_type": "code",
   "execution_count": 9,
   "metadata": {
    "execution": {
     "iopub.execute_input": "2021-11-10T15:18:01.513956Z",
     "iopub.status.busy": "2021-11-10T15:18:01.513014Z",
     "iopub.status.idle": "2021-11-10T15:18:01.515675Z",
     "shell.execute_reply": "2021-11-10T15:18:01.514515Z"
    }
   },
   "outputs": [
    {
     "data": {
      "text/plain": [
       "\"10000000000000000000000000000000\""
      ]
     },
     "execution_count": 9,
     "metadata": {},
     "output_type": "execute_result"
    }
   ],
   "source": [
    "bitstring(typemin(Int32))"
   ]
  },
  {
   "cell_type": "markdown",
   "metadata": {},
   "source": [
    "Since `Int64` behaves like modulo arithmetic we do not \"overflow\" but rather wrap around:"
   ]
  },
  {
   "cell_type": "code",
   "execution_count": 10,
   "metadata": {
    "execution": {
     "iopub.execute_input": "2021-11-10T15:18:01.518136Z",
     "iopub.status.busy": "2021-11-10T15:18:01.517134Z",
     "iopub.status.idle": "2021-11-10T15:18:01.519739Z",
     "shell.execute_reply": "2021-11-10T15:18:01.518624Z"
    }
   },
   "outputs": [
    {
     "data": {
      "text/plain": [
       "-9223372036854775808"
      ]
     },
     "execution_count": 10,
     "metadata": {},
     "output_type": "execute_result"
    }
   ],
   "source": [
    "typemax(Int64) + 1 # returns typemin(Int32)"
   ]
  },
  {
   "cell_type": "markdown",
   "metadata": {},
   "source": [
    "There are other primitive integer types: `Int8` and `Int16` are like `Int32` and `Int64` but with\n",
    "fewer bits. `UInt8`, `UInt16`, `UInt32`, and `UInt64` are unsigned integers, e.g., we do not interpret\n",
    "the number as negative if the first bit is `1`. A non-primitive type is `BigInt` which allows arbitrary length\n",
    "integers, which we can create using `big`:"
   ]
  },
  {
   "cell_type": "code",
   "execution_count": 11,
   "metadata": {
    "execution": {
     "iopub.execute_input": "2021-11-10T15:18:01.521845Z",
     "iopub.status.busy": "2021-11-10T15:18:01.521296Z",
     "iopub.status.idle": "2021-11-10T15:18:01.794884Z",
     "shell.execute_reply": "2021-11-10T15:18:01.794274Z"
    }
   },
   "outputs": [
    {
     "data": {
      "text/plain": [
       "9223372036854775808"
      ]
     },
     "execution_count": 11,
     "metadata": {},
     "output_type": "execute_result"
    }
   ],
   "source": [
    "x = typemax(Int64) + big(1) # Too big to be an `Int64`"
   ]
  },
  {
   "cell_type": "markdown",
   "metadata": {},
   "source": [
    "Note in this case it automatically promotes an `Int64` to a `BigInt`. \n",
    "We can create very large numbers using `BigInt`:"
   ]
  },
  {
   "cell_type": "code",
   "execution_count": 12,
   "metadata": {
    "execution": {
     "iopub.execute_input": "2021-11-10T15:18:01.797223Z",
     "iopub.status.busy": "2021-11-10T15:18:01.796672Z",
     "iopub.status.idle": "2021-11-10T15:18:01.801925Z",
     "shell.execute_reply": "2021-11-10T15:18:01.801498Z"
    }
   },
   "outputs": [
    {
     "data": {
      "text/plain": [
       "3082994025277634745700106821545665721371798533305697458855342277921093731984476404705966539412410898240561729912372038501228893141921080152404642393776599077294434061519905424124601394226943601430916434383714716724720227331596950613701661034548948388721097667275438763758128508403297199458260277707301202460980093818414167080563342761482395862435185093942443540722363151770022221783243959592531336062998494209914752408019060720805124534382646051093613814848646062038662423487504326044361203708430489305864234333801401547140023376295718383390360728662900230671437151716615826286842267917560749586018165739492101920429719261285640125596833063891562865262157026023955919873792846823095854484520920509345944712871675691790827690907778485058829248588945681685288179787963931181062068092463984296225973082494056307958089189726701678735576365394146232076917088075949053636690459581128773097212746967276496496010810878000638239143750075543163240049874489986642327436441234458040254480825038220479904594615300602390556385799245276805580024937804723029319565942013515817048714543455250235208789745701165279569026248145395218985062991831707830217974393158466067785199581037714968820628241051867119832966361530047910339065726550260741036716100932205969655083257714244071120221654679340461084001560321676025443801248355439305974923873624147980728110581452806109011739005060060604228087667499288851218705078807364237925455813890575257569981450090997117697469299234094394984840574025401463942099019413361096233909056117427663439764954916401592565651111571414769257187704568268701243082044838400201357613851006471104244828842270232637747398962711875413488415772647088571125272932490717217468263604683325933469555629785507020775366368002753612709901526248456328209643292122899677436613886360765877886748185299249994921843183573130403496311896614949399409796011301191280067209053259341918813967552543176532349157376"
      ]
     },
     "execution_count": 12,
     "metadata": {},
     "output_type": "execute_result"
    }
   ],
   "source": [
    "x^100"
   ]
  },
  {
   "cell_type": "markdown",
   "metadata": {},
   "source": [
    "Note the number of bits is not fixed so it is possible to run out of memory if a number is \n",
    "astronomically large: go ahead and try `x^x` (at your own risk).\n",
    "\n",
    "In addition to `+`, `-`, and `*` we have integer division `÷`, which rounds down:"
   ]
  },
  {
   "cell_type": "code",
   "execution_count": 13,
   "metadata": {
    "execution": {
     "iopub.execute_input": "2021-11-10T15:18:01.804408Z",
     "iopub.status.busy": "2021-11-10T15:18:01.803533Z",
     "iopub.status.idle": "2021-11-10T15:18:01.806106Z",
     "shell.execute_reply": "2021-11-10T15:18:01.804975Z"
    }
   },
   "outputs": [
    {
     "data": {
      "text/plain": [
       "2"
      ]
     },
     "execution_count": 13,
     "metadata": {},
     "output_type": "execute_result"
    }
   ],
   "source": [
    "5 ÷ 2 # equivalent to div(5,2)"
   ]
  },
  {
   "cell_type": "markdown",
   "metadata": {},
   "source": [
    "Standard division `/` (or `\\` for division on the right) creates a floating point number, which will be discussed in\n",
    "the next chapter:"
   ]
  },
  {
   "cell_type": "code",
   "execution_count": 14,
   "metadata": {
    "execution": {
     "iopub.execute_input": "2021-11-10T15:18:01.808172Z",
     "iopub.status.busy": "2021-11-10T15:18:01.807628Z",
     "iopub.status.idle": "2021-11-10T15:18:02.078787Z",
     "shell.execute_reply": "2021-11-10T15:18:02.078363Z"
    }
   },
   "outputs": [
    {
     "data": {
      "text/plain": [
       "2.5"
      ]
     },
     "execution_count": 14,
     "metadata": {},
     "output_type": "execute_result"
    }
   ],
   "source": [
    "5 / 2 # alternatively 2 \\ 5"
   ]
  },
  {
   "cell_type": "markdown",
   "metadata": {},
   "source": [
    "We can also create rational numbers using `//`:"
   ]
  },
  {
   "cell_type": "code",
   "execution_count": 15,
   "metadata": {
    "execution": {
     "iopub.execute_input": "2021-11-10T15:18:02.081051Z",
     "iopub.status.busy": "2021-11-10T15:18:02.080383Z",
     "iopub.status.idle": "2021-11-10T15:18:02.356973Z",
     "shell.execute_reply": "2021-11-10T15:18:02.356548Z"
    }
   },
   "outputs": [
    {
     "data": {
      "text/plain": [
       "5//4"
      ]
     },
     "execution_count": 15,
     "metadata": {},
     "output_type": "execute_result"
    }
   ],
   "source": [
    "(1//2) + (3//4)"
   ]
  },
  {
   "cell_type": "markdown",
   "metadata": {},
   "source": [
    "Rational arithmetic often leads to overflow so it\n",
    "is often best to combine `big` with rationals:"
   ]
  },
  {
   "cell_type": "code",
   "execution_count": 16,
   "metadata": {
    "execution": {
     "iopub.execute_input": "2021-11-10T15:18:02.359100Z",
     "iopub.status.busy": "2021-11-10T15:18:02.358555Z",
     "iopub.status.idle": "2021-11-10T15:18:03.278417Z",
     "shell.execute_reply": "2021-11-10T15:18:03.277984Z"
    }
   },
   "outputs": [
    {
     "ename": "LoadError",
     "evalue": "OverflowError: 3103473113053299 * 8486106887 overflowed for type Int64",
     "output_type": "error",
     "traceback": [
      "OverflowError: 3103473113053299 * 8486106887 overflowed for type Int64",
      "",
      "Stacktrace:",
      " [1] throw_overflowerr_binaryop(op::Symbol, x::Int64, y::Int64)",
      "   @ Base.Checked ./checked.jl:154",
      " [2] checked_mul",
      "   @ ./checked.jl:288 [inlined]",
      " [3] +(x::Rational{Int64}, y::Rational{Int64})",
      "   @ Base ./rational.jl:285",
      " [4] +(::Rational{Int64}, ::Rational{Int64}, ::Rational{Int64})",
      "   @ Base ./operators.jl:560",
      " [5] top-level scope",
      "   @ In[16]:1",
      " [6] eval",
      "   @ ./boot.jl:360 [inlined]",
      " [7] include_string(mapexpr::typeof(REPL.softscope), mod::Module, code::String, filename::String)",
      "   @ Base ./loading.jl:1094"
     ]
    }
   ],
   "source": [
    "102324//132413023 + 23434545//4243061 + 23434545//42430534435\n",
    "big(102324)//132413023 + 23434545//4243061 + 23434545//42430534435"
   ]
  },
  {
   "cell_type": "markdown",
   "metadata": {},
   "source": [
    "## String\n",
    "\n",
    "We have seen that `bitstring` returns a string of bits.\n",
    "Strings can be created with quotation marks"
   ]
  },
  {
   "cell_type": "code",
   "execution_count": 17,
   "metadata": {
    "execution": {
     "iopub.execute_input": "2021-11-10T15:18:03.281049Z",
     "iopub.status.busy": "2021-11-10T15:18:03.280022Z",
     "iopub.status.idle": "2021-11-10T15:18:03.282777Z",
     "shell.execute_reply": "2021-11-10T15:18:03.281609Z"
    }
   },
   "outputs": [
    {
     "data": {
      "text/plain": [
       "\"hello world 😀\""
      ]
     },
     "execution_count": 17,
     "metadata": {},
     "output_type": "execute_result"
    }
   ],
   "source": [
    "str=\"hello world 😀\""
   ]
  },
  {
   "cell_type": "markdown",
   "metadata": {},
   "source": [
    "We can access characters of a string with brackets:"
   ]
  },
  {
   "cell_type": "code",
   "execution_count": 18,
   "metadata": {
    "execution": {
     "iopub.execute_input": "2021-11-10T15:18:03.284850Z",
     "iopub.status.busy": "2021-11-10T15:18:03.284307Z",
     "iopub.status.idle": "2021-11-10T15:18:03.642645Z",
     "shell.execute_reply": "2021-11-10T15:18:03.642152Z"
    }
   },
   "outputs": [
    {
     "data": {
      "text/plain": [
       "('h', '😀')"
      ]
     },
     "execution_count": 18,
     "metadata": {},
     "output_type": "execute_result"
    }
   ],
   "source": [
    "str[1],str[13]"
   ]
  },
  {
   "cell_type": "markdown",
   "metadata": {},
   "source": [
    "Each character is a bit type, in this case using 32 bits/8 bytes:"
   ]
  },
  {
   "cell_type": "code",
   "execution_count": 19,
   "metadata": {
    "execution": {
     "iopub.execute_input": "2021-11-10T15:18:03.645450Z",
     "iopub.status.busy": "2021-11-10T15:18:03.644741Z",
     "iopub.status.idle": "2021-11-10T15:18:04.025387Z",
     "shell.execute_reply": "2021-11-10T15:18:04.024943Z"
    }
   },
   "outputs": [
    {
     "data": {
      "text/plain": [
       "(Char, 32)"
      ]
     },
     "execution_count": 19,
     "metadata": {},
     "output_type": "execute_result"
    }
   ],
   "source": [
    "typeof(str[6]), length(bitstring(str[6]))"
   ]
  },
  {
   "cell_type": "markdown",
   "metadata": {},
   "source": [
    "Strings are not bit types, but rather point to the start of sequence \n",
    "of `Char` in memory.  In this case, there are $32*13=416$ bits/52 \n",
    "bytes in memory\n",
    "\n",
    "## Vector\n",
    "\n",
    "We can create a vector using brackets:"
   ]
  },
  {
   "cell_type": "code",
   "execution_count": 20,
   "metadata": {
    "execution": {
     "iopub.execute_input": "2021-11-10T15:18:04.027803Z",
     "iopub.status.busy": "2021-11-10T15:18:04.027260Z",
     "iopub.status.idle": "2021-11-10T15:18:04.988026Z",
     "shell.execute_reply": "2021-11-10T15:18:04.987598Z"
    }
   },
   "outputs": [
    {
     "data": {
      "text/plain": [
       "3-element Vector{Int64}:\n",
       " 11\n",
       " 24\n",
       " 32"
      ]
     },
     "execution_count": 20,
     "metadata": {},
     "output_type": "execute_result"
    }
   ],
   "source": [
    "v = [11,24,32]"
   ]
  },
  {
   "cell_type": "markdown",
   "metadata": {},
   "source": [
    "Like a string, elements are accessed via brackets. Julia\n",
    "uses 1-based indexing (like Matlab and Mathematica, unlike\n",
    "Python and C which use 0-based indexing):"
   ]
  },
  {
   "cell_type": "code",
   "execution_count": 21,
   "metadata": {
    "execution": {
     "iopub.execute_input": "2021-11-10T15:18:04.990337Z",
     "iopub.status.busy": "2021-11-10T15:18:04.989661Z",
     "iopub.status.idle": "2021-11-10T15:18:05.283941Z",
     "shell.execute_reply": "2021-11-10T15:18:05.283505Z"
    }
   },
   "outputs": [
    {
     "data": {
      "text/plain": [
       "(11, 32)"
      ]
     },
     "execution_count": 21,
     "metadata": {},
     "output_type": "execute_result"
    }
   ],
   "source": [
    "v[1],v[3]"
   ]
  },
  {
   "cell_type": "markdown",
   "metadata": {},
   "source": [
    "Accessing outside the range gives an error:"
   ]
  },
  {
   "cell_type": "code",
   "execution_count": 22,
   "metadata": {
    "execution": {
     "iopub.execute_input": "2021-11-10T15:18:05.286138Z",
     "iopub.status.busy": "2021-11-10T15:18:05.285545Z",
     "iopub.status.idle": "2021-11-10T15:18:05.385240Z",
     "shell.execute_reply": "2021-11-10T15:18:05.384783Z"
    }
   },
   "outputs": [
    {
     "ename": "LoadError",
     "evalue": "BoundsError: attempt to access 3-element Vector{Int64} at index [4]",
     "output_type": "error",
     "traceback": [
      "BoundsError: attempt to access 3-element Vector{Int64} at index [4]",
      "",
      "Stacktrace:",
      " [1] getindex(A::Vector{Int64}, i1::Int64)",
      "   @ Base ./array.jl:801",
      " [2] top-level scope",
      "   @ In[22]:1",
      " [3] eval",
      "   @ ./boot.jl:360 [inlined]",
      " [4] include_string(mapexpr::typeof(REPL.softscope), mod::Module, code::String, filename::String)",
      "   @ Base ./loading.jl:1094"
     ]
    }
   ],
   "source": [
    "v[4]"
   ]
  },
  {
   "cell_type": "markdown",
   "metadata": {},
   "source": [
    "Vectors can be made with different types, for example, \n",
    "here is a vector of three 8-bit integers:"
   ]
  },
  {
   "cell_type": "code",
   "execution_count": 23,
   "metadata": {
    "execution": {
     "iopub.execute_input": "2021-11-10T15:18:05.387518Z",
     "iopub.status.busy": "2021-11-10T15:18:05.386972Z",
     "iopub.status.idle": "2021-11-10T15:18:05.997439Z",
     "shell.execute_reply": "2021-11-10T15:18:05.996993Z"
    }
   },
   "outputs": [
    {
     "data": {
      "text/plain": [
       "3-element Vector{Int8}:\n",
       " 11\n",
       " 24\n",
       " 32"
      ]
     },
     "execution_count": 23,
     "metadata": {},
     "output_type": "execute_result"
    }
   ],
   "source": [
    "v = [Int8(11), Int8(24), Int8(32)]"
   ]
  },
  {
   "cell_type": "markdown",
   "metadata": {},
   "source": [
    "Just like strings, Vectors are not bit types, \n",
    "but rather point to the start of sequence of the corresponding type.  \n",
    "In this last case, there are $3*8=24$ bits/3 bytes in memory.\n",
    "\n",
    "## Parsing strings\n",
    "\n",
    "We can use the command `parse` to turn a string into an integer:"
   ]
  },
  {
   "cell_type": "code",
   "execution_count": 24,
   "metadata": {
    "execution": {
     "iopub.execute_input": "2021-11-10T15:18:06.000036Z",
     "iopub.status.busy": "2021-11-10T15:18:05.999207Z",
     "iopub.status.idle": "2021-11-10T15:18:06.001833Z",
     "shell.execute_reply": "2021-11-10T15:18:06.001347Z"
    }
   },
   "outputs": [
    {
     "data": {
      "text/plain": [
       "123"
      ]
     },
     "execution_count": 24,
     "metadata": {},
     "output_type": "execute_result"
    }
   ],
   "source": [
    "parse(Int, \"123\")"
   ]
  },
  {
   "cell_type": "markdown",
   "metadata": {},
   "source": [
    "We can specify base 2 as an optional argument. If we are specifying\n",
    "bits its safer to parse as a `UInt32`, otherwise the first bit\n",
    "is not recognised as a sign:"
   ]
  },
  {
   "cell_type": "code",
   "execution_count": 25,
   "metadata": {
    "execution": {
     "iopub.execute_input": "2021-11-10T15:18:06.003900Z",
     "iopub.status.busy": "2021-11-10T15:18:06.003356Z",
     "iopub.status.idle": "2021-11-10T15:18:06.330137Z",
     "shell.execute_reply": "2021-11-10T15:18:06.329711Z"
    }
   },
   "outputs": [
    {
     "data": {
      "text/plain": [
       "0xf09f998a"
      ]
     },
     "execution_count": 25,
     "metadata": {},
     "output_type": "execute_result"
    }
   ],
   "source": [
    "bts = \"11110000100111111001100110001010\"\n",
    "x = parse(UInt32, bts; base=2)"
   ]
  },
  {
   "cell_type": "markdown",
   "metadata": {},
   "source": [
    "The function `reinterpret` allows us to reinterpret the resulting \n",
    "sequence of 32 bits as a different type. For example, we can reinterpret\n",
    "as an `Int32` in which case the first bit is taken to be the sign bit\n",
    "and we get a negative number:"
   ]
  },
  {
   "cell_type": "code",
   "execution_count": 26,
   "metadata": {
    "execution": {
     "iopub.execute_input": "2021-11-10T15:18:06.332544Z",
     "iopub.status.busy": "2021-11-10T15:18:06.331839Z",
     "iopub.status.idle": "2021-11-10T15:18:06.337156Z",
     "shell.execute_reply": "2021-11-10T15:18:06.336730Z"
    }
   },
   "outputs": [
    {
     "data": {
      "text/plain": [
       "-257975926"
      ]
     },
     "execution_count": 26,
     "metadata": {},
     "output_type": "execute_result"
    }
   ],
   "source": [
    "reinterpret(Int32, x)"
   ]
  },
  {
   "cell_type": "markdown",
   "metadata": {},
   "source": [
    "We can also reinterpret as a `Char`:"
   ]
  },
  {
   "cell_type": "code",
   "execution_count": 27,
   "metadata": {
    "execution": {
     "iopub.execute_input": "2021-11-10T15:18:06.339335Z",
     "iopub.status.busy": "2021-11-10T15:18:06.338784Z",
     "iopub.status.idle": "2021-11-10T15:18:06.608974Z",
     "shell.execute_reply": "2021-11-10T15:18:06.608548Z"
    }
   },
   "outputs": [
    {
     "data": {
      "text/plain": [
       "'🙊': Unicode U+1F64A (category So: Symbol, other)"
      ]
     },
     "execution_count": 27,
     "metadata": {},
     "output_type": "execute_result"
    }
   ],
   "source": [
    "reinterpret(Char, x)"
   ]
  },
  {
   "cell_type": "markdown",
   "metadata": {},
   "source": [
    "We will use `parse` and `reinterpret` in problem sheets and the midterm exam\n",
    "as it allows one to easily manipulate bits. This is not actually how one should\n",
    "do it as it is slow.\n",
    "\n",
    "## Bitwise operations (advanced)\n",
    "\n",
    "In practice, one should manipulate bits using bitwise operations. \n",
    "These will not be required in this course and are not examinable, but\n",
    "are valuable to know if you have a career involving high performance computing.\n",
    "The `p << k` shifts the bits of `p` to the left `k` times inserting zeros, \n",
    "while `p >> k` shifts to the right:"
   ]
  },
  {
   "cell_type": "code",
   "execution_count": 28,
   "metadata": {
    "execution": {
     "iopub.execute_input": "2021-11-10T15:18:06.611835Z",
     "iopub.status.busy": "2021-11-10T15:18:06.611136Z",
     "iopub.status.idle": "2021-11-10T15:18:06.642761Z",
     "shell.execute_reply": "2021-11-10T15:18:06.642273Z"
    }
   },
   "outputs": [
    {
     "name": "stdout",
     "output_type": "stream",
     "text": [
      "0000000000000000000000000000000000000000000000000000000000010111\n",
      "0000000000000000000000000000000000000000000000000000000001011100\n",
      "0000000000000000000000000000000000000000000000000000000000000101\n"
     ]
    }
   ],
   "source": [
    "println(bitstring(23));\n",
    "println(bitstring(23 << 2));\n",
    "println(bitstring(23 >> 2));"
   ]
  },
  {
   "cell_type": "markdown",
   "metadata": {},
   "source": [
    "The operations `&`, `|` and `⊻` do bitwise and, or, and xor.\n",
    "\n",
    "\n",
    "## Types\n",
    "\n",
    "\n",
    "Julia has two different kinds of types: bittypes (like `Int64`, `Int32`, `UInt32` and `Char`) and composite types.  \n",
    "\n",
    "Here is an example of an inbuilt composite type representing complex numbers, for example, \n",
    "$$x = 1+\\I$$"
   ]
  },
  {
   "cell_type": "code",
   "execution_count": 29,
   "metadata": {
    "execution": {
     "iopub.execute_input": "2021-11-10T15:18:06.645702Z",
     "iopub.status.busy": "2021-11-10T15:18:06.644845Z",
     "iopub.status.idle": "2021-11-10T15:18:07.094914Z",
     "shell.execute_reply": "2021-11-10T15:18:07.094252Z"
    }
   },
   "outputs": [
    {
     "data": {
      "text/plain": [
       "1 + 2im"
      ]
     },
     "execution_count": 29,
     "metadata": {},
     "output_type": "execute_result"
    }
   ],
   "source": [
    "x = 1+2im"
   ]
  },
  {
   "cell_type": "code",
   "execution_count": null,
   "metadata": {},
   "outputs": [],
   "source": []
  },
  {
   "cell_type": "code",
   "execution_count": null,
   "metadata": {},
   "outputs": [],
   "source": []
  },
  {
   "cell_type": "code",
   "execution_count": null,
   "metadata": {},
   "outputs": [],
   "source": []
  },
  {
   "cell_type": "code",
   "execution_count": null,
   "metadata": {},
   "outputs": [],
   "source": []
  }
 ],
 "metadata": {
  "kernelspec": {
   "display_name": "Julia 1.6.1",
   "language": "julia",
   "name": "julia-1.6"
  },
  "language_info": {
   "file_extension": ".jl",
   "mimetype": "application/julia",
   "name": "julia",
   "version": "1.6.1"
  }
 },
 "nbformat": 4,
 "nbformat_minor": 2
}
