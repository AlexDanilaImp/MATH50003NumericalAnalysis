{
 "cells": [
  {
   "cell_type": "markdown",
   "metadata": {},
   "source": [
    "# IEEE Floating Point Arithmetic\n",
    "\n",
    "\n",
    "Reference: [Overton](https://cs.nyu.edu/~overton/book/) Chapter 4.\n",
    "\n",
    "In this lecture, we introduce the\n",
    "[IEEE Standard for Floating-Point Arithmetic](https://en.wikipedia.org/wiki/IEEE_754).\n",
    "There are many  possible ways of representing real numbers on a computer, as well as \n",
    "the precise behaviour of operations such as addition, multiplication, etc.\n",
    "Before the 1980s each processor had potentially a different representation for \n",
    "real numbers, as well as different behaviour for operations.  \n",
    "IEEE introduced in 1985 was a means to standardise this across\n",
    "processors so that algorithms would produce consistent and reliable results.\n",
    "\n",
    "\n",
    "Before we begin, we load two external packages. SetRounding.jl allows us \n",
    "to set the rounding mode of floating point arithmetic. ColorBitstring.jl\n",
    "  implements a function `printbits`\n",
    "which print the bits of floating point numbers in colour. \n",
    "Each colour corresponds to a different part of the representation:\n",
    "the <span style=\"color:red\">sign bit</span>, the <span style=\"color:green\">exponent bits</span>, \n",
    "and the <span style=\"color:blue\">significand bits</span> which we shall learn about shortly."
   ]
  },
  {
   "cell_type": "code",
   "execution_count": 1,
   "metadata": {
    "execution": {
     "iopub.execute_input": "2021-11-11T14:41:51.281622Z",
     "iopub.status.busy": "2021-11-11T14:41:50.722761Z",
     "iopub.status.idle": "2021-11-11T14:41:51.565771Z",
     "shell.execute_reply": "2021-11-11T14:41:51.565130Z"
    }
   },
   "outputs": [
    {
     "name": "stdout",
     "output_type": "stream",
     "text": [
      "\u001b[31m0\u001b[0m\u001b[32m01111111111\u001b[0m\u001b[34m0000000000000000000000000000000000000000000000000000\u001b[0m"
     ]
    }
   ],
   "source": [
    "using SetRounding, ColorBitstring\n",
    "printbits(1.0)"
   ]
  },
  {
   "cell_type": "markdown",
   "metadata": {},
   "source": [
    "## Real numbers in binary\n",
    "\n",
    "Before discussing how to represent real numbers with a finite number\n",
    "of bits, we consider what one could do with an infinite number of bits,\n",
    "that is, binary expansions.\n",
    "\n",
    "We use the notation\n",
    "$$\n",
    "(1.b_1b_2b_3\\ldots)_2 = \n",
    "$$\n",
    "\n",
    "\n",
    "**Example**\n",
    "Consider the number `1/3`.  In decimal we all know:\n",
    "$$\n",
    "1/3 = 0.3333\\ldots =  \\sum_{k=1}^\\infty {3 \\over 10^k}\n",
    "$$\n",
    "We will see that in binary\n",
    "$$\n",
    "1/3 = (0.010101\\ldots)_2 = \\sum_{k=1}^\\infty {1 \\over 2^{2k}}\n",
    "$$\n",
    "Both results can be proven using the geometric series:\n",
    "$$\n",
    "\\sum_{k=0}^\\infty z^k = {1 \\over 1 - z}\n",
    "$$\n",
    "provided $|z| < 1$. That is, with $z = 1/10$ we see the decimal case:\n",
    "$$\n",
    "3\\sum_{k=1}^\\infty {1 \\over 10^k} = {3 \\over 1 - {1 \\over 10}} - 3 = {1 \\over 3}\n",
    "$$\n",
    "A similar argument works for binary with $z = {1 \\over 4}$:\n",
    "$$\n",
    "\\sum_{k=1}^\\infty {1 \\over 4^k} = {1 \\over 1 - 1/4} - 1 = {1 \\over 3}\n",
    "$$\n",
    "\n",
    "\n",
    "\n",
    "\n",
    "## Floating point number examples\n",
    "\n",
    "`Float64` is a type representing real numbers using 64 bits, \n",
    "that is also known as double precision.\n",
    "We can create a `Float64` by including a \n",
    "decimal point when writing the number: \n",
    "`1.0` is a `Float64` while `1` is an `Int`.\n",
    "We use `printbits` to see what the bits of a `Float64` \n",
    "for a few numbers are.\n",
    "\n",
    "First, let's check an integer of type `Float64:"
   ]
  },
  {
   "cell_type": "code",
   "execution_count": 2,
   "metadata": {
    "execution": {
     "iopub.execute_input": "2021-11-11T14:41:51.568088Z",
     "iopub.status.busy": "2021-11-11T14:41:51.567325Z",
     "iopub.status.idle": "2021-11-11T14:41:51.569769Z",
     "shell.execute_reply": "2021-11-11T14:41:51.568670Z"
    }
   },
   "outputs": [
    {
     "name": "stdout",
     "output_type": "stream",
     "text": [
      "\u001b[31m0\u001b[0m\u001b[32m01111111111\u001b[0m\u001b[34m0000000000000000000000000000000000000000000000000000\u001b[0m"
     ]
    }
   ],
   "source": [
    "printbits(1.0)"
   ]
  },
  {
   "cell_type": "markdown",
   "metadata": {},
   "source": [
    "The format is very different from what we saw before with `Int`:"
   ]
  },
  {
   "cell_type": "code",
   "execution_count": 3,
   "metadata": {
    "execution": {
     "iopub.execute_input": "2021-11-11T14:41:51.571839Z",
     "iopub.status.busy": "2021-11-11T14:41:51.571234Z",
     "iopub.status.idle": "2021-11-11T14:41:52.045457Z",
     "shell.execute_reply": "2021-11-11T14:41:52.044844Z"
    }
   },
   "outputs": [
    {
     "data": {
      "text/plain": [
       "\"0000000000000000000000000000000000000000000000000000000000000001\""
      ]
     },
     "execution_count": 3,
     "metadata": {},
     "output_type": "execute_result"
    }
   ],
   "source": [
    "bitstring(1)"
   ]
  },
  {
   "cell_type": "markdown",
   "metadata": {},
   "source": [
    "Another example is `1.3`. This is representable with only two base-10 digits, \n",
    "it requires an infinite number of base-2 digits in `Float64`, which are \n",
    "cut off:"
   ]
  },
  {
   "cell_type": "code",
   "execution_count": 4,
   "metadata": {
    "execution": {
     "iopub.execute_input": "2021-11-11T14:41:52.047910Z",
     "iopub.status.busy": "2021-11-11T14:41:52.047072Z",
     "iopub.status.idle": "2021-11-11T14:41:52.049549Z",
     "shell.execute_reply": "2021-11-11T14:41:52.048490Z"
    }
   },
   "outputs": [
    {
     "name": "stdout",
     "output_type": "stream",
     "text": [
      "\u001b[31m0\u001b[0m\u001b[32m01111111111\u001b[0m\u001b[34m0100110011001100110011001100110011001100110011001101\u001b[0m"
     ]
    }
   ],
   "source": [
    "printbits(1.3)"
   ]
  },
  {
   "cell_type": "markdown",
   "metadata": {},
   "source": [
    "`Float32` is another type representing real numbers using 32 bits, that is also known \n",
    "as single precision.  `Float64` is now the default format for scientific computing (on the _Floating Point Unit_, FPU).  \n",
    "`Float32` is generally the default format for graphics (on the _Graphics Processing Unit_, GPU), \n",
    "as the difference between 32 bits and 64 bits is indistinguishable to the eye in visualisation.  \n",
    "`Float16` is an important type in machine learning where one wants to maximise the amount of data\n",
    "and high accuracy is not necessarily helpful. \n",
    "\n",
    "Here we see that the format for `Float32` looks consistent with `Float64`:"
   ]
  },
  {
   "cell_type": "code",
   "execution_count": 5,
   "metadata": {
    "execution": {
     "iopub.execute_input": "2021-11-11T14:41:52.051567Z",
     "iopub.status.busy": "2021-11-11T14:41:52.051025Z",
     "iopub.status.idle": "2021-11-11T14:41:52.123736Z",
     "shell.execute_reply": "2021-11-11T14:41:52.123207Z"
    }
   },
   "outputs": [
    {
     "name": "stdout",
     "output_type": "stream",
     "text": [
      "\u001b[31m0\u001b[0m\u001b[32m01111111\u001b[0m\u001b[34m01001100110011001100110\u001b[0m"
     ]
    }
   ],
   "source": [
    "printbits(Float32(1.3))"
   ]
  },
  {
   "cell_type": "markdown",
   "metadata": {},
   "source": [
    "## Standard IEEE numbers\n",
    "\n",
    "\n",
    "The bits of floats are stored in the format\n",
    "$$\n",
    "sq_1\\ldots q_Q b_1 \\ldots b_P\n",
    "$$\n",
    "which (provided $q_k$ are not all zero and not all one) \n",
    "represents the real number\n",
    "$$\n",
    "x=\\pm 2^{q-S} \\times (1.b_1b_2b_3\\ldots b_P)_2\n",
    "$$\n",
    "where $\\sign x = isone(s) ? 1 : -1$, \n",
    "$S$ and $P$ are fixed constants, \n",
    "$q = (q_1q_2\\ldots q_Q)_2$ is an unsigned  integer satisfying\n",
    "$$\n",
    "0 < q < 2^Q-1.\n",
    "$$\n",
    "\n",
    "\n",
    "In the case of `Float32`, $S = 127$, $Q = 8$, and $P = 23$,\n",
    "for a total of $1 + 8 + 23 = 32$ bits.\n",
    "\n",
    "In the case of `Float64`, $S = 1023$, $Q = 11$, and $P = 52$,\n",
    "for a total of $1 + 11 + 52 = 64$ bits.\n",
    "\n",
    "**Example** How is the number $1/3$ stored in `Float32`?\n",
    "Recall that\n",
    "$$\n",
    "1/3 = (0.010101\\ldots)_2 = 2^{-2} (1.0101\\ldots)_2 = 2^{125-127} (1.0101\\ldots)_2\n",
    "$$\n",
    "Since\n",
    "$$\n",
    "125 = (1111101)_2\n",
    "$$\n",
    "For the significand we round the last bit to the nearest, so we have\n",
    "$$\n",
    "1.010101010101010101010101\\ldots \\approx 1.01010101010101010101011 \n",
    "$$\n",
    "Thus the `Float32` bits for $1/3$ are:"
   ]
  },
  {
   "cell_type": "code",
   "execution_count": 6,
   "metadata": {
    "execution": {
     "iopub.execute_input": "2021-11-11T14:41:52.125697Z",
     "iopub.status.busy": "2021-11-11T14:41:52.125167Z",
     "iopub.status.idle": "2021-11-11T14:41:52.131472Z",
     "shell.execute_reply": "2021-11-11T14:41:52.130734Z"
    }
   },
   "outputs": [
    {
     "name": "stdout",
     "output_type": "stream",
     "text": [
      "\u001b[31m0\u001b[0m\u001b[32m01111101\u001b[0m\u001b[34m01010101010101010101011\u001b[0m"
     ]
    }
   ],
   "source": [
    "printbits(1f0/3)"
   ]
  },
  {
   "cell_type": "markdown",
   "metadata": {},
   "source": [
    "The smallest normal number is $q = 1$ and $b_k$ all zero.  \n",
    "For a given floating point type, it can be found using `floatmin`:"
   ]
  },
  {
   "cell_type": "code",
   "execution_count": 7,
   "metadata": {
    "execution": {
     "iopub.execute_input": "2021-11-11T14:41:52.133586Z",
     "iopub.status.busy": "2021-11-11T14:41:52.132927Z",
     "iopub.status.idle": "2021-11-11T14:41:52.346788Z",
     "shell.execute_reply": "2021-11-11T14:41:52.346286Z"
    }
   },
   "outputs": [
    {
     "data": {
      "text/plain": [
       "2.2250738585072014e-308"
      ]
     },
     "execution_count": 7,
     "metadata": {},
     "output_type": "execute_result"
    }
   ],
   "source": [
    "mn = floatmin(Float64)"
   ]
  },
  {
   "cell_type": "code",
   "execution_count": 8,
   "metadata": {
    "execution": {
     "iopub.execute_input": "2021-11-11T14:41:52.349124Z",
     "iopub.status.busy": "2021-11-11T14:41:52.348295Z",
     "iopub.status.idle": "2021-11-11T14:41:52.350656Z",
     "shell.execute_reply": "2021-11-11T14:41:52.349628Z"
    }
   },
   "outputs": [
    {
     "name": "stdout",
     "output_type": "stream",
     "text": [
      "\u001b[31m0\u001b[0m\u001b[32m00000000001\u001b[0m\u001b[34m0000000000000000000000000000000000000000000000000000\u001b[0m"
     ]
    }
   ],
   "source": [
    "printbits(mn)"
   ]
  },
  {
   "cell_type": "markdown",
   "metadata": {},
   "source": [
    "# Subnormal numbers\n",
    "\n",
    "Whenever $q = 0$, this is called a subnormal number, so does not follow the same interpretation of the bits.  Instead, if $q = 0$ the number is represented as\n",
    "$$\n",
    "    x = \\pm 2^{1-S}*(0.b_0b_1b_2\\ldots b_P)_2\n",
    "$$\n",
    "That is, the significand is now we have $0 + b_0/2 + \\cdots$ instead of $1 + b_0/2 + \\cdots$.\n",
    "\n",
    "The simplest example is zero, which has $q=0$ and all significand bits zero:"
   ]
  },
  {
   "cell_type": "code",
   "execution_count": 9,
   "metadata": {
    "execution": {
     "iopub.execute_input": "2021-11-11T14:41:52.352861Z",
     "iopub.status.busy": "2021-11-11T14:41:52.352134Z",
     "iopub.status.idle": "2021-11-11T14:41:52.354698Z",
     "shell.execute_reply": "2021-11-11T14:41:52.353496Z"
    }
   },
   "outputs": [
    {
     "name": "stdout",
     "output_type": "stream",
     "text": [
      "\u001b[31m0\u001b[0m\u001b[32m00000000000\u001b[0m\u001b[34m0000000000000000000000000000000000000000000000000000\u001b[0m"
     ]
    }
   ],
   "source": [
    "printbits(0.0)"
   ]
  },
  {
   "cell_type": "markdown",
   "metadata": {},
   "source": [
    "Unlike integers, we also have a negative zero:"
   ]
  },
  {
   "cell_type": "code",
   "execution_count": 10,
   "metadata": {
    "execution": {
     "iopub.execute_input": "2021-11-11T14:41:52.356881Z",
     "iopub.status.busy": "2021-11-11T14:41:52.356072Z",
     "iopub.status.idle": "2021-11-11T14:41:52.358499Z",
     "shell.execute_reply": "2021-11-11T14:41:52.357396Z"
    }
   },
   "outputs": [
    {
     "name": "stdout",
     "output_type": "stream",
     "text": [
      "\u001b[31m1\u001b[0m\u001b[32m00000000000\u001b[0m\u001b[34m0000000000000000000000000000000000000000000000000000\u001b[0m"
     ]
    }
   ],
   "source": [
    "printbits(-0.0)"
   ]
  },
  {
   "cell_type": "markdown",
   "metadata": {},
   "source": [
    "If we divide the smallest normal number by two, we get a subnormal number:"
   ]
  },
  {
   "cell_type": "code",
   "execution_count": 11,
   "metadata": {
    "execution": {
     "iopub.execute_input": "2021-11-11T14:41:52.360323Z",
     "iopub.status.busy": "2021-11-11T14:41:52.359824Z",
     "iopub.status.idle": "2021-11-11T14:41:52.364799Z",
     "shell.execute_reply": "2021-11-11T14:41:52.364238Z"
    }
   },
   "outputs": [
    {
     "name": "stdout",
     "output_type": "stream",
     "text": [
      "\u001b[31m0\u001b[0m\u001b[32m00000000000\u001b[0m\u001b[34m1000000000000000000000000000000000000000000000000000\u001b[0m"
     ]
    }
   ],
   "source": [
    "printbits(mn/2)"
   ]
  },
  {
   "cell_type": "markdown",
   "metadata": {},
   "source": [
    "Can you explain the bits?\n",
    "\n",
    "\n",
    "# Special numbers\n",
    "\n",
    "Whenever the bits of $q$ are all 1, that is, for `Float64` $q=2^{11}-1=2047=(11111111111)_2$, the number is treated differently.  If all $b_k=0$, then the number is interpreted as either $\\pm\\infty$, called `Inf`:"
   ]
  },
  {
   "cell_type": "code",
   "execution_count": 12,
   "metadata": {
    "execution": {
     "iopub.execute_input": "2021-11-11T14:41:52.366910Z",
     "iopub.status.busy": "2021-11-11T14:41:52.366273Z",
     "iopub.status.idle": "2021-11-11T14:41:52.368697Z",
     "shell.execute_reply": "2021-11-11T14:41:52.368256Z"
    }
   },
   "outputs": [
    {
     "name": "stdout",
     "output_type": "stream",
     "text": [
      "\u001b[31m0\u001b[0m\u001b[32m11111111111\u001b[0m\u001b[34m0000000000000000000000000000000000000000000000000000\u001b[0m\u001b[31m1\u001b[0m\u001b[32m11111111111\u001b[0m\u001b[34m0000000000000000000000000000000000000000000000000000\u001b[0m"
     ]
    }
   ],
   "source": [
    "printbits(Inf)\n",
    "printbits(-Inf)"
   ]
  },
  {
   "cell_type": "markdown",
   "metadata": {},
   "source": [
    "Another special number is `NaN`, which represents _not a number_. For example, `0/0` is not defined, so returns `NaN`:"
   ]
  },
  {
   "cell_type": "code",
   "execution_count": 13,
   "metadata": {
    "execution": {
     "iopub.execute_input": "2021-11-11T14:41:52.370838Z",
     "iopub.status.busy": "2021-11-11T14:41:52.370071Z",
     "iopub.status.idle": "2021-11-11T14:41:52.372553Z",
     "shell.execute_reply": "2021-11-11T14:41:52.371414Z"
    }
   },
   "outputs": [
    {
     "data": {
      "text/plain": [
       "NaN"
      ]
     },
     "execution_count": 13,
     "metadata": {},
     "output_type": "execute_result"
    }
   ],
   "source": [
    "0/0"
   ]
  },
  {
   "cell_type": "markdown",
   "metadata": {},
   "source": [
    "`NaN` is stored with $q=(11111111111)_2$ and at least one of the $b_k =1$:"
   ]
  },
  {
   "cell_type": "code",
   "execution_count": 14,
   "metadata": {
    "execution": {
     "iopub.execute_input": "2021-11-11T14:41:52.374851Z",
     "iopub.status.busy": "2021-11-11T14:41:52.373898Z",
     "iopub.status.idle": "2021-11-11T14:41:52.376452Z",
     "shell.execute_reply": "2021-11-11T14:41:52.375372Z"
    }
   },
   "outputs": [
    {
     "name": "stdout",
     "output_type": "stream",
     "text": [
      "\u001b[31m0\u001b[0m\u001b[32m11111111111\u001b[0m\u001b[34m1000000000000000000000000000000000000000000000000000\u001b[0m"
     ]
    }
   ],
   "source": [
    "printbits(NaN)"
   ]
  },
  {
   "cell_type": "markdown",
   "metadata": {},
   "source": [
    "**Example** What happens if we change some other $b_k$ to be nonzero?\n",
    "We can create bits as a string and see:"
   ]
  },
  {
   "cell_type": "code",
   "execution_count": 15,
   "metadata": {
    "execution": {
     "iopub.execute_input": "2021-11-11T14:41:52.378193Z",
     "iopub.status.busy": "2021-11-11T14:41:52.377686Z",
     "iopub.status.idle": "2021-11-11T14:41:52.388134Z",
     "shell.execute_reply": "2021-11-11T14:41:52.387753Z"
    }
   },
   "outputs": [
    {
     "data": {
      "text/plain": [
       "NaN"
      ]
     },
     "execution_count": 15,
     "metadata": {},
     "output_type": "execute_result"
    }
   ],
   "source": [
    "i=parse(UInt64, \"1111111111110000000000000000000010000001000000000010000000000000\"; base=2)\n",
    "reinterpret(Float64,i)"
   ]
  },
  {
   "cell_type": "markdown",
   "metadata": {},
   "source": [
    "Thus, there are more than one `NaN`s on a computer.  Can you figure out how many there are?\n",
    "\n",
    "Arithmetic works differently on `Inf` and `NaN`:"
   ]
  },
  {
   "cell_type": "code",
   "execution_count": 16,
   "metadata": {
    "execution": {
     "iopub.execute_input": "2021-11-11T14:41:52.390094Z",
     "iopub.status.busy": "2021-11-11T14:41:52.389544Z",
     "iopub.status.idle": "2021-11-11T14:41:52.657378Z",
     "shell.execute_reply": "2021-11-11T14:41:52.656932Z"
    }
   },
   "outputs": [
    {
     "data": {
      "text/plain": [
       "true"
      ]
     },
     "execution_count": 16,
     "metadata": {},
     "output_type": "execute_result"
    }
   ],
   "source": [
    "Inf*0      # NaN\n",
    "Inf+5      # Inf\n",
    "(-1)*Inf   # -Inf\n",
    "1/Inf      # 0\n",
    "1/(-Inf)   # -0\n",
    "Inf-Inf    # NaN\n",
    "Inf == Inf   # true\n",
    "Inf == -Inf  # false\n",
    "\n",
    "NaN*0      # NaN\n",
    "NaN+5\n",
    "1/NaN\n",
    "NaN == NaN    # false\n",
    "NaN != NaN    #true"
   ]
  },
  {
   "cell_type": "markdown",
   "metadata": {},
   "source": [
    "## Rounding\n",
    "\n",
    "There are three basic rounding strategies: round up/down/towards zero/nearest.\n",
    "These are specified by tags `RoundUp`, `RoundDown`, `RoundToZero`, and\n",
    "`RoundNearest`. (There are also more exotic rounding strategies `RoundNearestTiesAway` and\n",
    "`RoundNearestTiesUp` that we won't use.)\n",
    " Note that these rounding modes are part\n",
    "of the FPU instruction set so will be (roughly) equally fast as the default, `RoundNearest`.\n",
    "\n",
    "Let's try rounding a `Float64` to a `Float32`."
   ]
  },
  {
   "cell_type": "code",
   "execution_count": 17,
   "metadata": {
    "execution": {
     "iopub.execute_input": "2021-11-11T14:41:52.659581Z",
     "iopub.status.busy": "2021-11-11T14:41:52.658877Z",
     "iopub.status.idle": "2021-11-11T14:41:52.661318Z",
     "shell.execute_reply": "2021-11-11T14:41:52.660820Z"
    }
   },
   "outputs": [
    {
     "name": "stdout",
     "output_type": "stream",
     "text": [
      "\u001b[31m0\u001b[0m\u001b[32m01111111101\u001b[0m\u001b[34m0101010101010101010101010101010101010101010101010101\u001b[0m\u001b[31m0\u001b[0m\u001b[32m01111101\u001b[0m\u001b[34m01010101010101010101011\u001b[0m"
     ]
    }
   ],
   "source": [
    "printbits(1/3)  # 64 bits\n",
    "printbits(Float32(1/3))  # round to nearest 32-bit"
   ]
  },
  {
   "cell_type": "markdown",
   "metadata": {},
   "source": [
    "The default rounding mode can be changed:"
   ]
  },
  {
   "cell_type": "code",
   "execution_count": 18,
   "metadata": {
    "execution": {
     "iopub.execute_input": "2021-11-11T14:41:52.663625Z",
     "iopub.status.busy": "2021-11-11T14:41:52.662833Z",
     "iopub.status.idle": "2021-11-11T14:41:52.678385Z",
     "shell.execute_reply": "2021-11-11T14:41:52.677795Z"
    }
   },
   "outputs": [
    {
     "name": "stdout",
     "output_type": "stream",
     "text": [
      "\u001b[31m0\u001b[0m\u001b[32m01111101\u001b[0m\u001b[34m01010101010101010101010\u001b[0m"
     ]
    }
   ],
   "source": [
    "printbits(Float32(1/3,RoundDown) )"
   ]
  },
  {
   "cell_type": "markdown",
   "metadata": {},
   "source": [
    "Or alternatively we can change the rounding mode for a chunk of code\n",
    "using `setrounding`. The following changes `/` to round down:"
   ]
  },
  {
   "cell_type": "code",
   "execution_count": 19,
   "metadata": {
    "execution": {
     "iopub.execute_input": "2021-11-11T14:41:52.680977Z",
     "iopub.status.busy": "2021-11-11T14:41:52.680232Z",
     "iopub.status.idle": "2021-11-11T14:41:53.351724Z",
     "shell.execute_reply": "2021-11-11T14:41:53.350853Z"
    }
   },
   "outputs": [
    {
     "data": {
      "text/plain": [
       "0.33333334f0"
      ]
     },
     "execution_count": 19,
     "metadata": {},
     "output_type": "execute_result"
    }
   ],
   "source": [
    "setrounding(Float32, RoundDown) do\n",
    "    1f0/3\n",
    "end"
   ]
  },
  {
   "cell_type": "markdown",
   "metadata": {},
   "source": [
    "## Arithmetic\n",
    "\n",
    "A real number can have an infinite number of digits to represent exactly.  Define the operation that takes a real number to its `Float64` representation as `round`.\n",
    "\n",
    "The Arithmetic operations '+', '-', '*', '/' are defined by the property that they are exact up to rounding.  That is, if `x` and `y` are `Float64`, we have\n",
    "$$\n",
    "x\\oplus y={\\rm round}(x+y)\n",
    "$$\n",
    "where in this formula $\\oplus$ denotes the floating point definition of `+` and + denotes the mathematical definition of +.  \n",
    "\n",
    "This has some bizarre effects.  For example, 1.1+0.1 gives a different result than 1.2:"
   ]
  },
  {
   "cell_type": "code",
   "execution_count": 20,
   "metadata": {
    "execution": {
     "iopub.execute_input": "2021-11-11T14:41:53.358148Z",
     "iopub.status.busy": "2021-11-11T14:41:53.357056Z",
     "iopub.status.idle": "2021-11-11T14:41:53.360131Z",
     "shell.execute_reply": "2021-11-11T14:41:53.358778Z"
    }
   },
   "outputs": [
    {
     "data": {
      "text/plain": [
       "2.220446049250313e-16"
      ]
     },
     "execution_count": 20,
     "metadata": {},
     "output_type": "execute_result"
    }
   ],
   "source": [
    "x=1.1\n",
    "y=0.1\n",
    "x + y - 1.2 # Not Zero?!?"
   ]
  },
  {
   "cell_type": "markdown",
   "metadata": {},
   "source": [
    "This is because ${\\rm round}(1.1)\\neq1+1/10$, but rather:\n",
    "\n",
    "$$\n",
    "{\\rm round}(1.1) = 1 + 2^{-4}+2^{-5} + 2^{-8}+2^{-9}+\\cdots + 2^{-48}+2^{-49} + 2^{-51}= {2476979795053773 \\over 2251799813685248} = 1.1 +2^{-51} - 2^{-52} - 2^{-53} - 2^{-56} - 2^{-57} - \\cdots\n",
    "$$"
   ]
  }
 ],
 "metadata": {
  "kernelspec": {
   "display_name": "Julia 1.6.2",
   "language": "julia",
   "name": "julia-1.6"
  },
  "language_info": {
   "file_extension": ".jl",
   "mimetype": "application/julia",
   "name": "julia",
   "version": "1.6.2"
  }
 },
 "nbformat": 4,
 "nbformat_minor": 2
}
