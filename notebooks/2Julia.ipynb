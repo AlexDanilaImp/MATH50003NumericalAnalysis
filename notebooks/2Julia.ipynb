{
 "cells": [
  {
   "cell_type": "markdown",
   "metadata": {},
   "source": [
    "# Intro to julia\n",
    "\n",
    "Reference: [The Julia Documentation](https://docs.julialang.org)\n",
    "\n",
    "This lecture gives an overview of Julia. [The Julia–Matlab–Python Cheatsheet](https://cheatsheets.quantecon.org)\n",
    "Is a valuable resource for translating between the three languages.\n",
    "\n",
    "## Integers\n",
    "\n",
    "Julia uses a math-like syntax for manipulating integers:"
   ]
  },
  {
   "cell_type": "code",
   "execution_count": 1,
   "metadata": {
    "execution": {
     "iopub.execute_input": "2021-11-10T13:08:10.482033Z",
     "iopub.status.busy": "2021-11-10T13:08:09.736975Z",
     "iopub.status.idle": "2021-11-10T13:08:11.155521Z",
     "shell.execute_reply": "2021-11-10T13:08:11.154884Z"
    }
   },
   "outputs": [
    {
     "data": {
      "text/plain": [
       "2"
      ]
     },
     "execution_count": 1,
     "metadata": {},
     "output_type": "execute_result"
    }
   ],
   "source": [
    "1 + 1 # Addition"
   ]
  },
  {
   "cell_type": "code",
   "execution_count": 2,
   "metadata": {
    "execution": {
     "iopub.execute_input": "2021-11-10T13:08:11.157947Z",
     "iopub.status.busy": "2021-11-10T13:08:11.157076Z",
     "iopub.status.idle": "2021-11-10T13:08:11.159652Z",
     "shell.execute_reply": "2021-11-10T13:08:11.158507Z"
    }
   },
   "outputs": [
    {
     "data": {
      "text/plain": [
       "6"
      ]
     },
     "execution_count": 2,
     "metadata": {},
     "output_type": "execute_result"
    }
   ],
   "source": [
    "2 * 3 # Multiplication"
   ]
  },
  {
   "cell_type": "code",
   "execution_count": 3,
   "metadata": {
    "execution": {
     "iopub.execute_input": "2021-11-10T13:08:11.161665Z",
     "iopub.status.busy": "2021-11-10T13:08:11.161113Z",
     "iopub.status.idle": "2021-11-10T13:08:11.166488Z",
     "shell.execute_reply": "2021-11-10T13:08:11.166060Z"
    }
   },
   "outputs": [
    {
     "data": {
      "text/plain": [
       "25"
      ]
     },
     "execution_count": 3,
     "metadata": {},
     "output_type": "execute_result"
    }
   ],
   "source": [
    "x = 5; # semicolon is optional but supresses output if used in last line\n",
    "x^2 # Powers"
   ]
  },
  {
   "cell_type": "markdown",
   "metadata": {},
   "source": [
    "In Julia everything has a type. This is similar in spirit to \n",
    "a class in Python, but much more lightweight. \n",
    "An integer defaults to type `Int`, \n",
    "which is either 32-bit (`Int32`) or 64-bit (`Int64`) depending\n",
    "on the processor of the machine. \n",
    "These are \"primative type\", instances of the type are stored in memory as \n",
    "a fixed length sequence of bits.\n",
    " \n",
    "We can see the bits using the function `bitstring`:"
   ]
  },
  {
   "cell_type": "code",
   "execution_count": 4,
   "metadata": {
    "execution": {
     "iopub.execute_input": "2021-11-10T13:08:11.168668Z",
     "iopub.status.busy": "2021-11-10T13:08:11.168100Z",
     "iopub.status.idle": "2021-11-10T13:08:11.452279Z",
     "shell.execute_reply": "2021-11-10T13:08:11.451746Z"
    }
   },
   "outputs": [
    {
     "data": {
      "text/plain": [
       "\"0000000000000000000000000000000000000000000000000000000000000001\""
      ]
     },
     "execution_count": 4,
     "metadata": {},
     "output_type": "execute_result"
    }
   ],
   "source": [
    "bitstring(1)"
   ]
  },
  {
   "cell_type": "markdown",
   "metadata": {},
   "source": [
    "The first bit is a sign bit: if it is equal to `1` the \n",
    "integer is negative"
   ]
  },
  {
   "cell_type": "code",
   "execution_count": 5,
   "metadata": {
    "execution": {
     "iopub.execute_input": "2021-11-10T13:08:11.455798Z",
     "iopub.status.busy": "2021-11-10T13:08:11.454915Z",
     "iopub.status.idle": "2021-11-10T13:08:11.457476Z",
     "shell.execute_reply": "2021-11-10T13:08:11.456294Z"
    }
   },
   "outputs": [
    {
     "data": {
      "text/plain": [
       "\"1111111111111111111111111111111111111111111111111111111111111111\""
      ]
     },
     "execution_count": 5,
     "metadata": {},
     "output_type": "execute_result"
    }
   ],
   "source": [
    "bitstring(-1)"
   ]
  },
  {
   "cell_type": "markdown",
   "metadata": {},
   "source": [
    "This may be counter-intuitive (did you expect `1000…00001`?)\n",
    "but has the nice benefit that addition behaves the same for \n",
    "positive integers and negative integers.  \n",
    "\n",
    "`Int` follows [modular arithmetic](https://en.wikipedia.org/wiki/Modular_arithmetic),\n",
    "that is, it is equivalent to the ring of integers modulo `2^p` where `p` is `32` or `64`. \n",
    "Thus for $p = 64$ we are interpreting\n",
    "$2^{32} \\mod 2^{64}$ through $(2^{64}-1) \\mod 2^{64}$ as negative numbers but \n",
    "they are not treated specially.\n",
    "\n",
    "\n",
    "**Example (addition)**\n",
    "Consider `(-1) + 1`. They behave like modular arithmetic so we have:\n",
    "$$\n",
    "(-1 \\mod 2^p) + (1 \\mod 2^p) = (2^p-1 \\mod 2^p) + (1 \\mod 2^p) = 2^p \\mod 2^p = 0 \\mod 2^p\n",
    "$$\n",
    "\n",
    "**Example (multiplication)**\n",
    "Consider `(-2) * 2`. We have:\n",
    "$$\n",
    "(-2 \\mod 2^p) * (2 \\mod 2^p) = (2^p-2 \\mod 2^p) * (2 \\mod 2^p) = (2^(p+1)-4 \\mod 2^p) = -4 \\mod 2^p\n",
    "$$\n",
    "\n",
    "\n",
    "\n",
    "\n",
    "We can find the largest and smallest instances of a type using `typemax` and `typemin`:"
   ]
  },
  {
   "cell_type": "code",
   "execution_count": 6,
   "metadata": {
    "execution": {
     "iopub.execute_input": "2021-11-10T13:08:11.459654Z",
     "iopub.status.busy": "2021-11-10T13:08:11.459085Z",
     "iopub.status.idle": "2021-11-10T13:08:11.747630Z",
     "shell.execute_reply": "2021-11-10T13:08:11.747202Z"
    }
   },
   "outputs": [
    {
     "data": {
      "text/plain": [
       "2147483647"
      ]
     },
     "execution_count": 6,
     "metadata": {},
     "output_type": "execute_result"
    }
   ],
   "source": [
    "typemax(Int32)"
   ]
  },
  {
   "cell_type": "code",
   "execution_count": 7,
   "metadata": {
    "execution": {
     "iopub.execute_input": "2021-11-10T13:08:11.750162Z",
     "iopub.status.busy": "2021-11-10T13:08:11.749595Z",
     "iopub.status.idle": "2021-11-10T13:08:11.755741Z",
     "shell.execute_reply": "2021-11-10T13:08:11.755310Z"
    }
   },
   "outputs": [
    {
     "data": {
      "text/plain": [
       "\"01111111111111111111111111111111\""
      ]
     },
     "execution_count": 7,
     "metadata": {},
     "output_type": "execute_result"
    }
   ],
   "source": [
    "bitstring(typemax(Int32))"
   ]
  },
  {
   "cell_type": "code",
   "execution_count": 8,
   "metadata": {
    "execution": {
     "iopub.execute_input": "2021-11-10T13:08:11.758125Z",
     "iopub.status.busy": "2021-11-10T13:08:11.757220Z",
     "iopub.status.idle": "2021-11-10T13:08:11.759833Z",
     "shell.execute_reply": "2021-11-10T13:08:11.758686Z"
    }
   },
   "outputs": [
    {
     "data": {
      "text/plain": [
       "-2147483648"
      ]
     },
     "execution_count": 8,
     "metadata": {},
     "output_type": "execute_result"
    }
   ],
   "source": [
    "typemin(Int32)"
   ]
  },
  {
   "cell_type": "code",
   "execution_count": 9,
   "metadata": {
    "execution": {
     "iopub.execute_input": "2021-11-10T13:08:11.762172Z",
     "iopub.status.busy": "2021-11-10T13:08:11.761337Z",
     "iopub.status.idle": "2021-11-10T13:08:11.763882Z",
     "shell.execute_reply": "2021-11-10T13:08:11.762773Z"
    }
   },
   "outputs": [
    {
     "data": {
      "text/plain": [
       "\"10000000000000000000000000000000\""
      ]
     },
     "execution_count": 9,
     "metadata": {},
     "output_type": "execute_result"
    }
   ],
   "source": [
    "bitstring(typemin(Int32))"
   ]
  },
  {
   "cell_type": "markdown",
   "metadata": {},
   "source": [
    "Since `Int64` behaves like modulo arithmetic we do not \"overflow\" but rather wrap around:"
   ]
  },
  {
   "cell_type": "code",
   "execution_count": 10,
   "metadata": {
    "execution": {
     "iopub.execute_input": "2021-11-10T13:08:11.766480Z",
     "iopub.status.busy": "2021-11-10T13:08:11.765531Z",
     "iopub.status.idle": "2021-11-10T13:08:11.768200Z",
     "shell.execute_reply": "2021-11-10T13:08:11.767041Z"
    }
   },
   "outputs": [
    {
     "data": {
      "text/plain": [
       "-9223372036854775808"
      ]
     },
     "execution_count": 10,
     "metadata": {},
     "output_type": "execute_result"
    }
   ],
   "source": [
    "typemax(Int64) + 1 # returns typemin(Int32)"
   ]
  },
  {
   "cell_type": "markdown",
   "metadata": {},
   "source": [
    "There are other primitive integer types: `Int8` and `Int16` are like `Int32` and `Int64` but with\n",
    "fewer bits. `UInt8`, `UInt16`, `UInt32`, and `UInt64` are unsigned integers, e.g., we do not interpret\n",
    "the number as negative if the first bit is `1`. A non-primitive type is `BigInt` which allows arbitrary length\n",
    "integers, which we can create using `big`:"
   ]
  },
  {
   "cell_type": "code",
   "execution_count": 11,
   "metadata": {
    "execution": {
     "iopub.execute_input": "2021-11-10T13:08:11.770283Z",
     "iopub.status.busy": "2021-11-10T13:08:11.769737Z",
     "iopub.status.idle": "2021-11-10T13:08:12.045376Z",
     "shell.execute_reply": "2021-11-10T13:08:12.044946Z"
    }
   },
   "outputs": [
    {
     "data": {
      "text/plain": [
       "9223372036854775808"
      ]
     },
     "execution_count": 11,
     "metadata": {},
     "output_type": "execute_result"
    }
   ],
   "source": [
    "x = typemax(Int64) + big(1) # Too big to be an `Int64`"
   ]
  },
  {
   "cell_type": "code",
   "execution_count": 12,
   "metadata": {
    "execution": {
     "iopub.execute_input": "2021-11-10T13:08:12.047829Z",
     "iopub.status.busy": "2021-11-10T13:08:12.046914Z",
     "iopub.status.idle": "2021-11-10T13:08:12.052363Z",
     "shell.execute_reply": "2021-11-10T13:08:12.051934Z"
    }
   },
   "outputs": [
    {
     "data": {
      "text/plain": [
       "3082994025277634745700106821545665721371798533305697458855342277921093731984476404705966539412410898240561729912372038501228893141921080152404642393776599077294434061519905424124601394226943601430916434383714716724720227331596950613701661034548948388721097667275438763758128508403297199458260277707301202460980093818414167080563342761482395862435185093942443540722363151770022221783243959592531336062998494209914752408019060720805124534382646051093613814848646062038662423487504326044361203708430489305864234333801401547140023376295718383390360728662900230671437151716615826286842267917560749586018165739492101920429719261285640125596833063891562865262157026023955919873792846823095854484520920509345944712871675691790827690907778485058829248588945681685288179787963931181062068092463984296225973082494056307958089189726701678735576365394146232076917088075949053636690459581128773097212746967276496496010810878000638239143750075543163240049874489986642327436441234458040254480825038220479904594615300602390556385799245276805580024937804723029319565942013515817048714543455250235208789745701165279569026248145395218985062991831707830217974393158466067785199581037714968820628241051867119832966361530047910339065726550260741036716100932205969655083257714244071120221654679340461084001560321676025443801248355439305974923873624147980728110581452806109011739005060060604228087667499288851218705078807364237925455813890575257569981450090997117697469299234094394984840574025401463942099019413361096233909056117427663439764954916401592565651111571414769257187704568268701243082044838400201357613851006471104244828842270232637747398962711875413488415772647088571125272932490717217468263604683325933469555629785507020775366368002753612709901526248456328209643292122899677436613886360765877886748185299249994921843183573130403496311896614949399409796011301191280067209053259341918813967552543176532349157376"
      ]
     },
     "execution_count": 12,
     "metadata": {},
     "output_type": "execute_result"
    }
   ],
   "source": [
    "x^100"
   ]
  },
  {
   "cell_type": "markdown",
   "metadata": {},
   "source": [
    "Note the number of bits is not fixed so it is possible to run out of memory if a number is \n",
    "astronomically large: go ahead and try `x^x`.\n",
    "\n",
    "In addition to `+`, `-`, and `*` we have integer division `÷`, which rounds down:"
   ]
  },
  {
   "cell_type": "code",
   "execution_count": 13,
   "metadata": {
    "execution": {
     "iopub.execute_input": "2021-11-10T13:08:12.054533Z",
     "iopub.status.busy": "2021-11-10T13:08:12.053857Z",
     "iopub.status.idle": "2021-11-10T13:08:12.056336Z",
     "shell.execute_reply": "2021-11-10T13:08:12.055826Z"
    }
   },
   "outputs": [
    {
     "data": {
      "text/plain": [
       "2"
      ]
     },
     "execution_count": 13,
     "metadata": {},
     "output_type": "execute_result"
    }
   ],
   "source": [
    "5 ÷ 2 # equivalent to div(5,2)"
   ]
  },
  {
   "cell_type": "markdown",
   "metadata": {},
   "source": [
    "Standard division `/` (or `\\` for division on the right) creates a floating point number, which will be discussed in\n",
    "the next chapter:"
   ]
  },
  {
   "cell_type": "code",
   "execution_count": 14,
   "metadata": {
    "execution": {
     "iopub.execute_input": "2021-11-10T13:08:12.058804Z",
     "iopub.status.busy": "2021-11-10T13:08:12.057963Z",
     "iopub.status.idle": "2021-11-10T13:08:12.327214Z",
     "shell.execute_reply": "2021-11-10T13:08:12.326707Z"
    }
   },
   "outputs": [
    {
     "data": {
      "text/plain": [
       "2.5"
      ]
     },
     "execution_count": 14,
     "metadata": {},
     "output_type": "execute_result"
    }
   ],
   "source": [
    "5 / 2 # alternatively 2 \\ 5"
   ]
  },
  {
   "cell_type": "markdown",
   "metadata": {},
   "source": [
    "## String\n",
    "\n",
    "We have seen that `bitstring` returns a string of bits.\n",
    "Strings can be created with quotation marks"
   ]
  },
  {
   "cell_type": "code",
   "execution_count": 15,
   "metadata": {
    "execution": {
     "iopub.execute_input": "2021-11-10T13:08:12.329767Z",
     "iopub.status.busy": "2021-11-10T13:08:12.328810Z",
     "iopub.status.idle": "2021-11-10T13:08:12.332022Z",
     "shell.execute_reply": "2021-11-10T13:08:12.330329Z"
    }
   },
   "outputs": [
    {
     "data": {
      "text/plain": [
       "\"hello world 😀\""
      ]
     },
     "execution_count": 15,
     "metadata": {},
     "output_type": "execute_result"
    }
   ],
   "source": [
    "str=\"hello world 😀\""
   ]
  },
  {
   "cell_type": "markdown",
   "metadata": {},
   "source": [
    "We can access characters of a string with brackets:"
   ]
  },
  {
   "cell_type": "code",
   "execution_count": 16,
   "metadata": {
    "execution": {
     "iopub.execute_input": "2021-11-10T13:08:12.334364Z",
     "iopub.status.busy": "2021-11-10T13:08:12.333813Z",
     "iopub.status.idle": "2021-11-10T13:08:12.690145Z",
     "shell.execute_reply": "2021-11-10T13:08:12.689721Z"
    }
   },
   "outputs": [
    {
     "data": {
      "text/plain": [
       "('h', '😀')"
      ]
     },
     "execution_count": 16,
     "metadata": {},
     "output_type": "execute_result"
    }
   ],
   "source": [
    "str[1],str[13]"
   ]
  },
  {
   "cell_type": "markdown",
   "metadata": {},
   "source": [
    "Each character is a bit type, in this case using 32 bits/8 bytes:"
   ]
  },
  {
   "cell_type": "code",
   "execution_count": 17,
   "metadata": {
    "execution": {
     "iopub.execute_input": "2021-11-10T13:08:12.692264Z",
     "iopub.status.busy": "2021-11-10T13:08:12.691723Z",
     "iopub.status.idle": "2021-11-10T13:08:13.060223Z",
     "shell.execute_reply": "2021-11-10T13:08:13.059786Z"
    }
   },
   "outputs": [
    {
     "data": {
      "text/plain": [
       "(Char, 32)"
      ]
     },
     "execution_count": 17,
     "metadata": {},
     "output_type": "execute_result"
    }
   ],
   "source": [
    "typeof(str[6]), length(bitstring(str[6]))"
   ]
  },
  {
   "cell_type": "markdown",
   "metadata": {},
   "source": [
    "Strings are not bit types, but rather point to the start of sequence \n",
    "of `Char` in memory.  In this case, there are $32*13=416$ bits/52 \n",
    "bytes in memory\n",
    "\n",
    "## Vector\n",
    "\n",
    "We can create a vector using brackets:"
   ]
  },
  {
   "cell_type": "code",
   "execution_count": 18,
   "metadata": {
    "execution": {
     "iopub.execute_input": "2021-11-10T13:08:13.063232Z",
     "iopub.status.busy": "2021-11-10T13:08:13.062061Z",
     "iopub.status.idle": "2021-11-10T13:08:14.015715Z",
     "shell.execute_reply": "2021-11-10T13:08:14.015286Z"
    }
   },
   "outputs": [
    {
     "data": {
      "text/plain": [
       "3-element Vector{Int64}:\n",
       " 11\n",
       " 24\n",
       " 32"
      ]
     },
     "execution_count": 18,
     "metadata": {},
     "output_type": "execute_result"
    }
   ],
   "source": [
    "v = [11,24,32]"
   ]
  },
  {
   "cell_type": "markdown",
   "metadata": {},
   "source": [
    "Like a string, elements are accessed via brackets. Julia\n",
    "uses 1-based indexing (like Matlab and Mathematica, unlike\n",
    "Python and C which use 0-based indexing):"
   ]
  },
  {
   "cell_type": "code",
   "execution_count": 19,
   "metadata": {
    "execution": {
     "iopub.execute_input": "2021-11-10T13:08:14.017863Z",
     "iopub.status.busy": "2021-11-10T13:08:14.017313Z",
     "iopub.status.idle": "2021-11-10T13:08:14.306548Z",
     "shell.execute_reply": "2021-11-10T13:08:14.306122Z"
    }
   },
   "outputs": [
    {
     "data": {
      "text/plain": [
       "(11, 32)"
      ]
     },
     "execution_count": 19,
     "metadata": {},
     "output_type": "execute_result"
    }
   ],
   "source": [
    "v[1],v[3]"
   ]
  },
  {
   "cell_type": "markdown",
   "metadata": {},
   "source": [
    "Accessing outside the range gives an error:"
   ]
  },
  {
   "cell_type": "code",
   "execution_count": 20,
   "metadata": {
    "execution": {
     "iopub.execute_input": "2021-11-10T13:08:14.308693Z",
     "iopub.status.busy": "2021-11-10T13:08:14.308149Z",
     "iopub.status.idle": "2021-11-10T13:08:15.219321Z",
     "shell.execute_reply": "2021-11-10T13:08:15.218886Z"
    }
   },
   "outputs": [
    {
     "ename": "LoadError",
     "evalue": "BoundsError: attempt to access 3-element Vector{Int64} at index [4]",
     "output_type": "error",
     "traceback": [
      "BoundsError: attempt to access 3-element Vector{Int64} at index [4]",
      "",
      "Stacktrace:",
      " [1] getindex(A::Vector{Int64}, i1::Int64)",
      "   @ Base ./array.jl:801",
      " [2] top-level scope",
      "   @ In[20]:1",
      " [3] eval",
      "   @ ./boot.jl:360 [inlined]",
      " [4] include_string(mapexpr::typeof(REPL.softscope), mod::Module, code::String, filename::String)",
      "   @ Base ./loading.jl:1094"
     ]
    }
   ],
   "source": [
    "v[4]"
   ]
  },
  {
   "cell_type": "markdown",
   "metadata": {},
   "source": [
    "Vectors can be made with different types, for example, \n",
    "here is a vector of three 8-bit integers:"
   ]
  },
  {
   "cell_type": "code",
   "execution_count": 21,
   "metadata": {
    "execution": {
     "iopub.execute_input": "2021-11-10T13:08:15.221661Z",
     "iopub.status.busy": "2021-11-10T13:08:15.221112Z",
     "iopub.status.idle": "2021-11-10T13:08:15.830004Z",
     "shell.execute_reply": "2021-11-10T13:08:15.829581Z"
    }
   },
   "outputs": [
    {
     "data": {
      "text/plain": [
       "3-element Vector{Int8}:\n",
       " 11\n",
       " 24\n",
       " 32"
      ]
     },
     "execution_count": 21,
     "metadata": {},
     "output_type": "execute_result"
    }
   ],
   "source": [
    "v = [Int8(11), Int8(24), Int8(32)]"
   ]
  },
  {
   "cell_type": "markdown",
   "metadata": {},
   "source": [
    "Just like strings, Vectors are not bit types, \n",
    "but rather point to the start of sequence of the corresponding type.  \n",
    "In this last case, there are $3*8=24$ bits/3 bytes in memory.\n",
    "\n",
    "## Parsing strings\n",
    "\n",
    "We can use the command `parse` to turn a string into an integer:"
   ]
  },
  {
   "cell_type": "code",
   "execution_count": 22,
   "metadata": {
    "execution": {
     "iopub.execute_input": "2021-11-10T13:08:15.832900Z",
     "iopub.status.busy": "2021-11-10T13:08:15.831691Z",
     "iopub.status.idle": "2021-11-10T13:08:15.834743Z",
     "shell.execute_reply": "2021-11-10T13:08:15.834252Z"
    }
   },
   "outputs": [
    {
     "data": {
      "text/plain": [
       "123"
      ]
     },
     "execution_count": 22,
     "metadata": {},
     "output_type": "execute_result"
    }
   ],
   "source": [
    "parse(Int, \"123\")"
   ]
  },
  {
   "cell_type": "markdown",
   "metadata": {},
   "source": [
    "We can specify base 2 as an optional argument. If we are specifying\n",
    "bits its safer to parse as a `UInt32`, otherwise the first bit\n",
    "is not recognised as a sign:"
   ]
  },
  {
   "cell_type": "code",
   "execution_count": 23,
   "metadata": {
    "execution": {
     "iopub.execute_input": "2021-11-10T13:08:15.836901Z",
     "iopub.status.busy": "2021-11-10T13:08:15.836352Z",
     "iopub.status.idle": "2021-11-10T13:08:16.142959Z",
     "shell.execute_reply": "2021-11-10T13:08:16.142533Z"
    }
   },
   "outputs": [
    {
     "data": {
      "text/plain": [
       "0xf09f998a"
      ]
     },
     "execution_count": 23,
     "metadata": {},
     "output_type": "execute_result"
    }
   ],
   "source": [
    "bts = \"11110000100111111001100110001010\"\n",
    "x = parse(UInt32, bts; base=2)"
   ]
  },
  {
   "cell_type": "markdown",
   "metadata": {},
   "source": [
    "The function `reinterpret` allows us to reinterpret the resulting \n",
    "sequence of 32 bits as a different type. For example, we can reinterpret\n",
    "as an `Int32` in which case the first bit is taken to be the sign bit\n",
    "and we get a negative number:"
   ]
  },
  {
   "cell_type": "code",
   "execution_count": 24,
   "metadata": {
    "execution": {
     "iopub.execute_input": "2021-11-10T13:08:16.145128Z",
     "iopub.status.busy": "2021-11-10T13:08:16.144573Z",
     "iopub.status.idle": "2021-11-10T13:08:16.149752Z",
     "shell.execute_reply": "2021-11-10T13:08:16.149326Z"
    }
   },
   "outputs": [
    {
     "data": {
      "text/plain": [
       "-257975926"
      ]
     },
     "execution_count": 24,
     "metadata": {},
     "output_type": "execute_result"
    }
   ],
   "source": [
    "reinterpret(Int32, x)"
   ]
  },
  {
   "cell_type": "markdown",
   "metadata": {},
   "source": [
    "We can also reinterpret as a `Char`:"
   ]
  },
  {
   "cell_type": "code",
   "execution_count": 25,
   "metadata": {
    "execution": {
     "iopub.execute_input": "2021-11-10T13:08:16.152159Z",
     "iopub.status.busy": "2021-11-10T13:08:16.151578Z",
     "iopub.status.idle": "2021-11-10T13:08:16.419999Z",
     "shell.execute_reply": "2021-11-10T13:08:16.419545Z"
    }
   },
   "outputs": [
    {
     "data": {
      "text/plain": [
       "'🙊': Unicode U+1F64A (category So: Symbol, other)"
      ]
     },
     "execution_count": 25,
     "metadata": {},
     "output_type": "execute_result"
    }
   ],
   "source": [
    "reinterpret(Char, x)"
   ]
  },
  {
   "cell_type": "markdown",
   "metadata": {},
   "source": [
    "We will use `parse` and `reinterpret` in problem sheets and the midterm exam\n",
    "as it allows one to easily manipulate bits. This is not actually how one should\n",
    "do it as it is slow.\n",
    "\n",
    "## Bitwise operations (advanced)\n",
    "\n",
    "In practice, one should manipulate bits using bitwise operations. \n",
    "These will not be required in this course and are not examinable, but\n",
    "are valuable to know if you have a career involving high performance computing.\n",
    "The `p << k` shifts the bits of `p` to the left `k` times inserting zeros, \n",
    "while `p >> k` shifts to the right:"
   ]
  },
  {
   "cell_type": "code",
   "execution_count": 26,
   "metadata": {
    "execution": {
     "iopub.execute_input": "2021-11-10T13:08:16.422158Z",
     "iopub.status.busy": "2021-11-10T13:08:16.421609Z",
     "iopub.status.idle": "2021-11-10T13:08:16.446247Z",
     "shell.execute_reply": "2021-11-10T13:08:16.445745Z"
    }
   },
   "outputs": [
    {
     "name": "stdout",
     "output_type": "stream",
     "text": [
      "000000000000000000000000000000000000000000000000000000000001011100000000000000000000000000000000000000000000000000000000010111000000000000000000000000000000000000000000000000000000000000000101"
     ]
    }
   ],
   "source": [
    "print(bitstring(23));\n",
    "print(bitstring(23 << 2));\n",
    "print(bitstring(23 >> 2));"
   ]
  },
  {
   "cell_type": "markdown",
   "metadata": {},
   "source": [
    "The operations `&`, `|` and `⊻` do bitwise and, or, and xor."
   ]
  }
 ],
 "metadata": {
  "kernelspec": {
   "display_name": "Julia 1.6.1",
   "language": "julia",
   "name": "julia-1.6"
  },
  "language_info": {
   "file_extension": ".jl",
   "mimetype": "application/julia",
   "name": "julia",
   "version": "1.6.1"
  }
 },
 "nbformat": 4,
 "nbformat_minor": 2
}
