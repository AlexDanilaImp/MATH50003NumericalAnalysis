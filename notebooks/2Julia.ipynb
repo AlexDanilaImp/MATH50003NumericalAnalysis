{
 "cells": [
  {
   "cell_type": "markdown",
   "metadata": {},
   "source": [
    "# Intro to julia\n",
    "\n",
    "Reference: [The Julia Documentation](https://docs.julialang.org)\n",
    "\n",
    "This lecture gives an overview of Julia. [The Julia–Matlab–Python Cheatsheet](https://cheatsheets.quantecon.org)\n",
    "Is a valuable resource for translating between the three languages.\n",
    "\n",
    "## Integers\n",
    "\n",
    "Julia uses a math-like syntax for manipulating integers:"
   ]
  },
  {
   "cell_type": "code",
   "execution_count": 1,
   "metadata": {
    "execution": {
     "iopub.execute_input": "2021-11-10T13:02:37.720935Z",
     "iopub.status.busy": "2021-11-10T13:02:37.027095Z",
     "iopub.status.idle": "2021-11-10T13:02:38.417473Z",
     "shell.execute_reply": "2021-11-10T13:02:38.416878Z"
    }
   },
   "outputs": [
    {
     "data": {
      "text/plain": [
       "2"
      ]
     },
     "execution_count": 1,
     "metadata": {},
     "output_type": "execute_result"
    }
   ],
   "source": [
    "1 + 1 # Addition"
   ]
  },
  {
   "cell_type": "code",
   "execution_count": 2,
   "metadata": {
    "execution": {
     "iopub.execute_input": "2021-11-10T13:02:38.419665Z",
     "iopub.status.busy": "2021-11-10T13:02:38.418842Z",
     "iopub.status.idle": "2021-11-10T13:02:38.421465Z",
     "shell.execute_reply": "2021-11-10T13:02:38.420259Z"
    }
   },
   "outputs": [
    {
     "data": {
      "text/plain": [
       "6"
      ]
     },
     "execution_count": 2,
     "metadata": {},
     "output_type": "execute_result"
    }
   ],
   "source": [
    "2 * 3 # Multiplication"
   ]
  },
  {
   "cell_type": "code",
   "execution_count": 3,
   "metadata": {
    "execution": {
     "iopub.execute_input": "2021-11-10T13:02:38.423733Z",
     "iopub.status.busy": "2021-11-10T13:02:38.423099Z",
     "iopub.status.idle": "2021-11-10T13:02:38.428399Z",
     "shell.execute_reply": "2021-11-10T13:02:38.427857Z"
    }
   },
   "outputs": [
    {
     "data": {
      "text/plain": [
       "25"
      ]
     },
     "execution_count": 3,
     "metadata": {},
     "output_type": "execute_result"
    }
   ],
   "source": [
    "x = 5; # semicolon is optional but supresses output if used in last line\n",
    "x^2 # Powers"
   ]
  },
  {
   "cell_type": "markdown",
   "metadata": {},
   "source": [
    "In Julia everything has a type. This is similar in spirit to \n",
    "a class in Python, but much more lightweight. \n",
    "An integer defaults to type `Int`, \n",
    "which is either 32-bit (`Int32`) or 64-bit (`Int64`) depending\n",
    "on the processor of the machine. \n",
    "These are \"primative type\", instances of the type are stored in memory as \n",
    "a fixed length sequence of bits.\n",
    " \n",
    "We can see the bits using the function `bitstring`:"
   ]
  },
  {
   "cell_type": "code",
   "execution_count": 4,
   "metadata": {
    "execution": {
     "iopub.execute_input": "2021-11-10T13:02:38.430469Z",
     "iopub.status.busy": "2021-11-10T13:02:38.429895Z",
     "iopub.status.idle": "2021-11-10T13:02:38.716294Z",
     "shell.execute_reply": "2021-11-10T13:02:38.715816Z"
    }
   },
   "outputs": [
    {
     "data": {
      "text/plain": [
       "\"0000000000000000000000000000000000000000000000000000000000000001\""
      ]
     },
     "execution_count": 4,
     "metadata": {},
     "output_type": "execute_result"
    }
   ],
   "source": [
    "bitstring(1)"
   ]
  },
  {
   "cell_type": "markdown",
   "metadata": {},
   "source": [
    "The first bit is a sign bit: if it is equal to `1` the \n",
    "integer is negative"
   ]
  },
  {
   "cell_type": "code",
   "execution_count": 5,
   "metadata": {
    "execution": {
     "iopub.execute_input": "2021-11-10T13:02:38.718654Z",
     "iopub.status.busy": "2021-11-10T13:02:38.717852Z",
     "iopub.status.idle": "2021-11-10T13:02:38.720313Z",
     "shell.execute_reply": "2021-11-10T13:02:38.719171Z"
    }
   },
   "outputs": [
    {
     "data": {
      "text/plain": [
       "\"1111111111111111111111111111111111111111111111111111111111111111\""
      ]
     },
     "execution_count": 5,
     "metadata": {},
     "output_type": "execute_result"
    }
   ],
   "source": [
    "bitstring(-1)"
   ]
  },
  {
   "cell_type": "markdown",
   "metadata": {},
   "source": [
    "This may be counter-intuitive (did you expect `1000…00001`?)\n",
    "but has the nice benefit that addition behaves the same for \n",
    "positive integers and negative integers.  \n",
    "\n",
    "`Int` follows [modular arithmetic](https://en.wikipedia.org/wiki/Modular_arithmetic),\n",
    "that is, it is equivalent to the ring of integers modulo `2^p` where `p` is `32` or `64`. \n",
    "Thus for $p = 64$ we are interpreting\n",
    "$(2^{32} \\mod 2^{64})$ through $(2^{64}-1 \\mod 2^{64})$ as negative numbers but \n",
    "they are not treated specially."
   ]
  }
 ],
 "metadata": {
  "kernelspec": {
   "display_name": "Julia 1.6.1",
   "language": "julia",
   "name": "julia-1.6"
  },
  "language_info": {
   "file_extension": ".jl",
   "mimetype": "application/julia",
   "name": "julia",
   "version": "1.6.1"
  }
 },
 "nbformat": 4,
 "nbformat_minor": 2
}
