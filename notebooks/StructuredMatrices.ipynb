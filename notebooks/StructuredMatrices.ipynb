{
 "cells": [
  {
   "cell_type": "markdown",
   "metadata": {},
   "source": [
    "# Structured Matrices\n",
    "\n",
    "We have seen how algebraic operations (`+`, `-`, `*`, `/`) are\n",
    "well-defined for floating point numbers. Now we see how this allows us\n",
    "to do (approximate) linear algebra operations on structured matrices. That is,\n",
    "we consider the following structures:\n",
    "\n",
    "\n",
    "1. _Dense_: this can be considered unstructured, where we need to store all entries in a\n",
    "vector or matrix. Matrix multiplication reduces directly to standard algebraic operations.\n",
    "2. _Triangular_: If a matrix is upper or lower triangular, we can immediately invert using\n",
    "back-substitution. In practice we store a dense matrix and ignore the upper/lower entries.\n",
    "3. _Banded_: If a matrix is zero apart from entries a fixed distance from  the diagonal it is\n",
    "called banded and this allows for more efficient algorithms. We discuss diagonal, \n",
    "tridiagonal and bidiagonal\n",
    "matrices.\n",
    "4. _Orthogonal_: An orthogonal matrix $Q$ satisfies $Q^⊤ Q = I$, in other words, they are\n",
    "very easy to invert. We discuss special cases includion permutations, rotations and reflections.\n",
    "\n",
    "\n",
    "## 1. Dense vectors and matrices\n",
    "\n",
    "A `Vector` of a primitive type (like `Int` or `Float64`) is stored\n",
    "consecutively in memory. E.g. if we have `Vector{Int8}` of length\n",
    "`n` then it is stored as `8n` bits (`n` bytes) in a row.\n",
    "A  `Matrix` is stored consecutively in memory, going down column-by-\n",
    "column. That is,"
   ]
  },
  {
   "cell_type": "code",
   "execution_count": 1,
   "metadata": {
    "execution": {
     "iopub.execute_input": "2022-01-10T21:36:26.209667Z",
     "iopub.status.busy": "2022-01-10T21:36:25.750908Z",
     "iopub.status.idle": "2022-01-10T21:36:27.550410Z",
     "shell.execute_reply": "2022-01-10T21:36:27.549912Z"
    }
   },
   "outputs": [
    {
     "data": {
      "text/plain": [
       "3×2 Matrix{Int64}:\n",
       " 1  2\n",
       " 3  4\n",
       " 5  6"
      ]
     },
     "execution_count": 1,
     "metadata": {},
     "output_type": "execute_result"
    }
   ],
   "source": [
    "A = [1 2; 3 4; 5 6]"
   ]
  },
  {
   "cell_type": "markdown",
   "metadata": {},
   "source": [
    "Is actually stored equivalently to a length `6` vector:"
   ]
  },
  {
   "cell_type": "code",
   "execution_count": 2,
   "metadata": {
    "execution": {
     "iopub.execute_input": "2022-01-10T21:36:27.552737Z",
     "iopub.status.busy": "2022-01-10T21:36:27.552004Z",
     "iopub.status.idle": "2022-01-10T21:36:28.042319Z",
     "shell.execute_reply": "2022-01-10T21:36:28.041884Z"
    }
   },
   "outputs": [
    {
     "data": {
      "text/plain": [
       "6-element Vector{Int64}:\n",
       " 1\n",
       " 3\n",
       " 5\n",
       " 2\n",
       " 4\n",
       " 6"
      ]
     },
     "execution_count": 2,
     "metadata": {},
     "output_type": "execute_result"
    }
   ],
   "source": [
    "vec(A)"
   ]
  },
  {
   "cell_type": "markdown",
   "metadata": {},
   "source": [
    "Note that transposing `A` is done lazyily and so `A'`\n",
    "stores the entries by row.\n",
    "\n",
    "\n",
    "Matrix-vector multiplication works as expected:"
   ]
  },
  {
   "cell_type": "code",
   "execution_count": 3,
   "metadata": {
    "execution": {
     "iopub.execute_input": "2022-01-10T21:36:28.044970Z",
     "iopub.status.busy": "2022-01-10T21:36:28.043904Z",
     "iopub.status.idle": "2022-01-10T21:36:28.129581Z",
     "shell.execute_reply": "2022-01-10T21:36:28.129109Z"
    }
   },
   "outputs": [
    {
     "data": {
      "text/plain": [
       "3-element Vector{Int64}:\n",
       " 23\n",
       " 53\n",
       " 83"
      ]
     },
     "execution_count": 3,
     "metadata": {},
     "output_type": "execute_result"
    }
   ],
   "source": [
    "x = [7; 8]\n",
    "A*x"
   ]
  },
  {
   "cell_type": "markdown",
   "metadata": {},
   "source": [
    "It is easy to implement such an algorithm:"
   ]
  },
  {
   "cell_type": "code",
   "execution_count": 4,
   "metadata": {
    "execution": {
     "iopub.execute_input": "2022-01-10T21:36:28.131743Z",
     "iopub.status.busy": "2022-01-10T21:36:28.131195Z",
     "iopub.status.idle": "2022-01-10T21:36:28.169160Z",
     "shell.execute_reply": "2022-01-10T21:36:28.168629Z"
    }
   },
   "outputs": [
    {
     "data": {
      "text/plain": [
       "3-element Vector{Int64}:\n",
       " 23\n",
       " 53\n",
       " 83"
      ]
     },
     "execution_count": 4,
     "metadata": {},
     "output_type": "execute_result"
    }
   ],
   "source": [
    "c = zeros(Int, 3)\n",
    "for j = 1:size(A,2), k = 1:size(A,1)\n",
    "    c[k] += A[k, j] * x[j]\n",
    "end\n",
    "c"
   ]
  },
  {
   "cell_type": "markdown",
   "metadata": {},
   "source": [
    "**Remark (advanced)** \n",
    "This accesses the entries of `A` going down the column,\n",
    "which happens to be faster than accessing by row.\n",
    "\n",
    "Note matrix-multiplication is exact for integers, but\n",
    "using modular arithemtic:"
   ]
  },
  {
   "cell_type": "code",
   "execution_count": 5,
   "metadata": {
    "execution": {
     "iopub.execute_input": "2022-01-10T21:36:28.171441Z",
     "iopub.status.busy": "2022-01-10T21:36:28.170835Z",
     "iopub.status.idle": "2022-01-10T21:36:28.757084Z",
     "shell.execute_reply": "2022-01-10T21:36:28.756648Z"
    }
   },
   "outputs": [
    {
     "data": {
      "text/plain": [
       "1-element Vector{Int8}:\n",
       " -128"
      ]
     },
     "execution_count": 5,
     "metadata": {},
     "output_type": "execute_result"
    }
   ],
   "source": [
    "Int8[2^7-1 1] * Int8[1,1]"
   ]
  },
  {
   "cell_type": "markdown",
   "metadata": {},
   "source": [
    "Solving a linear system is done using `\\`:"
   ]
  },
  {
   "cell_type": "code",
   "execution_count": 6,
   "metadata": {
    "execution": {
     "iopub.execute_input": "2022-01-10T21:36:28.759661Z",
     "iopub.status.busy": "2022-01-10T21:36:28.759094Z",
     "iopub.status.idle": "2022-01-10T21:36:30.370842Z",
     "shell.execute_reply": "2022-01-10T21:36:30.370391Z"
    }
   },
   "outputs": [
    {
     "data": {
      "text/plain": [
       "2-element Vector{Float64}:\n",
       " -8.00000000000002\n",
       "  8.500000000000016"
      ]
     },
     "execution_count": 6,
     "metadata": {},
     "output_type": "execute_result"
    }
   ],
   "source": [
    "b = [9; 10; 11]\n",
    "A \\ b"
   ]
  },
  {
   "cell_type": "markdown",
   "metadata": {},
   "source": [
    "Here we see that we needed to use floating point arithmetic,\n",
    "but it is \"accurate to 16-digits\". \n",
    "The way solving a linear system works is we first write `A` as a\n",
    "product of simpler matrices, e.g., a product of triangular matrices, \n",
    "as described in the next notes. \n",
    "\n",
    "\n",
    "## 2. Triangular matrices\n",
    "\n",
    "\n",
    "\n",
    "### Inverting an upper triangular matrix\n",
    "\n",
    "We now discuss why upper triangular matrices are easy to invert.  \n",
    "Consider a simple 3x3 example, which can be solved with `\\`:\n",
    " ```julia\n",
    " U = [1.0 2.0 3.0;\n",
    "      0.0 3.0 4.0;\n",
    "      0.0 0.0 5.0]\n",
    "\n",
    "b = [5,6,7]\n",
    "\n",
    "x = U \\ b\n",
    " ```\n",
    " Behind the seens, `\\` is doing back substitution. Here is a custom implementation:\n",
    " ```julia\n",
    " function backsubstitution(U,b)\n",
    "    n = size(U,1)\n",
    "    \n",
    "    if length(b) != n\n",
    "        error(\"The system is not compatible\")\n",
    "    end\n",
    "        \n",
    "    \n",
    "    x = zeros(n)  # the solution vector\n",
    "    for k = n:-1:1  # start with k=n, then k=n-1, ...\n",
    "        r = b[k]  # dummy variable\n",
    "        for j = k+1:n\n",
    "            r -= U[k,j]*x[j] # equivalent to r = r-U[k,j]*x[j]\n",
    "        end\n",
    "        x[k] = r/U[k,k]\n",
    "    end\n",
    "    x\n",
    "end\n",
    "backsubstitution(U,b) - U\\b  # close to zero, the algorithms differ slightly\n",
    " ```\n",
    "\n",
    "`triu` takes the upper triangular of a matrix.  We can check the accuracy of `backsubstitution` on a 10 x 10 random upper triangular matrix."
   ]
  },
  {
   "cell_type": "code",
   "execution_count": 7,
   "metadata": {
    "execution": {
     "iopub.execute_input": "2022-01-10T21:36:30.372835Z",
     "iopub.status.busy": "2022-01-10T21:36:30.372236Z",
     "iopub.status.idle": "2022-01-10T21:36:31.592236Z",
     "shell.execute_reply": "2022-01-10T21:36:31.591810Z"
    }
   },
   "outputs": [
    {
     "ename": "LoadError",
     "evalue": "UndefVarError: backsubstitution not defined",
     "output_type": "error",
     "traceback": [
      "UndefVarError: backsubstitution not defined",
      "",
      "Stacktrace:",
      " [1] top-level scope",
      "   @ In[7]:5",
      " [2] eval",
      "   @ ./boot.jl:373 [inlined]",
      " [3] include_string(mapexpr::typeof(REPL.softscope), mod::Module, code::String, filename::String)",
      "   @ Base ./loading.jl:1196"
     ]
    }
   ],
   "source": [
    "U = triu(rand(10,10))\n",
    "b = rand(10)\n",
    "\n",
    "x = U\\b\n",
    "norm(backsubstitution(U,b)-x)"
   ]
  },
  {
   "cell_type": "markdown",
   "metadata": {},
   "source": [
    "## 3. Banded matrices\n",
    "\n",
    "\n",
    "### Diagonal\n",
    "\n",
    "Diagonal matrices in Julia are represented by a vector:"
   ]
  },
  {
   "cell_type": "code",
   "execution_count": 8,
   "metadata": {
    "execution": {
     "iopub.execute_input": "2022-01-10T21:36:31.594494Z",
     "iopub.status.busy": "2022-01-10T21:36:31.593836Z",
     "iopub.status.idle": "2022-01-10T21:36:31.979767Z",
     "shell.execute_reply": "2022-01-10T21:36:31.979345Z"
    }
   },
   "outputs": [
    {
     "data": {
      "text/plain": [
       "3×3 Diagonal{Int64, Vector{Int64}}:\n",
       " 1  ⋅  ⋅\n",
       " ⋅  2  ⋅\n",
       " ⋅  ⋅  3"
      ]
     },
     "execution_count": 8,
     "metadata": {},
     "output_type": "execute_result"
    }
   ],
   "source": [
    "x = [1,2,3]\n",
    "D = Diagonal(x)"
   ]
  },
  {
   "cell_type": "markdown",
   "metadata": {},
   "source": [
    "It is clear that they can multiply and efficiently in $O(n)$ operations.\n",
    "\n",
    "### Bidiagonal\n",
    "\n",
    "Sometimes its useful to not store zero entries of a matrix when a matrix has many zeros,\n",
    "which we refer to as _sparse_. A simple but important case is a triangular matrix where only\n",
    "two bands are nonzero, i.e.,"
   ]
  },
  {
   "cell_type": "code",
   "execution_count": null,
   "metadata": {},
   "outputs": [],
   "source": []
  },
  {
   "cell_type": "markdown",
   "metadata": {},
   "source": [
    "## 4. Orthogonal matrices\n",
    "\n",
    "**Definition (orthogonal matrix)** A matrix is _orthogonal_ if its inverse is its transpose:\n",
    "\n",
    "$$Q^⊤ Q = I$$\n",
    "\n",
    "Orthogonal matrices have the important property that they preserve the 2-norm of vectors:\n",
    "$$\n",
    "\\|Q\\mathbf{v}\\|^2 = (Q\\mathbf{v})^⊤ Q \\mathbf{v} = \\mathbf{v}^⊤ Q^⊤ Q \\mathbf{v} = \\mathbf{v}^⊤  \\mathbf{v} = \\|\\mathbf{v}\\|^2\n",
    "$$\n",
    "Here we discuss three important cases: permutations, simple rotations and reflections.\n",
    "\n",
    "### Permutation Matrices\n",
    "\n",
    "Permutation matrices are matrices that represent the action of permuting the entries of a vector,\n",
    "that is, matrix representations of the symmetric group $S_n$, acting on $ℝ^n$.\n",
    "Recall every $σ \\in S_n$ is a bisection between $\\{1,2,\\ldots,n\\}$.\n",
    "We can write a permutation $σ$ in _Cauchy notation_:\n",
    "$$\n",
    "\\begin{pmatrix}\n",
    " 1 & 2 & 3 & \\cdots & n \\cr\n",
    " σ_1 & σ_2 & σ_3 & \\cdots & σ_n\n",
    " \\end{pmatrix}\n",
    "$$\n",
    "where $\\{σ_1,\\ldots,σ_n\\} = \\{1,2,\\ldots,n\\}$ (that is, each integer appears precisely once).\n",
    "We denote the _inverse permutation_ by $σ^{-1}$, which can be constructed by swapping the rows of\n",
    "the Cauchy notation and reordering.\n",
    "\n",
    "We can encode a permutation in vector $\\mathbf σ = [σ_1,\\ldots,σ_n]^⊤$. \n",
    "This induces an action on a vector (using indexing notation)\n",
    "$$\n",
    "𝐯[\\mathbf σ] = \\begin{pmatrix}v_{σ_1}\\\\ \\vdots \\\\ v_{σ_n} \\end{pmatrix}\n",
    "$$\n",
    "\n",
    "\n",
    "**Example (permutation of a vector)** \n",
    "Consider the permutation $σ$ given by\n",
    "$$\n",
    "\\begin{pmatrix}\n",
    " 1 & 2 & 3 & 4 & 5 \\cr\n",
    " 1 & 4 & 2 & 5 & 3\n",
    " \\end{pmatrix}\n",
    "$$\n",
    "We can apply it to a vector of the first 5 letter:"
   ]
  },
  {
   "cell_type": "code",
   "execution_count": 9,
   "metadata": {
    "execution": {
     "iopub.execute_input": "2022-01-10T21:36:31.982034Z",
     "iopub.status.busy": "2022-01-10T21:36:31.981489Z",
     "iopub.status.idle": "2022-01-10T21:36:31.996237Z",
     "shell.execute_reply": "2022-01-10T21:36:31.995779Z"
    }
   },
   "outputs": [
    {
     "data": {
      "text/plain": [
       "5-element Vector{Int64}:\n",
       "  6\n",
       "  9\n",
       "  7\n",
       " 10\n",
       "  8"
      ]
     },
     "execution_count": 9,
     "metadata": {},
     "output_type": "execute_result"
    }
   ],
   "source": [
    "σ = [1, 4, 2, 5, 3]\n",
    "v = [6, 7, 8, 9, 10]\n",
    "v[σ] # we permutate entries of v"
   ]
  },
  {
   "cell_type": "markdown",
   "metadata": {},
   "source": [
    "Its inverse permutation $σ^{-1}$ has Cauchy notation coming from swapping the rows of\n",
    "the Cauchy notation of $σ$ and sorting:\n",
    "$$\n",
    "\\begin{pmatrix}\n",
    " 1 & 4 & 2 & 5 & 3 \\cr\n",
    " 1 & 2 & 3 & 4 & 5\n",
    " \\end{pmatrix} \\rightarrow \\begin{pmatrix}\n",
    " 1 & 2 & 4 & 3 & 5 \\cr\n",
    " 1 & 3 & 2 & 5 & 4\n",
    " \\end{pmatrix} \n",
    "$$\n",
    "And indeed:"
   ]
  },
  {
   "cell_type": "code",
   "execution_count": 10,
   "metadata": {
    "execution": {
     "iopub.execute_input": "2022-01-10T21:36:31.998301Z",
     "iopub.status.busy": "2022-01-10T21:36:31.997757Z",
     "iopub.status.idle": "2022-01-10T21:36:32.001105Z",
     "shell.execute_reply": "2022-01-10T21:36:32.000681Z"
    }
   },
   "outputs": [
    {
     "data": {
      "text/plain": [
       "5-element Vector{Int64}:\n",
       "  6\n",
       "  7\n",
       "  9\n",
       "  8\n",
       " 10"
      ]
     },
     "execution_count": 10,
     "metadata": {},
     "output_type": "execute_result"
    }
   ],
   "source": [
    "σ⁻¹ = [1,3,2,5,4] # note that ⁻¹ are just unicode characters in the variable name\n",
    "v[σ][σ⁻¹] # permuting by σ and then σⁱ gets us back"
   ]
  },
  {
   "cell_type": "markdown",
   "metadata": {},
   "source": [
    "Note that the operator\n",
    "$$\n",
    "P_σ(𝐯) = 𝐯[\\mathbf σ]\n",
    "$$\n",
    "is linear in $𝐯$, therefore, we can identify it with a matrix whose action is:\n",
    "$$\n",
    "P_σ \\begin{pmatrix} v_1\\\\ \\vdots \\\\ v_n \\end{pmatrix} = \\begin{pmatrix}v_{σ_1} \\\\ \\vdots \\\\ v_{σ_n}  \\end{pmatrix}.\n",
    "$$\n",
    "The entries of this matrix are\n",
    "$$\n",
    "P_σ[k,j] = 𝐞_k^⊤ P_σ 𝐞_j = 𝐞_k^⊤ 𝐞_{σ^{-1}_j} = δ_{k,σ^{-1}_j} = δ_{σ_k,j}\n",
    "$$\n",
    "where $δ_{k,j}$ is the _Kronecker delta_:\n",
    "$$\n",
    "δ_{k,j} := \\begin{cases} 1 & k = j \\\\\n",
    "                        0 & \\hbox{otherwise}\n",
    "                        \\end{cases}.\n",
    "$$\n",
    "\n",
    "\n",
    "This construction motivates the following definition:\n",
    "\n",
    "**Definition (permutation matrix)** $P \\in ℝ^{n × n}$ is a permutation matrix if it is equal to\n",
    "the identity matrix with its rows permuted.\n",
    "\n",
    "**Example (5×5 permutation matrix)**\n",
    "We can construct the permutation representation for $σ$ as above as follows:"
   ]
  },
  {
   "cell_type": "code",
   "execution_count": 11,
   "metadata": {
    "execution": {
     "iopub.execute_input": "2022-01-10T21:36:32.003121Z",
     "iopub.status.busy": "2022-01-10T21:36:32.002582Z",
     "iopub.status.idle": "2022-01-10T21:36:32.818385Z",
     "shell.execute_reply": "2022-01-10T21:36:32.817965Z"
    }
   },
   "outputs": [
    {
     "data": {
      "text/plain": [
       "5×5 SparseMatrixCSC{Bool, Int64} with 5 stored entries:\n",
       " 1  ⋅  ⋅  ⋅  ⋅\n",
       " ⋅  ⋅  ⋅  1  ⋅\n",
       " ⋅  1  ⋅  ⋅  ⋅\n",
       " ⋅  ⋅  ⋅  ⋅  1\n",
       " ⋅  ⋅  1  ⋅  ⋅"
      ]
     },
     "execution_count": 11,
     "metadata": {},
     "output_type": "execute_result"
    }
   ],
   "source": [
    "P = I(5)[σ,:]"
   ]
  },
  {
   "cell_type": "markdown",
   "metadata": {},
   "source": [
    "And indeed, we see its action is as expected:"
   ]
  },
  {
   "cell_type": "code",
   "execution_count": 12,
   "metadata": {
    "execution": {
     "iopub.execute_input": "2022-01-10T21:36:32.820465Z",
     "iopub.status.busy": "2022-01-10T21:36:32.819931Z",
     "iopub.status.idle": "2022-01-10T21:36:32.854789Z",
     "shell.execute_reply": "2022-01-10T21:36:32.854307Z"
    }
   },
   "outputs": [
    {
     "data": {
      "text/plain": [
       "5-element Vector{Int64}:\n",
       "  6\n",
       "  9\n",
       "  7\n",
       " 10\n",
       "  8"
      ]
     },
     "execution_count": 12,
     "metadata": {},
     "output_type": "execute_result"
    }
   ],
   "source": [
    "P * v"
   ]
  },
  {
   "cell_type": "markdown",
   "metadata": {},
   "source": [
    "**Proposition (permutation matrix inverse)** \n",
    "Let $P_σ$ be a permutation matrix corresponding to the permutation $σ$. Then\n",
    "$$\n",
    "P_σ^⊤ = P_{σ^{-1}} = P_σ^{-1}\n",
    "$$\n",
    "That is, $P_σ$ is _orthogonal_:\n",
    "$$\n",
    "P_σ^⊤ P_σ = P_σ P_σ^⊤ = I.\n",
    "$$\n",
    "\n",
    "**Proof**\n",
    "\n",
    "We prove orthogonality via:\n",
    "$$\n",
    "𝐞_k^⊤ P_σ^⊤ P_σ 𝐞_j = (P_σ 𝐞_k)^⊤ P_σ 𝐞_j = 𝐞_{σ^{-1}_k}^⊤ 𝐞_{σ^{-1}_j} = δ_{k,j}\n",
    "$$\n",
    "This shows $P_σ^⊤ P_σ = I$ and hence $P_σ^{-1} = P_σ^⊤$. \n",
    "\n",
    "∎\n",
    "\n",
    "\n",
    "Permutation matrices are examples of sparse matrices that can be very easily inverted. \n",
    "\n",
    "\n",
    "### Simple rotations\n",
    "\n",
    "In 2D we get some simple examples:\n",
    "$$\n",
    "\\begin{pmatrix} 1 & 0 \\cr 0 & 1\\end{pmatrix}, \\begin{pmatrix} 1 & 0 \\cr 0 & -1\\end{pmatrix}, \\begin{pmatrix} 0 & 1 \\cr 1 & 0\\end{pmatrix}, \\begin{pmatrix} \\cos \\theta & -\\sin \\theta \\cr \\sin \\theta & \\cos \\theta \\end{pmatrix}\n",
    "$$\n",
    "\n",
    "The last matrix is a rotation matrix.  We can visualize this using Plots.jl, seeing that the 2-norm is preserved:"
   ]
  },
  {
   "cell_type": "code",
   "execution_count": 13,
   "metadata": {
    "execution": {
     "iopub.execute_input": "2022-01-10T21:36:32.856930Z",
     "iopub.status.busy": "2022-01-10T21:36:32.856376Z",
     "iopub.status.idle": "2022-01-10T21:36:47.757189Z",
     "shell.execute_reply": "2022-01-10T21:36:47.756697Z"
    }
   },
   "outputs": [
    {
     "data": {
      "image/svg+xml": [
       "<?xml version=\"1.0\" encoding=\"utf-8\"?>\n",
       "<svg xmlns=\"http://www.w3.org/2000/svg\" xmlns:xlink=\"http://www.w3.org/1999/xlink\" width=\"600\" height=\"400\" viewBox=\"0 0 2400 1600\">\n",
       "<defs>\n",
       "  <clipPath id=\"clip270\">\n",
       "    <rect x=\"0\" y=\"0\" width=\"2400\" height=\"1600\"/>\n",
       "  </clipPath>\n",
       "</defs>\n",
       "<path clip-path=\"url(#clip270)\" d=\"\n",
       "M0 1600 L2400 1600 L2400 0 L0 0  Z\n",
       "  \" fill=\"#ffffff\" fill-rule=\"evenodd\" fill-opacity=\"1\"/>\n",
       "<defs>\n",
       "  <clipPath id=\"clip271\">\n",
       "    <rect x=\"480\" y=\"0\" width=\"1681\" height=\"1600\"/>\n",
       "  </clipPath>\n",
       "</defs>\n",
       "<path clip-path=\"url(#clip270)\" d=\"\n",
       "M193.936 1486.45 L2352.76 1486.45 L2352.76 47.2441 L193.936 47.2441  Z\n",
       "  \" fill=\"#ffffff\" fill-rule=\"evenodd\" fill-opacity=\"1\"/>\n",
       "<defs>\n",
       "  <clipPath id=\"clip272\">\n",
       "    <rect x=\"193\" y=\"47\" width=\"2160\" height=\"1440\"/>\n",
       "  </clipPath>\n",
       "</defs>\n",
       "<polyline clip-path=\"url(#clip272)\" style=\"stroke:#000000; stroke-linecap:butt; stroke-linejoin:round; stroke-width:2; stroke-opacity:0.1; fill:none\" points=\"\n",
       "  254.522,1486.45 254.522,47.2441 \n",
       "  \"/>\n",
       "<polyline clip-path=\"url(#clip272)\" style=\"stroke:#000000; stroke-linecap:butt; stroke-linejoin:round; stroke-width:2; stroke-opacity:0.1; fill:none\" points=\"\n",
       "  763.806,1486.45 763.806,47.2441 \n",
       "  \"/>\n",
       "<polyline clip-path=\"url(#clip272)\" style=\"stroke:#000000; stroke-linecap:butt; stroke-linejoin:round; stroke-width:2; stroke-opacity:0.1; fill:none\" points=\"\n",
       "  1273.09,1486.45 1273.09,47.2441 \n",
       "  \"/>\n",
       "<polyline clip-path=\"url(#clip272)\" style=\"stroke:#000000; stroke-linecap:butt; stroke-linejoin:round; stroke-width:2; stroke-opacity:0.1; fill:none\" points=\"\n",
       "  1782.37,1486.45 1782.37,47.2441 \n",
       "  \"/>\n",
       "<polyline clip-path=\"url(#clip272)\" style=\"stroke:#000000; stroke-linecap:butt; stroke-linejoin:round; stroke-width:2; stroke-opacity:0.1; fill:none\" points=\"\n",
       "  2291.66,1486.45 2291.66,47.2441 \n",
       "  \"/>\n",
       "<polyline clip-path=\"url(#clip270)\" style=\"stroke:#000000; stroke-linecap:butt; stroke-linejoin:round; stroke-width:4; stroke-opacity:1; fill:none\" points=\"\n",
       "  193.936,1486.45 2352.76,1486.45 \n",
       "  \"/>\n",
       "<polyline clip-path=\"url(#clip270)\" style=\"stroke:#000000; stroke-linecap:butt; stroke-linejoin:round; stroke-width:4; stroke-opacity:1; fill:none\" points=\"\n",
       "  254.522,1486.45 254.522,1467.55 \n",
       "  \"/>\n",
       "<polyline clip-path=\"url(#clip270)\" style=\"stroke:#000000; stroke-linecap:butt; stroke-linejoin:round; stroke-width:4; stroke-opacity:1; fill:none\" points=\"\n",
       "  763.806,1486.45 763.806,1467.55 \n",
       "  \"/>\n",
       "<polyline clip-path=\"url(#clip270)\" style=\"stroke:#000000; stroke-linecap:butt; stroke-linejoin:round; stroke-width:4; stroke-opacity:1; fill:none\" points=\"\n",
       "  1273.09,1486.45 1273.09,1467.55 \n",
       "  \"/>\n",
       "<polyline clip-path=\"url(#clip270)\" style=\"stroke:#000000; stroke-linecap:butt; stroke-linejoin:round; stroke-width:4; stroke-opacity:1; fill:none\" points=\"\n",
       "  1782.37,1486.45 1782.37,1467.55 \n",
       "  \"/>\n",
       "<polyline clip-path=\"url(#clip270)\" style=\"stroke:#000000; stroke-linecap:butt; stroke-linejoin:round; stroke-width:4; stroke-opacity:1; fill:none\" points=\"\n",
       "  2291.66,1486.45 2291.66,1467.55 \n",
       "  \"/>\n",
       "<path clip-path=\"url(#clip270)\" d=\"M201.05 1532.02 L230.726 1532.02 L230.726 1535.95 L201.05 1535.95 L201.05 1532.02 Z\" fill=\"#000000\" fill-rule=\"evenodd\" fill-opacity=\"1\" /><path clip-path=\"url(#clip270)\" d=\"M241.628 1544.91 L249.267 1544.91 L249.267 1518.55 L240.957 1520.21 L240.957 1515.95 L249.221 1514.29 L253.897 1514.29 L253.897 1544.91 L261.536 1544.91 L261.536 1548.85 L241.628 1548.85 L241.628 1544.91 Z\" fill=\"#000000\" fill-rule=\"evenodd\" fill-opacity=\"1\" /><path clip-path=\"url(#clip270)\" d=\"M270.98 1542.97 L275.864 1542.97 L275.864 1548.85 L270.98 1548.85 L270.98 1542.97 Z\" fill=\"#000000\" fill-rule=\"evenodd\" fill-opacity=\"1\" /><path clip-path=\"url(#clip270)\" d=\"M296.049 1517.37 Q292.438 1517.37 290.61 1520.93 Q288.804 1524.47 288.804 1531.6 Q288.804 1538.71 290.61 1542.27 Q292.438 1545.82 296.049 1545.82 Q299.684 1545.82 301.489 1542.27 Q303.318 1538.71 303.318 1531.6 Q303.318 1524.47 301.489 1520.93 Q299.684 1517.37 296.049 1517.37 M296.049 1513.66 Q301.86 1513.66 304.915 1518.27 Q307.994 1522.85 307.994 1531.6 Q307.994 1540.33 304.915 1544.94 Q301.86 1549.52 296.049 1549.52 Q290.239 1549.52 287.161 1544.94 Q284.105 1540.33 284.105 1531.6 Q284.105 1522.85 287.161 1518.27 Q290.239 1513.66 296.049 1513.66 Z\" fill=\"#000000\" fill-rule=\"evenodd\" fill-opacity=\"1\" /><path clip-path=\"url(#clip270)\" d=\"M710.831 1532.02 L740.507 1532.02 L740.507 1535.95 L710.831 1535.95 L710.831 1532.02 Z\" fill=\"#000000\" fill-rule=\"evenodd\" fill-opacity=\"1\" /><path clip-path=\"url(#clip270)\" d=\"M760.6 1517.37 Q756.989 1517.37 755.16 1520.93 Q753.354 1524.47 753.354 1531.6 Q753.354 1538.71 755.16 1542.27 Q756.989 1545.82 760.6 1545.82 Q764.234 1545.82 766.039 1542.27 Q767.868 1538.71 767.868 1531.6 Q767.868 1524.47 766.039 1520.93 Q764.234 1517.37 760.6 1517.37 M760.6 1513.66 Q766.41 1513.66 769.465 1518.27 Q772.544 1522.85 772.544 1531.6 Q772.544 1540.33 769.465 1544.94 Q766.41 1549.52 760.6 1549.52 Q754.79 1549.52 751.711 1544.94 Q748.655 1540.33 748.655 1531.6 Q748.655 1522.85 751.711 1518.27 Q754.79 1513.66 760.6 1513.66 Z\" fill=\"#000000\" fill-rule=\"evenodd\" fill-opacity=\"1\" /><path clip-path=\"url(#clip270)\" d=\"M780.762 1542.97 L785.646 1542.97 L785.646 1548.85 L780.762 1548.85 L780.762 1542.97 Z\" fill=\"#000000\" fill-rule=\"evenodd\" fill-opacity=\"1\" /><path clip-path=\"url(#clip270)\" d=\"M795.877 1514.29 L814.234 1514.29 L814.234 1518.22 L800.16 1518.22 L800.16 1526.7 Q801.178 1526.35 802.197 1526.19 Q803.215 1526 804.234 1526 Q810.021 1526 813.4 1529.17 Q816.78 1532.34 816.78 1537.76 Q816.78 1543.34 813.308 1546.44 Q809.836 1549.52 803.516 1549.52 Q801.34 1549.52 799.072 1549.15 Q796.826 1548.78 794.419 1548.04 L794.419 1543.34 Q796.502 1544.47 798.725 1545.03 Q800.947 1545.58 803.424 1545.58 Q807.428 1545.58 809.766 1543.48 Q812.104 1541.37 812.104 1537.76 Q812.104 1534.15 809.766 1532.04 Q807.428 1529.94 803.424 1529.94 Q801.549 1529.94 799.674 1530.35 Q797.822 1530.77 795.877 1531.65 L795.877 1514.29 Z\" fill=\"#000000\" fill-rule=\"evenodd\" fill-opacity=\"1\" /><path clip-path=\"url(#clip270)\" d=\"M1250.47 1517.37 Q1246.86 1517.37 1245.03 1520.93 Q1243.23 1524.47 1243.23 1531.6 Q1243.23 1538.71 1245.03 1542.27 Q1246.86 1545.82 1250.47 1545.82 Q1254.11 1545.82 1255.91 1542.27 Q1257.74 1538.71 1257.74 1531.6 Q1257.74 1524.47 1255.91 1520.93 Q1254.11 1517.37 1250.47 1517.37 M1250.47 1513.66 Q1256.28 1513.66 1259.34 1518.27 Q1262.42 1522.85 1262.42 1531.6 Q1262.42 1540.33 1259.34 1544.94 Q1256.28 1549.52 1250.47 1549.52 Q1244.66 1549.52 1241.59 1544.94 Q1238.53 1540.33 1238.53 1531.6 Q1238.53 1522.85 1241.59 1518.27 Q1244.66 1513.66 1250.47 1513.66 Z\" fill=\"#000000\" fill-rule=\"evenodd\" fill-opacity=\"1\" /><path clip-path=\"url(#clip270)\" d=\"M1270.64 1542.97 L1275.52 1542.97 L1275.52 1548.85 L1270.64 1548.85 L1270.64 1542.97 Z\" fill=\"#000000\" fill-rule=\"evenodd\" fill-opacity=\"1\" /><path clip-path=\"url(#clip270)\" d=\"M1295.71 1517.37 Q1292.09 1517.37 1290.27 1520.93 Q1288.46 1524.47 1288.46 1531.6 Q1288.46 1538.71 1290.27 1542.27 Q1292.09 1545.82 1295.71 1545.82 Q1299.34 1545.82 1301.14 1542.27 Q1302.97 1538.71 1302.97 1531.6 Q1302.97 1524.47 1301.14 1520.93 Q1299.34 1517.37 1295.71 1517.37 M1295.71 1513.66 Q1301.52 1513.66 1304.57 1518.27 Q1307.65 1522.85 1307.65 1531.6 Q1307.65 1540.33 1304.57 1544.94 Q1301.52 1549.52 1295.71 1549.52 Q1289.9 1549.52 1286.82 1544.94 Q1283.76 1540.33 1283.76 1531.6 Q1283.76 1522.85 1286.82 1518.27 Q1289.9 1513.66 1295.71 1513.66 Z\" fill=\"#000000\" fill-rule=\"evenodd\" fill-opacity=\"1\" /><path clip-path=\"url(#clip270)\" d=\"M1760.26 1517.37 Q1756.64 1517.37 1754.82 1520.93 Q1753.01 1524.47 1753.01 1531.6 Q1753.01 1538.71 1754.82 1542.27 Q1756.64 1545.82 1760.26 1545.82 Q1763.89 1545.82 1765.7 1542.27 Q1767.52 1538.71 1767.52 1531.6 Q1767.52 1524.47 1765.7 1520.93 Q1763.89 1517.37 1760.26 1517.37 M1760.26 1513.66 Q1766.07 1513.66 1769.12 1518.27 Q1772.2 1522.85 1772.2 1531.6 Q1772.2 1540.33 1769.12 1544.94 Q1766.07 1549.52 1760.26 1549.52 Q1754.45 1549.52 1751.37 1544.94 Q1748.31 1540.33 1748.31 1531.6 Q1748.31 1522.85 1751.37 1518.27 Q1754.45 1513.66 1760.26 1513.66 Z\" fill=\"#000000\" fill-rule=\"evenodd\" fill-opacity=\"1\" /><path clip-path=\"url(#clip270)\" d=\"M1780.42 1542.97 L1785.3 1542.97 L1785.3 1548.85 L1780.42 1548.85 L1780.42 1542.97 Z\" fill=\"#000000\" fill-rule=\"evenodd\" fill-opacity=\"1\" /><path clip-path=\"url(#clip270)\" d=\"M1795.53 1514.29 L1813.89 1514.29 L1813.89 1518.22 L1799.82 1518.22 L1799.82 1526.7 Q1800.83 1526.35 1801.85 1526.19 Q1802.87 1526 1803.89 1526 Q1809.68 1526 1813.06 1529.17 Q1816.44 1532.34 1816.44 1537.76 Q1816.44 1543.34 1812.96 1546.44 Q1809.49 1549.52 1803.17 1549.52 Q1801 1549.52 1798.73 1549.15 Q1796.48 1548.78 1794.07 1548.04 L1794.07 1543.34 Q1796.16 1544.47 1798.38 1545.03 Q1800.6 1545.58 1803.08 1545.58 Q1807.08 1545.58 1809.42 1543.48 Q1811.76 1541.37 1811.76 1537.76 Q1811.76 1534.15 1809.42 1532.04 Q1807.08 1529.94 1803.08 1529.94 Q1801.2 1529.94 1799.33 1530.35 Q1797.48 1530.77 1795.53 1531.65 L1795.53 1514.29 Z\" fill=\"#000000\" fill-rule=\"evenodd\" fill-opacity=\"1\" /><path clip-path=\"url(#clip270)\" d=\"M2258.81 1544.91 L2266.45 1544.91 L2266.45 1518.55 L2258.14 1520.21 L2258.14 1515.95 L2266.4 1514.29 L2271.08 1514.29 L2271.08 1544.91 L2278.72 1544.91 L2278.72 1548.85 L2258.81 1548.85 L2258.81 1544.91 Z\" fill=\"#000000\" fill-rule=\"evenodd\" fill-opacity=\"1\" /><path clip-path=\"url(#clip270)\" d=\"M2288.16 1542.97 L2293.05 1542.97 L2293.05 1548.85 L2288.16 1548.85 L2288.16 1542.97 Z\" fill=\"#000000\" fill-rule=\"evenodd\" fill-opacity=\"1\" /><path clip-path=\"url(#clip270)\" d=\"M2313.23 1517.37 Q2309.62 1517.37 2307.79 1520.93 Q2305.99 1524.47 2305.99 1531.6 Q2305.99 1538.71 2307.79 1542.27 Q2309.62 1545.82 2313.23 1545.82 Q2316.87 1545.82 2318.67 1542.27 Q2320.5 1538.71 2320.5 1531.6 Q2320.5 1524.47 2318.67 1520.93 Q2316.87 1517.37 2313.23 1517.37 M2313.23 1513.66 Q2319.04 1513.66 2322.1 1518.27 Q2325.18 1522.85 2325.18 1531.6 Q2325.18 1540.33 2322.1 1544.94 Q2319.04 1549.52 2313.23 1549.52 Q2307.42 1549.52 2304.34 1544.94 Q2301.29 1540.33 2301.29 1531.6 Q2301.29 1522.85 2304.34 1518.27 Q2307.42 1513.66 2313.23 1513.66 Z\" fill=\"#000000\" fill-rule=\"evenodd\" fill-opacity=\"1\" /><polyline clip-path=\"url(#clip272)\" style=\"stroke:#000000; stroke-linecap:butt; stroke-linejoin:round; stroke-width:2; stroke-opacity:0.1; fill:none\" points=\"\n",
       "  193.936,1445.8 2352.76,1445.8 \n",
       "  \"/>\n",
       "<polyline clip-path=\"url(#clip272)\" style=\"stroke:#000000; stroke-linecap:butt; stroke-linejoin:round; stroke-width:2; stroke-opacity:0.1; fill:none\" points=\"\n",
       "  193.936,1106.32 2352.76,1106.32 \n",
       "  \"/>\n",
       "<polyline clip-path=\"url(#clip272)\" style=\"stroke:#000000; stroke-linecap:butt; stroke-linejoin:round; stroke-width:2; stroke-opacity:0.1; fill:none\" points=\"\n",
       "  193.936,766.846 2352.76,766.846 \n",
       "  \"/>\n",
       "<polyline clip-path=\"url(#clip272)\" style=\"stroke:#000000; stroke-linecap:butt; stroke-linejoin:round; stroke-width:2; stroke-opacity:0.1; fill:none\" points=\"\n",
       "  193.936,427.368 2352.76,427.368 \n",
       "  \"/>\n",
       "<polyline clip-path=\"url(#clip272)\" style=\"stroke:#000000; stroke-linecap:butt; stroke-linejoin:round; stroke-width:2; stroke-opacity:0.1; fill:none\" points=\"\n",
       "  193.936,87.8908 2352.76,87.8908 \n",
       "  \"/>\n",
       "<polyline clip-path=\"url(#clip270)\" style=\"stroke:#000000; stroke-linecap:butt; stroke-linejoin:round; stroke-width:4; stroke-opacity:1; fill:none\" points=\"\n",
       "  193.936,1486.45 193.936,47.2441 \n",
       "  \"/>\n",
       "<polyline clip-path=\"url(#clip270)\" style=\"stroke:#000000; stroke-linecap:butt; stroke-linejoin:round; stroke-width:4; stroke-opacity:1; fill:none\" points=\"\n",
       "  193.936,1445.8 212.834,1445.8 \n",
       "  \"/>\n",
       "<polyline clip-path=\"url(#clip270)\" style=\"stroke:#000000; stroke-linecap:butt; stroke-linejoin:round; stroke-width:4; stroke-opacity:1; fill:none\" points=\"\n",
       "  193.936,1106.32 212.834,1106.32 \n",
       "  \"/>\n",
       "<polyline clip-path=\"url(#clip270)\" style=\"stroke:#000000; stroke-linecap:butt; stroke-linejoin:round; stroke-width:4; stroke-opacity:1; fill:none\" points=\"\n",
       "  193.936,766.846 212.834,766.846 \n",
       "  \"/>\n",
       "<polyline clip-path=\"url(#clip270)\" style=\"stroke:#000000; stroke-linecap:butt; stroke-linejoin:round; stroke-width:4; stroke-opacity:1; fill:none\" points=\"\n",
       "  193.936,427.368 212.834,427.368 \n",
       "  \"/>\n",
       "<polyline clip-path=\"url(#clip270)\" style=\"stroke:#000000; stroke-linecap:butt; stroke-linejoin:round; stroke-width:4; stroke-opacity:1; fill:none\" points=\"\n",
       "  193.936,87.8908 212.834,87.8908 \n",
       "  \"/>\n",
       "<path clip-path=\"url(#clip270)\" d=\"M50.9921 1446.25 L80.6679 1446.25 L80.6679 1450.19 L50.9921 1450.19 L50.9921 1446.25 Z\" fill=\"#000000\" fill-rule=\"evenodd\" fill-opacity=\"1\" /><path clip-path=\"url(#clip270)\" d=\"M91.5706 1459.15 L99.2095 1459.15 L99.2095 1432.78 L90.8993 1434.45 L90.8993 1430.19 L99.1632 1428.52 L103.839 1428.52 L103.839 1459.15 L111.478 1459.15 L111.478 1463.08 L91.5706 1463.08 L91.5706 1459.15 Z\" fill=\"#000000\" fill-rule=\"evenodd\" fill-opacity=\"1\" /><path clip-path=\"url(#clip270)\" d=\"M120.922 1457.2 L125.807 1457.2 L125.807 1463.08 L120.922 1463.08 L120.922 1457.2 Z\" fill=\"#000000\" fill-rule=\"evenodd\" fill-opacity=\"1\" /><path clip-path=\"url(#clip270)\" d=\"M145.992 1431.6 Q142.381 1431.6 140.552 1435.16 Q138.746 1438.71 138.746 1445.84 Q138.746 1452.94 140.552 1456.51 Q142.381 1460.05 145.992 1460.05 Q149.626 1460.05 151.431 1456.51 Q153.26 1452.94 153.26 1445.84 Q153.26 1438.71 151.431 1435.16 Q149.626 1431.6 145.992 1431.6 M145.992 1427.9 Q151.802 1427.9 154.857 1432.5 Q157.936 1437.09 157.936 1445.84 Q157.936 1454.56 154.857 1459.17 Q151.802 1463.75 145.992 1463.75 Q140.181 1463.75 137.103 1459.17 Q134.047 1454.56 134.047 1445.84 Q134.047 1437.09 137.103 1432.5 Q140.181 1427.9 145.992 1427.9 Z\" fill=\"#000000\" fill-rule=\"evenodd\" fill-opacity=\"1\" /><path clip-path=\"url(#clip270)\" d=\"M51.9875 1106.77 L81.6633 1106.77 L81.6633 1110.71 L51.9875 1110.71 L51.9875 1106.77 Z\" fill=\"#000000\" fill-rule=\"evenodd\" fill-opacity=\"1\" /><path clip-path=\"url(#clip270)\" d=\"M101.756 1092.12 Q98.1447 1092.12 96.316 1095.69 Q94.5104 1099.23 94.5104 1106.36 Q94.5104 1113.46 96.316 1117.03 Q98.1447 1120.57 101.756 1120.57 Q105.39 1120.57 107.196 1117.03 Q109.024 1113.46 109.024 1106.36 Q109.024 1099.23 107.196 1095.69 Q105.39 1092.12 101.756 1092.12 M101.756 1088.42 Q107.566 1088.42 110.621 1093.03 Q113.7 1097.61 113.7 1106.36 Q113.7 1115.09 110.621 1119.69 Q107.566 1124.27 101.756 1124.27 Q95.9456 1124.27 92.8669 1119.69 Q89.8114 1115.09 89.8114 1106.36 Q89.8114 1097.61 92.8669 1093.03 Q95.9456 1088.42 101.756 1088.42 Z\" fill=\"#000000\" fill-rule=\"evenodd\" fill-opacity=\"1\" /><path clip-path=\"url(#clip270)\" d=\"M121.918 1117.72 L126.802 1117.72 L126.802 1123.6 L121.918 1123.6 L121.918 1117.72 Z\" fill=\"#000000\" fill-rule=\"evenodd\" fill-opacity=\"1\" /><path clip-path=\"url(#clip270)\" d=\"M137.033 1089.04 L155.39 1089.04 L155.39 1092.98 L141.316 1092.98 L141.316 1101.45 Q142.334 1101.1 143.353 1100.94 Q144.371 1100.76 145.39 1100.76 Q151.177 1100.76 154.556 1103.93 Q157.936 1107.1 157.936 1112.52 Q157.936 1118.09 154.464 1121.2 Q150.992 1124.27 144.672 1124.27 Q142.496 1124.27 140.228 1123.9 Q137.982 1123.53 135.575 1122.79 L135.575 1118.09 Q137.658 1119.23 139.881 1119.78 Q142.103 1120.34 144.58 1120.34 Q148.584 1120.34 150.922 1118.23 Q153.26 1116.13 153.26 1112.52 Q153.26 1108.9 150.922 1106.8 Q148.584 1104.69 144.58 1104.69 Q142.705 1104.69 140.83 1105.11 Q138.978 1105.52 137.033 1106.4 L137.033 1089.04 Z\" fill=\"#000000\" fill-rule=\"evenodd\" fill-opacity=\"1\" /><path clip-path=\"url(#clip270)\" d=\"M100.76 752.645 Q97.1493 752.645 95.3206 756.209 Q93.515 759.751 93.515 766.881 Q93.515 773.987 95.3206 777.552 Q97.1493 781.094 100.76 781.094 Q104.395 781.094 106.2 777.552 Q108.029 773.987 108.029 766.881 Q108.029 759.751 106.2 756.209 Q104.395 752.645 100.76 752.645 M100.76 748.941 Q106.571 748.941 109.626 753.547 Q112.705 758.131 112.705 766.881 Q112.705 775.608 109.626 780.214 Q106.571 784.797 100.76 784.797 Q94.9502 784.797 91.8715 780.214 Q88.816 775.608 88.816 766.881 Q88.816 758.131 91.8715 753.547 Q94.9502 748.941 100.76 748.941 Z\" fill=\"#000000\" fill-rule=\"evenodd\" fill-opacity=\"1\" /><path clip-path=\"url(#clip270)\" d=\"M120.922 778.246 L125.807 778.246 L125.807 784.126 L120.922 784.126 L120.922 778.246 Z\" fill=\"#000000\" fill-rule=\"evenodd\" fill-opacity=\"1\" /><path clip-path=\"url(#clip270)\" d=\"M145.992 752.645 Q142.381 752.645 140.552 756.209 Q138.746 759.751 138.746 766.881 Q138.746 773.987 140.552 777.552 Q142.381 781.094 145.992 781.094 Q149.626 781.094 151.431 777.552 Q153.26 773.987 153.26 766.881 Q153.26 759.751 151.431 756.209 Q149.626 752.645 145.992 752.645 M145.992 748.941 Q151.802 748.941 154.857 753.547 Q157.936 758.131 157.936 766.881 Q157.936 775.608 154.857 780.214 Q151.802 784.797 145.992 784.797 Q140.181 784.797 137.103 780.214 Q134.047 775.608 134.047 766.881 Q134.047 758.131 137.103 753.547 Q140.181 748.941 145.992 748.941 Z\" fill=\"#000000\" fill-rule=\"evenodd\" fill-opacity=\"1\" /><path clip-path=\"url(#clip270)\" d=\"M101.756 413.167 Q98.1447 413.167 96.316 416.732 Q94.5104 420.274 94.5104 427.403 Q94.5104 434.51 96.316 438.074 Q98.1447 441.616 101.756 441.616 Q105.39 441.616 107.196 438.074 Q109.024 434.51 109.024 427.403 Q109.024 420.274 107.196 416.732 Q105.39 413.167 101.756 413.167 M101.756 409.463 Q107.566 409.463 110.621 414.07 Q113.7 418.653 113.7 427.403 Q113.7 436.13 110.621 440.736 Q107.566 445.32 101.756 445.32 Q95.9456 445.32 92.8669 440.736 Q89.8114 436.13 89.8114 427.403 Q89.8114 418.653 92.8669 414.07 Q95.9456 409.463 101.756 409.463 Z\" fill=\"#000000\" fill-rule=\"evenodd\" fill-opacity=\"1\" /><path clip-path=\"url(#clip270)\" d=\"M121.918 438.769 L126.802 438.769 L126.802 444.648 L121.918 444.648 L121.918 438.769 Z\" fill=\"#000000\" fill-rule=\"evenodd\" fill-opacity=\"1\" /><path clip-path=\"url(#clip270)\" d=\"M137.033 410.088 L155.39 410.088 L155.39 414.024 L141.316 414.024 L141.316 422.496 Q142.334 422.149 143.353 421.986 Q144.371 421.801 145.39 421.801 Q151.177 421.801 154.556 424.973 Q157.936 428.144 157.936 433.56 Q157.936 439.139 154.464 442.241 Q150.992 445.32 144.672 445.32 Q142.496 445.32 140.228 444.949 Q137.982 444.579 135.575 443.838 L135.575 439.139 Q137.658 440.273 139.881 440.829 Q142.103 441.385 144.58 441.385 Q148.584 441.385 150.922 439.278 Q153.26 437.172 153.26 433.56 Q153.26 429.949 150.922 427.843 Q148.584 425.736 144.58 425.736 Q142.705 425.736 140.83 426.153 Q138.978 426.57 137.033 427.449 L137.033 410.088 Z\" fill=\"#000000\" fill-rule=\"evenodd\" fill-opacity=\"1\" /><path clip-path=\"url(#clip270)\" d=\"M91.5706 101.236 L99.2095 101.236 L99.2095 74.8701 L90.8993 76.5367 L90.8993 72.2775 L99.1632 70.6108 L103.839 70.6108 L103.839 101.236 L111.478 101.236 L111.478 105.171 L91.5706 105.171 L91.5706 101.236 Z\" fill=\"#000000\" fill-rule=\"evenodd\" fill-opacity=\"1\" /><path clip-path=\"url(#clip270)\" d=\"M120.922 99.2912 L125.807 99.2912 L125.807 105.171 L120.922 105.171 L120.922 99.2912 Z\" fill=\"#000000\" fill-rule=\"evenodd\" fill-opacity=\"1\" /><path clip-path=\"url(#clip270)\" d=\"M145.992 73.6895 Q142.381 73.6895 140.552 77.2543 Q138.746 80.7959 138.746 87.9255 Q138.746 95.032 140.552 98.5968 Q142.381 102.138 145.992 102.138 Q149.626 102.138 151.431 98.5968 Q153.26 95.032 153.26 87.9255 Q153.26 80.7959 151.431 77.2543 Q149.626 73.6895 145.992 73.6895 M145.992 69.9858 Q151.802 69.9858 154.857 74.5923 Q157.936 79.1756 157.936 87.9255 Q157.936 96.6523 154.857 101.259 Q151.802 105.842 145.992 105.842 Q140.181 105.842 137.103 101.259 Q134.047 96.6523 134.047 87.9255 Q134.047 79.1756 137.103 74.5923 Q140.181 69.9858 145.992 69.9858 Z\" fill=\"#000000\" fill-rule=\"evenodd\" fill-opacity=\"1\" /><circle clip-path=\"url(#clip272)\" cx=\"1993.33\" cy=\"286.752\" r=\"14\" fill=\"#009af9\" fill-rule=\"evenodd\" fill-opacity=\"1\" stroke=\"#000000\" stroke-opacity=\"1\" stroke-width=\"3.2\"/>\n",
       "<circle clip-path=\"url(#clip272)\" cx=\"1056.18\" cy=\"103.465\" r=\"14\" fill=\"#e26f46\" fill-rule=\"evenodd\" fill-opacity=\"1\" stroke=\"#000000\" stroke-opacity=\"1\" stroke-width=\"3.2\"/>\n",
       "<polyline clip-path=\"url(#clip272)\" style=\"stroke:#3da44d; stroke-linecap:butt; stroke-linejoin:round; stroke-width:4; stroke-opacity:1; fill:none\" points=\"\n",
       "  2291.66,766.846 2289.61,723.784 2283.46,680.895 2273.25,638.353 2259.01,596.328 2240.8,554.989 2218.7,514.504 2192.78,475.035 2163.16,436.74 2129.96,399.775 \n",
       "  2093.31,364.288 2053.36,330.422 2010.26,298.313 1964.2,268.091 1915.35,239.877 1863.92,213.785 1810.1,189.921 1754.13,168.379 1696.22,149.247 1636.6,132.601 \n",
       "  1575.52,118.51 1513.23,107.029 1449.96,98.2057 1385.99,92.0742 1321.55,88.6598 1256.93,87.9763 1192.37,90.0263 1128.13,94.8016 1064.48,102.283 1001.67,112.44 \n",
       "  939.949,125.233 879.571,140.609 820.778,158.506 763.806,178.854 708.884,201.568 656.235,226.559 606.07,253.726 558.59,282.959 513.987,314.14 472.441,347.144 \n",
       "  434.119,381.838 399.175,418.082 367.75,455.731 339.971,494.632 315.949,534.63 295.781,575.562 279.548,617.265 267.316,659.57 259.134,702.307 255.035,745.304 \n",
       "  255.035,788.388 259.134,831.385 267.316,874.122 279.548,916.427 295.781,958.13 315.949,999.062 339.971,1039.06 367.75,1077.96 399.175,1115.61 434.119,1151.85 \n",
       "  472.441,1186.55 513.987,1219.55 558.59,1250.73 606.07,1279.97 656.235,1307.13 708.884,1332.12 763.806,1354.84 820.778,1375.19 879.571,1393.08 939.949,1408.46 \n",
       "  1001.67,1421.25 1064.48,1431.41 1128.13,1438.89 1192.37,1443.67 1256.93,1445.72 1321.55,1445.03 1385.99,1441.62 1449.96,1435.49 1513.23,1426.66 1575.52,1415.18 \n",
       "  1636.6,1401.09 1696.22,1384.45 1754.13,1365.31 1810.1,1343.77 1863.92,1319.91 1915.35,1293.81 1964.2,1265.6 2010.26,1235.38 2053.36,1203.27 2093.31,1169.4 \n",
       "  2129.96,1133.92 2163.16,1096.95 2192.78,1058.66 2218.7,1019.19 2240.8,978.703 2259.01,937.364 2273.25,895.339 2283.46,852.797 2289.61,809.908 2291.66,766.846 \n",
       "  \n",
       "  \"/>\n",
       "<path clip-path=\"url(#clip270)\" d=\"\n",
       "M265.897 1438.47 L815.185 1438.47 L815.185 1231.11 L265.897 1231.11  Z\n",
       "  \" fill=\"#ffffff\" fill-rule=\"evenodd\" fill-opacity=\"1\"/>\n",
       "<polyline clip-path=\"url(#clip270)\" style=\"stroke:#000000; stroke-linecap:butt; stroke-linejoin:round; stroke-width:4; stroke-opacity:1; fill:none\" points=\"\n",
       "  265.897,1438.47 815.185,1438.47 815.185,1231.11 265.897,1231.11 265.897,1438.47 \n",
       "  \"/>\n",
       "<circle clip-path=\"url(#clip270)\" cx=\"361.844\" cy=\"1282.95\" r=\"23\" fill=\"#009af9\" fill-rule=\"evenodd\" fill-opacity=\"1\" stroke=\"#000000\" stroke-opacity=\"1\" stroke-width=\"5.12\"/>\n",
       "<path clip-path=\"url(#clip270)\" d=\"M469.69 1277.29 Q466.264 1277.29 464.273 1279.98 Q462.282 1282.64 462.282 1287.29 Q462.282 1291.95 464.25 1294.63 Q466.241 1297.29 469.69 1297.29 Q473.093 1297.29 475.083 1294.61 Q477.074 1291.92 477.074 1287.29 Q477.074 1282.69 475.083 1280 Q473.093 1277.29 469.69 1277.29 M469.69 1273.68 Q475.245 1273.68 478.417 1277.29 Q481.588 1280.91 481.588 1287.29 Q481.588 1293.66 478.417 1297.29 Q475.245 1300.91 469.69 1300.91 Q464.111 1300.91 460.94 1297.29 Q457.792 1293.66 457.792 1287.29 Q457.792 1280.91 460.94 1277.29 Q464.111 1273.68 469.69 1273.68 Z\" fill=\"#000000\" fill-rule=\"evenodd\" fill-opacity=\"1\" /><path clip-path=\"url(#clip270)\" d=\"M503.671 1278.29 Q502.954 1277.87 502.097 1277.69 Q501.264 1277.48 500.245 1277.48 Q496.634 1277.48 494.69 1279.84 Q492.768 1282.18 492.768 1286.58 L492.768 1300.23 L488.486 1300.23 L488.486 1274.31 L492.768 1274.31 L492.768 1278.34 Q494.111 1275.98 496.264 1274.84 Q498.417 1273.68 501.495 1273.68 Q501.935 1273.68 502.467 1273.75 Q503 1273.8 503.648 1273.92 L503.671 1278.29 Z\" fill=\"#000000\" fill-rule=\"evenodd\" fill-opacity=\"1\" /><path clip-path=\"url(#clip270)\" d=\"M508.139 1274.31 L512.398 1274.31 L512.398 1300.23 L508.139 1300.23 L508.139 1274.31 M508.139 1264.22 L512.398 1264.22 L512.398 1269.61 L508.139 1269.61 L508.139 1264.22 Z\" fill=\"#000000\" fill-rule=\"evenodd\" fill-opacity=\"1\" /><path clip-path=\"url(#clip270)\" d=\"M538.37 1286.97 Q538.37 1282.34 536.449 1279.79 Q534.551 1277.25 531.102 1277.25 Q527.676 1277.25 525.754 1279.79 Q523.856 1282.34 523.856 1286.97 Q523.856 1291.58 525.754 1294.12 Q527.676 1296.67 531.102 1296.67 Q534.551 1296.67 536.449 1294.12 Q538.37 1291.58 538.37 1286.97 M542.629 1297.02 Q542.629 1303.64 539.689 1306.85 Q536.75 1310.1 530.685 1310.1 Q528.44 1310.1 526.449 1309.75 Q524.458 1309.42 522.583 1308.73 L522.583 1304.59 Q524.458 1305.6 526.287 1306.09 Q528.115 1306.58 530.014 1306.58 Q534.203 1306.58 536.287 1304.38 Q538.37 1302.2 538.37 1297.78 L538.37 1295.67 Q537.051 1297.97 534.99 1299.1 Q532.93 1300.23 530.06 1300.23 Q525.291 1300.23 522.375 1296.6 Q519.458 1292.97 519.458 1286.97 Q519.458 1280.95 522.375 1277.32 Q525.291 1273.68 530.06 1273.68 Q532.93 1273.68 534.99 1274.82 Q537.051 1275.95 538.37 1278.24 L538.37 1274.31 L542.629 1274.31 L542.629 1297.02 Z\" fill=\"#000000\" fill-rule=\"evenodd\" fill-opacity=\"1\" /><path clip-path=\"url(#clip270)\" d=\"M551.402 1274.31 L555.662 1274.31 L555.662 1300.23 L551.402 1300.23 L551.402 1274.31 M551.402 1264.22 L555.662 1264.22 L555.662 1269.61 L551.402 1269.61 L551.402 1264.22 Z\" fill=\"#000000\" fill-rule=\"evenodd\" fill-opacity=\"1\" /><path clip-path=\"url(#clip270)\" d=\"M586.124 1284.59 L586.124 1300.23 L581.865 1300.23 L581.865 1284.73 Q581.865 1281.04 580.43 1279.22 Q578.995 1277.39 576.124 1277.39 Q572.675 1277.39 570.685 1279.59 Q568.694 1281.79 568.694 1285.58 L568.694 1300.23 L564.412 1300.23 L564.412 1274.31 L568.694 1274.31 L568.694 1278.34 Q570.222 1276 572.282 1274.84 Q574.365 1273.68 577.074 1273.68 Q581.541 1273.68 583.833 1276.46 Q586.124 1279.22 586.124 1284.59 Z\" fill=\"#000000\" fill-rule=\"evenodd\" fill-opacity=\"1\" /><path clip-path=\"url(#clip270)\" d=\"M606.402 1287.2 Q601.24 1287.2 599.249 1288.38 Q597.259 1289.56 597.259 1292.41 Q597.259 1294.68 598.74 1296.02 Q600.245 1297.34 602.814 1297.34 Q606.356 1297.34 608.485 1294.84 Q610.638 1292.32 610.638 1288.15 L610.638 1287.2 L606.402 1287.2 M614.897 1285.44 L614.897 1300.23 L610.638 1300.23 L610.638 1296.3 Q609.18 1298.66 607.004 1299.79 Q604.828 1300.91 601.68 1300.91 Q597.698 1300.91 595.337 1298.68 Q592.999 1296.44 592.999 1292.69 Q592.999 1288.31 595.916 1286.09 Q598.856 1283.87 604.666 1283.87 L610.638 1283.87 L610.638 1283.45 Q610.638 1280.51 608.694 1278.92 Q606.772 1277.29 603.277 1277.29 Q601.055 1277.29 598.948 1277.83 Q596.842 1278.36 594.898 1279.42 L594.898 1275.49 Q597.235 1274.59 599.435 1274.15 Q601.634 1273.68 603.717 1273.68 Q609.342 1273.68 612.12 1276.6 Q614.897 1279.52 614.897 1285.44 Z\" fill=\"#000000\" fill-rule=\"evenodd\" fill-opacity=\"1\" /><path clip-path=\"url(#clip270)\" d=\"M623.671 1264.22 L627.93 1264.22 L627.93 1300.23 L623.671 1300.23 L623.671 1264.22 Z\" fill=\"#000000\" fill-rule=\"evenodd\" fill-opacity=\"1\" /><path clip-path=\"url(#clip270)\" d=\"M656.031 1296.35 L656.031 1310.1 L651.749 1310.1 L651.749 1274.31 L656.031 1274.31 L656.031 1278.24 Q657.374 1275.93 659.411 1274.82 Q661.471 1273.68 664.318 1273.68 Q669.041 1273.68 671.98 1277.43 Q674.943 1281.18 674.943 1287.29 Q674.943 1293.41 671.98 1297.16 Q669.041 1300.91 664.318 1300.91 Q661.471 1300.91 659.411 1299.79 Q657.374 1298.66 656.031 1296.35 M670.522 1287.29 Q670.522 1282.6 668.578 1279.93 Q666.656 1277.25 663.277 1277.25 Q659.897 1277.25 657.953 1279.93 Q656.031 1282.6 656.031 1287.29 Q656.031 1291.99 657.953 1294.68 Q659.897 1297.34 663.277 1297.34 Q666.656 1297.34 668.578 1294.68 Q670.522 1291.99 670.522 1287.29 Z\" fill=\"#000000\" fill-rule=\"evenodd\" fill-opacity=\"1\" /><path clip-path=\"url(#clip270)\" d=\"M692.05 1277.29 Q688.624 1277.29 686.633 1279.98 Q684.642 1282.64 684.642 1287.29 Q684.642 1291.95 686.61 1294.63 Q688.601 1297.29 692.05 1297.29 Q695.453 1297.29 697.443 1294.61 Q699.434 1291.92 699.434 1287.29 Q699.434 1282.69 697.443 1280 Q695.453 1277.29 692.05 1277.29 M692.05 1273.68 Q697.605 1273.68 700.777 1277.29 Q703.948 1280.91 703.948 1287.29 Q703.948 1293.66 700.777 1297.29 Q697.605 1300.91 692.05 1300.91 Q686.471 1300.91 683.3 1297.29 Q680.152 1293.66 680.152 1287.29 Q680.152 1280.91 683.3 1277.29 Q686.471 1273.68 692.05 1273.68 Z\" fill=\"#000000\" fill-rule=\"evenodd\" fill-opacity=\"1\" /><path clip-path=\"url(#clip270)\" d=\"M711.008 1274.31 L715.267 1274.31 L715.267 1300.23 L711.008 1300.23 L711.008 1274.31 M711.008 1264.22 L715.267 1264.22 L715.267 1269.61 L711.008 1269.61 L711.008 1264.22 Z\" fill=\"#000000\" fill-rule=\"evenodd\" fill-opacity=\"1\" /><path clip-path=\"url(#clip270)\" d=\"M745.73 1284.59 L745.73 1300.23 L741.471 1300.23 L741.471 1284.73 Q741.471 1281.04 740.036 1279.22 Q738.6 1277.39 735.73 1277.39 Q732.281 1277.39 730.29 1279.59 Q728.3 1281.79 728.3 1285.58 L728.3 1300.23 L724.017 1300.23 L724.017 1274.31 L728.3 1274.31 L728.3 1278.34 Q729.827 1276 731.888 1274.84 Q733.971 1273.68 736.679 1273.68 Q741.147 1273.68 743.438 1276.46 Q745.73 1279.22 745.73 1284.59 Z\" fill=\"#000000\" fill-rule=\"evenodd\" fill-opacity=\"1\" /><path clip-path=\"url(#clip270)\" d=\"M758.438 1266.95 L758.438 1274.31 L767.211 1274.31 L767.211 1277.62 L758.438 1277.62 L758.438 1291.69 Q758.438 1294.86 759.295 1295.77 Q760.174 1296.67 762.836 1296.67 L767.211 1296.67 L767.211 1300.23 L762.836 1300.23 Q757.906 1300.23 756.031 1298.41 Q754.156 1296.55 754.156 1291.69 L754.156 1277.62 L751.031 1277.62 L751.031 1274.31 L754.156 1274.31 L754.156 1266.95 L758.438 1266.95 Z\" fill=\"#000000\" fill-rule=\"evenodd\" fill-opacity=\"1\" /><circle clip-path=\"url(#clip270)\" cx=\"361.844\" cy=\"1334.79\" r=\"23\" fill=\"#e26f46\" fill-rule=\"evenodd\" fill-opacity=\"1\" stroke=\"#000000\" stroke-opacity=\"1\" stroke-width=\"5.12\"/>\n",
       "<path clip-path=\"url(#clip270)\" d=\"M472.977 1330.13 Q472.259 1329.71 471.403 1329.53 Q470.569 1329.32 469.551 1329.32 Q465.94 1329.32 463.995 1331.68 Q462.074 1334.02 462.074 1338.42 L462.074 1352.07 L457.792 1352.07 L457.792 1326.15 L462.074 1326.15 L462.074 1330.18 Q463.417 1327.82 465.57 1326.68 Q467.722 1325.52 470.801 1325.52 Q471.241 1325.52 471.773 1325.59 Q472.306 1325.64 472.954 1325.76 L472.977 1330.13 Z\" fill=\"#000000\" fill-rule=\"evenodd\" fill-opacity=\"1\" /><path clip-path=\"url(#clip270)\" d=\"M486.449 1329.13 Q483.023 1329.13 481.032 1331.82 Q479.042 1334.48 479.042 1339.13 Q479.042 1343.79 481.009 1346.47 Q483 1349.13 486.449 1349.13 Q489.852 1349.13 491.843 1346.45 Q493.833 1343.76 493.833 1339.13 Q493.833 1334.53 491.843 1331.84 Q489.852 1329.13 486.449 1329.13 M486.449 1325.52 Q492.005 1325.52 495.176 1329.13 Q498.347 1332.75 498.347 1339.13 Q498.347 1345.5 495.176 1349.13 Q492.005 1352.75 486.449 1352.75 Q480.87 1352.75 477.699 1349.13 Q474.551 1345.5 474.551 1339.13 Q474.551 1332.75 477.699 1329.13 Q480.87 1325.52 486.449 1325.52 Z\" fill=\"#000000\" fill-rule=\"evenodd\" fill-opacity=\"1\" /><path clip-path=\"url(#clip270)\" d=\"M509.62 1318.79 L509.62 1326.15 L518.393 1326.15 L518.393 1329.46 L509.62 1329.46 L509.62 1343.53 Q509.62 1346.7 510.477 1347.61 Q511.356 1348.51 514.018 1348.51 L518.393 1348.51 L518.393 1352.07 L514.018 1352.07 Q509.088 1352.07 507.213 1350.25 Q505.338 1348.39 505.338 1343.53 L505.338 1329.46 L502.213 1329.46 L502.213 1326.15 L505.338 1326.15 L505.338 1318.79 L509.62 1318.79 Z\" fill=\"#000000\" fill-rule=\"evenodd\" fill-opacity=\"1\" /><path clip-path=\"url(#clip270)\" d=\"M535.777 1339.04 Q530.615 1339.04 528.625 1340.22 Q526.634 1341.4 526.634 1344.25 Q526.634 1346.52 528.115 1347.86 Q529.62 1349.18 532.19 1349.18 Q535.731 1349.18 537.861 1346.68 Q540.014 1344.16 540.014 1339.99 L540.014 1339.04 L535.777 1339.04 M544.273 1337.28 L544.273 1352.07 L540.014 1352.07 L540.014 1348.14 Q538.555 1350.5 536.379 1351.63 Q534.203 1352.75 531.055 1352.75 Q527.074 1352.75 524.713 1350.52 Q522.375 1348.28 522.375 1344.53 Q522.375 1340.15 525.291 1337.93 Q528.231 1335.71 534.041 1335.71 L540.014 1335.71 L540.014 1335.29 Q540.014 1332.35 538.069 1330.76 Q536.148 1329.13 532.652 1329.13 Q530.43 1329.13 528.324 1329.67 Q526.217 1330.2 524.273 1331.26 L524.273 1327.33 Q526.611 1326.43 528.81 1325.99 Q531.009 1325.52 533.092 1325.52 Q538.717 1325.52 541.495 1328.44 Q544.273 1331.36 544.273 1337.28 Z\" fill=\"#000000\" fill-rule=\"evenodd\" fill-opacity=\"1\" /><path clip-path=\"url(#clip270)\" d=\"M557.259 1318.79 L557.259 1326.15 L566.032 1326.15 L566.032 1329.46 L557.259 1329.46 L557.259 1343.53 Q557.259 1346.7 558.115 1347.61 Q558.995 1348.51 561.657 1348.51 L566.032 1348.51 L566.032 1352.07 L561.657 1352.07 Q556.726 1352.07 554.851 1350.25 Q552.976 1348.39 552.976 1343.53 L552.976 1329.46 L549.851 1329.46 L549.851 1326.15 L552.976 1326.15 L552.976 1318.79 L557.259 1318.79 Z\" fill=\"#000000\" fill-rule=\"evenodd\" fill-opacity=\"1\" /><path clip-path=\"url(#clip270)\" d=\"M593.81 1338.05 L593.81 1340.13 L574.226 1340.13 Q574.504 1344.53 576.865 1346.84 Q579.249 1349.13 583.486 1349.13 Q585.939 1349.13 588.231 1348.53 Q590.546 1347.93 592.814 1346.73 L592.814 1350.75 Q590.523 1351.73 588.115 1352.24 Q585.708 1352.75 583.231 1352.75 Q577.027 1352.75 573.393 1349.13 Q569.782 1345.52 569.782 1339.37 Q569.782 1333 573.208 1329.27 Q576.657 1325.52 582.49 1325.52 Q587.722 1325.52 590.754 1328.9 Q593.81 1332.26 593.81 1338.05 M589.55 1336.8 Q589.504 1333.3 587.583 1331.22 Q585.685 1329.13 582.536 1329.13 Q578.972 1329.13 576.819 1331.15 Q574.689 1333.16 574.365 1336.82 L589.55 1336.8 Z\" fill=\"#000000\" fill-rule=\"evenodd\" fill-opacity=\"1\" /><path clip-path=\"url(#clip270)\" d=\"M617.86 1330.08 L617.86 1316.06 L622.12 1316.06 L622.12 1352.07 L617.86 1352.07 L617.86 1348.19 Q616.518 1350.5 614.458 1351.63 Q612.421 1352.75 609.55 1352.75 Q604.851 1352.75 601.888 1349 Q598.948 1345.25 598.948 1339.13 Q598.948 1333.02 601.888 1329.27 Q604.851 1325.52 609.55 1325.52 Q612.421 1325.52 614.458 1326.66 Q616.518 1327.77 617.86 1330.08 M603.347 1339.13 Q603.347 1343.83 605.268 1346.52 Q607.212 1349.18 610.592 1349.18 Q613.971 1349.18 615.916 1346.52 Q617.86 1343.83 617.86 1339.13 Q617.86 1334.44 615.916 1331.77 Q613.971 1329.09 610.592 1329.09 Q607.212 1329.09 605.268 1331.77 Q603.347 1334.44 603.347 1339.13 Z\" fill=\"#000000\" fill-rule=\"evenodd\" fill-opacity=\"1\" /><path clip-path=\"url(#clip270)\" d=\"M650.082 1348.19 L650.082 1361.94 L645.8 1361.94 L645.8 1326.15 L650.082 1326.15 L650.082 1330.08 Q651.425 1327.77 653.462 1326.66 Q655.522 1325.52 658.369 1325.52 Q663.092 1325.52 666.031 1329.27 Q668.994 1333.02 668.994 1339.13 Q668.994 1345.25 666.031 1349 Q663.092 1352.75 658.369 1352.75 Q655.522 1352.75 653.462 1351.63 Q651.425 1350.5 650.082 1348.19 M664.573 1339.13 Q664.573 1334.44 662.629 1331.77 Q660.707 1329.09 657.328 1329.09 Q653.948 1329.09 652.004 1331.77 Q650.082 1334.44 650.082 1339.13 Q650.082 1343.83 652.004 1346.52 Q653.948 1349.18 657.328 1349.18 Q660.707 1349.18 662.629 1346.52 Q664.573 1343.83 664.573 1339.13 Z\" fill=\"#000000\" fill-rule=\"evenodd\" fill-opacity=\"1\" /><path clip-path=\"url(#clip270)\" d=\"M686.101 1329.13 Q682.675 1329.13 680.684 1331.82 Q678.693 1334.48 678.693 1339.13 Q678.693 1343.79 680.661 1346.47 Q682.652 1349.13 686.101 1349.13 Q689.503 1349.13 691.494 1346.45 Q693.485 1343.76 693.485 1339.13 Q693.485 1334.53 691.494 1331.84 Q689.503 1329.13 686.101 1329.13 M686.101 1325.52 Q691.656 1325.52 694.828 1329.13 Q697.999 1332.75 697.999 1339.13 Q697.999 1345.5 694.828 1349.13 Q691.656 1352.75 686.101 1352.75 Q680.522 1352.75 677.351 1349.13 Q674.203 1345.5 674.203 1339.13 Q674.203 1332.75 677.351 1329.13 Q680.522 1325.52 686.101 1325.52 Z\" fill=\"#000000\" fill-rule=\"evenodd\" fill-opacity=\"1\" /><path clip-path=\"url(#clip270)\" d=\"M705.059 1326.15 L709.318 1326.15 L709.318 1352.07 L705.059 1352.07 L705.059 1326.15 M705.059 1316.06 L709.318 1316.06 L709.318 1321.45 L705.059 1321.45 L705.059 1316.06 Z\" fill=\"#000000\" fill-rule=\"evenodd\" fill-opacity=\"1\" /><path clip-path=\"url(#clip270)\" d=\"M739.781 1336.43 L739.781 1352.07 L735.522 1352.07 L735.522 1336.57 Q735.522 1332.88 734.087 1331.06 Q732.651 1329.23 729.781 1329.23 Q726.332 1329.23 724.341 1331.43 Q722.351 1333.63 722.351 1337.42 L722.351 1352.07 L718.068 1352.07 L718.068 1326.15 L722.351 1326.15 L722.351 1330.18 Q723.878 1327.84 725.938 1326.68 Q728.022 1325.52 730.73 1325.52 Q735.198 1325.52 737.489 1328.3 Q739.781 1331.06 739.781 1336.43 Z\" fill=\"#000000\" fill-rule=\"evenodd\" fill-opacity=\"1\" /><path clip-path=\"url(#clip270)\" d=\"M752.489 1318.79 L752.489 1326.15 L761.262 1326.15 L761.262 1329.46 L752.489 1329.46 L752.489 1343.53 Q752.489 1346.7 753.346 1347.61 Q754.225 1348.51 756.887 1348.51 L761.262 1348.51 L761.262 1352.07 L756.887 1352.07 Q751.957 1352.07 750.082 1350.25 Q748.207 1348.39 748.207 1343.53 L748.207 1329.46 L745.082 1329.46 L745.082 1326.15 L748.207 1326.15 L748.207 1318.79 L752.489 1318.79 Z\" fill=\"#000000\" fill-rule=\"evenodd\" fill-opacity=\"1\" /><polyline clip-path=\"url(#clip270)\" style=\"stroke:#3da44d; stroke-linecap:butt; stroke-linejoin:round; stroke-width:4; stroke-opacity:1; fill:none\" points=\"\n",
       "  289.884,1386.63 433.805,1386.63 \n",
       "  \"/>\n",
       "<path clip-path=\"url(#clip270)\" d=\"M479.505 1388.27 L479.505 1403.91 L475.245 1403.91 L475.245 1388.41 Q475.245 1384.72 473.81 1382.9 Q472.375 1381.07 469.505 1381.07 Q466.056 1381.07 464.065 1383.27 Q462.074 1385.47 462.074 1389.26 L462.074 1403.91 L457.792 1403.91 L457.792 1377.99 L462.074 1377.99 L462.074 1382.02 Q463.602 1379.68 465.662 1378.52 Q467.745 1377.36 470.454 1377.36 Q474.921 1377.36 477.213 1380.14 Q479.505 1382.9 479.505 1388.27 Z\" fill=\"#000000\" fill-rule=\"evenodd\" fill-opacity=\"1\" /><path clip-path=\"url(#clip270)\" d=\"M498.046 1380.97 Q494.62 1380.97 492.63 1383.66 Q490.639 1386.32 490.639 1390.97 Q490.639 1395.63 492.606 1398.31 Q494.597 1400.97 498.046 1400.97 Q501.449 1400.97 503.44 1398.29 Q505.43 1395.6 505.43 1390.97 Q505.43 1386.37 503.44 1383.68 Q501.449 1380.97 498.046 1380.97 M498.046 1377.36 Q503.602 1377.36 506.773 1380.97 Q509.944 1384.59 509.944 1390.97 Q509.944 1397.34 506.773 1400.97 Q503.602 1404.59 498.046 1404.59 Q492.468 1404.59 489.296 1400.97 Q486.148 1397.34 486.148 1390.97 Q486.148 1384.59 489.296 1380.97 Q492.468 1377.36 498.046 1377.36 Z\" fill=\"#000000\" fill-rule=\"evenodd\" fill-opacity=\"1\" /><path clip-path=\"url(#clip270)\" d=\"M532.027 1381.97 Q531.31 1381.55 530.453 1381.37 Q529.62 1381.16 528.602 1381.16 Q524.99 1381.16 523.046 1383.52 Q521.125 1385.86 521.125 1390.26 L521.125 1403.91 L516.842 1403.91 L516.842 1377.99 L521.125 1377.99 L521.125 1382.02 Q522.467 1379.66 524.62 1378.52 Q526.773 1377.36 529.852 1377.36 Q530.291 1377.36 530.824 1377.43 Q531.356 1377.48 532.004 1377.6 L532.027 1381.97 Z\" fill=\"#000000\" fill-rule=\"evenodd\" fill-opacity=\"1\" /><path clip-path=\"url(#clip270)\" d=\"M555.847 1382.97 Q557.444 1380.1 559.666 1378.73 Q561.888 1377.36 564.898 1377.36 Q568.949 1377.36 571.148 1380.21 Q573.347 1383.03 573.347 1388.27 L573.347 1403.91 L569.064 1403.91 L569.064 1388.41 Q569.064 1384.68 567.745 1382.87 Q566.425 1381.07 563.717 1381.07 Q560.407 1381.07 558.486 1383.27 Q556.564 1385.47 556.564 1389.26 L556.564 1403.91 L552.282 1403.91 L552.282 1388.41 Q552.282 1384.66 550.963 1382.87 Q549.643 1381.07 546.889 1381.07 Q543.625 1381.07 541.703 1383.29 Q539.782 1385.49 539.782 1389.26 L539.782 1403.91 L535.5 1403.91 L535.5 1377.99 L539.782 1377.99 L539.782 1382.02 Q541.24 1379.63 543.277 1378.5 Q545.314 1377.36 548.115 1377.36 Q550.939 1377.36 552.907 1378.8 Q554.898 1380.23 555.847 1382.97 Z\" fill=\"#000000\" fill-rule=\"evenodd\" fill-opacity=\"1\" /><path clip-path=\"url(#clip270)\" d=\"M598.323 1399.98 L605.962 1399.98 L605.962 1373.61 L597.652 1375.28 L597.652 1371.02 L605.916 1369.35 L610.592 1369.35 L610.592 1399.98 L618.231 1399.98 L618.231 1403.91 L598.323 1403.91 L598.323 1399.98 Z\" fill=\"#000000\" fill-rule=\"evenodd\" fill-opacity=\"1\" /></svg>\n"
      ]
     },
     "execution_count": 13,
     "metadata": {},
     "output_type": "execute_result"
    }
   ],
   "source": [
    "using Plots\n",
    "\n",
    "θ = 1.     # rotation angle\n",
    "Q = [cos(θ) -sin(θ);\n",
    "    sin(θ) cos(θ)]    # rotation matrix\n",
    "\n",
    "v = [1,1]/sqrt(2)      # point on the circle\n",
    "Qv = Q*v               # rotated vector\n",
    "x = Qv[1]     # x coordinate of the rotated vector\n",
    "y = Qv[2]     # y coordinate of the rotated vector\n",
    "\n",
    "scatter([v[1]], [v[2]]; label=\"original point\", legend=:bottomleft)\n",
    "scatter!([x], [y]; label=\"rotated point\")\n",
    "\n",
    "# now plot the circle\n",
    "grid = range(0, 2π; length=100)       # plotting grid for the circle\n",
    "plot!(cos.(grid), sin.(grid); label=\"norm 1\")     # plot circle in red"
   ]
  },
  {
   "cell_type": "markdown",
   "metadata": {},
   "source": [
    "On a computer, we don't know exactly where a point is: every point can have a small $\\epsilon$ of error.  \n",
    "Thus to understand the robustness of an algorithm, we need to understand what happens to balls of radius \n",
    "$\\epsilon$ around where we think of the point.  \n",
    "This can be used to demonstrate why rotations are preferred to lower triangular operations.\n",
    "\n",
    "In the following, we design a function that plots a circle around a point `[a,b]` of size `ε`, both before and after a matrix `L` is applied.\n",
    "Here we demonstrate that the effect of `L` is to stretch the circles: our error can be amplified:"
   ]
  },
  {
   "cell_type": "code",
   "execution_count": 14,
   "metadata": {
    "execution": {
     "iopub.execute_input": "2022-01-10T21:36:48.572071Z",
     "iopub.status.busy": "2022-01-10T21:36:47.758730Z",
     "iopub.status.idle": "2022-01-10T21:36:49.280366Z",
     "shell.execute_reply": "2022-01-10T21:36:49.279916Z"
    }
   },
   "outputs": [
    {
     "ename": "LoadError",
     "evalue": "MethodError: no method matching cos(::StepRangeLen{Float64, Base.TwicePrecision{Float64}, Base.TwicePrecision{Float64}, Int64})\n\u001b[0mClosest candidates are:\n\u001b[0m  cos(\u001b[91m::T\u001b[39m) where T<:Union{Float32, Float64} at ~/Projects/julia-1.7/usr/share/julia/base/special/trig.jl:98\n\u001b[0m  cos(\u001b[91m::Hermitian{var\"#s858\", S} where {var\"#s858\"<:Complex, S<:(AbstractMatrix{<:var\"#s858\"})}\u001b[39m) at ~/Projects/julia-1.7/usr/share/julia/stdlib/v1.7/LinearAlgebra/src/symmetric.jl:761\n\u001b[0m  cos(\u001b[91m::Union{Hermitian{var\"#s859\", S}, Symmetric{var\"#s859\", S}} where {var\"#s859\"<:Real, S}\u001b[39m) at ~/Projects/julia-1.7/usr/share/julia/stdlib/v1.7/LinearAlgebra/src/symmetric.jl:757\n\u001b[0m  ...",
     "output_type": "error",
     "traceback": [
      "MethodError: no method matching cos(::StepRangeLen{Float64, Base.TwicePrecision{Float64}, Base.TwicePrecision{Float64}, Int64})\n\u001b[0mClosest candidates are:\n\u001b[0m  cos(\u001b[91m::T\u001b[39m) where T<:Union{Float32, Float64} at ~/Projects/julia-1.7/usr/share/julia/base/special/trig.jl:98\n\u001b[0m  cos(\u001b[91m::Hermitian{var\"#s858\", S} where {var\"#s858\"<:Complex, S<:(AbstractMatrix{<:var\"#s858\"})}\u001b[39m) at ~/Projects/julia-1.7/usr/share/julia/stdlib/v1.7/LinearAlgebra/src/symmetric.jl:761\n\u001b[0m  cos(\u001b[91m::Union{Hermitian{var\"#s859\", S}, Symmetric{var\"#s859\", S}} where {var\"#s859\"<:Real, S}\u001b[39m) at ~/Projects/julia-1.7/usr/share/julia/stdlib/v1.7/LinearAlgebra/src/symmetric.jl:757\n\u001b[0m  ...",
      "",
      "Stacktrace:",
      " [1] plotmat(a::Float64, b::Float64, ε::Float64, L::Matrix{Float64})",
      "   @ Main ./In[14]:4",
      " [2] top-level scope",
      "   @ In[14]:22",
      " [3] eval",
      "   @ ./boot.jl:373 [inlined]",
      " [4] include_string(mapexpr::typeof(REPL.softscope), mod::Module, code::String, filename::String)",
      "   @ Base ./loading.jl:1196"
     ]
    }
   ],
   "source": [
    "using Plots\n",
    "function plotmat(a,b,ε,L)\n",
    "    t = range(0, 2π; length=100)\n",
    "    x,y = (a+ε*cos(t),b+ε*sin(t))\n",
    "    plot(x,y)\n",
    "\n",
    "    Lx = zeros(length(x))\n",
    "    Ly = zeros(length(x))\n",
    "\n",
    "    for k=1:length(x)\n",
    "        Lx[k],Ly[k] = L*[x[k],y[k]]\n",
    "    end\n",
    "    plot!(Lx,Ly)\n",
    "end\n",
    "a,b = [1.1, 1.2]\n",
    "\n",
    "L = [1    0;\n",
    "     -b/a 1]\n",
    "\n",
    "ε = 0.1\n",
    "\n",
    "plotmat(a, b, ε, L)"
   ]
  },
  {
   "cell_type": "markdown",
   "metadata": {},
   "source": [
    "As `a` becomes small, this error amplification becomes greater: in the following, we go from \n",
    "knowing the true point with accuracy 0.1 to only knowing it with about accuracy 1:"
   ]
  },
  {
   "cell_type": "code",
   "execution_count": 15,
   "metadata": {
    "execution": {
     "iopub.execute_input": "2022-01-10T21:36:49.282710Z",
     "iopub.status.busy": "2022-01-10T21:36:49.281873Z",
     "iopub.status.idle": "2022-01-10T21:36:49.294112Z",
     "shell.execute_reply": "2022-01-10T21:36:49.293693Z"
    }
   },
   "outputs": [
    {
     "ename": "LoadError",
     "evalue": "MethodError: no method matching cos(::StepRangeLen{Float64, Base.TwicePrecision{Float64}, Base.TwicePrecision{Float64}, Int64})\n\u001b[0mClosest candidates are:\n\u001b[0m  cos(\u001b[91m::T\u001b[39m) where T<:Union{Float32, Float64} at ~/Projects/julia-1.7/usr/share/julia/base/special/trig.jl:98\n\u001b[0m  cos(\u001b[91m::Hermitian{var\"#s858\", S} where {var\"#s858\"<:Complex, S<:(AbstractMatrix{<:var\"#s858\"})}\u001b[39m) at ~/Projects/julia-1.7/usr/share/julia/stdlib/v1.7/LinearAlgebra/src/symmetric.jl:761\n\u001b[0m  cos(\u001b[91m::Union{Hermitian{var\"#s859\", S}, Symmetric{var\"#s859\", S}} where {var\"#s859\"<:Real, S}\u001b[39m) at ~/Projects/julia-1.7/usr/share/julia/stdlib/v1.7/LinearAlgebra/src/symmetric.jl:757\n\u001b[0m  ...",
     "output_type": "error",
     "traceback": [
      "MethodError: no method matching cos(::StepRangeLen{Float64, Base.TwicePrecision{Float64}, Base.TwicePrecision{Float64}, Int64})\n\u001b[0mClosest candidates are:\n\u001b[0m  cos(\u001b[91m::T\u001b[39m) where T<:Union{Float32, Float64} at ~/Projects/julia-1.7/usr/share/julia/base/special/trig.jl:98\n\u001b[0m  cos(\u001b[91m::Hermitian{var\"#s858\", S} where {var\"#s858\"<:Complex, S<:(AbstractMatrix{<:var\"#s858\"})}\u001b[39m) at ~/Projects/julia-1.7/usr/share/julia/stdlib/v1.7/LinearAlgebra/src/symmetric.jl:761\n\u001b[0m  cos(\u001b[91m::Union{Hermitian{var\"#s859\", S}, Symmetric{var\"#s859\", S}} where {var\"#s859\"<:Real, S}\u001b[39m) at ~/Projects/julia-1.7/usr/share/julia/stdlib/v1.7/LinearAlgebra/src/symmetric.jl:757\n\u001b[0m  ...",
      "",
      "Stacktrace:",
      " [1] plotmat(a::Float64, b::Float64, ε::Float64, L::Matrix{Float64})",
      "   @ Main ./In[14]:4",
      " [2] top-level scope",
      "   @ In[15]:8",
      " [3] eval",
      "   @ ./boot.jl:373 [inlined]",
      " [4] include_string(mapexpr::typeof(REPL.softscope), mod::Module, code::String, filename::String)",
      "   @ Base ./loading.jl:1196"
     ]
    }
   ],
   "source": [
    "a,b = [0.125,1.2]\n",
    "\n",
    "L = [1    0;\n",
    "     -b/a 1]\n",
    "\n",
    "ε = 0.1\n",
    "\n",
    "plotmat(a, b, ε, L)"
   ]
  },
  {
   "cell_type": "markdown",
   "metadata": {},
   "source": [
    "Rotations perform much better: the circles are only rotated, and are not magnified at all:"
   ]
  },
  {
   "cell_type": "code",
   "execution_count": 16,
   "metadata": {
    "execution": {
     "iopub.execute_input": "2022-01-10T21:36:49.296288Z",
     "iopub.status.busy": "2022-01-10T21:36:49.295748Z",
     "iopub.status.idle": "2022-01-10T21:36:49.346226Z",
     "shell.execute_reply": "2022-01-10T21:36:49.345792Z"
    }
   },
   "outputs": [
    {
     "ename": "LoadError",
     "evalue": "MethodError: no method matching cos(::StepRangeLen{Float64, Base.TwicePrecision{Float64}, Base.TwicePrecision{Float64}, Int64})\n\u001b[0mClosest candidates are:\n\u001b[0m  cos(\u001b[91m::T\u001b[39m) where T<:Union{Float32, Float64} at ~/Projects/julia-1.7/usr/share/julia/base/special/trig.jl:98\n\u001b[0m  cos(\u001b[91m::Hermitian{var\"#s858\", S} where {var\"#s858\"<:Complex, S<:(AbstractMatrix{<:var\"#s858\"})}\u001b[39m) at ~/Projects/julia-1.7/usr/share/julia/stdlib/v1.7/LinearAlgebra/src/symmetric.jl:761\n\u001b[0m  cos(\u001b[91m::Union{Hermitian{var\"#s859\", S}, Symmetric{var\"#s859\", S}} where {var\"#s859\"<:Real, S}\u001b[39m) at ~/Projects/julia-1.7/usr/share/julia/stdlib/v1.7/LinearAlgebra/src/symmetric.jl:757\n\u001b[0m  ...",
     "output_type": "error",
     "traceback": [
      "MethodError: no method matching cos(::StepRangeLen{Float64, Base.TwicePrecision{Float64}, Base.TwicePrecision{Float64}, Int64})\n\u001b[0mClosest candidates are:\n\u001b[0m  cos(\u001b[91m::T\u001b[39m) where T<:Union{Float32, Float64} at ~/Projects/julia-1.7/usr/share/julia/base/special/trig.jl:98\n\u001b[0m  cos(\u001b[91m::Hermitian{var\"#s858\", S} where {var\"#s858\"<:Complex, S<:(AbstractMatrix{<:var\"#s858\"})}\u001b[39m) at ~/Projects/julia-1.7/usr/share/julia/stdlib/v1.7/LinearAlgebra/src/symmetric.jl:761\n\u001b[0m  cos(\u001b[91m::Union{Hermitian{var\"#s859\", S}, Symmetric{var\"#s859\", S}} where {var\"#s859\"<:Real, S}\u001b[39m) at ~/Projects/julia-1.7/usr/share/julia/stdlib/v1.7/LinearAlgebra/src/symmetric.jl:757\n\u001b[0m  ...",
      "",
      "Stacktrace:",
      " [1] plotmat(a::Float64, b::Float64, ε::Float64, L::Matrix{Float64})",
      "   @ Main ./In[14]:4",
      " [2] top-level scope",
      "   @ In[16]:9",
      " [3] eval",
      "   @ ./boot.jl:373 [inlined]",
      " [4] include_string(mapexpr::typeof(REPL.softscope), mod::Module, code::String, filename::String)",
      "   @ Base ./loading.jl:1196"
     ]
    }
   ],
   "source": [
    "a,b=[1.1,1.2]\n",
    "\n",
    "θ=-atan(b,a)\n",
    "Q=[cos(θ) -sin(θ);\n",
    "    sin(θ) cos(θ)]\n",
    "\n",
    "ε=0.1\n",
    "\n",
    "plotmat(a,b,ε,Q)\n",
    "plotmat(0,b,ε,Q)\n",
    "\n",
    "plotmat(2a,b,ε,Q)\n",
    "axis([-5,5,-5,5])"
   ]
  },
  {
   "cell_type": "markdown",
   "metadata": {},
   "source": [
    "We can construct a simpler expression for `Q` as \n",
    "$$\n",
    "{1 \\over \\sqrt{a^2 + b^2}}\\begin{pmatrix}\n",
    " a & b \\cr -b & a\n",
    "\\end{pmatrix}\n",
    "$$\n",
    "\n",
    "### Reflections\n",
    "\n",
    "In addition to rotations, another type of orthognal matrix are reflections:\n",
    "\n",
    "**Definition (reflection matrix)** \n",
    "Given a vector $𝐯$ satisfying $\\|𝐯\\|=1$, the reflection matrix is the orthogonal matrix as\n",
    "$$\n",
    "Q_𝐯 \\triangleq I - 2 𝐯 𝐯^⊤\n",
    "$$\n",
    "\n",
    "These are reflections in the direction of $𝐯$. We can show this as follows:\n",
    "\n",
    "**Proposition** $Q_𝐯$ satisfies:\n",
    "1. Symmetry\n",
    "2. Orthogonality\n",
    "2. $𝐯$ is an eigenvector of $Q_𝐯$ with eigenvalue $-1$\n",
    "4. It is a rank-1 perturbation of $I$\n",
    "3. $\\det Q_𝐯 = -1$\n",
    "\n",
    "\n",
    "**Proof**\n",
    "\n",
    "Property 1 follows immediately. Property 2 follows from\n",
    "$$\n",
    "Q_𝐯^⊤ Q_𝐯 = Q_𝐯^2 = I - 4 𝐯 𝐯^⊤ + 4 𝐯 𝐯^⊤ 𝐯 𝐯^⊤ = I\n",
    "$$\n",
    "Property 3 follows since\n",
    "$$\n",
    "Q_𝐯 𝐯 = -𝐯\n",
    "$$\n",
    "Property 4 follows since $𝐯 𝐯^⊤$ is a rank-1 matrix as all rows are linear combinations of each other.\n",
    "To see property 5, note there is a dimension $n-1$ space $W$ orthogonal to $𝐯$.\n",
    "For $\\mathbf w \\in W$ we have\n",
    "$$\n",
    "Q_𝐯 \\mathbf w = \\mathbf w\n",
    "$$\n",
    "In other words, $1$ is an eigenvalue with multiplicity $n-1$ and $-1$ is an eigenvalue with multiplicity 1,\n",
    "and thus the product of the eigenvalues is $-1$.\n",
    "\n",
    "∎"
   ]
  }
 ],
 "metadata": {
  "kernelspec": {
   "display_name": "Julia 1.7.0",
   "language": "julia",
   "name": "julia-1.7"
  },
  "language_info": {
   "file_extension": ".jl",
   "mimetype": "application/julia",
   "name": "julia",
   "version": "1.7.0"
  }
 },
 "nbformat": 4,
 "nbformat_minor": 2
}
