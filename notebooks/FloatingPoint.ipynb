{
 "cells": [
  {
   "cell_type": "markdown",
   "metadata": {},
   "source": [
    "# IEEE Floating Point Arithmetic\n",
    "\n",
    "\n",
    "Reference: [Overton](https://cs.nyu.edu/~overton/book/) Chapter 4.\n",
    "\n",
    "In this lecture, we introduce the\n",
    "[IEEE Standard for Floating-Point Arithmetic](https://en.wikipedia.org/wiki/IEEE_754).\n",
    "There are many  possible ways of representing real numbers on a computer, as well as \n",
    "the precise behaviour of operations such as addition, multiplication, etc.\n",
    "Before the 1980s each processor had potentially a different representation for \n",
    "real numbers, as well as different behaviour for operations.  \n",
    "IEEE introduced in 1985 was a means to standardise this across\n",
    "processors so that algorithms would produce consistent and reliable results.\n",
    "\n",
    "This chapter may seem very low level for a mathematics course but there are\n",
    "two important reasons to understand the behaviour of floating point numbers:\n",
    "1. Floating point arithematic is very precisely defined, and can even be used\n",
    "in rigorous computations as we shall see in the problem sheets.\n",
    "2. Failure to understand floating point arithmetic can cause many errors\n",
    "in practice, with the extreme example being the [explosion of the Ariane 5 rocket](https://youtu.be/N6PWATvLQCY?t=86).\n",
    "\n",
    "\n",
    "Before we begin, we load two external packages. SetRounding.jl allows us \n",
    "to set the rounding mode of floating point arithmetic. ColorBitstring.jl\n",
    "  implements a function `printbits`\n",
    "which print the bits of floating point numbers in colour. \n",
    "Each colour corresponds to a different part of the representation:\n",
    "the <span style=\"color:red\">sign bit</span>, the <span style=\"color:green\">exponent bits</span>, \n",
    "and the <span style=\"color:blue\">significand bits</span> which we shall learn about shortly."
   ]
  },
  {
   "cell_type": "code",
   "execution_count": 1,
   "metadata": {
    "execution": {
     "iopub.execute_input": "2021-11-22T12:16:18.673374Z",
     "iopub.status.busy": "2021-11-22T12:16:17.985461Z",
     "iopub.status.idle": "2021-11-22T12:16:19.007854Z",
     "shell.execute_reply": "2021-11-22T12:16:19.007308Z"
    }
   },
   "outputs": [
    {
     "name": "stdout",
     "output_type": "stream",
     "text": [
      "\u001b[31m0\u001b[0m\u001b[32m01111111111\u001b[0m\u001b[34m0000000000000000000000000000000000000000000000000000\u001b[0m"
     ]
    }
   ],
   "source": [
    "using SetRounding, ColorBitstring\n",
    "printbits(1.0)"
   ]
  },
  {
   "cell_type": "markdown",
   "metadata": {},
   "source": [
    "## Real numbers in binary\n",
    "\n",
    "Before discussing how to represent real numbers with a finite number\n",
    "of bits, we consider what one could do with an infinite number of bits,\n",
    "that is, binary expansions.\n",
    "\n",
    "We use the notation:\n",
    "$$\n",
    "(b_0.b_1b_2b_3\\ldots)_2 = b_0 + {b_1 \\over 2} + {b_2 \\over 2^2} + {b_3 \\over 2^3} + \\cdots\n",
    "$$\n",
    "where $b_k$ are either 0 or 1. Every number $0 \\leq x < 1$ has a binary representation in this form.\n",
    "First we show some examples of verifying a numbers binary representation:\n",
    "\n",
    "**Example**\n",
    "Consider the number `1/3`.  In decimal we all know:\n",
    "$$\n",
    "1/3 = 0.3333\\ldots =  \\sum_{k=1}^\\infty {3 \\over 10^k}\n",
    "$$\n",
    "We will see that in binary\n",
    "$$\n",
    "1/3 = (0.010101\\ldots)_2 = \\sum_{k=1}^\\infty {1 \\over 2^{2k}}\n",
    "$$\n",
    "Both results can be proven using the geometric series:\n",
    "$$\n",
    "\\sum_{k=0}^\\infty z^k = {1 \\over 1 - z}\n",
    "$$\n",
    "provided $|z| < 1$. That is, with $z = 1/10$ we see the decimal case:\n",
    "$$\n",
    "3\\sum_{k=1}^\\infty {1 \\over 10^k} = {3 \\over 1 - {1 \\over 10}} - 3 = {1 \\over 3}\n",
    "$$\n",
    "A similar argument works for binary with $z = {1 \\over 4}$:\n",
    "$$\n",
    "\\sum_{k=1}^\\infty {1 \\over 4^k} = {1 \\over 1 - 1/4} - 1 = {1 \\over 3}\n",
    "$$\n",
    "\n",
    "\n",
    "\n",
    "\n",
    "## IEEE numbers\n",
    "\n",
    "Floating point numbers are how a computer typically approximates\n",
    "a real number. In Julia there are four types of floating point numbers:\n",
    "\n",
    "1. `Float64` is a type representing real numbers using 64 bits, \n",
    "that is also known as double precision.\n",
    "We can create a `Float64` by including a \n",
    "decimal point when writing the number: \n",
    "`1.0` is a `Float64`. `Float64` is the default format for \n",
    "scientific computing (on the _Floating Point Unit_, FPU).  \n",
    "2. `Float32` is a type representing real numbers using 32 bits, that is also known \n",
    "as single precision.  We can create a `Float32` by including a \n",
    "`f0` when writing the number: \n",
    "`1f0` is a `Float32`. is generally the default format for graphics (on the _Graphics Processing Unit_, GPU), \n",
    "as the difference between 32 bits and 64 bits is indistinguishable to the eye in visualisation,\n",
    "and more data can be fit into a GPU's limitted memory.\n",
    "3.  `Float16` is a type representing real numbers using 316 bits.\n",
    "It is important in machine learning where one wants to maximise the amount of data\n",
    "and high accuracy is not necessarily helpful. \n",
    "\n",
    "Here we see what the bits of `1/3` approximated by a `Float16` are:"
   ]
  },
  {
   "cell_type": "code",
   "execution_count": 2,
   "metadata": {
    "execution": {
     "iopub.execute_input": "2021-11-22T12:16:19.009929Z",
     "iopub.status.busy": "2021-11-22T12:16:19.009377Z",
     "iopub.status.idle": "2021-11-22T12:16:19.106227Z",
     "shell.execute_reply": "2021-11-22T12:16:19.105821Z"
    }
   },
   "outputs": [
    {
     "name": "stdout",
     "output_type": "stream",
     "text": [
      "\u001b[31m0\u001b[0m\u001b[32m011010\u001b[0m\u001b[34m101010101\u001b[0m"
     ]
    }
   ],
   "source": [
    "printbits(Float16(1)/3)"
   ]
  },
  {
   "cell_type": "markdown",
   "metadata": {},
   "source": [
    "we shall now explain the format.\n",
    "\n",
    "The bits of floats are stored in the format\n",
    "$$\n",
    "sq_1\\ldots q_Q b_1 \\ldots b_P\n",
    "$$\n",
    "where $1 + Q + P$ is the total number of bits, and $Q$ and $P$\n",
    "vary depending on the type:\n",
    "1. For `Float16`, ...\n",
    "2. For `Float32`, $S = 127$, $Q = 8$, and $P = 23$,\n",
    "for a total of $1 + 8 + 23 = 32$ bits.\n",
    "3. For `Float64`, $S = 1023$, $Q = 11$, and $P = 52$,\n",
    "for a total of $1 + 11 + 52 = 64$ bits.\n",
    "\n",
    "The first bit ($s$) is the <span style=\"color:red\">sign bit</span>: 0 means positive and 1 means\n",
    "negative. The bits $q_1\\ldots q_Q$ are the <span style=\"color:green\">exponent bits</span>.\n",
    "Provided they are not all 0 and not all 1\n",
    "we have a _normal number_; if they are all 1 it is a _special number_\n",
    "and if they are all 0 it is a _sub-normal number_. \n",
    "Finally, the bits $b_1\\ldots b_P$ are the <span style=\"color:blue\">significand bits</span>,\n",
    "whose interpretation depends on whether the number is normal, sub-normal, or special.\n",
    "\n",
    "We begin with normal numbers. The bits represent\n",
    "$$\n",
    "x=\\pm 2^{q-S} \\times (1.b_1b_2b_3\\ldots b_P)_2\n",
    "$$\n",
    "where $\\sign x = 1-2s$ and\n",
    "$q = (q_1q_2\\ldots q_Q)_2$ is an unsigned  integer satisfying\n",
    "$$\n",
    "0 < q < 2^Q-1.\n",
    "$$\n",
    "\n",
    "**Example** How is the number $1/3$ stored in `Float32`?\n",
    "Recall that\n",
    "$$\n",
    "1/3 = (0.010101\\ldots)_2 = 2^{-2} (1.0101\\ldots)_2 = 2^{125-127} (1.0101\\ldots)_2\n",
    "$$\n",
    "Since\n",
    "$$\n",
    "125 = (1111101)_2\n",
    "$$\n",
    "For the significand we round the last bit to the nearest, so we have\n",
    "$$\n",
    "1.010101010101010101010101\\ldots \\approx 1.01010101010101010101011 \n",
    "$$\n",
    "Thus the `Float32` bits for $1/3$ are:"
   ]
  },
  {
   "cell_type": "code",
   "execution_count": 3,
   "metadata": {
    "execution": {
     "iopub.execute_input": "2021-11-22T12:16:19.108466Z",
     "iopub.status.busy": "2021-11-22T12:16:19.107919Z",
     "iopub.status.idle": "2021-11-22T12:16:19.201133Z",
     "shell.execute_reply": "2021-11-22T12:16:19.200694Z"
    }
   },
   "outputs": [
    {
     "name": "stdout",
     "output_type": "stream",
     "text": [
      "\u001b[31m0\u001b[0m\u001b[32m01111101\u001b[0m\u001b[34m01010101010101010101011\u001b[0m"
     ]
    }
   ],
   "source": [
    "printbits(1f0/3)"
   ]
  },
  {
   "cell_type": "markdown",
   "metadata": {},
   "source": [
    "The smallest positive normal number is $q = 1$ and $b_k$ all zero:\n",
    "$2^{1-S}$.\n",
    "For a given floating point type, it can be found using `floatmin`:"
   ]
  },
  {
   "cell_type": "code",
   "execution_count": 4,
   "metadata": {
    "execution": {
     "iopub.execute_input": "2021-11-22T12:16:19.203201Z",
     "iopub.status.busy": "2021-11-22T12:16:19.202609Z",
     "iopub.status.idle": "2021-11-22T12:16:19.716826Z",
     "shell.execute_reply": "2021-11-22T12:16:19.716367Z"
    }
   },
   "outputs": [
    {
     "data": {
      "text/plain": [
       "2.2250738585072014e-308"
      ]
     },
     "execution_count": 4,
     "metadata": {},
     "output_type": "execute_result"
    }
   ],
   "source": [
    "mn = floatmin(Float64)"
   ]
  },
  {
   "cell_type": "code",
   "execution_count": 5,
   "metadata": {
    "execution": {
     "iopub.execute_input": "2021-11-22T12:16:19.719857Z",
     "iopub.status.busy": "2021-11-22T12:16:19.718821Z",
     "iopub.status.idle": "2021-11-22T12:16:19.721577Z",
     "shell.execute_reply": "2021-11-22T12:16:19.720441Z"
    }
   },
   "outputs": [
    {
     "name": "stdout",
     "output_type": "stream",
     "text": [
      "\u001b[31m0\u001b[0m\u001b[32m00000000001\u001b[0m\u001b[34m0000000000000000000000000000000000000000000000000000\u001b[0m"
     ]
    }
   ],
   "source": [
    "printbits(mn)"
   ]
  },
  {
   "cell_type": "markdown",
   "metadata": {},
   "source": [
    "# Subnormal numbers\n",
    "\n",
    "Whenever $q = 0$, this is called a subnormal number, so does not follow the same interpretation of the bits.  \n",
    "Instead, if $q = 0$ the number is represented as\n",
    "$$\n",
    "    x = \\pm 2^{1-S}*(0.b_0b_1b_2\\ldots b_P)_2\n",
    "$$\n",
    "That is, the significand is  $0 + b_0/2 + \\cdots$ instead of $1 + b_0/2 + \\cdots$.\n",
    "\n",
    "The simplest example is zero, which has $q=0$ and all significand bits zero:"
   ]
  },
  {
   "cell_type": "code",
   "execution_count": 6,
   "metadata": {
    "execution": {
     "iopub.execute_input": "2021-11-22T12:16:19.724725Z",
     "iopub.status.busy": "2021-11-22T12:16:19.723512Z",
     "iopub.status.idle": "2021-11-22T12:16:19.727042Z",
     "shell.execute_reply": "2021-11-22T12:16:19.725485Z"
    }
   },
   "outputs": [
    {
     "name": "stdout",
     "output_type": "stream",
     "text": [
      "\u001b[31m0\u001b[0m\u001b[32m00000000000\u001b[0m\u001b[34m0000000000000000000000000000000000000000000000000000\u001b[0m"
     ]
    }
   ],
   "source": [
    "printbits(0.0)"
   ]
  },
  {
   "cell_type": "markdown",
   "metadata": {},
   "source": [
    "Unlike integers, we also have a negative zero:"
   ]
  },
  {
   "cell_type": "code",
   "execution_count": 7,
   "metadata": {
    "execution": {
     "iopub.execute_input": "2021-11-22T12:16:19.739733Z",
     "iopub.status.busy": "2021-11-22T12:16:19.738801Z",
     "iopub.status.idle": "2021-11-22T12:16:19.741516Z",
     "shell.execute_reply": "2021-11-22T12:16:19.740246Z"
    }
   },
   "outputs": [
    {
     "name": "stdout",
     "output_type": "stream",
     "text": [
      "\u001b[31m1\u001b[0m\u001b[32m00000000000\u001b[0m\u001b[34m0000000000000000000000000000000000000000000000000000\u001b[0m"
     ]
    }
   ],
   "source": [
    "printbits(-0.0)"
   ]
  },
  {
   "cell_type": "markdown",
   "metadata": {},
   "source": [
    "If we divide the smallest normal number by two, we get a subnormal number:"
   ]
  },
  {
   "cell_type": "code",
   "execution_count": 8,
   "metadata": {
    "execution": {
     "iopub.execute_input": "2021-11-22T12:16:19.743588Z",
     "iopub.status.busy": "2021-11-22T12:16:19.743008Z",
     "iopub.status.idle": "2021-11-22T12:16:19.748328Z",
     "shell.execute_reply": "2021-11-22T12:16:19.747864Z"
    }
   },
   "outputs": [
    {
     "name": "stdout",
     "output_type": "stream",
     "text": [
      "\u001b[31m0\u001b[0m\u001b[32m00000000000\u001b[0m\u001b[34m1000000000000000000000000000000000000000000000000000\u001b[0m"
     ]
    }
   ],
   "source": [
    "printbits(mn/2)"
   ]
  },
  {
   "cell_type": "markdown",
   "metadata": {},
   "source": [
    "Can you explain the bits?\n",
    "\n",
    "\n",
    "# Special numbers\n",
    "\n",
    "Whenever the bits of $q$ are all 1, that is, for `Float64` $q=2^{11}-1=2047=(11111111111)_2$, \n",
    "the number is treated differently.  If all $b_k=0$, then the number is interpreted as either $\\pm\\infty$, called `Inf`:"
   ]
  },
  {
   "cell_type": "code",
   "execution_count": 9,
   "metadata": {
    "execution": {
     "iopub.execute_input": "2021-11-22T12:16:19.750895Z",
     "iopub.status.busy": "2021-11-22T12:16:19.750068Z",
     "iopub.status.idle": "2021-11-22T12:16:19.752714Z",
     "shell.execute_reply": "2021-11-22T12:16:19.752274Z"
    }
   },
   "outputs": [
    {
     "name": "stdout",
     "output_type": "stream",
     "text": [
      "\u001b[31m0\u001b[0m\u001b[32m11111111111\u001b[0m\u001b[34m0000000000000000000000000000000000000000000000000000\u001b[0m\u001b[31m1\u001b[0m\u001b[32m11111111111\u001b[0m\u001b[34m0000000000000000000000000000000000000000000000000000\u001b[0m"
     ]
    }
   ],
   "source": [
    "printbits(Inf)\n",
    "printbits(-Inf)"
   ]
  },
  {
   "cell_type": "markdown",
   "metadata": {},
   "source": [
    "Another special number is `NaN`, which represents _not a number_. For example, `0/0` is not defined, so returns `NaN`:"
   ]
  },
  {
   "cell_type": "code",
   "execution_count": 10,
   "metadata": {
    "execution": {
     "iopub.execute_input": "2021-11-22T12:16:19.755093Z",
     "iopub.status.busy": "2021-11-22T12:16:19.754296Z",
     "iopub.status.idle": "2021-11-22T12:16:19.756969Z",
     "shell.execute_reply": "2021-11-22T12:16:19.755757Z"
    }
   },
   "outputs": [
    {
     "data": {
      "text/plain": [
       "NaN"
      ]
     },
     "execution_count": 10,
     "metadata": {},
     "output_type": "execute_result"
    }
   ],
   "source": [
    "0/0"
   ]
  },
  {
   "cell_type": "markdown",
   "metadata": {},
   "source": [
    "`NaN` is stored with $q=(11111111111)_2$ and at least one of the $b_k =1$:"
   ]
  },
  {
   "cell_type": "code",
   "execution_count": 11,
   "metadata": {
    "execution": {
     "iopub.execute_input": "2021-11-22T12:16:19.759219Z",
     "iopub.status.busy": "2021-11-22T12:16:19.758421Z",
     "iopub.status.idle": "2021-11-22T12:16:19.760868Z",
     "shell.execute_reply": "2021-11-22T12:16:19.759733Z"
    }
   },
   "outputs": [
    {
     "name": "stdout",
     "output_type": "stream",
     "text": [
      "\u001b[31m0\u001b[0m\u001b[32m11111111111\u001b[0m\u001b[34m1000000000000000000000000000000000000000000000000000\u001b[0m"
     ]
    }
   ],
   "source": [
    "printbits(NaN)"
   ]
  },
  {
   "cell_type": "markdown",
   "metadata": {},
   "source": [
    "**Example** What happens if we change some other $b_k$ to be nonzero?\n",
    "We can create bits as a string and see:"
   ]
  },
  {
   "cell_type": "code",
   "execution_count": 12,
   "metadata": {
    "execution": {
     "iopub.execute_input": "2021-11-22T12:16:19.762830Z",
     "iopub.status.busy": "2021-11-22T12:16:19.762260Z",
     "iopub.status.idle": "2021-11-22T12:16:19.783144Z",
     "shell.execute_reply": "2021-11-22T12:16:19.782527Z"
    }
   },
   "outputs": [
    {
     "data": {
      "text/plain": [
       "NaN"
      ]
     },
     "execution_count": 12,
     "metadata": {},
     "output_type": "execute_result"
    }
   ],
   "source": [
    "i=parse(UInt64, \"1111111111110000000000000000000010000001000000000010000000000000\"; base=2)\n",
    "reinterpret(Float64,i)"
   ]
  },
  {
   "cell_type": "markdown",
   "metadata": {},
   "source": [
    "Thus, there are more than one `NaN`s on a computer.  Can you figure out how many there are?\n",
    "\n",
    "Arithmetic works differently on `Inf` and `NaN`:"
   ]
  },
  {
   "cell_type": "code",
   "execution_count": 13,
   "metadata": {
    "execution": {
     "iopub.execute_input": "2021-11-22T12:16:19.785687Z",
     "iopub.status.busy": "2021-11-22T12:16:19.784851Z",
     "iopub.status.idle": "2021-11-22T12:16:20.109237Z",
     "shell.execute_reply": "2021-11-22T12:16:20.108588Z"
    }
   },
   "outputs": [
    {
     "data": {
      "text/plain": [
       "true"
      ]
     },
     "execution_count": 13,
     "metadata": {},
     "output_type": "execute_result"
    }
   ],
   "source": [
    "Inf*0      # NaN\n",
    "Inf+5      # Inf\n",
    "(-1)*Inf   # -Inf\n",
    "1/Inf      # 0\n",
    "1/(-Inf)   # -0\n",
    "Inf-Inf    # NaN\n",
    "Inf == Inf   # true\n",
    "Inf == -Inf  # false\n",
    "\n",
    "NaN*0      # NaN\n",
    "NaN+5\n",
    "1/NaN\n",
    "NaN == NaN    # false\n",
    "NaN != NaN    #true"
   ]
  },
  {
   "cell_type": "markdown",
   "metadata": {},
   "source": [
    "## Rounding\n",
    "\n",
    "There are three basic rounding strategies: round up/down/towards zero/nearest.\n",
    "These are specified by tags `RoundUp`, `RoundDown`, `RoundToZero`, and\n",
    "`RoundNearest`. (There are also more exotic rounding strategies `RoundNearestTiesAway` and\n",
    "`RoundNearestTiesUp` that we won't use.)\n",
    " Note that these rounding modes are part\n",
    "of the FPU instruction set so will be (roughly) equally fast as the default, `RoundNearest`.\n",
    "\n",
    "Let's try rounding a `Float64` to a `Float32`."
   ]
  },
  {
   "cell_type": "code",
   "execution_count": 14,
   "metadata": {
    "execution": {
     "iopub.execute_input": "2021-11-22T12:16:20.111930Z",
     "iopub.status.busy": "2021-11-22T12:16:20.111139Z",
     "iopub.status.idle": "2021-11-22T12:16:20.113970Z",
     "shell.execute_reply": "2021-11-22T12:16:20.113419Z"
    }
   },
   "outputs": [
    {
     "name": "stdout",
     "output_type": "stream",
     "text": [
      "\u001b[31m0\u001b[0m\u001b[32m01111111101\u001b[0m\u001b[34m0101010101010101010101010101010101010101010101010101\u001b[0m\u001b[31m0\u001b[0m\u001b[32m01111101\u001b[0m\u001b[34m01010101010101010101011\u001b[0m"
     ]
    }
   ],
   "source": [
    "printbits(1/3)  # 64 bits\n",
    "printbits(Float32(1/3))  # round to nearest 32-bit"
   ]
  },
  {
   "cell_type": "markdown",
   "metadata": {},
   "source": [
    "The default rounding mode can be changed:"
   ]
  },
  {
   "cell_type": "code",
   "execution_count": 15,
   "metadata": {
    "execution": {
     "iopub.execute_input": "2021-11-22T12:16:20.117535Z",
     "iopub.status.busy": "2021-11-22T12:16:20.116308Z",
     "iopub.status.idle": "2021-11-22T12:16:20.136375Z",
     "shell.execute_reply": "2021-11-22T12:16:20.135834Z"
    }
   },
   "outputs": [
    {
     "name": "stdout",
     "output_type": "stream",
     "text": [
      "\u001b[31m0\u001b[0m\u001b[32m01111101\u001b[0m\u001b[34m01010101010101010101010\u001b[0m"
     ]
    }
   ],
   "source": [
    "printbits(Float32(1/3,RoundDown) )"
   ]
  },
  {
   "cell_type": "markdown",
   "metadata": {},
   "source": [
    "Or alternatively we can change the rounding mode for a chunk of code\n",
    "using `setrounding`. The following changes `/` to round down:"
   ]
  },
  {
   "cell_type": "code",
   "execution_count": 16,
   "metadata": {
    "execution": {
     "iopub.execute_input": "2021-11-22T12:16:20.139243Z",
     "iopub.status.busy": "2021-11-22T12:16:20.138354Z",
     "iopub.status.idle": "2021-11-22T12:16:21.070886Z",
     "shell.execute_reply": "2021-11-22T12:16:21.070454Z"
    }
   },
   "outputs": [
    {
     "data": {
      "text/plain": [
       "0.33333334f0"
      ]
     },
     "execution_count": 16,
     "metadata": {},
     "output_type": "execute_result"
    }
   ],
   "source": [
    "setrounding(Float32, RoundDown) do\n",
    "    1f0/3\n",
    "end"
   ]
  },
  {
   "cell_type": "markdown",
   "metadata": {},
   "source": [
    "## Arithmetic\n",
    "\n",
    "A real number can have an infinite number of digits to represent exactly.  Define the operation that takes a real number \n",
    "to its `Float64` representation as ${\\rm round}$.\n",
    "\n",
    "The Arithmetic operations '+', '-', '*', '/', `^`, and `sqrt` are defined by the property that they are exact up to \n",
    "rounding.  That is, if `x` and `y` are `Float64`, we have\n",
    "$$\n",
    "x\\oplus y={\\rm round}(x+y)\n",
    "$$\n",
    "where in this formula $\\oplus$ denotes the floating point definition of `+` and + denotes the mathematical definition of +.  \n",
    "\n",
    "**Example** `1.1+0.1` gives a different result than `1.2`:"
   ]
  },
  {
   "cell_type": "code",
   "execution_count": 17,
   "metadata": {
    "execution": {
     "iopub.execute_input": "2021-11-22T12:16:21.073417Z",
     "iopub.status.busy": "2021-11-22T12:16:21.072550Z",
     "iopub.status.idle": "2021-11-22T12:16:21.075250Z",
     "shell.execute_reply": "2021-11-22T12:16:21.074807Z"
    }
   },
   "outputs": [
    {
     "data": {
      "text/plain": [
       "2.220446049250313e-16"
      ]
     },
     "execution_count": 17,
     "metadata": {},
     "output_type": "execute_result"
    }
   ],
   "source": [
    "x=1.1\n",
    "y=0.1\n",
    "x + y - 1.2 # Not Zero?!?"
   ]
  },
  {
   "cell_type": "markdown",
   "metadata": {},
   "source": [
    "This is because ${\\rm round}(1.1)\\neq1+1/10$, but rather:\n",
    "$$\n",
    "{\\rm round}(1.1) = 1 + 2^{-4}+2^{-5} + 2^{-8}+2^{-9}+\\cdots + 2^{-48}+2^{-49} + 2^{-51}= {2476979795053773 \\over 2251799813685248} = 1.1 +2^{-51} - 2^{-52} - 2^{-53} - 2^{-56} - 2^{-57} - \\cdots\n",
    "$$\n",
    "\n",
    "A very important number in numerical analysis is machine epsilon,\n",
    "$\\epsilon_{\\rm machine} := 2^{-P}$. This corresponds to the _relative error_ introduced\n",
    "by changing the last bit of a normal floating point number. \n",
    " This allows us to bound any basic arithmetic operation, e.g.,\n",
    "$$\n",
    "|x \\oplus y - (x + y)| \\leq |x+y| \\epsilon_{\\rm machine}\n",
    "$$\n",
    "\n",
    "## Special functions\n",
    "\n",
    "Other special functions like `cos`, `sin`, `exp`, etc. are _not_ part of the IEEE standard.\n",
    "Instead, they are implemented by composing the basic arithmetic operations, which accumulate\n",
    "errors. Fortunately they are all designed to have relative accuracy, that is, there exists\n",
    "reasonably small $c > 0$ such that, for `s = sin(x)` (that is, the Julia implementation of $sin(x)$) satisfies\n",
    "$$\n",
    "|s - \\sin x| \\leq |sin(x)| c\\epsilon_{\\rm machine}\n",
    "$$\n",
    "Note these special functions are written in (advanced) Julia code, for example, \n",
    "[sin](https://github.com/JuliaLang/julia/blob/d08b05df6f01cf4ec6e4c28ad94cedda76cc62e8/base/special/trig.jl#L76).\n",
    "\n",
    "\n",
    "**WARNING** This is an extremely misleading statement for large `x`. Consider\n",
    "the following demonstration of the statement:"
   ]
  },
  {
   "cell_type": "code",
   "execution_count": 18,
   "metadata": {
    "execution": {
     "iopub.execute_input": "2021-11-22T12:16:21.078043Z",
     "iopub.status.busy": "2021-11-22T12:16:21.077428Z",
     "iopub.status.idle": "2021-11-22T12:16:21.210052Z",
     "shell.execute_reply": "2021-11-22T12:16:21.209478Z"
    }
   },
   "outputs": [
    {
     "data": {
      "text/plain": [
       "true"
      ]
     },
     "execution_count": 18,
     "metadata": {},
     "output_type": "execute_result"
    }
   ],
   "source": [
    "ε = eps() # machine epsilon, 2^(-52)\n",
    "x = 2*10.0^100\n",
    "abs(sin(x) - sin(big(x)))  ≤  abs(sin(big(x))) * ε"
   ]
  },
  {
   "cell_type": "markdown",
   "metadata": {},
   "source": [
    "But if we instead compute `10^100` using `BigFloat` we get a completely different\n",
    "answer that even has the wrong sign!"
   ]
  },
  {
   "cell_type": "code",
   "execution_count": 19,
   "metadata": {
    "execution": {
     "iopub.execute_input": "2021-11-22T12:16:21.212178Z",
     "iopub.status.busy": "2021-11-22T12:16:21.211594Z",
     "iopub.status.idle": "2021-11-22T12:16:21.852064Z",
     "shell.execute_reply": "2021-11-22T12:16:21.851638Z"
    }
   },
   "outputs": [
    {
     "data": {
      "text/plain": [
       "(-0.703969872087777, 0.6911910845037462219623751594978914260403966392716944990360937340001300242965408)"
      ]
     },
     "execution_count": 19,
     "metadata": {},
     "output_type": "execute_result"
    }
   ],
   "source": [
    "x̃ = 2*big(10.0)^100\n",
    "sin(x), sin(x̃)"
   ]
  },
  {
   "cell_type": "markdown",
   "metadata": {},
   "source": [
    "This is because we commit an error on the order of roughly $2 * 10^100 * \\epsilon_{\\machine} \\approx 4.44 * 10^(84)$\n",
    "when we round $2*10^100$ to the nearest float."
   ]
  }
 ],
 "metadata": {
  "kernelspec": {
   "display_name": "Julia 1.6.1",
   "language": "julia",
   "name": "julia-1.6"
  },
  "language_info": {
   "file_extension": ".jl",
   "mimetype": "application/julia",
   "name": "julia",
   "version": "1.6.1"
  }
 },
 "nbformat": 4,
 "nbformat_minor": 2
}
