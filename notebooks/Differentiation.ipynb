{
 "cells": [
  {
   "cell_type": "markdown",
   "metadata": {},
   "source": [
    "# Differentiation\n",
    "\n",
    "We now get to our first computational problem: given a function, how can we approximate its derivative at a\n",
    "point? Before we begin, we must be clear what a \"function\" is. Consider three possible scenarios:\n",
    "\n",
    "1. _Black-box function_: Consider a function $f^{\\rm FP} : F_{p} \\rightarrow F_{p}$\n",
    "(that is, we are given a double precision function that takes in a `Float64` and returns another `Float64`)\n",
    "which we only know _pointwise_. This is the situation if we have a function that relies on a compiled C library.\n",
    "Since $F_{64}$ is a discrete set such an $f^{\\rm FP}$ cannot be differentiable in a rigorous way,\n",
    "therefore we need to assume that $f^{\\rm FP}$ approximates a differentiable function $f$ with controlled\n",
    "error in order to state anything precise.\n",
    "2. _Generic function_: Consider a function that is a piece of code that we can evaluate it on arbitrary types, including\n",
    "custom types that we create. This is the case if we have a function defined in Julia that does not call any\n",
    "C libraries. For analysis we typically consider both a differentiable function $f : {\\mathbb R} \\rightarrow {\\mathbb R}$,\n",
    "which would be what one would have if we could evaluate a function exactly using real arithmetic, and \n",
    "$f^{\\rm FP} : F_{p} \\rightarrow F_{p}$, which is what we actually compute when evaluating the function using \n",
    "floating point arithmetic.\n",
    "3. _Graph function_: The function is built by composing different basic \"kernels\" with known differentiability properties.\n",
    "We won't consider this situation in this module, though it is the model used by Python machine learning toolbox's\n",
    "like [PyTorch](https://pytorch.org) and [TensorFlow](http://tensorflow.org).\n",
    "\n",
    "We discuss the following techniques:\n",
    "\n",
    "1. Finite-differences: this uses the definition of a derivative that one learns in calculus to approximate its value.\n",
    "2. Dual numbers and forward-mode automatic differentiation: we define a special type that when applied to a function\n",
    "computes its derivative. This unsafe_store! _dual numbers_, which is analoguous to complex numbers.\n",
    "3. Adjoints and reverse-mode automatic differentiation: this is similar to applying the \"chain rule\" by building up\n",
    "a tape of operations. It's outside the scope of this module but is important for machine learning.\n",
    "4. Interpolation and differentiation: we can also differentiate functions _globally_, that is, in an interval instead of\n",
    "only a single point, which will be discussed later in the module.\n",
    "\n",
    "\n",
    "## 1. Finite-differences\n",
    "\n",
    "The definition \n",
    "$$\n",
    "f'(x) = \\lim_{h \\rightarrow 0} {f(x+h) - f(x) \\over h}\n",
    "$$\n",
    "tells us that\n",
    "$$\n",
    "f'(x) \\approx {f(x+h) - f(x) \\over h}\n",
    "$$\n",
    "provided that $h$ is sufficiently small. \n",
    "\n",
    "It's important to note that approximation uses only the _black-box_\n",
    "notion of a function but to obtain bounds we need more.\n",
    "\n",
    "If we know a bound on $f''(x)$ then Taylor's theorem tells us a precise bound:\n",
    "\n",
    "**Proposition**\n",
    "The error in approximating the derivative using finite differences is\n",
    "$$\n",
    "\\left|f'(x) - {f(x+h) - f(x) \\over h}\\right| \\leq {\\sup_{x \\leq t \\leq x+h} |f''(t)| \\over 2 h}\n",
    "$$\n",
    "\n",
    "**Proof**\n",
    "Follows immediately from Taylor's theorem:\n",
    "$$\n",
    "f(x+h) = f(x) + f'(x) h + {f''(\\chi) \\over 2} h^2\n",
    "$$\n",
    "for some $x < \\chi < x+h$.\n",
    "\n",
    "◼️\n",
    "\n",
    "\n",
    "\n",
    "\n",
    "There are also alternative versions of finite differences. Leftside finite-differences:\n",
    "$$\n",
    "f'(x) ≈ {f(x) - f(x-h) \\over h}\n",
    "$$\n",
    "and central differences:\n",
    "$$\n",
    "f'(x) ≈ {f(x + h/2) - f(x - h/2) \\over h}\n",
    "$$\n",
    "Composing these approximations is useful for higher-order derivatives as we \n",
    "discuss in the problem sheet.\n",
    "\n",
    "\n",
    "\n",
    "### Does finite-differences work with floating point arithmetic?\n",
    "\n",
    "Note this is assuming _real arithmetic_, the answer is drastically\n",
    "different with _floating point arithmetic_.\n",
    "\n",
    "Let's try differentiating two simple polynomials $f(x) = x + x^2$ and $g(x) = 1 + x + x^2$\n",
    "by applying the finite-difference approximation to their floating point implementations\n",
    "$f^{\\rm FP}$ and $g^{\\rm FP}$:"
   ]
  },
  {
   "cell_type": "code",
   "execution_count": 1,
   "metadata": {
    "execution": {
     "iopub.execute_input": "2021-12-01T22:13:17.891983Z",
     "iopub.status.busy": "2021-12-01T22:13:17.335897Z",
     "iopub.status.idle": "2021-12-01T22:13:18.744237Z",
     "shell.execute_reply": "2021-12-01T22:13:18.743675Z"
    }
   },
   "outputs": [
    {
     "data": {
      "text/plain": [
       "(1.000001, 1.000001000006634)"
      ]
     },
     "execution_count": 1,
     "metadata": {},
     "output_type": "execute_result"
    }
   ],
   "source": [
    "f = x -> x + x^2     # we treat f and g as black-boxs\n",
    "g = x -> 1 + x + x^2\n",
    "h = 0.000001\n",
    "(f(h)-f(0))/h, (g(h)-g(0))/h"
   ]
  },
  {
   "cell_type": "markdown",
   "metadata": {},
   "source": [
    "Both seem to roughly approximate the true derivatives (`1`).\n",
    "We can do a plot to see how fast the error goes down as we let $h$ become small."
   ]
  },
  {
   "cell_type": "code",
   "execution_count": 2,
   "metadata": {
    "execution": {
     "iopub.execute_input": "2021-12-01T22:13:18.746468Z",
     "iopub.status.busy": "2021-12-01T22:13:18.745904Z",
     "iopub.status.idle": "2021-12-01T22:13:33.579471Z",
     "shell.execute_reply": "2021-12-01T22:13:33.577569Z"
    }
   },
   "outputs": [
    {
     "data": {
      "image/svg+xml": [
       "<?xml version=\"1.0\" encoding=\"utf-8\"?>\n",
       "<svg xmlns=\"http://www.w3.org/2000/svg\" xmlns:xlink=\"http://www.w3.org/1999/xlink\" width=\"600\" height=\"400\" viewBox=\"0 0 2400 1600\">\n",
       "<defs>\n",
       "  <clipPath id=\"clip170\">\n",
       "    <rect x=\"0\" y=\"0\" width=\"2400\" height=\"1600\"/>\n",
       "  </clipPath>\n",
       "</defs>\n",
       "<path clip-path=\"url(#clip170)\" d=\"\n",
       "M0 1600 L2400 1600 L2400 0 L0 0  Z\n",
       "  \" fill=\"#ffffff\" fill-rule=\"evenodd\" fill-opacity=\"1\"/>\n",
       "<defs>\n",
       "  <clipPath id=\"clip171\">\n",
       "    <rect x=\"480\" y=\"0\" width=\"1681\" height=\"1600\"/>\n",
       "  </clipPath>\n",
       "</defs>\n",
       "<path clip-path=\"url(#clip170)\" d=\"\n",
       "M213.607 1486.45 L2352.76 1486.45 L2352.76 123.472 L213.607 123.472  Z\n",
       "  \" fill=\"#ffffff\" fill-rule=\"evenodd\" fill-opacity=\"1\"/>\n",
       "<defs>\n",
       "  <clipPath id=\"clip172\">\n",
       "    <rect x=\"213\" y=\"123\" width=\"2140\" height=\"1364\"/>\n",
       "  </clipPath>\n",
       "</defs>\n",
       "<polyline clip-path=\"url(#clip172)\" style=\"stroke:#000000; stroke-linecap:butt; stroke-linejoin:round; stroke-width:2; stroke-opacity:0.1; fill:none\" points=\"\n",
       "  526.407,1486.45 526.407,123.472 \n",
       "  \"/>\n",
       "<polyline clip-path=\"url(#clip172)\" style=\"stroke:#000000; stroke-linecap:butt; stroke-linejoin:round; stroke-width:2; stroke-opacity:0.1; fill:none\" points=\"\n",
       "  904.795,1486.45 904.795,123.472 \n",
       "  \"/>\n",
       "<polyline clip-path=\"url(#clip172)\" style=\"stroke:#000000; stroke-linecap:butt; stroke-linejoin:round; stroke-width:2; stroke-opacity:0.1; fill:none\" points=\"\n",
       "  1283.18,1486.45 1283.18,123.472 \n",
       "  \"/>\n",
       "<polyline clip-path=\"url(#clip172)\" style=\"stroke:#000000; stroke-linecap:butt; stroke-linejoin:round; stroke-width:2; stroke-opacity:0.1; fill:none\" points=\"\n",
       "  1661.57,1486.45 1661.57,123.472 \n",
       "  \"/>\n",
       "<polyline clip-path=\"url(#clip172)\" style=\"stroke:#000000; stroke-linecap:butt; stroke-linejoin:round; stroke-width:2; stroke-opacity:0.1; fill:none\" points=\"\n",
       "  2039.96,1486.45 2039.96,123.472 \n",
       "  \"/>\n",
       "<polyline clip-path=\"url(#clip170)\" style=\"stroke:#000000; stroke-linecap:butt; stroke-linejoin:round; stroke-width:4; stroke-opacity:1; fill:none\" points=\"\n",
       "  213.607,1486.45 2352.76,1486.45 \n",
       "  \"/>\n",
       "<polyline clip-path=\"url(#clip170)\" style=\"stroke:#000000; stroke-linecap:butt; stroke-linejoin:round; stroke-width:4; stroke-opacity:1; fill:none\" points=\"\n",
       "  526.407,1486.45 526.407,1467.55 \n",
       "  \"/>\n",
       "<polyline clip-path=\"url(#clip170)\" style=\"stroke:#000000; stroke-linecap:butt; stroke-linejoin:round; stroke-width:4; stroke-opacity:1; fill:none\" points=\"\n",
       "  904.795,1486.45 904.795,1467.55 \n",
       "  \"/>\n",
       "<polyline clip-path=\"url(#clip170)\" style=\"stroke:#000000; stroke-linecap:butt; stroke-linejoin:round; stroke-width:4; stroke-opacity:1; fill:none\" points=\"\n",
       "  1283.18,1486.45 1283.18,1467.55 \n",
       "  \"/>\n",
       "<polyline clip-path=\"url(#clip170)\" style=\"stroke:#000000; stroke-linecap:butt; stroke-linejoin:round; stroke-width:4; stroke-opacity:1; fill:none\" points=\"\n",
       "  1661.57,1486.45 1661.57,1467.55 \n",
       "  \"/>\n",
       "<polyline clip-path=\"url(#clip170)\" style=\"stroke:#000000; stroke-linecap:butt; stroke-linejoin:round; stroke-width:4; stroke-opacity:1; fill:none\" points=\"\n",
       "  2039.96,1486.45 2039.96,1467.55 \n",
       "  \"/>\n",
       "<path clip-path=\"url(#clip170)\" d=\"M530.655 1530.21 Q534.012 1530.93 535.887 1533.2 Q537.785 1535.47 537.785 1538.8 Q537.785 1543.92 534.266 1546.72 Q530.748 1549.52 524.266 1549.52 Q522.09 1549.52 519.776 1549.08 Q517.484 1548.66 515.03 1547.81 L515.03 1543.29 Q516.975 1544.43 519.289 1545.01 Q521.604 1545.58 524.127 1545.58 Q528.526 1545.58 530.817 1543.85 Q533.132 1542.11 533.132 1538.8 Q533.132 1535.75 530.979 1534.03 Q528.85 1532.3 525.03 1532.3 L521.002 1532.3 L521.002 1528.45 L525.215 1528.45 Q528.664 1528.45 530.493 1527.09 Q532.322 1525.7 532.322 1523.11 Q532.322 1520.45 530.424 1519.03 Q528.549 1517.6 525.03 1517.6 Q523.109 1517.6 520.91 1518.01 Q518.711 1518.43 516.072 1519.31 L516.072 1515.14 Q518.734 1514.4 521.049 1514.03 Q523.387 1513.66 525.447 1513.66 Q530.771 1513.66 533.873 1516.09 Q536.975 1518.5 536.975 1522.62 Q536.975 1525.49 535.331 1527.48 Q533.688 1529.45 530.655 1530.21 Z\" fill=\"#000000\" fill-rule=\"evenodd\" fill-opacity=\"1\" /><path clip-path=\"url(#clip170)\" d=\"M905.2 1529.7 Q902.052 1529.7 900.2 1531.86 Q898.371 1534.01 898.371 1537.76 Q898.371 1541.49 900.2 1543.66 Q902.052 1545.82 905.2 1545.82 Q908.348 1545.82 910.177 1543.66 Q912.028 1541.49 912.028 1537.76 Q912.028 1534.01 910.177 1531.86 Q908.348 1529.7 905.2 1529.7 M914.482 1515.05 L914.482 1519.31 Q912.723 1518.48 910.917 1518.04 Q909.135 1517.6 907.376 1517.6 Q902.746 1517.6 900.292 1520.72 Q897.862 1523.85 897.515 1530.17 Q898.88 1528.15 900.94 1527.09 Q903.001 1526 905.477 1526 Q910.686 1526 913.695 1529.17 Q916.727 1532.32 916.727 1537.76 Q916.727 1543.08 913.579 1546.3 Q910.431 1549.52 905.2 1549.52 Q899.204 1549.52 896.033 1544.94 Q892.862 1540.33 892.862 1531.6 Q892.862 1523.41 896.751 1518.55 Q900.64 1513.66 907.19 1513.66 Q908.95 1513.66 910.732 1514.01 Q912.538 1514.36 914.482 1515.05 Z\" fill=\"#000000\" fill-rule=\"evenodd\" fill-opacity=\"1\" /><path clip-path=\"url(#clip170)\" d=\"M1273.48 1548.13 L1273.48 1543.87 Q1275.24 1544.7 1277.05 1545.14 Q1278.85 1545.58 1280.59 1545.58 Q1285.22 1545.58 1287.65 1542.48 Q1290.1 1539.36 1290.45 1533.01 Q1289.11 1535.01 1287.05 1536.07 Q1284.99 1537.13 1282.49 1537.13 Q1277.3 1537.13 1274.27 1534.01 Q1271.26 1530.86 1271.26 1525.42 Q1271.26 1520.1 1274.41 1516.88 Q1277.56 1513.66 1282.79 1513.66 Q1288.78 1513.66 1291.93 1518.27 Q1295.1 1522.85 1295.1 1531.6 Q1295.1 1539.77 1291.21 1544.66 Q1287.35 1549.52 1280.8 1549.52 Q1279.04 1549.52 1277.23 1549.17 Q1275.43 1548.82 1273.48 1548.13 M1282.79 1533.48 Q1285.94 1533.48 1287.77 1531.32 Q1289.62 1529.17 1289.62 1525.42 Q1289.62 1521.7 1287.77 1519.54 Q1285.94 1517.37 1282.79 1517.37 Q1279.64 1517.37 1277.79 1519.54 Q1275.96 1521.7 1275.96 1525.42 Q1275.96 1529.17 1277.79 1531.32 Q1279.64 1533.48 1282.79 1533.48 Z\" fill=\"#000000\" fill-rule=\"evenodd\" fill-opacity=\"1\" /><path clip-path=\"url(#clip170)\" d=\"M1637.06 1544.91 L1644.69 1544.91 L1644.69 1518.55 L1636.38 1520.21 L1636.38 1515.95 L1644.65 1514.29 L1649.32 1514.29 L1649.32 1544.91 L1656.96 1544.91 L1656.96 1548.85 L1637.06 1548.85 L1637.06 1544.91 Z\" fill=\"#000000\" fill-rule=\"evenodd\" fill-opacity=\"1\" /><path clip-path=\"url(#clip170)\" d=\"M1670.43 1544.91 L1686.75 1544.91 L1686.75 1548.85 L1664.81 1548.85 L1664.81 1544.91 Q1667.47 1542.16 1672.05 1537.53 Q1676.66 1532.88 1677.84 1531.53 Q1680.09 1529.01 1680.97 1527.27 Q1681.87 1525.51 1681.87 1523.82 Q1681.87 1521.07 1679.93 1519.33 Q1678 1517.6 1674.9 1517.6 Q1672.7 1517.6 1670.25 1518.36 Q1667.82 1519.13 1665.04 1520.68 L1665.04 1515.95 Q1667.87 1514.82 1670.32 1514.24 Q1672.77 1513.66 1674.81 1513.66 Q1680.18 1513.66 1683.37 1516.35 Q1686.57 1519.03 1686.57 1523.52 Q1686.57 1525.65 1685.76 1527.57 Q1684.97 1529.47 1682.86 1532.07 Q1682.29 1532.74 1679.18 1535.95 Q1676.08 1539.15 1670.43 1544.91 Z\" fill=\"#000000\" fill-rule=\"evenodd\" fill-opacity=\"1\" /><path clip-path=\"url(#clip170)\" d=\"M2015.14 1544.91 L2022.78 1544.91 L2022.78 1518.55 L2014.47 1520.21 L2014.47 1515.95 L2022.73 1514.29 L2027.41 1514.29 L2027.41 1544.91 L2035.05 1544.91 L2035.05 1548.85 L2015.14 1548.85 L2015.14 1544.91 Z\" fill=\"#000000\" fill-rule=\"evenodd\" fill-opacity=\"1\" /><path clip-path=\"url(#clip170)\" d=\"M2044.54 1514.29 L2062.9 1514.29 L2062.9 1518.22 L2048.82 1518.22 L2048.82 1526.7 Q2049.84 1526.35 2050.86 1526.19 Q2051.88 1526 2052.9 1526 Q2058.68 1526 2062.06 1529.17 Q2065.44 1532.34 2065.44 1537.76 Q2065.44 1543.34 2061.97 1546.44 Q2058.5 1549.52 2052.18 1549.52 Q2050 1549.52 2047.73 1549.15 Q2045.49 1548.78 2043.08 1548.04 L2043.08 1543.34 Q2045.16 1544.47 2047.39 1545.03 Q2049.61 1545.58 2052.09 1545.58 Q2056.09 1545.58 2058.43 1543.48 Q2060.77 1541.37 2060.77 1537.76 Q2060.77 1534.15 2058.43 1532.04 Q2056.09 1529.94 2052.09 1529.94 Q2050.21 1529.94 2048.34 1530.35 Q2046.48 1530.77 2044.54 1531.65 L2044.54 1514.29 Z\" fill=\"#000000\" fill-rule=\"evenodd\" fill-opacity=\"1\" /><polyline clip-path=\"url(#clip172)\" style=\"stroke:#000000; stroke-linecap:butt; stroke-linejoin:round; stroke-width:2; stroke-opacity:0.1; fill:none\" points=\"\n",
       "  213.607,983.474 2352.76,983.474 \n",
       "  \"/>\n",
       "<polyline clip-path=\"url(#clip172)\" style=\"stroke:#000000; stroke-linecap:butt; stroke-linejoin:round; stroke-width:2; stroke-opacity:0.1; fill:none\" points=\"\n",
       "  213.607,162.047 2352.76,162.047 \n",
       "  \"/>\n",
       "<polyline clip-path=\"url(#clip170)\" style=\"stroke:#000000; stroke-linecap:butt; stroke-linejoin:round; stroke-width:4; stroke-opacity:1; fill:none\" points=\"\n",
       "  213.607,1486.45 213.607,123.472 \n",
       "  \"/>\n",
       "<polyline clip-path=\"url(#clip170)\" style=\"stroke:#000000; stroke-linecap:butt; stroke-linejoin:round; stroke-width:4; stroke-opacity:1; fill:none\" points=\"\n",
       "  213.607,983.474 232.505,983.474 \n",
       "  \"/>\n",
       "<polyline clip-path=\"url(#clip170)\" style=\"stroke:#000000; stroke-linecap:butt; stroke-linejoin:round; stroke-width:4; stroke-opacity:1; fill:none\" points=\"\n",
       "  213.607,162.047 232.505,162.047 \n",
       "  \"/>\n",
       "<path clip-path=\"url(#clip170)\" d=\"M51.6634 1003.27 L59.3023 1003.27 L59.3023 976.901 L50.9921 978.568 L50.9921 974.308 L59.256 972.642 L63.9319 972.642 L63.9319 1003.27 L71.5707 1003.27 L71.5707 1007.2 L51.6634 1007.2 L51.6634 1003.27 Z\" fill=\"#000000\" fill-rule=\"evenodd\" fill-opacity=\"1\" /><path clip-path=\"url(#clip170)\" d=\"M91.0151 975.721 Q87.404 975.721 85.5753 979.285 Q83.7697 982.827 83.7697 989.957 Q83.7697 997.063 85.5753 1000.63 Q87.404 1004.17 91.0151 1004.17 Q94.6493 1004.17 96.4548 1000.63 Q98.2835 997.063 98.2835 989.957 Q98.2835 982.827 96.4548 979.285 Q94.6493 975.721 91.0151 975.721 M91.0151 972.017 Q96.8252 972.017 99.8808 976.623 Q102.959 981.207 102.959 989.957 Q102.959 998.683 99.8808 1003.29 Q96.8252 1007.87 91.0151 1007.87 Q85.2049 1007.87 82.1262 1003.29 Q79.0707 998.683 79.0707 989.957 Q79.0707 981.207 82.1262 976.623 Q85.2049 972.017 91.0151 972.017 Z\" fill=\"#000000\" fill-rule=\"evenodd\" fill-opacity=\"1\" /><path clip-path=\"url(#clip170)\" d=\"M102.959 966.118 L127.071 966.118 L127.071 969.316 L102.959 969.316 L102.959 966.118 Z\" fill=\"#000000\" fill-rule=\"evenodd\" fill-opacity=\"1\" /><path clip-path=\"url(#clip170)\" d=\"M135.929 976.594 L142.136 976.594 L142.136 955.172 L135.384 956.526 L135.384 953.066 L142.098 951.711 L145.898 951.711 L145.898 976.594 L152.104 976.594 L152.104 979.791 L135.929 979.791 L135.929 976.594 Z\" fill=\"#000000\" fill-rule=\"evenodd\" fill-opacity=\"1\" /><path clip-path=\"url(#clip170)\" d=\"M167.903 954.213 Q164.969 954.213 163.483 957.109 Q162.016 959.987 162.016 965.78 Q162.016 971.554 163.483 974.45 Q164.969 977.328 167.903 977.328 Q170.855 977.328 172.322 974.45 Q173.808 971.554 173.808 965.78 Q173.808 959.987 172.322 957.109 Q170.855 954.213 167.903 954.213 M167.903 951.204 Q172.623 951.204 175.106 954.946 Q177.607 958.67 177.607 965.78 Q177.607 972.87 175.106 976.613 Q172.623 980.337 167.903 980.337 Q163.182 980.337 160.68 976.613 Q158.198 972.87 158.198 965.78 Q158.198 958.67 160.68 954.946 Q163.182 951.204 167.903 951.204 Z\" fill=\"#000000\" fill-rule=\"evenodd\" fill-opacity=\"1\" /><path clip-path=\"url(#clip170)\" d=\"M106.902 181.839 L114.541 181.839 L114.541 155.474 L106.231 157.14 L106.231 152.881 L114.494 151.215 L119.17 151.215 L119.17 181.839 L126.809 181.839 L126.809 185.775 L106.902 185.775 L106.902 181.839 Z\" fill=\"#000000\" fill-rule=\"evenodd\" fill-opacity=\"1\" /><path clip-path=\"url(#clip170)\" d=\"M146.253 154.293 Q142.642 154.293 140.814 157.858 Q139.008 161.4 139.008 168.529 Q139.008 175.636 140.814 179.2 Q142.642 182.742 146.253 182.742 Q149.888 182.742 151.693 179.2 Q153.522 175.636 153.522 168.529 Q153.522 161.4 151.693 157.858 Q149.888 154.293 146.253 154.293 M146.253 150.59 Q152.064 150.59 155.119 155.196 Q158.198 159.779 158.198 168.529 Q158.198 177.256 155.119 181.862 Q152.064 186.446 146.253 186.446 Q140.443 186.446 137.365 181.862 Q134.309 177.256 134.309 168.529 Q134.309 159.779 137.365 155.196 Q140.443 150.59 146.253 150.59 Z\" fill=\"#000000\" fill-rule=\"evenodd\" fill-opacity=\"1\" /><path clip-path=\"url(#clip170)\" d=\"M167.903 132.786 Q164.969 132.786 163.483 135.682 Q162.016 138.56 162.016 144.352 Q162.016 150.126 163.483 153.023 Q164.969 155.9 167.903 155.9 Q170.855 155.9 172.322 153.023 Q173.808 150.126 173.808 144.352 Q173.808 138.56 172.322 135.682 Q170.855 132.786 167.903 132.786 M167.903 129.776 Q172.623 129.776 175.106 133.519 Q177.607 137.243 177.607 144.352 Q177.607 151.443 175.106 155.186 Q172.623 158.91 167.903 158.91 Q163.182 158.91 160.68 155.186 Q158.198 151.443 158.198 144.352 Q158.198 137.243 160.68 133.519 Q163.182 129.776 167.903 129.776 Z\" fill=\"#000000\" fill-rule=\"evenodd\" fill-opacity=\"1\" /><path clip-path=\"url(#clip170)\" d=\"M759.825 28.9478 L759.825 35.9153 Q756.665 34.1734 753.465 33.3227 Q750.305 32.4315 747.065 32.4315 Q739.814 32.4315 735.803 37.0496 Q731.793 41.6271 731.793 49.9314 Q731.793 58.2358 735.803 62.8538 Q739.814 67.4314 747.065 67.4314 Q750.305 67.4314 753.465 66.5807 Q756.665 65.6895 759.825 63.9476 L759.825 70.8341 Q756.706 72.2924 753.344 73.0216 Q750.022 73.7508 746.255 73.7508 Q736.006 73.7508 729.97 67.3098 Q723.934 60.8689 723.934 49.9314 Q723.934 38.832 730.01 32.472 Q736.127 26.1121 746.741 26.1121 Q750.184 26.1121 753.465 26.8413 Q756.746 27.5299 759.825 28.9478 Z\" fill=\"#000000\" fill-rule=\"evenodd\" fill-opacity=\"1\" /><path clip-path=\"url(#clip170)\" d=\"M790.369 32.4315 Q784.374 32.4315 780.89 37.1306 Q777.406 41.7891 777.406 49.9314 Q777.406 58.0738 780.849 62.7728 Q784.333 67.4314 790.369 67.4314 Q796.324 67.4314 799.808 62.7323 Q803.291 58.0333 803.291 49.9314 Q803.291 41.8701 799.808 37.1711 Q796.324 32.4315 790.369 32.4315 M790.369 26.1121 Q800.091 26.1121 805.641 32.4315 Q811.191 38.7509 811.191 49.9314 Q811.191 61.0714 805.641 67.4314 Q800.091 73.7508 790.369 73.7508 Q780.606 73.7508 775.057 67.4314 Q769.547 61.0714 769.547 49.9314 Q769.547 38.7509 775.057 32.4315 Q780.606 26.1121 790.369 26.1121 Z\" fill=\"#000000\" fill-rule=\"evenodd\" fill-opacity=\"1\" /><path clip-path=\"url(#clip170)\" d=\"M861.26 45.1919 L861.26 72.576 L853.806 72.576 L853.806 45.4349 Q853.806 38.994 851.295 35.7938 Q848.783 32.5936 843.76 32.5936 Q837.724 32.5936 834.24 36.4419 Q830.756 40.2903 830.756 46.9338 L830.756 72.576 L823.262 72.576 L823.262 27.2059 L830.756 27.2059 L830.756 34.2544 Q833.43 30.163 837.035 28.1376 Q840.681 26.1121 845.421 26.1121 Q853.239 26.1121 857.249 30.9732 Q861.26 35.7938 861.26 45.1919 Z\" fill=\"#000000\" fill-rule=\"evenodd\" fill-opacity=\"1\" /><path clip-path=\"url(#clip170)\" d=\"M870.779 27.2059 L878.679 27.2059 L892.857 65.2844 L907.035 27.2059 L914.934 27.2059 L897.92 72.576 L887.793 72.576 L870.779 27.2059 Z\" fill=\"#000000\" fill-rule=\"evenodd\" fill-opacity=\"1\" /><path clip-path=\"url(#clip170)\" d=\"M964.031 48.0275 L964.031 51.6733 L929.761 51.6733 Q930.247 59.3701 934.379 63.421 Q938.551 67.4314 945.964 67.4314 Q950.258 67.4314 954.269 66.3781 Q958.319 65.3249 962.289 63.2184 L962.289 70.267 Q958.279 71.9684 954.066 72.8596 Q949.853 73.7508 945.519 73.7508 Q934.662 73.7508 928.302 67.4314 Q921.983 61.1119 921.983 50.3365 Q921.983 39.1965 927.978 32.6746 Q934.014 26.1121 944.222 26.1121 Q953.377 26.1121 958.684 32.0264 Q964.031 37.9003 964.031 48.0275 M956.578 45.84 Q956.497 39.7232 953.134 36.0774 Q949.813 32.4315 944.303 32.4315 Q938.065 32.4315 934.298 35.9558 Q930.571 39.4801 930.004 45.8805 L956.578 45.84 Z\" fill=\"#000000\" fill-rule=\"evenodd\" fill-opacity=\"1\" /><path clip-path=\"url(#clip170)\" d=\"M1002.56 34.1734 Q1001.3 33.4443 999.801 33.1202 Q998.342 32.7556 996.56 32.7556 Q990.241 32.7556 986.838 36.8875 Q983.476 40.9789 983.476 48.6757 L983.476 72.576 L975.981 72.576 L975.981 27.2059 L983.476 27.2059 L983.476 34.2544 Q985.825 30.1225 989.592 28.1376 Q993.36 26.1121 998.747 26.1121 Q999.517 26.1121 1000.45 26.2337 Q1001.38 26.3147 1002.51 26.5172 L1002.56 34.1734 Z\" fill=\"#000000\" fill-rule=\"evenodd\" fill-opacity=\"1\" /><path clip-path=\"url(#clip170)\" d=\"M1038.77 49.3643 Q1038.77 41.2625 1035.41 36.8065 Q1032.09 32.3505 1026.05 32.3505 Q1020.06 32.3505 1016.69 36.8065 Q1013.37 41.2625 1013.37 49.3643 Q1013.37 57.4256 1016.69 61.8816 Q1020.06 66.3376 1026.05 66.3376 Q1032.09 66.3376 1035.41 61.8816 Q1038.77 57.4256 1038.77 49.3643 M1046.22 66.9452 Q1046.22 78.5308 1041.08 84.1616 Q1035.93 89.8329 1025.32 89.8329 Q1021.39 89.8329 1017.91 89.2252 Q1014.42 88.6581 1011.14 87.4428 L1011.14 80.1917 Q1014.42 81.9741 1017.62 82.8248 Q1020.82 83.6755 1024.15 83.6755 Q1031.48 83.6755 1035.12 79.8271 Q1038.77 76.0193 1038.77 68.282 L1038.77 64.5957 Q1036.46 68.6061 1032.86 70.5911 Q1029.25 72.576 1024.23 72.576 Q1015.88 72.576 1010.78 66.2161 Q1005.67 59.8562 1005.67 49.3643 Q1005.67 38.832 1010.78 32.472 Q1015.88 26.1121 1024.23 26.1121 Q1029.25 26.1121 1032.86 28.0971 Q1036.46 30.082 1038.77 34.0924 L1038.77 27.2059 L1046.22 27.2059 L1046.22 66.9452 Z\" fill=\"#000000\" fill-rule=\"evenodd\" fill-opacity=\"1\" /><path clip-path=\"url(#clip170)\" d=\"M1100.38 48.0275 L1100.38 51.6733 L1066.11 51.6733 Q1066.6 59.3701 1070.73 63.421 Q1074.9 67.4314 1082.32 67.4314 Q1086.61 67.4314 1090.62 66.3781 Q1094.67 65.3249 1098.64 63.2184 L1098.64 70.267 Q1094.63 71.9684 1090.42 72.8596 Q1086.21 73.7508 1081.87 73.7508 Q1071.02 73.7508 1064.66 67.4314 Q1058.34 61.1119 1058.34 50.3365 Q1058.34 39.1965 1064.33 32.6746 Q1070.37 26.1121 1080.58 26.1121 Q1089.73 26.1121 1095.04 32.0264 Q1100.38 37.9003 1100.38 48.0275 M1092.93 45.84 Q1092.85 39.7232 1089.49 36.0774 Q1086.17 32.4315 1080.66 32.4315 Q1074.42 32.4315 1070.65 35.9558 Q1066.92 39.4801 1066.36 45.8805 L1092.93 45.84 Z\" fill=\"#000000\" fill-rule=\"evenodd\" fill-opacity=\"1\" /><path clip-path=\"url(#clip170)\" d=\"M1150.33 45.1919 L1150.33 72.576 L1142.88 72.576 L1142.88 45.4349 Q1142.88 38.994 1140.37 35.7938 Q1137.86 32.5936 1132.83 32.5936 Q1126.8 32.5936 1123.31 36.4419 Q1119.83 40.2903 1119.83 46.9338 L1119.83 72.576 L1112.33 72.576 L1112.33 27.2059 L1119.83 27.2059 L1119.83 34.2544 Q1122.5 30.163 1126.11 28.1376 Q1129.75 26.1121 1134.49 26.1121 Q1142.31 26.1121 1146.32 30.9732 Q1150.33 35.7938 1150.33 45.1919 Z\" fill=\"#000000\" fill-rule=\"evenodd\" fill-opacity=\"1\" /><path clip-path=\"url(#clip170)\" d=\"M1197.85 28.9478 L1197.85 35.9153 Q1194.69 34.1734 1191.49 33.3227 Q1188.33 32.4315 1185.09 32.4315 Q1177.84 32.4315 1173.83 37.0496 Q1169.82 41.6271 1169.82 49.9314 Q1169.82 58.2358 1173.83 62.8538 Q1177.84 67.4314 1185.09 67.4314 Q1188.33 67.4314 1191.49 66.5807 Q1194.69 65.6895 1197.85 63.9476 L1197.85 70.8341 Q1194.73 72.2924 1191.37 73.0216 Q1188.05 73.7508 1184.28 73.7508 Q1174.03 73.7508 1167.99 67.3098 Q1161.96 60.8689 1161.96 49.9314 Q1161.96 38.832 1168.03 32.472 Q1174.15 26.1121 1184.76 26.1121 Q1188.21 26.1121 1191.49 26.8413 Q1194.77 27.5299 1197.85 28.9478 Z\" fill=\"#000000\" fill-rule=\"evenodd\" fill-opacity=\"1\" /><path clip-path=\"url(#clip170)\" d=\"M1249.62 48.0275 L1249.62 51.6733 L1215.35 51.6733 Q1215.84 59.3701 1219.97 63.421 Q1224.14 67.4314 1231.55 67.4314 Q1235.85 67.4314 1239.86 66.3781 Q1243.91 65.3249 1247.88 63.2184 L1247.88 70.267 Q1243.87 71.9684 1239.65 72.8596 Q1235.44 73.7508 1231.11 73.7508 Q1220.25 73.7508 1213.89 67.4314 Q1207.57 61.1119 1207.57 50.3365 Q1207.57 39.1965 1213.57 32.6746 Q1219.6 26.1121 1229.81 26.1121 Q1238.97 26.1121 1244.27 32.0264 Q1249.62 37.9003 1249.62 48.0275 M1242.17 45.84 Q1242.09 39.7232 1238.72 36.0774 Q1235.4 32.4315 1229.89 32.4315 Q1223.65 32.4315 1219.89 35.9558 Q1216.16 39.4801 1215.59 45.8805 L1242.17 45.84 Z\" fill=\"#000000\" fill-rule=\"evenodd\" fill-opacity=\"1\" /><path clip-path=\"url(#clip170)\" d=\"M1305.81 32.4315 Q1299.81 32.4315 1296.33 37.1306 Q1292.84 41.7891 1292.84 49.9314 Q1292.84 58.0738 1296.29 62.7728 Q1299.77 67.4314 1305.81 67.4314 Q1311.76 67.4314 1315.24 62.7323 Q1318.73 58.0333 1318.73 49.9314 Q1318.73 41.8701 1315.24 37.1711 Q1311.76 32.4315 1305.81 32.4315 M1305.81 26.1121 Q1315.53 26.1121 1321.08 32.4315 Q1326.63 38.7509 1326.63 49.9314 Q1326.63 61.0714 1321.08 67.4314 Q1315.53 73.7508 1305.81 73.7508 Q1296.04 73.7508 1290.49 67.4314 Q1284.98 61.0714 1284.98 49.9314 Q1284.98 38.7509 1290.49 32.4315 Q1296.04 26.1121 1305.81 26.1121 Z\" fill=\"#000000\" fill-rule=\"evenodd\" fill-opacity=\"1\" /><path clip-path=\"url(#clip170)\" d=\"M1361.95 9.54393 L1361.95 15.7418 L1354.82 15.7418 Q1350.81 15.7418 1349.23 17.3622 Q1347.69 18.9825 1347.69 23.1955 L1347.69 27.2059 L1359.97 27.2059 L1359.97 32.9987 L1347.69 32.9987 L1347.69 72.576 L1340.2 72.576 L1340.2 32.9987 L1333.07 32.9987 L1333.07 27.2059 L1340.2 27.2059 L1340.2 24.0462 Q1340.2 16.471 1343.72 13.0277 Q1347.25 9.54393 1354.9 9.54393 L1361.95 9.54393 Z\" fill=\"#000000\" fill-rule=\"evenodd\" fill-opacity=\"1\" /><path clip-path=\"url(#clip170)\" d=\"M1424.42 34.0924 L1424.42 9.54393 L1431.87 9.54393 L1431.87 72.576 L1424.42 72.576 L1424.42 65.7705 Q1422.07 69.8214 1418.46 71.8063 Q1414.9 73.7508 1409.87 73.7508 Q1401.65 73.7508 1396.47 67.1883 Q1391.32 60.6258 1391.32 49.9314 Q1391.32 39.2371 1396.47 32.6746 Q1401.65 26.1121 1409.87 26.1121 Q1414.9 26.1121 1418.46 28.0971 Q1422.07 30.0415 1424.42 34.0924 M1399.02 49.9314 Q1399.02 58.1548 1402.38 62.8538 Q1405.78 67.5124 1411.7 67.5124 Q1417.61 67.5124 1421.01 62.8538 Q1424.42 58.1548 1424.42 49.9314 Q1424.42 41.7081 1421.01 37.0496 Q1417.61 32.3505 1411.7 32.3505 Q1405.78 32.3505 1402.38 37.0496 Q1399.02 41.7081 1399.02 49.9314 Z\" fill=\"#000000\" fill-rule=\"evenodd\" fill-opacity=\"1\" /><path clip-path=\"url(#clip170)\" d=\"M1486.03 48.0275 L1486.03 51.6733 L1451.76 51.6733 Q1452.25 59.3701 1456.38 63.421 Q1460.55 67.4314 1467.96 67.4314 Q1472.26 67.4314 1476.27 66.3781 Q1480.32 65.3249 1484.29 63.2184 L1484.29 70.267 Q1480.28 71.9684 1476.07 72.8596 Q1471.85 73.7508 1467.52 73.7508 Q1456.66 73.7508 1450.3 67.4314 Q1443.98 61.1119 1443.98 50.3365 Q1443.98 39.1965 1449.98 32.6746 Q1456.01 26.1121 1466.22 26.1121 Q1475.38 26.1121 1480.68 32.0264 Q1486.03 37.9003 1486.03 48.0275 M1478.58 45.84 Q1478.5 39.7232 1475.13 36.0774 Q1471.81 32.4315 1466.3 32.4315 Q1460.06 32.4315 1456.3 35.9558 Q1452.57 39.4801 1452 45.8805 L1478.58 45.84 Z\" fill=\"#000000\" fill-rule=\"evenodd\" fill-opacity=\"1\" /><path clip-path=\"url(#clip170)\" d=\"M1524.55 34.1734 Q1523.3 33.4443 1521.8 33.1202 Q1520.34 32.7556 1518.56 32.7556 Q1512.24 32.7556 1508.84 36.8875 Q1505.48 40.9789 1505.48 48.6757 L1505.48 72.576 L1497.98 72.576 L1497.98 27.2059 L1505.48 27.2059 L1505.48 34.2544 Q1507.82 30.1225 1511.59 28.1376 Q1515.36 26.1121 1520.75 26.1121 Q1521.52 26.1121 1522.45 26.2337 Q1523.38 26.3147 1524.51 26.5172 L1524.55 34.1734 Z\" fill=\"#000000\" fill-rule=\"evenodd\" fill-opacity=\"1\" /><path clip-path=\"url(#clip170)\" d=\"M1532.37 27.2059 L1539.83 27.2059 L1539.83 72.576 L1532.37 72.576 L1532.37 27.2059 M1532.37 9.54393 L1539.83 9.54393 L1539.83 18.9825 L1532.37 18.9825 L1532.37 9.54393 Z\" fill=\"#000000\" fill-rule=\"evenodd\" fill-opacity=\"1\" /><path clip-path=\"url(#clip170)\" d=\"M1550.08 27.2059 L1557.97 27.2059 L1572.15 65.2844 L1586.33 27.2059 L1594.23 27.2059 L1577.22 72.576 L1567.09 72.576 L1550.08 27.2059 Z\" fill=\"#000000\" fill-rule=\"evenodd\" fill-opacity=\"1\" /><path clip-path=\"url(#clip170)\" d=\"M1625.14 49.7694 Q1616.11 49.7694 1612.62 51.8354 Q1609.14 53.9013 1609.14 58.8839 Q1609.14 62.8538 1611.73 65.2034 Q1614.36 67.5124 1618.86 67.5124 Q1625.06 67.5124 1628.78 63.1374 Q1632.55 58.7219 1632.55 51.4303 L1632.55 49.7694 L1625.14 49.7694 M1640.01 46.6907 L1640.01 72.576 L1632.55 72.576 L1632.55 65.6895 Q1630 69.8214 1626.19 71.8063 Q1622.38 73.7508 1616.87 73.7508 Q1609.91 73.7508 1605.78 69.8619 Q1601.68 65.9325 1601.68 59.3701 Q1601.68 51.7138 1606.79 47.825 Q1611.93 43.9361 1622.1 43.9361 L1632.55 43.9361 L1632.55 43.2069 Q1632.55 38.0623 1629.15 35.2672 Q1625.79 32.4315 1619.67 32.4315 Q1615.78 32.4315 1612.09 33.3632 Q1608.41 34.295 1605.01 36.1584 L1605.01 29.2718 Q1609.1 27.692 1612.95 26.9223 Q1616.79 26.1121 1620.44 26.1121 Q1630.28 26.1121 1635.14 31.2163 Q1640.01 36.3204 1640.01 46.6907 Z\" fill=\"#000000\" fill-rule=\"evenodd\" fill-opacity=\"1\" /><path clip-path=\"url(#clip170)\" d=\"M1662.73 14.324 L1662.73 27.2059 L1678.08 27.2059 L1678.08 32.9987 L1662.73 32.9987 L1662.73 57.6282 Q1662.73 63.1779 1664.23 64.7578 Q1665.77 66.3376 1670.43 66.3376 L1678.08 66.3376 L1678.08 72.576 L1670.43 72.576 Q1661.8 72.576 1658.52 69.3758 Q1655.24 66.1351 1655.24 57.6282 L1655.24 32.9987 L1649.77 32.9987 L1649.77 27.2059 L1655.24 27.2059 L1655.24 14.324 L1662.73 14.324 Z\" fill=\"#000000\" fill-rule=\"evenodd\" fill-opacity=\"1\" /><path clip-path=\"url(#clip170)\" d=\"M1687.89 27.2059 L1695.34 27.2059 L1695.34 72.576 L1687.89 72.576 L1687.89 27.2059 M1687.89 9.54393 L1695.34 9.54393 L1695.34 18.9825 L1687.89 18.9825 L1687.89 9.54393 Z\" fill=\"#000000\" fill-rule=\"evenodd\" fill-opacity=\"1\" /><path clip-path=\"url(#clip170)\" d=\"M1705.59 27.2059 L1713.49 27.2059 L1727.67 65.2844 L1741.85 27.2059 L1749.74 27.2059 L1732.73 72.576 L1722.6 72.576 L1705.59 27.2059 Z\" fill=\"#000000\" fill-rule=\"evenodd\" fill-opacity=\"1\" /><path clip-path=\"url(#clip170)\" d=\"M1798.84 48.0275 L1798.84 51.6733 L1764.57 51.6733 Q1765.06 59.3701 1769.19 63.421 Q1773.36 67.4314 1780.77 67.4314 Q1785.07 67.4314 1789.08 66.3781 Q1793.13 65.3249 1797.1 63.2184 L1797.1 70.267 Q1793.09 71.9684 1788.88 72.8596 Q1784.66 73.7508 1780.33 73.7508 Q1769.47 73.7508 1763.11 67.4314 Q1756.79 61.1119 1756.79 50.3365 Q1756.79 39.1965 1762.79 32.6746 Q1768.82 26.1121 1779.03 26.1121 Q1788.19 26.1121 1793.49 32.0264 Q1798.84 37.9003 1798.84 48.0275 M1791.39 45.84 Q1791.31 39.7232 1787.94 36.0774 Q1784.62 32.4315 1779.11 32.4315 Q1772.88 32.4315 1769.11 35.9558 Q1765.38 39.4801 1764.81 45.8805 L1791.39 45.84 Z\" fill=\"#000000\" fill-rule=\"evenodd\" fill-opacity=\"1\" /><path clip-path=\"url(#clip170)\" d=\"M1840 28.5427 L1840 35.5912 Q1836.84 33.9709 1833.44 33.1607 Q1830.03 32.3505 1826.39 32.3505 Q1820.84 32.3505 1818.04 34.0519 Q1815.29 35.7533 1815.29 39.156 Q1815.29 41.7486 1817.27 43.2475 Q1819.26 44.7058 1825.25 46.0426 L1827.81 46.6097 Q1835.75 48.3111 1839.07 51.4303 Q1842.43 54.509 1842.43 60.0587 Q1842.43 66.3781 1837.41 70.0644 Q1832.42 73.7508 1823.67 73.7508 Q1820.03 73.7508 1816.06 73.0216 Q1812.13 72.3329 1807.75 70.9151 L1807.75 63.2184 Q1811.89 65.3654 1815.9 66.4591 Q1819.91 67.5124 1823.84 67.5124 Q1829.1 67.5124 1831.94 65.73 Q1834.77 63.9071 1834.77 60.6258 Q1834.77 57.5877 1832.71 55.9673 Q1830.68 54.3469 1823.75 52.8481 L1821.16 52.2405 Q1814.23 50.7821 1811.16 47.7845 Q1808.08 44.7463 1808.08 39.4801 Q1808.08 33.0797 1812.61 29.5959 Q1817.15 26.1121 1825.5 26.1121 Q1829.63 26.1121 1833.27 26.7198 Q1836.92 27.3274 1840 28.5427 Z\" fill=\"#000000\" fill-rule=\"evenodd\" fill-opacity=\"1\" /><polyline clip-path=\"url(#clip172)\" style=\"stroke:#009af9; stroke-linecap:butt; stroke-linejoin:round; stroke-width:4; stroke-opacity:1; fill:none\" points=\"\n",
       "  274.149,162.047 400.278,244.19 526.407,326.332 652.537,408.475 778.666,490.618 904.795,572.761 1030.92,654.903 1157.05,737.046 1283.18,819.189 1409.31,901.332 \n",
       "  1535.44,983.474 1661.57,1065.62 1787.7,1147.76 1913.83,1229.93 2039.96,1312.07 2166.08,1398.42 2292.21,1447.87 \n",
       "  \"/>\n",
       "<polyline clip-path=\"url(#clip172)\" style=\"stroke:#e26f46; stroke-linecap:butt; stroke-linejoin:round; stroke-width:4; stroke-opacity:1; fill:none\" points=\"\n",
       "  274.149,162.047 400.278,244.19 526.407,326.332 652.537,408.475 778.666,490.618 904.795,572.761 1030.92,654.903 1157.05,736.867 1283.18,836.954 1409.31,743.805 \n",
       "  1535.44,743.805 1661.57,743.805 1787.7,494.815 1913.83,416.468 2039.96,416.468 2166.08,240.717 2292.21,162.047 \n",
       "  \"/>\n",
       "<path clip-path=\"url(#clip170)\" d=\"\n",
       "M284.912 1441.02 L545.767 1441.02 L545.767 1285.5 L284.912 1285.5  Z\n",
       "  \" fill=\"#ffffff\" fill-rule=\"evenodd\" fill-opacity=\"1\"/>\n",
       "<polyline clip-path=\"url(#clip170)\" style=\"stroke:#000000; stroke-linecap:butt; stroke-linejoin:round; stroke-width:4; stroke-opacity:1; fill:none\" points=\"\n",
       "  284.912,1441.02 545.767,1441.02 545.767,1285.5 284.912,1285.5 284.912,1441.02 \n",
       "  \"/>\n",
       "<polyline clip-path=\"url(#clip170)\" style=\"stroke:#009af9; stroke-linecap:butt; stroke-linejoin:round; stroke-width:4; stroke-opacity:1; fill:none\" points=\"\n",
       "  308.681,1337.34 451.291,1337.34 \n",
       "  \"/>\n",
       "<path clip-path=\"url(#clip170)\" d=\"M491.563 1318.6 L491.563 1322.14 L487.489 1322.14 Q485.198 1322.14 484.295 1323.06 Q483.415 1323.99 483.415 1326.4 L483.415 1328.69 L490.429 1328.69 L490.429 1332 L483.415 1332 L483.415 1354.62 L479.133 1354.62 L479.133 1332 L475.059 1332 L475.059 1328.69 L479.133 1328.69 L479.133 1326.88 Q479.133 1322.56 481.147 1320.59 Q483.161 1318.6 487.536 1318.6 L491.563 1318.6 Z\" fill=\"#000000\" fill-rule=\"evenodd\" fill-opacity=\"1\" /><polyline clip-path=\"url(#clip170)\" style=\"stroke:#e26f46; stroke-linecap:butt; stroke-linejoin:round; stroke-width:4; stroke-opacity:1; fill:none\" points=\"\n",
       "  308.681,1389.18 451.291,1389.18 \n",
       "  \"/>\n",
       "<path clip-path=\"url(#clip170)\" d=\"M493.971 1393.19 Q493.971 1388.56 492.05 1386.02 Q490.151 1383.47 486.702 1383.47 Q483.277 1383.47 481.355 1386.02 Q479.457 1388.56 479.457 1393.19 Q479.457 1397.8 481.355 1400.34 Q483.277 1402.89 486.702 1402.89 Q490.151 1402.89 492.05 1400.34 Q493.971 1397.8 493.971 1393.19 M498.23 1403.24 Q498.23 1409.86 495.29 1413.08 Q492.351 1416.32 486.286 1416.32 Q484.04 1416.32 482.05 1415.97 Q480.059 1415.65 478.184 1414.95 L478.184 1410.81 Q480.059 1411.83 481.888 1412.31 Q483.716 1412.8 485.614 1412.8 Q489.804 1412.8 491.888 1410.6 Q493.971 1408.42 493.971 1404 L493.971 1401.9 Q492.651 1404.19 490.591 1405.32 Q488.531 1406.46 485.661 1406.46 Q480.892 1406.46 477.976 1402.82 Q475.059 1399.19 475.059 1393.19 Q475.059 1387.17 477.976 1383.54 Q480.892 1379.9 485.661 1379.9 Q488.531 1379.9 490.591 1381.04 Q492.651 1382.17 493.971 1384.46 L493.971 1380.53 L498.23 1380.53 L498.23 1403.24 Z\" fill=\"#000000\" fill-rule=\"evenodd\" fill-opacity=\"1\" /></svg>\n"
      ]
     },
     "execution_count": 2,
     "metadata": {},
     "output_type": "execute_result"
    }
   ],
   "source": [
    "using Plots\n",
    "h = 10.0 .^ (0:-1:-16)  # [1,0.1,0.01,…,1E-7]\n",
    "plot(abs.((f.(h) .- f(0)) ./ h .- 1); yscale=:log10, title=\"convergence of derivatives\", label=\"f\", legend=:bottomleft)\n",
    "plot!(abs.((g.(h) .- g(0)) ./ h .- 1); yscale=:log10, label = \"g\")"
   ]
  },
  {
   "cell_type": "markdown",
   "metadata": {},
   "source": [
    "In the case of $f$ it is a success: we approximate the true derivative to roughly machine precision,\n",
    "which is the best one can really hope for given round-off error (as the algebraic manipulation gets\n",
    "the last bit will be wrong) by letting $h$ be sufficiently small.\n",
    "But for $g$ it is a huge failure: the approximation starts to converge, but then diverges exponentially fast!\n",
    "\n",
    "We can bound the error using the bounds on floating point arithmetic. For simplicity we ignore the\n",
    "$x^2$ term: when $h$ is small, $h^2$ gets lost in the rounding. Then we have\n",
    "$$\n",
    "\\left|((1 \\oplus h) \\ominus h) - 1 \\oslash h -1\\right| \\leq ((1+h)*(1+\\epsilon_{\\rm machine}) - 1)*(1+\\epsilon_{\\rm machine}) = h + h \\epsilon_{\\rm machine} + O(h^2)\n",
    "$$\n",
    "Thus we see that the bound grows like $\\epsilon_{\\rm machine}/h$. However, a bad upper bound is not the same\n",
    "as a proof that something grows, and establishing a lower bound on the error is more challenging. In fact,\n",
    "it depends on the precise bits of $h$. \n",
    "\n",
    "Nevertheless, we can use this bound to obtain a _heuristic_ on how to choose $h$:\n",
    "\n",
    "**Heuristic (finite-difference with floating-point step)** Choose $h$ proportional to $\\sqrt{\\epsilon_{\\rm m}}$\n",
    "in finite-differences.\n",
    "\n",
    "**Sketch of argument**\n",
    "Consider $x = 0$ assume $f(x) = f^{\\rm FP}(0) = 0$ for simplicity, and suppose we have relative accuracy\n",
    "$$\n",
    "f^{\\rm FP}(x) = f(x) + \\delta\n",
    "$$\n",
    "where $|\\delta| < c ϵ_{\\rm m}$. Note that\n",
    "$$\n",
    "\\begin{align*}\n",
    "{f^{\\rm FP}(h) \\over h} &= {f(h) \\over h} + {\\delta \\over h} = f'(0) + {h f''(0) \\over 2} + {\\delta \\over h}  + O(h^2)\n",
    "\\end{align*}\n",
    "$$\n",
    "Choosing $h$ proportional to $\\sqrt{ϵ_{\\rm m}}$ tells us the error is proportional to $\\sqrt{\\epsilon_{\\rm m}}$.\n",
    "\n",
    "∎\n",
    "\n",
    "In the case of double precision $\\sqrt{ϵ_{\\rm m}} ≈ 1.5\\times 10^{-8}$, which is close to when the error begins to increase.\n",
    "\n",
    "\n",
    "**Example (some functions do better than heuristic)** \n",
    "This heuristic is based on balancing terms in an upper bound, but a bad upper bound is not the same as a proof that an approximation is bad. \n",
    "And indeed, for our example\n",
    "taking a step-size of $h = 2^q$ delivers much better results, and in fact gets the _exact_ answer for sufficiently\n",
    "small `h`, down to the last bit!"
   ]
  },
  {
   "cell_type": "code",
   "execution_count": 3,
   "metadata": {
    "execution": {
     "iopub.execute_input": "2021-12-01T22:13:34.502588Z",
     "iopub.status.busy": "2021-12-01T22:13:33.581399Z",
     "iopub.status.idle": "2021-12-01T22:13:34.779181Z",
     "shell.execute_reply": "2021-12-01T22:13:34.778711Z"
    }
   },
   "outputs": [
    {
     "data": {
      "text/plain": [
       "0.0"
      ]
     },
     "execution_count": 3,
     "metadata": {},
     "output_type": "execute_result"
    }
   ],
   "source": [
    "h = 2.0 ^ (-30)\n",
    "abs((g(h) - g(0)) / h - 1)"
   ]
  },
  {
   "cell_type": "markdown",
   "metadata": {},
   "source": [
    "This is a quirk of this particular function and other functions will not be so lucky. But that said,\n",
    "establishing a precise condition on when finite-difference is _guaranteed_ to be inaccurate is hard.\n",
    "\n",
    "\n",
    "**Remark** While finite differences is of questionable utility for computing derivatives, it is extremely effective\n",
    "in building methods for solving differential equations, as we shall see later.\n",
    "\n",
    "## 2. Dual numbers (Forward-mode automatic differentiation)\n",
    "\n",
    "Automatic differentiation consists of applying functions to special types that determine the derivatives.\n",
    "Here we do so via _dual numbers_.\n",
    "\n",
    "**Definition (Dual numbers)** Dual numbers ${\\mathbb D}$ are a commutative ring over the reals \n",
    "generated by $1$ and $\\epsilon$ such that $\\epsilon^2 = 0$.\n",
    "Dual numbers are typically written as $a + b \\epsilon$ where $a$ and $b$ are real.\n",
    "\n",
    "This is very much analoguous to complex numbers, which are a field generated by $1$ and ${\\rm i}$ such that\n",
    "${\\rm i}^2 = -1$. Compare multiplication of each number type:\n",
    "$$\n",
    "\\begin{align*}\n",
    "(a + b {\\rm i}) (c + d {\\rm i}) &= ac + (bc + ad) {\\rm i} + bd {\\rm i}^2 = ac -bd + (bc + ad) {\\rm i} \\\\\n",
    "(a + b \\epsilon) (c + d \\epsilon) &= ac + (bc + ad) \\epsilon + bd \\epsilon^2 = ac  + (bc + ad) \\epsilon \n",
    "\\end{align*}\n",
    "$$\n",
    "And just as we view ${\\mathbb R} \\subset {\\mathbb C}$ by equating $a \\in {\\mathbb R}$ with $a + 0{\\rm i} \\in {\\mathbb C}$,\n",
    "we can view ${\\mathbb R} \\subset {\\mathbb D}$ by equating $a \\in {\\mathbb R}$ with $a + 0{\\rm \\epsilon} \\in {\\mathbb D}$.\n",
    "\n",
    "\n",
    "### Matrix representations\n",
    "\n",
    "Complex numbers can be thought of as $2 \\times 2$ matrices, that is, $a + b {\\rm i}$ is equivalent to\n",
    "$$\n",
    "a \\underbrace{\\begin{pmatrix}1 \\\\ & 1 \\end{pmatrix}}_{\\hbox{representation of 1}} + b \\underbrace{\\begin{pmatrix}0 &1 \\\\-1 & 0\\end{pmatrix}}_{\\hbox{representation of $\\rm i$}} = \\begin{pmatrix}a & b \\\\ -b & a \\end{pmatrix}\n",
    "$$\n",
    "Similarly, for dual numbers we have\n",
    "$$\n",
    "a \\underbrace{\\begin{pmatrix}1 \\\\ & 1 \\end{pmatrix}}_{\\hbox{representation of 1}} + b \\underbrace{\\begin{pmatrix}0 &1 \\\\0 & 0\\end{pmatrix}}_{\\hbox{representation of $\\epsilon$}} = \\begin{pmatrix}a & b \\\\ 0 & a \\end{pmatrix}\n",
    "$$\n",
    "That is, the representation of $\\epsilon$ is a simple 2 × 2 nilpotent matrix.\n",
    "\n",
    "### Connection with differentiation\n",
    "\n",
    "Applying a polynomial to a dual number $a + b \\epsilon$ tells us the derivative at $a$:\n",
    "\n",
    "**Lemma (polynomials and dual numbers)** Suppose $p$ is a polynomial. Then\n",
    "$$\n",
    "p(a + b \\epsilon) = p(a) + b p'(a) \\epsilon\n",
    "$$\n",
    "\n",
    "**Proof**\n",
    "\n",
    "It suffices to consider $p(x) = x^n$ for $n \\geq 1$ as other polynomials follow from linearity. We proceed by induction:\n",
    "The case $n = 1$ is trivial. For $n > 1$ we have \n",
    "$$\n",
    "(a + b \\epsilon)^n = (a + b \\epsilon) (a + b \\epsilon)^{n-1} = (a + b \\epsilon) (a^{n-1} + (n-1) b a^{n-2} \\epsilon) = a^n + b n a^{n-1} \\epsilon.\n",
    "$$\n",
    "\n",
    "∎\n",
    "\n",
    "We can extend real-valued differentiable functions to dual numbers in a similar manner.\n",
    "\n",
    "**Definition (compatible extension)** Suppose a real-valued function $f$\n",
    "is differentiable at $a$. If\n",
    "$$\n",
    "f(a + b \\epsilon) = f(a) + b f'(a) \\epsilon\n",
    "$$\n",
    "then we say that is a _compatible extension at $a$_.\n",
    "\n",
    "Note this definition immediately implies the product and chain rule:\n",
    "\n",
    "**Lemma (product and chain rule)**\n",
    "Suppose $f$ is a compatible extension at $g(a)$ and $g$\n",
    "is a compatible extension at $a$. Then $q(x) := f(g(x))$ and \n",
    "$r(x) := f(x) g(x)$ are compatible extensions at $a$, that is:\n",
    "$$\n",
    "\\begin{align*}\n",
    "q(a+b \\epsilon) &= q(a) + b q'(b) \\epsilon \\\\\n",
    "r(a+b \\epsilon) &= r(a) + b r'(b) \\epsilon\n",
    "\\end{align*}\n",
    "$$\n",
    "\n",
    "**Proof**\n",
    "For $q$ it follows immediately:\n",
    "$$\n",
    "q(a + b \\epsilon) = f(g(a + b \\epsilon)) = f(g(a) + b g'(a) \\epsilon) = f(g(a)) + b g'(a) f'(g(a))\\epsilon = q(a) + b q'(a) \\epsilon\n",
    "$$\n",
    "For $r$ we have\n",
    "$$\n",
    "r(a + b \\epsilon) = f(a+b \\epsilon )g(a+b \\epsilon )= (f(a) + b f'(a) \\epsilon)(g(a) + b g'(a) \\epsilon) = f(a)g(a) + b (f'(a)g(a) + f(a)g'(a)) \\epsilon = r(a) +b r'(a) \\epsilon\n",
    "$$\n",
    "\n",
    "∎\n",
    "\n",
    "A simple corollary is that any function defined in terms of addition, multiplication, composition, etc.\n",
    "of functions that are compatible with differentiation will be differentiable via dual numbers.\n",
    "\n",
    "### Implementation in Julia\n",
    "\n",
    "We now consider a simple implementation of dual numbers that works on polynomials:"
   ]
  },
  {
   "cell_type": "code",
   "execution_count": 4,
   "metadata": {
    "execution": {
     "iopub.execute_input": "2021-12-01T22:13:34.781617Z",
     "iopub.status.busy": "2021-12-01T22:13:34.780904Z",
     "iopub.status.idle": "2021-12-01T22:13:35.349654Z",
     "shell.execute_reply": "2021-12-01T22:13:35.349220Z"
    }
   },
   "outputs": [
    {
     "data": {
      "text/plain": [
       "* (generic function with 447 methods)"
      ]
     },
     "execution_count": 4,
     "metadata": {},
     "output_type": "execute_result"
    }
   ],
   "source": [
    "struct Dual{T}\n",
    "    a::T\n",
    "    b::T\n",
    "end\n",
    "\n",
    "Dual(a::Real) = Dual(a, zero(a)) # for real numbers we use a + 0ϵ\n",
    "\n",
    "import Base: +, *, -, /, ^, zero\n",
    "\n",
    "# support polynomials like 1 + x, x - 1, 2x or x*2 by reducing to Dual\n",
    "+(x::Real, y::Dual) = Dual(x) + y\n",
    "+(x::Dual, y::Real) = x + Dual(y)\n",
    "-(x::Real, y::Dual) = Dual(x) - y\n",
    "-(x::Dual, y::Real) = x - Dual(y)\n",
    "*(x::Real, y::Dual) = Dual(x) * y\n",
    "*(x::Dual, y::Real) = x * Dual(y)\n",
    "\n",
    "# support x/2 (but not yet division of duals\n",
    "/(x::Dual, k::Real) = Dual(x.a/k, x.b/k)\n",
    "# a simple recursive function to support x^2, etc.\n",
    "function ^(x::Dual, k::Integer)\n",
    "    if k < 0\n",
    "        error(\"Not implemented\")\n",
    "    elseif k == 1\n",
    "        x\n",
    "    else\n",
    "        x^(k-1) * x\n",
    "    end\n",
    "end\n",
    "\n",
    "-(x::Dual) = Dual(-x.a, -x.b)\n",
    "+(x::Dual, y::Dual) = Dual(x.a + y.a, x.b + y.b)\n",
    "-(x::Dual, y::Dual) = Dual(x.a - y.a, x.b - y.b)\n",
    "*(x::Dual, y::Dual) = Dual(x.a*y.a, x.a*y.b + x.b*y.a)"
   ]
  },
  {
   "cell_type": "markdown",
   "metadata": {},
   "source": [
    "We can now try it on an arbitrary polynomial:"
   ]
  },
  {
   "cell_type": "code",
   "execution_count": 5,
   "metadata": {
    "execution": {
     "iopub.execute_input": "2021-12-01T22:13:35.352129Z",
     "iopub.status.busy": "2021-12-01T22:13:35.351402Z",
     "iopub.status.idle": "2021-12-01T22:13:35.392583Z",
     "shell.execute_reply": "2021-12-01T22:13:35.392149Z"
    }
   },
   "outputs": [
    {
     "data": {
      "text/plain": [
       "8.881784197001252e-16"
      ]
     },
     "execution_count": 5,
     "metadata": {},
     "output_type": "execute_result"
    }
   ],
   "source": [
    "f = x -> 1 + 1.3x + 2.1x^2 + 3.1x^3\n",
    "f(Dual(0.5,1.0)).b - 5.725"
   ]
  },
  {
   "cell_type": "markdown",
   "metadata": {},
   "source": [
    "It's exact up apart from small rounding errors.\n",
    "\n",
    "Now consider the polynomial $1 + … + x^n$. How does the error grow with $n$ evaluating\n",
    "the derivative at $x = 0.5$ and $x = 1$?"
   ]
  },
  {
   "cell_type": "code",
   "execution_count": 6,
   "metadata": {
    "execution": {
     "iopub.execute_input": "2021-12-01T22:13:35.394803Z",
     "iopub.status.busy": "2021-12-01T22:13:35.394249Z",
     "iopub.status.idle": "2021-12-01T22:13:36.202009Z",
     "shell.execute_reply": "2021-12-01T22:13:36.201561Z"
    }
   },
   "outputs": [
    {
     "ename": "LoadError",
     "evalue": "cannot define function g; it already has a value",
     "output_type": "error",
     "traceback": [
      "cannot define function g; it already has a value",
      "",
      "Stacktrace:",
      " [1] top-level scope",
      "   @ none:0",
      " [2] top-level scope",
      "   @ In[6]:1",
      " [3] eval",
      "   @ ./boot.jl:373 [inlined]",
      " [4] include_string(mapexpr::typeof(REPL.softscope), mod::Module, code::String, filename::String)",
      "   @ Base ./loading.jl:1196"
     ]
    }
   ],
   "source": [
    "function g(n, x)\n",
    "    ret = 1 + x # first two terms\n",
    "    for k = 2:n\n",
    "        ret += x^k\n",
    "    end\n",
    "    ret\n",
    "end\n",
    "\n",
    "# \"exact\" derivative of g\n",
    "function g′(n, x)\n",
    "    ret = 1 + 2x # first two terms\n",
    "    for k = 3:n\n",
    "        ret += k*x^(k-1)\n",
    "    end\n",
    "    ret\n",
    "end\n",
    "\n",
    "g′(10, 0.1) - g(10, Dual(0.1,1.0)).b"
   ]
  },
  {
   "cell_type": "markdown",
   "metadata": {},
   "source": [
    "It's exact!\n",
    "\n",
    "What makes dual numbers so effective is that, unlike finite differences, they are not\n",
    "prone to disasterous growth due to round-off errors. \n",
    "\n",
    "\n",
    "In the problem sheet we will explore implementation of other functions like `/` and `exp`."
   ]
  }
 ],
 "metadata": {
  "kernelspec": {
   "display_name": "Julia 1.7.0",
   "language": "julia",
   "name": "julia-1.7"
  },
  "language_info": {
   "file_extension": ".jl",
   "mimetype": "application/julia",
   "name": "julia",
   "version": "1.7.0"
  }
 },
 "nbformat": 4,
 "nbformat_minor": 2
}
