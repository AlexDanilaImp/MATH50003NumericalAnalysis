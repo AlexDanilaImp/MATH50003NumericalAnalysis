{
 "cells": [
  {
   "cell_type": "markdown",
   "metadata": {},
   "source": [
    "# Numbers\n",
    "\n",
    "\n",
    "Reference: [Overton](https://cs.nyu.edu/~overton/book/)\n",
    "\n",
    "In this chapter, we introduce the [Two's-complement](https://en.wikipedia.org/wiki/Two's_complement)\n",
    "storage for integers and the \n",
    "[IEEE Standard for Floating-Point Arithmetic](https://en.wikipedia.org/wiki/IEEE_754).\n",
    "There are many  possible ways of representing real numbers on a computer, as well as \n",
    "the precise behaviour of operations such as addition, multiplication, etc.\n",
    "Before the 1980s each processor had potentially a different representation for \n",
    "real numbers, as well as different behaviour for operations.  \n",
    "IEEE introduced in 1985 was a means to standardise this across\n",
    "processors so that algorithms would produce consistent and reliable results.\n",
    "\n",
    "This chapter may seem very low level for a mathematics course but there are\n",
    "two important reasons to understand the behaviour of integers and floating-point numbers:\n",
    "1. Integer arithmetic can suddenly start giving wrong negative answers when numbers\n",
    "become large.\n",
    "2. Floating point arithmetic is very precisely defined, and can even be used\n",
    "in rigorous computations as we shall see in the problem sheets.\n",
    "3. Failure to understand floating-point arithmetic can cause catastrophic issues\n",
    "in practice, with the extreme example being the \n",
    "[explosion of the Ariane 5 rocket](https://youtu.be/N6PWATvLQCY?t=86).\n",
    "\n",
    "\n",
    "In this chapter we discuss the following:\n",
    "\n",
    "1. Binary representation: Any real number can be represented in binary, that is,\n",
    "by an infinite sequence of 0s and 1s (bits). Here we review  binary representation.\n",
    "2. Integers:  There are multiple ways of representing integers on a computer. Here we discuss the \n",
    "the different types of integers and their representation as bits, and how arithmetic operations behave \n",
    "like modular arithmetic.\n",
    "2. Floating point numbers: we discuss how real numbers are stored on a computer with a finite number of bits.\n",
    "3. Arithmetic: we discuss how arithmetic operations in floating-point are exact up to rounding, and how the\n",
    "rounding mode can be set. This allows for precise error bounds in computations.\n",
    "4. High-precision floating-point numbers: we discuss how the precision of floating-point arithmetic can be increased arbitrary\n",
    "using `BigFloat`. This is an advanced topic that is non-examinable.\n",
    "\n",
    "Before we begin, we load two external packages. SetRounding.jl allows us \n",
    "to set the rounding mode of floating-point arithmetic. ColorBitstring.jl\n",
    "  implements functions `printbits` and `printlnbits`\n",
    "which print the bits of floating-point numbers in colour."
   ]
  },
  {
   "cell_type": "code",
   "execution_count": 1,
   "metadata": {
    "execution": {
     "iopub.execute_input": "2021-11-25T09:42:14.876410Z",
     "iopub.status.busy": "2021-11-25T09:42:14.183429Z",
     "iopub.status.idle": "2021-11-25T09:42:15.115008Z",
     "shell.execute_reply": "2021-11-25T09:42:15.114353Z"
    }
   },
   "outputs": [],
   "source": [
    "using SetRounding, ColorBitstring"
   ]
  },
  {
   "cell_type": "markdown",
   "metadata": {},
   "source": [
    "## 1.  Binary representation\n",
    "\n",
    "Any integer can be presented in binary format, that is, a sequence of `0`s and `1`s.\n",
    "\n",
    "**Definition**\n",
    "For $B_0,\\ldots,B_p \\in \\{0,1\\}$ denote a non-negative integer in _binary format_ by:\n",
    "$$\n",
    "(B_p\\ldots B_1B_0)_2 := 2^pB_p + \\cdots + 2B_1 + B_0\n",
    "$$\n",
    "For $b_1,b_2,\\ldots \\in \\{0,1\\}$, Denote a non-negative real number in _binary format_ by:\n",
    "$$\n",
    "(B_p \\ldots B_0.b_1b_2b_3\\ldots)_2 = (B_p \\ldots B_0)_2 + {b_1 \\over 2} + {b_2 \\over 2^2} + {b_3 \\over 2^3} + \\cdots\n",
    "$$\n",
    "\n",
    "\n",
    "\n",
    "First we show some examples of verifying a numbers binary representation:\n",
    "\n",
    "**Example (integer in binary)**\n",
    "A simple integer example is $5 = 2^2 + 2^0 = (101)_2$.\n",
    "\n",
    "**Example (rational in binary)**\n",
    "Consider the number `1/3`.  In decimal recall that:\n",
    "$$\n",
    "1/3 = 0.3333\\ldots =  \\sum_{k=1}^\\infty {3 \\over 10^k}\n",
    "$$\n",
    "We will see that in binary\n",
    "$$\n",
    "1/3 = (0.010101\\ldots)_2 = \\sum_{k=1}^\\infty {1 \\over 2^{2k}}\n",
    "$$\n",
    "Both results can be proven using the geometric series:\n",
    "$$\n",
    "\\sum_{k=0}^\\infty z^k = {1 \\over 1 - z}\n",
    "$$\n",
    "provided $|z| < 1$. That is, with $z = {1 \\over 4}$ we verify the binary expansion:\n",
    "$$\n",
    "\\sum_{k=1}^\\infty {1 \\over 4^k} = {1 \\over 1 - 1/4} - 1 = {1 \\over 3}\n",
    "$$\n",
    "A similar argument with $z = 1/10$ shows the decimal case.\n",
    "\n",
    "\n",
    "\n",
    "## 2. Integers\n",
    "\n",
    "\n",
    "On a computer one typically represents integers by a finite number of $p$ bits,\n",
    "with $2^p$ possible combinations of 0s and 1s. For _unsigned integers_ (non-negative integers) \n",
    "these bits are just the first $p$ binary digits: $(B_{p-1}\\ldots B_1B_0)_2$.\n",
    " \n",
    "Integers on a computer follow [modular arithmetic](https://en.wikipedia.org/wiki/Modular_arithmetic):\n",
    "\n",
    "**Definition (ring of integers modulo $m$)** Denote the ring\n",
    "$$\n",
    "{\\mathbb Z}_{m} := \\{0 \\ ({\\rm mod}\\ m), 1 \\ ({\\rm mod}\\ m), \\ldots, m-1 \\ ({\\rm mod}\\ m) \\}\n",
    "$$\n",
    "\n",
    "Integers represented with $p$-bits on a computer actually \n",
    "represent elements of ${\\mathbb Z}_{2^p}$ and integer arithmetic on a computer is \n",
    "equivalent to arithmetic modulo $2^p$.\n",
    "\n",
    "**Example (addition of 8-bit unsigned integers)** Consider the addition of\n",
    "two 8-bit numbers:\n",
    "$$\n",
    "255 + 1 = (11111111)_2 + (00000001)_2 = (100000000)_2 = 256\n",
    "$$\n",
    "The result is impossible to store in just 8-bits! It is way too slow\n",
    "for a computer to increase the number of bits, or to throw an error (checks are slow).\n",
    "So instead it treats the integers as elements of ${\\mathbb Z}_{256}$:\n",
    "$$\n",
    "255 + 1 \\ ({\\rm mod}\\ 256) = (00000000)_2 \\ ({\\rm mod}\\ 256) = 0 \\ ({\\rm mod}\\ 256)\n",
    "$$\n",
    "We can see this in Julia:"
   ]
  },
  {
   "cell_type": "code",
   "execution_count": 2,
   "metadata": {
    "execution": {
     "iopub.execute_input": "2021-11-25T09:42:15.117171Z",
     "iopub.status.busy": "2021-11-25T09:42:15.116621Z",
     "iopub.status.idle": "2021-11-25T09:42:15.155380Z",
     "shell.execute_reply": "2021-11-25T09:42:15.154939Z"
    }
   },
   "outputs": [
    {
     "name": "stdout",
     "output_type": "stream",
     "text": [
      "\u001b[34m11111111\u001b[0m + \n",
      "\u001b[34m00000001\u001b[0m = \n",
      "\u001b[34m00000000\u001b[0m"
     ]
    }
   ],
   "source": [
    "x = UInt8(255)\n",
    "y = UInt8(1)\n",
    "printbits(x); println(\" + \"); printbits(y); println(\" = \")\n",
    "printbits(x + y)"
   ]
  },
  {
   "cell_type": "markdown",
   "metadata": {},
   "source": [
    "**Example (multiplication of 8-bit unsigned integers)** \n",
    "Multiplication works similarly: for example,\n",
    "$$\n",
    "254 * 2 \\ ({\\rm mod}\\ 256) = 252 \\ ({\\rm mod}\\ 256) = (11111100)_2 \\ ({\\rm mod}\\ 256)\n",
    "$$\n",
    "We can see this behaviour in code by printing the bits:"
   ]
  },
  {
   "cell_type": "code",
   "execution_count": 3,
   "metadata": {
    "execution": {
     "iopub.execute_input": "2021-11-25T09:42:15.157731Z",
     "iopub.status.busy": "2021-11-25T09:42:15.157042Z",
     "iopub.status.idle": "2021-11-25T09:42:15.163395Z",
     "shell.execute_reply": "2021-11-25T09:42:15.162974Z"
    }
   },
   "outputs": [
    {
     "name": "stdout",
     "output_type": "stream",
     "text": [
      "\u001b[34m11111110\u001b[0m * \n",
      "\u001b[34m00000010\u001b[0m = \n",
      "\u001b[34m11111100\u001b[0m"
     ]
    }
   ],
   "source": [
    "x = UInt8(254) # 254 represented in 8-bits as an unsigned integer\n",
    "y = UInt8(2)   #   2 represented in 8-bits as an unsigned integer\n",
    "printbits(x); println(\" * \"); printbits(y); println(\" = \")\n",
    "printbits(x * y)"
   ]
  },
  {
   "cell_type": "markdown",
   "metadata": {},
   "source": [
    "Signed integers use the [2's complemement](https://epubs.siam.org/doi/abs/10.1137/1.9780898718072.ch3)\n",
    "convention. The convention is if the first bit is 1 then the number is negative: the number $2^p - y$\n",
    "is interpreted as $-y$.\n",
    "Thus for $p = 8$ we are interpreting\n",
    "$2^7$ through $2^8-1$ as negative numbers. \n",
    "\n",
    "**Example (converting bits to signed integers)** \n",
    "What 8-bit integer has the bits `01001001`? Adding the corresponding decimal places we get:"
   ]
  },
  {
   "cell_type": "code",
   "execution_count": 4,
   "metadata": {
    "execution": {
     "iopub.execute_input": "2021-11-25T09:42:15.165739Z",
     "iopub.status.busy": "2021-11-25T09:42:15.165175Z",
     "iopub.status.idle": "2021-11-25T09:42:15.621868Z",
     "shell.execute_reply": "2021-11-25T09:42:15.621437Z"
    }
   },
   "outputs": [
    {
     "data": {
      "text/plain": [
       "73"
      ]
     },
     "execution_count": 4,
     "metadata": {},
     "output_type": "execute_result"
    }
   ],
   "source": [
    "2^0 + 2^3 + 2^6"
   ]
  },
  {
   "cell_type": "markdown",
   "metadata": {},
   "source": [
    "What 8-bit (signed) integer has the bits `11001001`? Because the first bit is `1` we know it's a negative \n",
    "number, hence we need to sum the bits but then subtract `2^p`:"
   ]
  },
  {
   "cell_type": "code",
   "execution_count": 5,
   "metadata": {
    "execution": {
     "iopub.execute_input": "2021-11-25T09:42:15.624038Z",
     "iopub.status.busy": "2021-11-25T09:42:15.623496Z",
     "iopub.status.idle": "2021-11-25T09:42:15.635241Z",
     "shell.execute_reply": "2021-11-25T09:42:15.634812Z"
    }
   },
   "outputs": [
    {
     "data": {
      "text/plain": [
       "-55"
      ]
     },
     "execution_count": 5,
     "metadata": {},
     "output_type": "execute_result"
    }
   ],
   "source": [
    "2^0 + 2^3 + 2^6 + 2^7 - 2^8"
   ]
  },
  {
   "cell_type": "markdown",
   "metadata": {},
   "source": [
    "We can check the results using `printbits`:"
   ]
  },
  {
   "cell_type": "code",
   "execution_count": 6,
   "metadata": {
    "execution": {
     "iopub.execute_input": "2021-11-25T09:42:15.637518Z",
     "iopub.status.busy": "2021-11-25T09:42:15.636967Z",
     "iopub.status.idle": "2021-11-25T09:42:15.716494Z",
     "shell.execute_reply": "2021-11-25T09:42:15.716070Z"
    }
   },
   "outputs": [
    {
     "name": "stdout",
     "output_type": "stream",
     "text": [
      "\u001b[31m0\u001b[0m\u001b[34m1001001\u001b[0m\n",
      "\u001b[31m1\u001b[0m\u001b[34m1001001\u001b[0m"
     ]
    }
   ],
   "source": [
    "printlnbits(Int8(73))\n",
    "printbits(-Int8(55))"
   ]
  },
  {
   "cell_type": "markdown",
   "metadata": {},
   "source": [
    "Arithmetic works precisely\n",
    "the same for signed and unsigned integers.\n",
    "\n",
    "**Example (addition of 8-bit integers)**\n",
    "Consider `(-1) + 1` in 8-bit arithmetic. The number $-1$ has the same bits as\n",
    "$2^8 - 1 = 255$. Thus this is equivalent to the previous question and we get the correct\n",
    "result of `0`. In other words:\n",
    "$$\n",
    "-1 + 1 \\ ({\\rm mod}\\ 2^p) = 2^p-1  + 1 \\ ({\\rm mod}\\ 2^p) = 2^p \\ ({\\rm mod}\\ 2^p) = 0 \\ ({\\rm mod}\\ 2^p)\n",
    "$$\n",
    "\n",
    "\n",
    "**Example (multiplication of 8-bit integers)**\n",
    "Consider `(-2) * 2`. $-2$ has the same bits as $2^{256} - 2 = 254$ and $-4$ has the\n",
    "same bits as $2^{256}-4 = 252$, and hence from the previous example we get the correct result of `-4`.\n",
    "In other words:\n",
    "$$\n",
    "(-2) * 2 \\ ({\\rm mod}\\ 2^p) = (2^p-2) * 2 \\ ({\\rm mod}\\ 2^p) = 2^{p+1}-4 \\ ({\\rm mod}\\ 2^p) = -4 \\ ({\\rm mod}\\ 2^p)\n",
    "$$\n",
    "\n",
    "\n",
    "\n",
    "\n",
    "\n",
    "We can find the largest and smallest instances of a type using `typemax` and `typemin`:"
   ]
  },
  {
   "cell_type": "code",
   "execution_count": 7,
   "metadata": {
    "execution": {
     "iopub.execute_input": "2021-11-25T09:42:15.719616Z",
     "iopub.status.busy": "2021-11-25T09:42:15.718404Z",
     "iopub.status.idle": "2021-11-25T09:42:15.721456Z",
     "shell.execute_reply": "2021-11-25T09:42:15.721022Z"
    }
   },
   "outputs": [
    {
     "name": "stdout",
     "output_type": "stream",
     "text": [
      "\u001b[31m0\u001b[0m\u001b[34m1111111\u001b[0m\n",
      "\u001b[31m1\u001b[0m\u001b[34m0000000\u001b[0m"
     ]
    }
   ],
   "source": [
    "printlnbits(typemax(Int8)) # 2^7-1 = 127\n",
    "printbits(typemin(Int8)) # -2^7 = -128"
   ]
  },
  {
   "cell_type": "markdown",
   "metadata": {},
   "source": [
    "As explained, due to modular arithmetic, when we add `1` to the largest 8-bit integer we get the smallest:"
   ]
  },
  {
   "cell_type": "code",
   "execution_count": 8,
   "metadata": {
    "execution": {
     "iopub.execute_input": "2021-11-25T09:42:15.723776Z",
     "iopub.status.busy": "2021-11-25T09:42:15.723221Z",
     "iopub.status.idle": "2021-11-25T09:42:16.014142Z",
     "shell.execute_reply": "2021-11-25T09:42:16.013688Z"
    }
   },
   "outputs": [
    {
     "data": {
      "text/plain": [
       "-128"
      ]
     },
     "execution_count": 8,
     "metadata": {},
     "output_type": "execute_result"
    }
   ],
   "source": [
    "typemax(Int8) + Int8(1) # returns typemin(Int8)"
   ]
  },
  {
   "cell_type": "markdown",
   "metadata": {},
   "source": [
    "In addition to `+`, `-`, and `*` we have integer division `÷`, which rounds down:"
   ]
  },
  {
   "cell_type": "code",
   "execution_count": 9,
   "metadata": {
    "execution": {
     "iopub.execute_input": "2021-11-25T09:42:16.016710Z",
     "iopub.status.busy": "2021-11-25T09:42:16.015744Z",
     "iopub.status.idle": "2021-11-25T09:42:16.019124Z",
     "shell.execute_reply": "2021-11-25T09:42:16.017267Z"
    }
   },
   "outputs": [
    {
     "data": {
      "text/plain": [
       "2"
      ]
     },
     "execution_count": 9,
     "metadata": {},
     "output_type": "execute_result"
    }
   ],
   "source": [
    "5 ÷ 2 # equivalent to div(5,2)"
   ]
  },
  {
   "cell_type": "markdown",
   "metadata": {},
   "source": [
    "Standard division `/` (or `\\` for division on the right) creates a floating-point number, which will be discussed shortly:"
   ]
  },
  {
   "cell_type": "code",
   "execution_count": 10,
   "metadata": {
    "execution": {
     "iopub.execute_input": "2021-11-25T09:42:16.021425Z",
     "iopub.status.busy": "2021-11-25T09:42:16.020862Z",
     "iopub.status.idle": "2021-11-25T09:42:16.300310Z",
     "shell.execute_reply": "2021-11-25T09:42:16.299881Z"
    }
   },
   "outputs": [
    {
     "data": {
      "text/plain": [
       "2.5"
      ]
     },
     "execution_count": 10,
     "metadata": {},
     "output_type": "execute_result"
    }
   ],
   "source": [
    "5 / 2 # alternatively 2 \\ 5"
   ]
  },
  {
   "cell_type": "markdown",
   "metadata": {},
   "source": [
    "**Remark (advanced)** We can also create rational numbers using `//`:"
   ]
  },
  {
   "cell_type": "code",
   "execution_count": 11,
   "metadata": {
    "execution": {
     "iopub.execute_input": "2021-11-25T09:42:16.302451Z",
     "iopub.status.busy": "2021-11-25T09:42:16.301906Z",
     "iopub.status.idle": "2021-11-25T09:42:16.581974Z",
     "shell.execute_reply": "2021-11-25T09:42:16.581548Z"
    }
   },
   "outputs": [
    {
     "data": {
      "text/plain": [
       "5//4"
      ]
     },
     "execution_count": 11,
     "metadata": {},
     "output_type": "execute_result"
    }
   ],
   "source": [
    "(1//2) + (3//4)"
   ]
  },
  {
   "cell_type": "markdown",
   "metadata": {},
   "source": [
    "Rational arithmetic often leads to overflow so it\n",
    "is often best to combine `big` with rationals:"
   ]
  },
  {
   "cell_type": "code",
   "execution_count": 12,
   "metadata": {
    "execution": {
     "iopub.execute_input": "2021-11-25T09:42:16.584487Z",
     "iopub.status.busy": "2021-11-25T09:42:16.583790Z",
     "iopub.status.idle": "2021-11-25T09:42:16.955255Z",
     "shell.execute_reply": "2021-11-25T09:42:16.954827Z"
    }
   },
   "outputs": [
    {
     "data": {
      "text/plain": [
       "26339037835007648477541540//4767804878707544364596461"
      ]
     },
     "execution_count": 12,
     "metadata": {},
     "output_type": "execute_result"
    }
   ],
   "source": [
    "big(102324)//132413023 + 23434545//4243061 + 23434545//42430534435"
   ]
  },
  {
   "cell_type": "markdown",
   "metadata": {},
   "source": [
    "See the [Introduction to Julia](Julia.ipynb) for details on `big`,\n",
    "which creates a `BigInt`, which allows for an arbitrary number of bits.\n",
    "\n",
    "## 2. Floating point numbers\n",
    "\n",
    "Floating point numbers are a subset of real numbers that are representable using\n",
    "a fixed number of bits.\n",
    "\n",
    "**Definition (floating-point numbers)**\n",
    "Given integers $S$ (the \"exponential shift\") $Q$ (the number of exponent bits) and \n",
    "$P$ (the precision), define the set of\n",
    "_Floating point numbers_ by dividing into _normal_, _sub-normal_, and _special number_ subsets:\n",
    "$$\n",
    "F_{S,Q,P} := F^{\\rm normal}_{S,Q,P} \\cup F^{\\rm sub}_{S,Q,P} \\cup F^{\\rm special}.\n",
    "$$\n",
    "The _normal numbers_\n",
    "$F^{\\rm normal}_{S,Q,P} \\subset {\\mathbb R}$ are defined by\n",
    "$$\n",
    "F^{\\rm normal}_{S,Q,P} = \\{\\pm 2^{q-S} \\times (1.b_1b_2b_3\\ldots b_P)_2 : 1 \\leq q < 2^Q-1 \\}.\n",
    "$$\n",
    "The _sub-normal numbers_ $F^{\\rm sub}_{S,Q,P} \\subset {\\mathbb R}$ are defined as\n",
    "$$\n",
    "F^{\\rm sub}_{S,Q,P} = \\{\\pm 2^{1-S} \\times (0.b_1b_2b_3\\ldots b_P)_2\\}.\n",
    "$$\n",
    "The _special numbers_ $F^{\\rm special} \\not\\subset {\\mathbb R}$ are defined later.\n",
    "\n",
    "Note this set of real numbers has no nice algebraic structure: it is not closed under addition, subtraction, etc.\n",
    "We will therefore need to define approximate versions of algebraic operations later.\n",
    "\n",
    "Floating point numbers are stored in $1 + Q + P$ total number of bits, in the format\n",
    "$$\n",
    "sq_1\\ldots q_Q b_1 \\ldots b_P\n",
    "$$\n",
    "The first bit ($s$) is the <span style=\"color:red\">sign bit</span>: 0 means positive and 1 means\n",
    "negative. The bits $q_1\\ldots q_Q$ are the <span style=\"color:green\">exponent bits</span>:\n",
    "they are the binary digits of the unsigned integer $q$: \n",
    "$$\n",
    "q = (q_1\\ldots q_Q)_2.\n",
    "$$\n",
    "Finally, the bits $b_1\\ldots b_P$ are the <span style=\"color:blue\">significand bits</span>.\n",
    "If $1 \\leq q < 2^Q-1$ then the bits represent the normal number\n",
    "$$\n",
    "x = \\pm 2^{q-S} \\times (1.b_1b_2b_3\\ldots b_P)_2.\n",
    "$$\n",
    "If $q = 0$ (i.e. all bits are 0) then the bits represent the sub-normal number\n",
    "$$\n",
    "x = \\pm 2^{1-S} \\times (0.b_1b_2b_3\\ldots b_P)_2.\n",
    "$$\n",
    "If $q = 2^Q-1$  (i.e. all bits are 1) then the bits represent a special number, discussed\n",
    "later.\n",
    "\n",
    "\n",
    "### IEEE floating-point numbers\n",
    "\n",
    "**Definition (IEEE floating-point numbers)** \n",
    "IEEE has 3 standard floating-point formats: 16-bit (half precision), 32-bit (single precision) and\n",
    "64-bit (double precision) defined by:\n",
    "$$\n",
    "\\begin{align*}\n",
    "F_{16} &:= F_{15,5,10} \\\\\n",
    "F_{32} &:= F_{127,8,23} \\\\\n",
    "F_{64} &:= F_{1023,11,52}\n",
    "\\end{align*}\n",
    "$$\n",
    "\n",
    "In Julia these correspond to 3 different floating-point types:\n",
    "\n",
    "1.  `Float64` is a type representing $F_{64}$.\n",
    "We can create a `Float64` by including a \n",
    "decimal point when writing the number: \n",
    "`1.0` is a `Float64`. `Float64` is the default format for \n",
    "scientific computing (on the _Floating Point Unit_, FPU).  \n",
    "2. `Float32` is a type representing $F_{32}$.  We can create a `Float32` by including a \n",
    "`f0` when writing the number: \n",
    "`1f0` is a `Float32`. `Float32` is generally the default format for graphics (on the _Graphics Processing Unit_, GPU), \n",
    "as the difference between 32 bits and 64 bits is indistinguishable to the eye in visualisation,\n",
    "and more data can be fit into a GPU's limitted memory.\n",
    "3.  `Float16` is a type representing $F_{16}$.\n",
    "It is important in machine learning where one wants to maximise the amount of data\n",
    "and high accuracy is not necessarily helpful. \n",
    "\n",
    "\n",
    "**Example (rational in `Float32`)** How is the number $1/3$ stored in `Float32`?\n",
    "Recall that\n",
    "$$\n",
    "1/3 = (0.010101\\ldots)_2 = 2^{-2} (1.0101\\ldots)_2 = 2^{125-127} (1.0101\\ldots)_2\n",
    "$$\n",
    "and since $\n",
    "125 = (1111101)_2\n",
    "$  the <span style=\"color:green\">exponent bits</span> are `1111101`.\n",
    ". \n",
    "For the significand we round the last bit to the nearest element of $F_{32}$, (this is explained in detail in\n",
    "the section on rounding), so we have\n",
    "$$\n",
    "1.010101010101010101010101\\ldots \\approx 1.01010101010101010101011 \\in F_{32} \n",
    "$$\n",
    "and the <span style=\"color:blue\">significand bits</span> are `01010101010101010101011`.\n",
    "Thus the `Float32` bits for $1/3$ are:"
   ]
  },
  {
   "cell_type": "code",
   "execution_count": 13,
   "metadata": {
    "execution": {
     "iopub.execute_input": "2021-11-25T09:42:16.957502Z",
     "iopub.status.busy": "2021-11-25T09:42:16.956945Z",
     "iopub.status.idle": "2021-11-25T09:42:17.052596Z",
     "shell.execute_reply": "2021-11-25T09:42:17.052198Z"
    }
   },
   "outputs": [
    {
     "name": "stdout",
     "output_type": "stream",
     "text": [
      "\u001b[31m0\u001b[0m\u001b[32m01111101\u001b[0m\u001b[34m01010101010101010101011\u001b[0m"
     ]
    }
   ],
   "source": [
    "printbits(1f0/3)"
   ]
  },
  {
   "cell_type": "markdown",
   "metadata": {},
   "source": [
    "For sub-normal numbers, the simplest example is zero, which has $q=0$ and all significand bits zero:"
   ]
  },
  {
   "cell_type": "code",
   "execution_count": 14,
   "metadata": {
    "execution": {
     "iopub.execute_input": "2021-11-25T09:42:17.054839Z",
     "iopub.status.busy": "2021-11-25T09:42:17.054292Z",
     "iopub.status.idle": "2021-11-25T09:42:17.144548Z",
     "shell.execute_reply": "2021-11-25T09:42:17.144131Z"
    }
   },
   "outputs": [
    {
     "name": "stdout",
     "output_type": "stream",
     "text": [
      "\u001b[31m0\u001b[0m\u001b[32m00000000000\u001b[0m\u001b[34m0000000000000000000000000000000000000000000000000000\u001b[0m"
     ]
    }
   ],
   "source": [
    "printbits(0.0)"
   ]
  },
  {
   "cell_type": "markdown",
   "metadata": {},
   "source": [
    "Unlike integers, we also have a negative zero:"
   ]
  },
  {
   "cell_type": "code",
   "execution_count": 15,
   "metadata": {
    "execution": {
     "iopub.execute_input": "2021-11-25T09:42:17.147282Z",
     "iopub.status.busy": "2021-11-25T09:42:17.146372Z",
     "iopub.status.idle": "2021-11-25T09:42:17.148925Z",
     "shell.execute_reply": "2021-11-25T09:42:17.147773Z"
    }
   },
   "outputs": [
    {
     "name": "stdout",
     "output_type": "stream",
     "text": [
      "\u001b[31m1\u001b[0m\u001b[32m00000000000\u001b[0m\u001b[34m0000000000000000000000000000000000000000000000000000\u001b[0m"
     ]
    }
   ],
   "source": [
    "printbits(-0.0)"
   ]
  },
  {
   "cell_type": "markdown",
   "metadata": {},
   "source": [
    "This is treated as identical to `0.0` (except for degenerate operations as explained in special numbers).\n",
    "\n",
    "\n",
    "If we divide the smallest normal number by two, we get a subnormal number:"
   ]
  },
  {
   "cell_type": "code",
   "execution_count": 16,
   "metadata": {
    "execution": {
     "iopub.execute_input": "2021-11-25T09:42:17.151428Z",
     "iopub.status.busy": "2021-11-25T09:42:17.150462Z",
     "iopub.status.idle": "2021-11-25T09:42:17.153176Z",
     "shell.execute_reply": "2021-11-25T09:42:17.152720Z"
    }
   },
   "outputs": [
    {
     "name": "stdout",
     "output_type": "stream",
     "text": [
      "\u001b[31m0\u001b[0m\u001b[32m00000000\u001b[0m\u001b[34m10000000000000000000000\u001b[0m"
     ]
    }
   ],
   "source": [
    "mn = floatmin(Float32) # smallest normal Float32\n",
    "printbits(mn/2)"
   ]
  },
  {
   "cell_type": "markdown",
   "metadata": {},
   "source": [
    "Can you explain the bits?\n",
    "\n",
    "### Special normal numbers\n",
    "\n",
    "When dealing with normal numbers there are some important constants that we will use\n",
    "to bound errors.\n",
    "\n",
    "**Definition (machine epsilon)** _Machine epsilon_ is denoted\n",
    "$$\n",
    "\\epsilon_{{\\rm m},P} := 2^{-P}.\n",
    "$$\n",
    "When $P$ is implied by context we use the notation $\\epsilon_{\\rm m}$.\n",
    "The _smallest positive normal number_ is $q = 1$ and $b_k$ all zero:\n",
    "$$\n",
    "\\min |F_{S,P,Q}^{\\rm normal}| = 2^{1-S}.\n",
    "$$ \n",
    "The _largest (positive) normal number_ is \n",
    "$$\n",
    "\\max F_{S,P,Q}^{\\rm normal} = 2^{2^Q-2-S} (1.11\\ldots1)_2 = 2^{2^Q-2-S} (2-\\epsilon_{\\rm m})\n",
    "$$\n",
    "\n",
    "\n",
    "We confirm the simple bit representations:"
   ]
  },
  {
   "cell_type": "code",
   "execution_count": 17,
   "metadata": {
    "execution": {
     "iopub.execute_input": "2021-11-25T09:42:17.155153Z",
     "iopub.status.busy": "2021-11-25T09:42:17.154607Z",
     "iopub.status.idle": "2021-11-25T09:42:17.173670Z",
     "shell.execute_reply": "2021-11-25T09:42:17.173277Z"
    }
   },
   "outputs": [
    {
     "name": "stdout",
     "output_type": "stream",
     "text": [
      "\u001b[31m0\u001b[0m\u001b[32m00000001\u001b[0m\u001b[34m00000000000000000000000\u001b[0m\n",
      "\u001b[31m0\u001b[0m\u001b[32m11111110\u001b[0m\u001b[34m11111111111111111111111\u001b[0m\n"
     ]
    }
   ],
   "source": [
    "S,P,Q = 127,23,8 # Float32\n",
    "εₘ = 2.0^(-P)\n",
    "printlnbits(Float32(2.0^(1-S))) # smallest positive Float32\n",
    "printlnbits(Float32(2.0^(2^Q-2-S) * (2-εₘ))) # largest Float32"
   ]
  },
  {
   "cell_type": "markdown",
   "metadata": {},
   "source": [
    "For a given floating-point type, we can find these constants using the following functions:"
   ]
  },
  {
   "cell_type": "code",
   "execution_count": 18,
   "metadata": {
    "execution": {
     "iopub.execute_input": "2021-11-25T09:42:17.175790Z",
     "iopub.status.busy": "2021-11-25T09:42:17.175247Z",
     "iopub.status.idle": "2021-11-25T09:42:17.996103Z",
     "shell.execute_reply": "2021-11-25T09:42:17.995677Z"
    }
   },
   "outputs": [
    {
     "data": {
      "text/plain": [
       "(1.1920929f-7, 1.1754944f-38, 3.4028235f38)"
      ]
     },
     "execution_count": 18,
     "metadata": {},
     "output_type": "execute_result"
    }
   ],
   "source": [
    "eps(Float32),floatmin(Float32),floatmax(Float32)"
   ]
  },
  {
   "cell_type": "markdown",
   "metadata": {},
   "source": [
    "### Special numbers\n",
    "\n",
    "The special numbers extend the real line by adding $\\pm \\infty$ but also a notion of \"not-a-number\".\n",
    "\n",
    "**Definition (not a number)**\n",
    "Let ${\\rm NaN}$ represent \"not a number\" and define\n",
    "$$\n",
    "F^{\\rm special} := \\{\\infty, -\\infty, {\\rm NaN}\\}\n",
    "$$\n",
    "\n",
    "Whenever the bits of $q$ of a floating-point number are all 1 then they represent an element of $F^{\\rm special}$.\n",
    "If all $b_k=0$, then the number represents either $\\pm\\infty$, called `Inf` and `-Inf` for 64-bit floating-point numbers (or `Inf16`, `Inf32`\n",
    "for 16-bit and 32-bit, respectively):"
   ]
  },
  {
   "cell_type": "code",
   "execution_count": 19,
   "metadata": {
    "execution": {
     "iopub.execute_input": "2021-11-25T09:42:17.998254Z",
     "iopub.status.busy": "2021-11-25T09:42:17.997691Z",
     "iopub.status.idle": "2021-11-25T09:42:18.095891Z",
     "shell.execute_reply": "2021-11-25T09:42:18.095488Z"
    }
   },
   "outputs": [
    {
     "name": "stdout",
     "output_type": "stream",
     "text": [
      "\u001b[31m0\u001b[0m\u001b[32m11111\u001b[0m\u001b[34m0000000000\u001b[0m\n",
      "\u001b[31m1\u001b[0m\u001b[32m11111\u001b[0m\u001b[34m0000000000\u001b[0m"
     ]
    }
   ],
   "source": [
    "printlnbits(Inf16)\n",
    "printbits(-Inf16)"
   ]
  },
  {
   "cell_type": "markdown",
   "metadata": {},
   "source": [
    "All other special floating-point numbers represent ${\\rm NaN}$. One particular representation of ${\\rm NaN}$ \n",
    "is denoted by `NaN` for 64-bit floating-point numbers (or `NaN16`, `NaN32` for 16-bit and 32-bit, respectively):"
   ]
  },
  {
   "cell_type": "code",
   "execution_count": 20,
   "metadata": {
    "execution": {
     "iopub.execute_input": "2021-11-25T09:42:18.098416Z",
     "iopub.status.busy": "2021-11-25T09:42:18.097558Z",
     "iopub.status.idle": "2021-11-25T09:42:18.100027Z",
     "shell.execute_reply": "2021-11-25T09:42:18.098911Z"
    }
   },
   "outputs": [
    {
     "name": "stdout",
     "output_type": "stream",
     "text": [
      "\u001b[31m0\u001b[0m\u001b[32m11111\u001b[0m\u001b[34m1000000000\u001b[0m"
     ]
    }
   ],
   "source": [
    "printbits(NaN16)"
   ]
  },
  {
   "cell_type": "markdown",
   "metadata": {},
   "source": [
    "These are needed for undefined algebraic operations such as:"
   ]
  },
  {
   "cell_type": "code",
   "execution_count": 21,
   "metadata": {
    "execution": {
     "iopub.execute_input": "2021-11-25T09:42:18.102438Z",
     "iopub.status.busy": "2021-11-25T09:42:18.101533Z",
     "iopub.status.idle": "2021-11-25T09:42:18.104467Z",
     "shell.execute_reply": "2021-11-25T09:42:18.102988Z"
    }
   },
   "outputs": [
    {
     "data": {
      "text/plain": [
       "NaN"
      ]
     },
     "execution_count": 21,
     "metadata": {},
     "output_type": "execute_result"
    }
   ],
   "source": [
    "0/0"
   ]
  },
  {
   "cell_type": "markdown",
   "metadata": {},
   "source": [
    "**Example (many `NaN`s)** What happens if we change some other $b_k$ to be nonzero?\n",
    "We can create bits as a string and see:"
   ]
  },
  {
   "cell_type": "code",
   "execution_count": 22,
   "metadata": {
    "execution": {
     "iopub.execute_input": "2021-11-25T09:42:18.106426Z",
     "iopub.status.busy": "2021-11-25T09:42:18.105859Z",
     "iopub.status.idle": "2021-11-25T09:42:18.946527Z",
     "shell.execute_reply": "2021-11-25T09:42:18.946104Z"
    }
   },
   "outputs": [
    {
     "data": {
      "text/plain": [
       "NaN16"
      ]
     },
     "execution_count": 22,
     "metadata": {},
     "output_type": "execute_result"
    }
   ],
   "source": [
    "i = parse(UInt16, \"0111110000010001\"; base=2)\n",
    "reinterpret(Float16, i)"
   ]
  },
  {
   "cell_type": "markdown",
   "metadata": {},
   "source": [
    "Thus, there are more than one `NaN`s on a computer.  \n",
    "\n",
    "\n",
    "## 3. Arithmetic\n",
    "\n",
    "\n",
    "Arithmetic operations are done exactly _up to rounding_.\n",
    "There are three basic rounding strategies: round up/down/nearest.\n",
    "Mathematically we introduce a function to capture the notion of rounding:\n",
    "\n",
    "**Definition (rounding)** ${\\rm fl}^{\\rm up}_{S,Q,P} : \\mathbb R \\rightarrow F_{S,Q,P}$ denotes \n",
    "the function that rounds a real number up to the nearest floating-point number that is greater or equal.\n",
    "${\\rm fl}^{\\rm down}_{S,Q,P} : \\mathbb R \\rightarrow F_{S,Q,P}$ denotes \n",
    "the function that rounds a real number down to the nearest floating-point number that is greater or equal.\n",
    "${\\rm fl}^{\\rm nearest}_{S,Q,P} : \\mathbb R \\rightarrow F_{S,Q,P}$ denotes \n",
    "the function that rounds a real number to the nearest floating-point number. In case of a tie, the\n",
    "it returns the floating-point number whose least significant bit is equal to zero.\n",
    "We use the notation ${\\rm fl}$ when $S,Q,P$ and the rounding mode are implied by context,\n",
    "with ${\\rm fl}^{\\rm nearest}$ being the default rounding mode.\n",
    "\n",
    "\n",
    "\n",
    "In Julia, the rounding mode is specified by tags `RoundUp`, `RoundDown`, and\n",
    "`RoundNearest`. (There are also more exotic rounding strategies `RoundToZero`, `RoundNearestTiesAway` and\n",
    "`RoundNearestTiesUp` that we won't use.)\n",
    " Note that these rounding modes are part\n",
    "of the FPU instruction set so will be (roughly) equally fast as the default, `RoundNearest`.\n",
    "\n",
    "Let's try rounding a `Float64` to a `Float32`."
   ]
  },
  {
   "cell_type": "code",
   "execution_count": 23,
   "metadata": {
    "execution": {
     "iopub.execute_input": "2021-11-25T09:42:18.948842Z",
     "iopub.status.busy": "2021-11-25T09:42:18.948145Z",
     "iopub.status.idle": "2021-11-25T09:42:18.950723Z",
     "shell.execute_reply": "2021-11-25T09:42:18.950210Z"
    }
   },
   "outputs": [
    {
     "name": "stdout",
     "output_type": "stream",
     "text": [
      "\u001b[31m0\u001b[0m\u001b[32m01111111101\u001b[0m\u001b[34m0101010101010101010101010101010101010101010101010101\u001b[0m\u001b[31m0\u001b[0m\u001b[32m01111101\u001b[0m\u001b[34m01010101010101010101011\u001b[0m"
     ]
    }
   ],
   "source": [
    "printbits(1/3)  # 64 bits\n",
    "printbits(Float32(1/3))  # round to nearest 32-bit"
   ]
  },
  {
   "cell_type": "markdown",
   "metadata": {},
   "source": [
    "The default rounding mode can be changed:"
   ]
  },
  {
   "cell_type": "code",
   "execution_count": 24,
   "metadata": {
    "execution": {
     "iopub.execute_input": "2021-11-25T09:42:18.952802Z",
     "iopub.status.busy": "2021-11-25T09:42:18.952254Z",
     "iopub.status.idle": "2021-11-25T09:42:18.965168Z",
     "shell.execute_reply": "2021-11-25T09:42:18.964738Z"
    }
   },
   "outputs": [
    {
     "name": "stdout",
     "output_type": "stream",
     "text": [
      "\u001b[31m0\u001b[0m\u001b[32m01111101\u001b[0m\u001b[34m01010101010101010101010\u001b[0m"
     ]
    }
   ],
   "source": [
    "printbits(Float32(1/3,RoundDown) )"
   ]
  },
  {
   "cell_type": "markdown",
   "metadata": {},
   "source": [
    "Or alternatively we can change the rounding mode for a chunk of code\n",
    "using `setrounding`. The following changes `/` to round down:"
   ]
  },
  {
   "cell_type": "code",
   "execution_count": 25,
   "metadata": {
    "execution": {
     "iopub.execute_input": "2021-11-25T09:42:18.967447Z",
     "iopub.status.busy": "2021-11-25T09:42:18.966707Z",
     "iopub.status.idle": "2021-11-25T09:42:19.187615Z",
     "shell.execute_reply": "2021-11-25T09:42:19.187183Z"
    }
   },
   "outputs": [
    {
     "data": {
      "text/plain": [
       "0.33333334f0"
      ]
     },
     "execution_count": 25,
     "metadata": {},
     "output_type": "execute_result"
    }
   ],
   "source": [
    "setrounding(Float32, RoundDown) do\n",
    "    1f0/3\n",
    "end"
   ]
  },
  {
   "cell_type": "markdown",
   "metadata": {},
   "source": [
    "In IEEE arithmetic, the arithmetic operations `+`, `-`, `*`, `/` are defined by the property that they are exact up to \n",
    "rounding.  Mathematically we denote these operations as follows:\n",
    "$$\n",
    "\\begin{align*}\n",
    "x\\oplus y &:= {\\rm fl}(x+y) \\\\\n",
    "x\\ominus y &:= {\\rm fl}(x - y) \\\\\n",
    "x\\otimes y &:= {\\rm fl}(x * y) \\\\\n",
    "x\\oslash y &:= {\\rm fl}(x / y)\n",
    "\\end{align*}\n",
    "$$\n",
    "Note also that  `^` and `sqrt` are similarly exact up to rounding.\n",
    "\n",
    "\n",
    "**Example (decimal is not exact)** `1.1+0.1` gives a different result than `1.2`:"
   ]
  },
  {
   "cell_type": "code",
   "execution_count": 26,
   "metadata": {
    "execution": {
     "iopub.execute_input": "2021-11-25T09:42:19.189833Z",
     "iopub.status.busy": "2021-11-25T09:42:19.189136Z",
     "iopub.status.idle": "2021-11-25T09:42:19.191730Z",
     "shell.execute_reply": "2021-11-25T09:42:19.191306Z"
    }
   },
   "outputs": [
    {
     "data": {
      "text/plain": [
       "2.220446049250313e-16"
      ]
     },
     "execution_count": 26,
     "metadata": {},
     "output_type": "execute_result"
    }
   ],
   "source": [
    "x = 1.1\n",
    "y = 0.1\n",
    "x + y - 1.2 # Not Zero?!?"
   ]
  },
  {
   "cell_type": "markdown",
   "metadata": {},
   "source": [
    "This is because ${\\rm fl}(1.1) \\neq 1+1/10$, but rather:\n",
    "$$\n",
    "{\\rm fl}(1.1) = 1 + 2^{-4}+2^{-5} + 2^{-8}+2^{-9}+\\cdots + 2^{-48}+2^{-49} + 2^{-51}= {2476979795053773 \\over 2251799813685248} = 1.1 +2^{-51} - 2^{-52} - 2^{-53} - 2^{-56} - 2^{-57} - \\cdots\n",
    "$$\n",
    "\n",
    "**WARNING** These operations are not associative! E.g. $(x \\oplus y) \\oplus z$ is not necessarily equal to $x \\oplus (y \\oplus z)$. \n",
    "Commutativity is preserved at least.\n",
    "\n",
    "**Example (non-associative)**\n",
    "Here is a surprising result:"
   ]
  },
  {
   "cell_type": "code",
   "execution_count": 27,
   "metadata": {
    "execution": {
     "iopub.execute_input": "2021-11-25T09:42:19.193934Z",
     "iopub.status.busy": "2021-11-25T09:42:19.193379Z",
     "iopub.status.idle": "2021-11-25T09:42:19.490484Z",
     "shell.execute_reply": "2021-11-25T09:42:19.490057Z"
    }
   },
   "outputs": [
    {
     "data": {
      "text/plain": [
       "(3.5999999999999996, 3.6)"
      ]
     },
     "execution_count": 27,
     "metadata": {},
     "output_type": "execute_result"
    }
   ],
   "source": [
    "(1.1 + 1.2) + 1.3, 1.1 + (1.2 + 1.3)"
   ]
  },
  {
   "cell_type": "markdown",
   "metadata": {},
   "source": [
    "Can you explain this in terms of bits?\n",
    "\n",
    "\n",
    "We can bound basic arithmetic operations in terms of machine epsilon, provided\n",
    "a real number is close to a normal number:\n",
    "\n",
    "**Definition (normalised range)** The _normalised range_ ${\\cal N}_{S,Q,P} \\subset {\\mathbb R}$\n",
    "is the subset of real numbers that lies\n",
    "between the smallest and largest normal floating-point number:\n",
    "$$\n",
    "{\\cal N}_{S,Q,P} := \\{x : \\min |F_{S,Q,P}| \\leq |x| \\leq \\max F_{S,Q,P} \\}\n",
    "$$\n",
    "When $S,Q,P$ are implied by context we use the notation ${\\cal N}$.\n",
    "\n",
    "We can use machine epsilon to determine bounds on rounding:\n",
    "\n",
    "**Proposition (rounding arithmetic)**\n",
    "If $x \\in {\\cal N}$ then \n",
    "$$\n",
    "{\\rm fl}(x) = x (1 + \\delta_x)\n",
    "$$\n",
    "where\n",
    "$$\n",
    "|\\delta_x| \\leq {\\epsilon_{\\rm m} \\over 2}\n",
    "$$\n",
    "\n",
    "\n",
    "This immediately implies bounds on all IEEE arithmetic operations, e.g., \n",
    "if $x+y \\in {\\cal N}$ then\n",
    "we have\n",
    "$$\n",
    "x \\oplus y = (x+y) (1 + \\delta_{x+y})\n",
    "$$\n",
    "where\n",
    "$\n",
    "|\\delta_{x+y}| \\leq {\\epsilon_{\\rm m}/ 2}.\n",
    "$\n",
    "\n",
    "**Example** We show how to bound the error in computing\n",
    "$$\n",
    "(1.1 + 1.2) + 1.3\n",
    "$$\n",
    "using floating-point arithmetic. We have\n",
    "$$\n",
    "(1.1 \\oplus 1.2) \\oplus 1.3 = [(1.1 + 1.2)(1 + \\delta_1)] \\oplus 1.3 =\n",
    "((1.1 + 1.2)(1 + \\delta_1) + 1.3)(1 + \\delta_2) = \n",
    "3.6 + 2.3 \\delta_1 + 3.6 \\delta_2 + 2.3 \\delta_1 \\delta_2\n",
    "$$\n",
    "Thus the error is less than\n",
    "$$\n",
    "5.9 \\epsilon_{\\rm m}/2 +2.3 \\epsilon_{\\rm m}^2/4 < 5.91 \\epsilon_{\\rm m}/2\n",
    "$$\n",
    "Indeed this bounds is fairly precise:"
   ]
  },
  {
   "cell_type": "code",
   "execution_count": 28,
   "metadata": {
    "execution": {
     "iopub.execute_input": "2021-11-25T09:42:19.492648Z",
     "iopub.status.busy": "2021-11-25T09:42:19.492057Z",
     "iopub.status.idle": "2021-11-25T09:42:19.497747Z",
     "shell.execute_reply": "2021-11-25T09:42:19.497322Z"
    }
   },
   "outputs": [
    {
     "data": {
      "text/plain": [
       "(4.440892098500626e-16, 6.561418075534675e-16)"
      ]
     },
     "execution_count": 28,
     "metadata": {},
     "output_type": "execute_result"
    }
   ],
   "source": [
    "3.6 - (1.1+1.2+1.3), 5.91eps()/2"
   ]
  },
  {
   "cell_type": "markdown",
   "metadata": {},
   "source": [
    "### Arithmetic and special numbers\n",
    "\n",
    "Arithmetic works differently on `Inf` and `NaN` and for undefined operations. \n",
    "In particular we have:"
   ]
  },
  {
   "cell_type": "code",
   "execution_count": 29,
   "metadata": {
    "execution": {
     "iopub.execute_input": "2021-11-25T09:42:19.499951Z",
     "iopub.status.busy": "2021-11-25T09:42:19.499407Z",
     "iopub.status.idle": "2021-11-25T09:42:19.723710Z",
     "shell.execute_reply": "2021-11-25T09:42:19.723267Z"
    }
   },
   "outputs": [
    {
     "data": {
      "text/plain": [
       "true"
      ]
     },
     "execution_count": 29,
     "metadata": {},
     "output_type": "execute_result"
    }
   ],
   "source": [
    "1/0.0        #  Inf\n",
    "1/(-0.0)     # -Inf\n",
    "0.0/0.0      #  NaN\n",
    "  \n",
    "Inf*0        #  NaN\n",
    "Inf+5        #  Inf\n",
    "(-1)*Inf     # -Inf\n",
    "1/Inf        #  0.0\n",
    "1/(-Inf)     # -0.0\n",
    "Inf - Inf    #  NaN\n",
    "Inf ==  Inf  #  true\n",
    "Inf == -Inf  #  false\n",
    "\n",
    "NaN*0        #  NaN\n",
    "NaN+5        #  NaN\n",
    "1/NaN        #  NaN\n",
    "NaN == NaN   #  false\n",
    "NaN != NaN   #  true"
   ]
  },
  {
   "cell_type": "markdown",
   "metadata": {},
   "source": [
    "### Special functions\n",
    "\n",
    "Other special functions like `cos`, `sin`, `exp`, etc. are _not_ part of the IEEE standard.\n",
    "Instead, they are implemented by composing the basic arithmetic operations, which accumulate\n",
    "errors. Fortunately they are  designed to have relative accuracy, that is, `s = sin(x)` (that is, the Julia implementation of $sin(x)$) satisfies\n",
    "$$\n",
    "s = \\sin x ( 1 + \\delta)\n",
    "$$\n",
    "where $|\\delta < c\\epsilon_{\\rm m}|$ for a reasonably small $c > 0$.\n",
    "Note these special functions are written in (advanced) Julia code, for example, \n",
    "[sin](https://github.com/JuliaLang/julia/blob/d08b05df6f01cf4ec6e4c28ad94cedda76cc62e8/base/special/trig.jl#L76).\n",
    "\n",
    "\n",
    "**WARNING** This is an extremely misleading statement for large `x`. Consider\n",
    "the following demonstration of the statement:"
   ]
  },
  {
   "cell_type": "code",
   "execution_count": 30,
   "metadata": {
    "execution": {
     "iopub.execute_input": "2021-11-25T09:42:19.726024Z",
     "iopub.status.busy": "2021-11-25T09:42:19.725467Z",
     "iopub.status.idle": "2021-11-25T09:42:19.845600Z",
     "shell.execute_reply": "2021-11-25T09:42:19.845173Z"
    }
   },
   "outputs": [
    {
     "data": {
      "text/plain": [
       "true"
      ]
     },
     "execution_count": 30,
     "metadata": {},
     "output_type": "execute_result"
    }
   ],
   "source": [
    "ε = eps() # machine epsilon, 2^(-52)\n",
    "x = 2*10.0^100\n",
    "abs(sin(x) - sin(big(x)))  ≤  abs(sin(big(x))) * ε"
   ]
  },
  {
   "cell_type": "markdown",
   "metadata": {},
   "source": [
    "But if we instead compute `10^100` using `BigFloat` we get a completely different\n",
    "answer that even has the wrong sign!"
   ]
  },
  {
   "cell_type": "code",
   "execution_count": 31,
   "metadata": {
    "execution": {
     "iopub.execute_input": "2021-11-25T09:42:19.847791Z",
     "iopub.status.busy": "2021-11-25T09:42:19.847242Z",
     "iopub.status.idle": "2021-11-25T09:42:20.453312Z",
     "shell.execute_reply": "2021-11-25T09:42:20.452883Z"
    }
   },
   "outputs": [
    {
     "data": {
      "text/plain": [
       "(-0.703969872087777, 0.6911910845037462219623751594978914260403966392716944990360937340001300242965408)"
      ]
     },
     "execution_count": 31,
     "metadata": {},
     "output_type": "execute_result"
    }
   ],
   "source": [
    "x̃ = 2*big(10.0)^100\n",
    "sin(x), sin(x̃)"
   ]
  },
  {
   "cell_type": "markdown",
   "metadata": {},
   "source": [
    "This is because we commit an error on the order of roughly\n",
    "$$\n",
    "2 * 10^100 * \\epsilon_{\\rm m} \\approx 4.44 * 10^(84)\n",
    "$$\n",
    "when we round $2*10^100$ to the nearest float. \n",
    "\n",
    "## 4. High-precision floating-point numbers (advanced)\n",
    "\n",
    "It is possible to set the precision of a floating-point number\n",
    "using the `BigFloat` type, which results from the usage of `big`\n",
    "when the result is not an integer.\n",
    "For example, here is an approximation of 1/3 accurate\n",
    "to 77 decimal digits:"
   ]
  },
  {
   "cell_type": "code",
   "execution_count": 32,
   "metadata": {
    "execution": {
     "iopub.execute_input": "2021-11-25T09:42:20.455793Z",
     "iopub.status.busy": "2021-11-25T09:42:20.455206Z",
     "iopub.status.idle": "2021-11-25T09:42:20.657150Z",
     "shell.execute_reply": "2021-11-25T09:42:20.656726Z"
    }
   },
   "outputs": [
    {
     "data": {
      "text/plain": [
       "0.3333333333333333333333333333333333333333333333333333333333333333333333333333348"
      ]
     },
     "execution_count": 32,
     "metadata": {},
     "output_type": "execute_result"
    }
   ],
   "source": [
    "big(1)/3"
   ]
  },
  {
   "cell_type": "markdown",
   "metadata": {},
   "source": [
    "Note we can set the rounding mode as in `Float64`, e.g., \n",
    "this gives (rigorous) bounds on\n",
    "`1/3`:"
   ]
  },
  {
   "cell_type": "code",
   "execution_count": 33,
   "metadata": {
    "execution": {
     "iopub.execute_input": "2021-11-25T09:42:20.659457Z",
     "iopub.status.busy": "2021-11-25T09:42:20.658823Z",
     "iopub.status.idle": "2021-11-25T09:42:20.981235Z",
     "shell.execute_reply": "2021-11-25T09:42:20.980764Z"
    }
   },
   "outputs": [
    {
     "data": {
      "text/plain": [
       "(0.3333333333333333333333333333333333333333333333333333333333333333333333333333305, 0.3333333333333333333333333333333333333333333333333333333333333333333333333333348)"
      ]
     },
     "execution_count": 33,
     "metadata": {},
     "output_type": "execute_result"
    }
   ],
   "source": [
    "setrounding(BigFloat, RoundDown) do\n",
    "  big(1)/3\n",
    "end, setrounding(BigFloat, RoundUp) do\n",
    "  big(1)/3\n",
    "end"
   ]
  },
  {
   "cell_type": "markdown",
   "metadata": {},
   "source": [
    "We can also increase the precision, e.g., this finds bounds on `1/3` accurate to \n",
    "more than 1000 decimal places:"
   ]
  },
  {
   "cell_type": "code",
   "execution_count": 34,
   "metadata": {
    "execution": {
     "iopub.execute_input": "2021-11-25T09:42:20.983340Z",
     "iopub.status.busy": "2021-11-25T09:42:20.982750Z",
     "iopub.status.idle": "2021-11-25T09:42:21.010738Z",
     "shell.execute_reply": "2021-11-25T09:42:21.010270Z"
    }
   },
   "outputs": [
    {
     "data": {
      "text/plain": [
       "(0.333333333333333333333333333333333333333333333333333333333333333333333333333333333333333333333333333333333333333333333333333333333333333333333333333333333333333333333333333333333333333333333333333333333333333333333333333333333333333333333333333333333333333333333333333333333333333333333333333333333333333333333333333333333333333333333333333333333333333333333333333333333333333333333333333333333333333333333333333333333333333333333333333333333333333333333333333333333333333333333333333333333333333333333333333333333333333333333333333333333333333333333333333333333333333333333333333333333333333333333333333333333333333333333333333333333333333333333333333333333333333333333333333333333333333333333333333333333333333333333333333333333333333333333333333333333333333333333333333333333333333333333333333333333333333333333333333333333333333333333333333333333333333333333333333333333333333333333333333333333333333333333333333333333333333333333333333333333333333333333333333333333333333333333333333333333333333333333333333333333333333333333333333333333333333333333333333333333333333333333333333333333333333333333333333333333333333333333333333333333333333333333333333333333333333333333333333333333333333333333333333308, 0.333333333333333333333333333333333333333333333333333333333333333333333333333333333333333333333333333333333333333333333333333333333333333333333333333333333333333333333333333333333333333333333333333333333333333333333333333333333333333333333333333333333333333333333333333333333333333333333333333333333333333333333333333333333333333333333333333333333333333333333333333333333333333333333333333333333333333333333333333333333333333333333333333333333333333333333333333333333333333333333333333333333333333333333333333333333333333333333333333333333333333333333333333333333333333333333333333333333333333333333333333333333333333333333333333333333333333333333333333333333333333333333333333333333333333333333333333333333333333333333333333333333333333333333333333333333333333333333333333333333333333333333333333333333333333333333333333333333333333333333333333333333333333333333333333333333333333333333333333333333333333333333333333333333333333333333333333333333333333333333333333333333333333333333333333333333333333333333333333333333333333333333333333333333333333333333333333333333333333333333333333333333333333333333333333333333333333333333333333333333333333333333333333333333333333333333333333333333333333333333333333346)"
      ]
     },
     "execution_count": 34,
     "metadata": {},
     "output_type": "execute_result"
    }
   ],
   "source": [
    "setprecision(4_000) do # 4000 bit precision\n",
    "  setrounding(BigFloat, RoundDown) do\n",
    "    big(1)/3\n",
    "  end, setrounding(BigFloat, RoundUp) do\n",
    "    big(1)/3\n",
    "  end\n",
    "end"
   ]
  },
  {
   "cell_type": "markdown",
   "metadata": {},
   "source": [
    "In the problem sheet we shall see how this can be used to rigorously bound ${\\rm e}$,\n",
    "accurate to 1000 digits."
   ]
  }
 ],
 "metadata": {
  "kernelspec": {
   "display_name": "Julia 1.6.1",
   "language": "julia",
   "name": "julia-1.6"
  },
  "language_info": {
   "file_extension": ".jl",
   "mimetype": "application/julia",
   "name": "julia",
   "version": "1.6.1"
  }
 },
 "nbformat": 4,
 "nbformat_minor": 2
}
