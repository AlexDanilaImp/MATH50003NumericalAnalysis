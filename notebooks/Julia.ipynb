{
 "cells": [
  {
   "cell_type": "markdown",
   "metadata": {},
   "source": [
    "# Introduction to Julia\n",
    "\n",
    "Reference: [The Julia Documentation](https://docs.julialang.org).\n",
    "\n",
    "This lecture gives an overview of Julia. [The Julia–Matlab–Python Cheatsheet](https://cheatsheets.quantecon.org)\n",
    "Is a valuable resource for translating between the three languages.\n",
    "\n",
    "In these notes we focus on the aspects of Julia and computing that are essential to Numerical computing:\n",
    "\n",
    "1. Integers: how does a computer represent an integer?\n",
    "2. Strings and parsing: how do we manipulate strings in Julia? How can we convert a string of bits to an Integer?\n",
    "3. Vectors and matrices: how do we represent vectors and matrices on a computer? \n",
    "4. Types: how can we make our own types, for example, to represent complex numbers or rationals?\n",
    "5. Loops and branches: how do we write `if`, `for`, `while` loops in Julia?\n",
    "6. Functions: how do we define functions in Julia? Note Julia allows overloading functions for different types. \n",
    "E.g. a function may have a different definition for complex numbers than for integers.\n",
    "7. Modules, Packages, and Plotting: how do we load external packages, for example for plotting?\n",
    "\n",
    "Note some subsections are labeled *advanced*, these are non-examinable and will not be necessary in \n",
    "problem sheets or exams. \n",
    "\n",
    "\n",
    "\n",
    "\n",
    "## 1. Integers\n",
    "\n",
    "Julia uses a math-like syntax for manipulating integers:"
   ]
  },
  {
   "cell_type": "code",
   "execution_count": 1,
   "metadata": {
    "execution": {
     "iopub.execute_input": "2021-11-19T16:21:43.460311Z",
     "iopub.status.busy": "2021-11-19T16:21:42.889424Z",
     "iopub.status.idle": "2021-11-19T16:21:44.057445Z",
     "shell.execute_reply": "2021-11-19T16:21:44.056913Z"
    }
   },
   "outputs": [
    {
     "data": {
      "text/plain": [
       "2"
      ]
     },
     "execution_count": 1,
     "metadata": {},
     "output_type": "execute_result"
    }
   ],
   "source": [
    "1 + 1 # Addition"
   ]
  },
  {
   "cell_type": "code",
   "execution_count": 2,
   "metadata": {
    "execution": {
     "iopub.execute_input": "2021-11-19T16:21:44.059605Z",
     "iopub.status.busy": "2021-11-19T16:21:44.058776Z",
     "iopub.status.idle": "2021-11-19T16:21:44.061285Z",
     "shell.execute_reply": "2021-11-19T16:21:44.060191Z"
    }
   },
   "outputs": [
    {
     "data": {
      "text/plain": [
       "6"
      ]
     },
     "execution_count": 2,
     "metadata": {},
     "output_type": "execute_result"
    }
   ],
   "source": [
    "2 * 3 # Multiplication"
   ]
  },
  {
   "cell_type": "code",
   "execution_count": 3,
   "metadata": {
    "execution": {
     "iopub.execute_input": "2021-11-19T16:21:44.063345Z",
     "iopub.status.busy": "2021-11-19T16:21:44.062838Z",
     "iopub.status.idle": "2021-11-19T16:21:44.067653Z",
     "shell.execute_reply": "2021-11-19T16:21:44.067076Z"
    }
   },
   "outputs": [
    {
     "data": {
      "text/plain": [
       "25"
      ]
     },
     "execution_count": 3,
     "metadata": {},
     "output_type": "execute_result"
    }
   ],
   "source": [
    "x = 5; # semicolon is optional but supresses output if used in the last line\n",
    "x^2 # Powers"
   ]
  },
  {
   "cell_type": "markdown",
   "metadata": {},
   "source": [
    "In Julia everything has a type. This is similar in spirit to\n",
    "a class in Python, but much more lightweight.\n",
    "An integer defaults to a type `Int`,\n",
    "which is either 32-bit (`Int32`) or 64-bit (`Int64`) depending\n",
    "on the processor of the machine.\n",
    "These are \"primitive type\", instances of the type are stored in memory as\n",
    "a fixed length sequence of bits.\n",
    "We can find the type of a variable as follows:"
   ]
  },
  {
   "cell_type": "code",
   "execution_count": 4,
   "metadata": {
    "execution": {
     "iopub.execute_input": "2021-11-19T16:21:44.069755Z",
     "iopub.status.busy": "2021-11-19T16:21:44.069252Z",
     "iopub.status.idle": "2021-11-19T16:21:44.512601Z",
     "shell.execute_reply": "2021-11-19T16:21:44.512195Z"
    }
   },
   "outputs": [
    {
     "data": {
      "text/plain": [
       "Int64"
      ]
     },
     "execution_count": 4,
     "metadata": {},
     "output_type": "execute_result"
    }
   ],
   "source": [
    "typeof(x)"
   ]
  },
  {
   "cell_type": "markdown",
   "metadata": {},
   "source": [
    "For a primitive type we can see the bits using the function `bitstring`:"
   ]
  },
  {
   "cell_type": "code",
   "execution_count": 5,
   "metadata": {
    "execution": {
     "iopub.execute_input": "2021-11-19T16:21:44.514481Z",
     "iopub.status.busy": "2021-11-19T16:21:44.513976Z",
     "iopub.status.idle": "2021-11-19T16:21:44.794452Z",
     "shell.execute_reply": "2021-11-19T16:21:44.794026Z"
    }
   },
   "outputs": [
    {
     "data": {
      "text/plain": [
       "\"0000000000000000000000000000000000000000000000000000000000000001\""
      ]
     },
     "execution_count": 5,
     "metadata": {},
     "output_type": "execute_result"
    }
   ],
   "source": [
    "bitstring(1)"
   ]
  },
  {
   "cell_type": "markdown",
   "metadata": {},
   "source": [
    "Negative numbers may be surprising:"
   ]
  },
  {
   "cell_type": "code",
   "execution_count": 6,
   "metadata": {
    "execution": {
     "iopub.execute_input": "2021-11-19T16:21:44.798275Z",
     "iopub.status.busy": "2021-11-19T16:21:44.797285Z",
     "iopub.status.idle": "2021-11-19T16:21:44.808634Z",
     "shell.execute_reply": "2021-11-19T16:21:44.798833Z"
    }
   },
   "outputs": [
    {
     "data": {
      "text/plain": [
       "\"1111111111111111111111111111111111111111111111111111111111111111\""
      ]
     },
     "execution_count": 6,
     "metadata": {},
     "output_type": "execute_result"
    }
   ],
   "source": [
    "bitstring(-1)"
   ]
  },
  {
   "cell_type": "markdown",
   "metadata": {},
   "source": [
    "This format is known as [2's complemement](https://epubs.siam.org/doi/abs/10.1137/1.9780898718072.ch3).\n",
    "It may be counter-intuitive (did you expect `1000…00001`?)\n",
    "but has the nice benefit that addition behaves the same for\n",
    "positive integers and negative integers. \n",
    "\n",
    "`Int` follows [modular arithmetic](https://en.wikipedia.org/wiki/Modular_arithmetic),\n",
    "that is, it is equivalent to the ring of integers modulo `2^p` where `p` is `32` or `64`.\n",
    "Thus for $p = 64$ we are interpreting\n",
    "$2^{32} \\mod 2^{64}$ through $(2^{64}-1) \\mod 2^{64}$ as negative numbers but\n",
    "they are not treated specially. That is, the bits for a negative integer $-y$ are the same\n",
    "as the binary representation of $2^p - y$. In particular,  an integer is negative if and only if \n",
    "the first bit (corresponding to\n",
    "the $2^p$ place) is `1`.\n",
    "\n",
    "\n",
    "\n",
    "**Example (addition)**\n",
    "Consider `(-1) + 1`. They behave like modular arithmetic so we have:\n",
    "$$\n",
    "(-1 \\mod 2^p) + (1 \\mod 2^p) = (2^p-1 \\mod 2^p) + (1 \\mod 2^p) = 2^p \\mod 2^p = 0 \\mod 2^p\n",
    "$$\n",
    "In other words, the bits of this addition are all 0.\n",
    "\n",
    "**Example (multiplication)**\n",
    "Consider `(-2) * 2`. We have:\n",
    "$$\n",
    "(-2 \\mod 2^p) * (2 \\mod 2^p) = (2^p-2 \\mod 2^p) * (2 \\mod 2^p) = (2^{p+1}-4 \\mod 2^p) = -4 \\mod 2^p\n",
    "$$\n",
    "In other words, the bits are the same as the binary representation of $2^{p+1} - 4$, which\n",
    "we interpret as $-4$.\n",
    "\n",
    "\n",
    "\n",
    "\n",
    "We can find the largest and smallest instances of a type using `typemax` and `typemin`:"
   ]
  },
  {
   "cell_type": "code",
   "execution_count": 7,
   "metadata": {
    "execution": {
     "iopub.execute_input": "2021-11-19T16:21:44.837402Z",
     "iopub.status.busy": "2021-11-19T16:21:44.834672Z",
     "iopub.status.idle": "2021-11-19T16:21:45.187937Z",
     "shell.execute_reply": "2021-11-19T16:21:45.187426Z"
    }
   },
   "outputs": [
    {
     "data": {
      "text/plain": [
       "2147483647"
      ]
     },
     "execution_count": 7,
     "metadata": {},
     "output_type": "execute_result"
    }
   ],
   "source": [
    "typemax(Int32)"
   ]
  },
  {
   "cell_type": "markdown",
   "metadata": {},
   "source": [
    "This is the largest positive number, that is, the sign bit is zero and all other bits are 1:"
   ]
  },
  {
   "cell_type": "code",
   "execution_count": 8,
   "metadata": {
    "execution": {
     "iopub.execute_input": "2021-11-19T16:21:45.190331Z",
     "iopub.status.busy": "2021-11-19T16:21:45.189824Z",
     "iopub.status.idle": "2021-11-19T16:21:45.195197Z",
     "shell.execute_reply": "2021-11-19T16:21:45.194766Z"
    }
   },
   "outputs": [
    {
     "data": {
      "text/plain": [
       "\"01111111111111111111111111111111\""
      ]
     },
     "execution_count": 8,
     "metadata": {},
     "output_type": "execute_result"
    }
   ],
   "source": [
    "bitstring(typemax(Int32))"
   ]
  },
  {
   "cell_type": "markdown",
   "metadata": {},
   "source": [
    "Similarly, the smallest integer is:"
   ]
  },
  {
   "cell_type": "code",
   "execution_count": 9,
   "metadata": {
    "execution": {
     "iopub.execute_input": "2021-11-19T16:21:45.197628Z",
     "iopub.status.busy": "2021-11-19T16:21:45.196857Z",
     "iopub.status.idle": "2021-11-19T16:21:45.199511Z",
     "shell.execute_reply": "2021-11-19T16:21:45.198174Z"
    }
   },
   "outputs": [
    {
     "data": {
      "text/plain": [
       "-2147483648"
      ]
     },
     "execution_count": 9,
     "metadata": {},
     "output_type": "execute_result"
    }
   ],
   "source": [
    "typemin(Int32)"
   ]
  },
  {
   "cell_type": "markdown",
   "metadata": {},
   "source": [
    "It has sign bit `1` but all other bits are zero:"
   ]
  },
  {
   "cell_type": "code",
   "execution_count": 10,
   "metadata": {
    "execution": {
     "iopub.execute_input": "2021-11-19T16:21:45.202488Z",
     "iopub.status.busy": "2021-11-19T16:21:45.201188Z",
     "iopub.status.idle": "2021-11-19T16:21:45.204823Z",
     "shell.execute_reply": "2021-11-19T16:21:45.203117Z"
    }
   },
   "outputs": [
    {
     "data": {
      "text/plain": [
       "\"10000000000000000000000000000000\""
      ]
     },
     "execution_count": 10,
     "metadata": {},
     "output_type": "execute_result"
    }
   ],
   "source": [
    "bitstring(typemin(Int32))"
   ]
  },
  {
   "cell_type": "markdown",
   "metadata": {},
   "source": [
    "Since `Int64` behaves like modulo arithmetic we do not \"overflow\" but rather wrap around:"
   ]
  },
  {
   "cell_type": "code",
   "execution_count": 11,
   "metadata": {
    "execution": {
     "iopub.execute_input": "2021-11-19T16:21:45.207592Z",
     "iopub.status.busy": "2021-11-19T16:21:45.206729Z",
     "iopub.status.idle": "2021-11-19T16:21:45.210265Z",
     "shell.execute_reply": "2021-11-19T16:21:45.209755Z"
    }
   },
   "outputs": [
    {
     "data": {
      "text/plain": [
       "-9223372036854775808"
      ]
     },
     "execution_count": 11,
     "metadata": {},
     "output_type": "execute_result"
    }
   ],
   "source": [
    "typemax(Int64) + 1 # returns typemin(Int32)"
   ]
  },
  {
   "cell_type": "markdown",
   "metadata": {},
   "source": [
    "There are other primitive integer types: `Int8` and `Int16` are like `Int32` and `Int64` but with\n",
    "fewer bits. `UInt8`, `UInt16`, `UInt32`, and `UInt64` are unsigned integers, e.g., we do not interpret\n",
    "the number as negative if the first bit is `1`. A non-primitive type is `BigInt` which allows arbitrary length\n",
    "integers, which we can create using `big`:"
   ]
  },
  {
   "cell_type": "code",
   "execution_count": 12,
   "metadata": {
    "execution": {
     "iopub.execute_input": "2021-11-19T16:21:45.212275Z",
     "iopub.status.busy": "2021-11-19T16:21:45.211790Z",
     "iopub.status.idle": "2021-11-19T16:21:45.434133Z",
     "shell.execute_reply": "2021-11-19T16:21:45.433750Z"
    }
   },
   "outputs": [
    {
     "data": {
      "text/plain": [
       "9223372036854775808"
      ]
     },
     "execution_count": 12,
     "metadata": {},
     "output_type": "execute_result"
    }
   ],
   "source": [
    "x = typemax(Int64) + big(1) # Too big to be an `Int64`"
   ]
  },
  {
   "cell_type": "markdown",
   "metadata": {},
   "source": [
    "Note in this case it automatically promotes an `Int64` to a `BigInt`.\n",
    "We can create very large numbers using `BigInt`:"
   ]
  },
  {
   "cell_type": "code",
   "execution_count": 13,
   "metadata": {
    "execution": {
     "iopub.execute_input": "2021-11-19T16:21:45.436362Z",
     "iopub.status.busy": "2021-11-19T16:21:45.435714Z",
     "iopub.status.idle": "2021-11-19T16:21:45.440543Z",
     "shell.execute_reply": "2021-11-19T16:21:45.440139Z"
    }
   },
   "outputs": [
    {
     "data": {
      "text/plain": [
       "3082994025277634745700106821545665721371798533305697458855342277921093731984476404705966539412410898240561729912372038501228893141921080152404642393776599077294434061519905424124601394226943601430916434383714716724720227331596950613701661034548948388721097667275438763758128508403297199458260277707301202460980093818414167080563342761482395862435185093942443540722363151770022221783243959592531336062998494209914752408019060720805124534382646051093613814848646062038662423487504326044361203708430489305864234333801401547140023376295718383390360728662900230671437151716615826286842267917560749586018165739492101920429719261285640125596833063891562865262157026023955919873792846823095854484520920509345944712871675691790827690907778485058829248588945681685288179787963931181062068092463984296225973082494056307958089189726701678735576365394146232076917088075949053636690459581128773097212746967276496496010810878000638239143750075543163240049874489986642327436441234458040254480825038220479904594615300602390556385799245276805580024937804723029319565942013515817048714543455250235208789745701165279569026248145395218985062991831707830217974393158466067785199581037714968820628241051867119832966361530047910339065726550260741036716100932205969655083257714244071120221654679340461084001560321676025443801248355439305974923873624147980728110581452806109011739005060060604228087667499288851218705078807364237925455813890575257569981450090997117697469299234094394984840574025401463942099019413361096233909056117427663439764954916401592565651111571414769257187704568268701243082044838400201357613851006471104244828842270232637747398962711875413488415772647088571125272932490717217468263604683325933469555629785507020775366368002753612709901526248456328209643292122899677436613886360765877886748185299249994921843183573130403496311896614949399409796011301191280067209053259341918813967552543176532349157376"
      ]
     },
     "execution_count": 13,
     "metadata": {},
     "output_type": "execute_result"
    }
   ],
   "source": [
    "x^100"
   ]
  },
  {
   "cell_type": "markdown",
   "metadata": {},
   "source": [
    "Note the number of bits is not fixed so it is possible to run out of memory if a number is\n",
    "astronomically large: go ahead and try `x^x` (at your own risk).\n",
    "\n",
    "In addition to `+`, `-`, and `*` we have integer division `÷`, which rounds down:"
   ]
  },
  {
   "cell_type": "code",
   "execution_count": 14,
   "metadata": {
    "execution": {
     "iopub.execute_input": "2021-11-19T16:21:45.442947Z",
     "iopub.status.busy": "2021-11-19T16:21:45.442273Z",
     "iopub.status.idle": "2021-11-19T16:21:45.444949Z",
     "shell.execute_reply": "2021-11-19T16:21:45.444290Z"
    }
   },
   "outputs": [
    {
     "data": {
      "text/plain": [
       "2"
      ]
     },
     "execution_count": 14,
     "metadata": {},
     "output_type": "execute_result"
    }
   ],
   "source": [
    "5 ÷ 2 # equivalent to div(5,2)"
   ]
  },
  {
   "cell_type": "markdown",
   "metadata": {},
   "source": [
    "Standard division `/` (or `\\` for division on the right) creates a floating point number, which will be discussed in\n",
    "the next chapter:"
   ]
  },
  {
   "cell_type": "code",
   "execution_count": 15,
   "metadata": {
    "execution": {
     "iopub.execute_input": "2021-11-19T16:21:45.447013Z",
     "iopub.status.busy": "2021-11-19T16:21:45.446396Z",
     "iopub.status.idle": "2021-11-19T16:21:45.665685Z",
     "shell.execute_reply": "2021-11-19T16:21:45.665302Z"
    }
   },
   "outputs": [
    {
     "data": {
      "text/plain": [
       "2.5"
      ]
     },
     "execution_count": 15,
     "metadata": {},
     "output_type": "execute_result"
    }
   ],
   "source": [
    "5 / 2 # alternatively 2 \\ 5"
   ]
  },
  {
   "cell_type": "markdown",
   "metadata": {},
   "source": [
    "We can also create rational numbers using `//`:"
   ]
  },
  {
   "cell_type": "code",
   "execution_count": 16,
   "metadata": {
    "execution": {
     "iopub.execute_input": "2021-11-19T16:21:45.667652Z",
     "iopub.status.busy": "2021-11-19T16:21:45.667155Z",
     "iopub.status.idle": "2021-11-19T16:21:45.939759Z",
     "shell.execute_reply": "2021-11-19T16:21:45.939299Z"
    }
   },
   "outputs": [
    {
     "data": {
      "text/plain": [
       "5//4"
      ]
     },
     "execution_count": 16,
     "metadata": {},
     "output_type": "execute_result"
    }
   ],
   "source": [
    "(1//2) + (3//4)"
   ]
  },
  {
   "cell_type": "markdown",
   "metadata": {},
   "source": [
    "Rational arithmetic often leads to overflow so it\n",
    "is often best to combine `big` with rationals:"
   ]
  },
  {
   "cell_type": "code",
   "execution_count": 17,
   "metadata": {
    "execution": {
     "iopub.execute_input": "2021-11-19T16:21:45.941750Z",
     "iopub.status.busy": "2021-11-19T16:21:45.941259Z",
     "iopub.status.idle": "2021-11-19T16:21:46.787588Z",
     "shell.execute_reply": "2021-11-19T16:21:46.787047Z"
    }
   },
   "outputs": [
    {
     "ename": "LoadError",
     "evalue": "OverflowError: 3103473113053299 * 8486106887 overflowed for type Int64",
     "output_type": "error",
     "traceback": [
      "OverflowError: 3103473113053299 * 8486106887 overflowed for type Int64",
      "",
      "Stacktrace:",
      " [1] throw_overflowerr_binaryop(op::Symbol, x::Int64, y::Int64)",
      "   @ Base.Checked ./checked.jl:154",
      " [2] checked_mul",
      "   @ ./checked.jl:288 [inlined]",
      " [3] +(x::Rational{Int64}, y::Rational{Int64})",
      "   @ Base ./rational.jl:286",
      " [4] +(::Rational{Int64}, ::Rational{Int64}, ::Rational{Int64})",
      "   @ Base ./operators.jl:560",
      " [5] top-level scope",
      "   @ In[17]:1",
      " [6] eval",
      "   @ ./boot.jl:360 [inlined]",
      " [7] include_string(mapexpr::typeof(REPL.softscope), mod::Module, code::String, filename::String)",
      "   @ Base ./loading.jl:1116"
     ]
    }
   ],
   "source": [
    "102324//132413023 + 23434545//4243061 + 23434545//42430534435\n",
    "big(102324)//132413023 + 23434545//4243061 + 23434545//42430534435"
   ]
  },
  {
   "cell_type": "markdown",
   "metadata": {},
   "source": [
    "## 2. Strings and parsing\n",
    "\n",
    "We have seen that `bitstring` returns a string of bits.\n",
    "Strings can be created with quotation marks"
   ]
  },
  {
   "cell_type": "code",
   "execution_count": 18,
   "metadata": {
    "execution": {
     "iopub.execute_input": "2021-11-19T16:21:46.789959Z",
     "iopub.status.busy": "2021-11-19T16:21:46.789206Z",
     "iopub.status.idle": "2021-11-19T16:21:46.791850Z",
     "shell.execute_reply": "2021-11-19T16:21:46.790580Z"
    }
   },
   "outputs": [
    {
     "data": {
      "text/plain": [
       "\"hello world 😀\""
      ]
     },
     "execution_count": 18,
     "metadata": {},
     "output_type": "execute_result"
    }
   ],
   "source": [
    "str=\"hello world 😀\""
   ]
  },
  {
   "cell_type": "markdown",
   "metadata": {},
   "source": [
    "We can access characters of a string with brackets:"
   ]
  },
  {
   "cell_type": "code",
   "execution_count": 19,
   "metadata": {
    "execution": {
     "iopub.execute_input": "2021-11-19T16:21:46.793899Z",
     "iopub.status.busy": "2021-11-19T16:21:46.793252Z",
     "iopub.status.idle": "2021-11-19T16:21:47.108540Z",
     "shell.execute_reply": "2021-11-19T16:21:47.108159Z"
    }
   },
   "outputs": [
    {
     "data": {
      "text/plain": [
       "('h', '😀')"
      ]
     },
     "execution_count": 19,
     "metadata": {},
     "output_type": "execute_result"
    }
   ],
   "source": [
    "str[1],str[13]"
   ]
  },
  {
   "cell_type": "markdown",
   "metadata": {},
   "source": [
    "Each character is a bit type, in this case using 32 bits/8 bytes:"
   ]
  },
  {
   "cell_type": "code",
   "execution_count": 20,
   "metadata": {
    "execution": {
     "iopub.execute_input": "2021-11-19T16:21:47.110623Z",
     "iopub.status.busy": "2021-11-19T16:21:47.110055Z",
     "iopub.status.idle": "2021-11-19T16:21:47.396247Z",
     "shell.execute_reply": "2021-11-19T16:21:47.395873Z"
    }
   },
   "outputs": [
    {
     "data": {
      "text/plain": [
       "(Char, 32)"
      ]
     },
     "execution_count": 20,
     "metadata": {},
     "output_type": "execute_result"
    }
   ],
   "source": [
    "typeof(str[6]), length(bitstring(str[6]))"
   ]
  },
  {
   "cell_type": "markdown",
   "metadata": {},
   "source": [
    "Strings are not bit types, but rather point to the start of sequence\n",
    "of `Char` in memory.  In this case, there are $32*13=416$ bits/52\n",
    "bytes in memory.\n",
    "\n",
    "Strings are _immutable_: once created they cannot be changed.\n",
    "But a new string can be created that modifies an existing string.\n",
    "The simplest example is `*`, which concatenates two strings:"
   ]
  },
  {
   "cell_type": "code",
   "execution_count": 21,
   "metadata": {
    "execution": {
     "iopub.execute_input": "2021-11-19T16:21:47.398468Z",
     "iopub.status.busy": "2021-11-19T16:21:47.397783Z",
     "iopub.status.idle": "2021-11-19T16:21:47.400440Z",
     "shell.execute_reply": "2021-11-19T16:21:47.399071Z"
    }
   },
   "outputs": [
    {
     "data": {
      "text/plain": [
       "\"hibye\""
      ]
     },
     "execution_count": 21,
     "metadata": {},
     "output_type": "execute_result"
    }
   ],
   "source": [
    "\"hi\" * \"bye\""
   ]
  },
  {
   "cell_type": "markdown",
   "metadata": {},
   "source": [
    "(Why `*`? Because concatenation is non-commutive.)\n",
    "We can combine this with indexing to, for example, change\n",
    "the last character of a string:"
   ]
  },
  {
   "cell_type": "code",
   "execution_count": 22,
   "metadata": {
    "execution": {
     "iopub.execute_input": "2021-11-19T16:21:47.402874Z",
     "iopub.status.busy": "2021-11-19T16:21:47.402001Z",
     "iopub.status.idle": "2021-11-19T16:21:47.404730Z",
     "shell.execute_reply": "2021-11-19T16:21:47.403581Z"
    }
   },
   "outputs": [
    {
     "data": {
      "text/plain": [
       "\"hello world 😂\""
      ]
     },
     "execution_count": 22,
     "metadata": {},
     "output_type": "execute_result"
    }
   ],
   "source": [
    "str[1:end-1] * \"😂\""
   ]
  },
  {
   "cell_type": "markdown",
   "metadata": {},
   "source": [
    "### Parsing strings\n",
    "\n",
    "We can use the command `parse` to turn a string into an integer:"
   ]
  },
  {
   "cell_type": "code",
   "execution_count": 23,
   "metadata": {
    "execution": {
     "iopub.execute_input": "2021-11-19T16:21:47.406830Z",
     "iopub.status.busy": "2021-11-19T16:21:47.406164Z",
     "iopub.status.idle": "2021-11-19T16:21:47.408558Z",
     "shell.execute_reply": "2021-11-19T16:21:47.407412Z"
    }
   },
   "outputs": [
    {
     "data": {
      "text/plain": [
       "123"
      ]
     },
     "execution_count": 23,
     "metadata": {},
     "output_type": "execute_result"
    }
   ],
   "source": [
    "parse(Int, \"123\")"
   ]
  },
  {
   "cell_type": "markdown",
   "metadata": {},
   "source": [
    "We can specify base 2 as an optional argument. If we are specifying\n",
    "bits its safer to parse as a `UInt32`, otherwise the first bit\n",
    "is not recognised as a sign:"
   ]
  },
  {
   "cell_type": "code",
   "execution_count": 24,
   "metadata": {
    "execution": {
     "iopub.execute_input": "2021-11-19T16:21:47.410198Z",
     "iopub.status.busy": "2021-11-19T16:21:47.409706Z",
     "iopub.status.idle": "2021-11-19T16:21:47.671458Z",
     "shell.execute_reply": "2021-11-19T16:21:47.670865Z"
    }
   },
   "outputs": [
    {
     "data": {
      "text/plain": [
       "0xf09f998a"
      ]
     },
     "execution_count": 24,
     "metadata": {},
     "output_type": "execute_result"
    }
   ],
   "source": [
    "bts = \"11110000100111111001100110001010\"\n",
    "x = parse(UInt32, bts; base=2)"
   ]
  },
  {
   "cell_type": "markdown",
   "metadata": {},
   "source": [
    "The function `reinterpret` allows us to reinterpret the resulting\n",
    "sequence of 32 bits as a different type. For example, we can reinterpret\n",
    "as an `Int32` in which case the first bit is taken to be the sign bit\n",
    "and we get a negative number:"
   ]
  },
  {
   "cell_type": "code",
   "execution_count": 25,
   "metadata": {
    "execution": {
     "iopub.execute_input": "2021-11-19T16:21:47.673596Z",
     "iopub.status.busy": "2021-11-19T16:21:47.673088Z",
     "iopub.status.idle": "2021-11-19T16:21:47.677512Z",
     "shell.execute_reply": "2021-11-19T16:21:47.677068Z"
    }
   },
   "outputs": [
    {
     "data": {
      "text/plain": [
       "-257975926"
      ]
     },
     "execution_count": 25,
     "metadata": {},
     "output_type": "execute_result"
    }
   ],
   "source": [
    "reinterpret(Int32, x)"
   ]
  },
  {
   "cell_type": "markdown",
   "metadata": {},
   "source": [
    "We can also reinterpret as a `Char`:"
   ]
  },
  {
   "cell_type": "code",
   "execution_count": 26,
   "metadata": {
    "execution": {
     "iopub.execute_input": "2021-11-19T16:21:47.679623Z",
     "iopub.status.busy": "2021-11-19T16:21:47.679135Z",
     "iopub.status.idle": "2021-11-19T16:21:47.913291Z",
     "shell.execute_reply": "2021-11-19T16:21:47.912904Z"
    }
   },
   "outputs": [
    {
     "data": {
      "text/plain": [
       "'🙊': Unicode U+1F64A (category So: Symbol, other)"
      ]
     },
     "execution_count": 26,
     "metadata": {},
     "output_type": "execute_result"
    }
   ],
   "source": [
    "reinterpret(Char, x)"
   ]
  },
  {
   "cell_type": "markdown",
   "metadata": {},
   "source": [
    "We will use `parse` and `reinterpret` in problem sheets and the midterm exam\n",
    "as it allows one to easily manipulate bits. This is not actually how one should\n",
    "do it as it is slow.\n",
    "\n",
    "### Bitwise operations (advanced)\n",
    "\n",
    "In practice, one should manipulate bits using bitwise operations.\n",
    "These will not be required in this course and are not examinable, but\n",
    "are valuable to know if you have a career involving high performance computing.\n",
    "The `p << k` shifts the bits of `p` to the left `k` times inserting zeros,\n",
    "while `p >> k` shifts to the right:"
   ]
  },
  {
   "cell_type": "code",
   "execution_count": 27,
   "metadata": {
    "execution": {
     "iopub.execute_input": "2021-11-19T16:21:47.915251Z",
     "iopub.status.busy": "2021-11-19T16:21:47.914671Z",
     "iopub.status.idle": "2021-11-19T16:21:47.943663Z",
     "shell.execute_reply": "2021-11-19T16:21:47.942985Z"
    }
   },
   "outputs": [
    {
     "name": "stdout",
     "output_type": "stream",
     "text": [
      "0000000000000000000000000000000000000000000000000000000000010111\n",
      "0000000000000000000000000000000000000000000000000000000001011100\n",
      "0000000000000000000000000000000000000000000000000000000000000101\n"
     ]
    }
   ],
   "source": [
    "println(bitstring(23));\n",
    "println(bitstring(23 << 2));\n",
    "println(bitstring(23 >> 2));"
   ]
  },
  {
   "cell_type": "markdown",
   "metadata": {},
   "source": [
    "The operations `&`, `|` and `⊻` do bitwise and, or, and xor.\n",
    "\n",
    "## 3. Vectors, Matrices, and Arrays\n",
    "\n",
    "We can create a vector using brackets:"
   ]
  },
  {
   "cell_type": "code",
   "execution_count": 28,
   "metadata": {
    "execution": {
     "iopub.execute_input": "2021-11-19T16:21:47.945791Z",
     "iopub.status.busy": "2021-11-19T16:21:47.945295Z",
     "iopub.status.idle": "2021-11-19T16:21:48.824852Z",
     "shell.execute_reply": "2021-11-19T16:21:48.824444Z"
    }
   },
   "outputs": [
    {
     "data": {
      "text/plain": [
       "3-element Vector{Int64}:\n",
       " 11\n",
       " 24\n",
       " 32"
      ]
     },
     "execution_count": 28,
     "metadata": {},
     "output_type": "execute_result"
    }
   ],
   "source": [
    "v = [11, 24, 32]"
   ]
  },
  {
   "cell_type": "markdown",
   "metadata": {},
   "source": [
    "Like a string, elements are accessed via brackets. Julia\n",
    "uses 1-based indexing (like Matlab and Mathematica, unlike\n",
    "Python and C which use 0-based indexing):"
   ]
  },
  {
   "cell_type": "code",
   "execution_count": 29,
   "metadata": {
    "execution": {
     "iopub.execute_input": "2021-11-19T16:21:48.827021Z",
     "iopub.status.busy": "2021-11-19T16:21:48.826512Z",
     "iopub.status.idle": "2021-11-19T16:21:49.110690Z",
     "shell.execute_reply": "2021-11-19T16:21:49.110132Z"
    }
   },
   "outputs": [
    {
     "data": {
      "text/plain": [
       "(11, 32)"
      ]
     },
     "execution_count": 29,
     "metadata": {},
     "output_type": "execute_result"
    }
   ],
   "source": [
    "v[1], v[3] # This is a Tuple, discussed below"
   ]
  },
  {
   "cell_type": "markdown",
   "metadata": {},
   "source": [
    "Accessing outside the range gives an error:"
   ]
  },
  {
   "cell_type": "code",
   "execution_count": 30,
   "metadata": {
    "execution": {
     "iopub.execute_input": "2021-11-19T16:21:49.112807Z",
     "iopub.status.busy": "2021-11-19T16:21:49.112310Z",
     "iopub.status.idle": "2021-11-19T16:21:49.210233Z",
     "shell.execute_reply": "2021-11-19T16:21:49.209719Z"
    }
   },
   "outputs": [
    {
     "ename": "LoadError",
     "evalue": "BoundsError: attempt to access 3-element Vector{Int64} at index [4]",
     "output_type": "error",
     "traceback": [
      "BoundsError: attempt to access 3-element Vector{Int64} at index [4]",
      "",
      "Stacktrace:",
      " [1] getindex(A::Vector{Int64}, i1::Int64)",
      "   @ Base ./array.jl:801",
      " [2] top-level scope",
      "   @ In[30]:1",
      " [3] eval",
      "   @ ./boot.jl:360 [inlined]",
      " [4] include_string(mapexpr::typeof(REPL.softscope), mod::Module, code::String, filename::String)",
      "   @ Base ./loading.jl:1116"
     ]
    }
   ],
   "source": [
    "v[4]"
   ]
  },
  {
   "cell_type": "markdown",
   "metadata": {},
   "source": [
    "Vectors can be made with different types, for example,\n",
    "here is a vector of three 8-bit integers:"
   ]
  },
  {
   "cell_type": "code",
   "execution_count": 31,
   "metadata": {
    "execution": {
     "iopub.execute_input": "2021-11-19T16:21:49.212466Z",
     "iopub.status.busy": "2021-11-19T16:21:49.211861Z",
     "iopub.status.idle": "2021-11-19T16:21:49.751668Z",
     "shell.execute_reply": "2021-11-19T16:21:49.751290Z"
    }
   },
   "outputs": [
    {
     "data": {
      "text/plain": [
       "3-element Vector{Int8}:\n",
       " 11\n",
       " 24\n",
       " 32"
      ]
     },
     "execution_count": 31,
     "metadata": {},
     "output_type": "execute_result"
    }
   ],
   "source": [
    "v = [Int8(11), Int8(24), Int8(32)]"
   ]
  },
  {
   "cell_type": "markdown",
   "metadata": {},
   "source": [
    "Just like strings, Vectors are not bit types,\n",
    "but rather point to the start of sequence of the corresponding type.\n",
    "In this last case, there are $3*8=24$ bits/3 bytes in memory.\n",
    "\n",
    "The easiest way to create a vector is to use `zeros` to create a zero `Vector`\n",
    "and then modify its entries:"
   ]
  },
  {
   "cell_type": "code",
   "execution_count": 32,
   "metadata": {
    "execution": {
     "iopub.execute_input": "2021-11-19T16:21:49.754190Z",
     "iopub.status.busy": "2021-11-19T16:21:49.753294Z",
     "iopub.status.idle": "2021-11-19T16:21:49.763159Z",
     "shell.execute_reply": "2021-11-19T16:21:49.762612Z"
    }
   },
   "outputs": [
    {
     "data": {
      "text/plain": [
       "5-element Vector{Int64}:\n",
       " 0\n",
       " 3\n",
       " 0\n",
       " 0\n",
       " 0"
      ]
     },
     "execution_count": 32,
     "metadata": {},
     "output_type": "execute_result"
    }
   ],
   "source": [
    "v=zeros(Int, 5)\n",
    "v[2]=3\n",
    "v"
   ]
  },
  {
   "cell_type": "markdown",
   "metadata": {},
   "source": [
    "Note: we can't assign a floating point number to an integer vector:"
   ]
  },
  {
   "cell_type": "code",
   "execution_count": 33,
   "metadata": {
    "execution": {
     "iopub.execute_input": "2021-11-19T16:21:49.765080Z",
     "iopub.status.busy": "2021-11-19T16:21:49.764584Z",
     "iopub.status.idle": "2021-11-19T16:21:49.860231Z",
     "shell.execute_reply": "2021-11-19T16:21:49.859814Z"
    }
   },
   "outputs": [
    {
     "ename": "LoadError",
     "evalue": "InexactError: Int64(3.5)",
     "output_type": "error",
     "traceback": [
      "InexactError: Int64(3.5)",
      "",
      "Stacktrace:",
      " [1] Int64",
      "   @ ./float.jl:723 [inlined]",
      " [2] convert",
      "   @ ./number.jl:7 [inlined]",
      " [3] setindex!(A::Vector{Int64}, x::Float64, i1::Int64)",
      "   @ Base ./array.jl:839",
      " [4] top-level scope",
      "   @ In[33]:1",
      " [5] eval",
      "   @ ./boot.jl:360 [inlined]",
      " [6] include_string(mapexpr::typeof(REPL.softscope), mod::Module, code::String, filename::String)",
      "   @ Base ./loading.jl:1116"
     ]
    }
   ],
   "source": [
    "v[2] = 3.5"
   ]
  },
  {
   "cell_type": "markdown",
   "metadata": {},
   "source": [
    "We can also create vectors with `ones` (a vector of all ones), `rand` (a vector of random numbers between `0` and `1`)\n",
    "and `randn` (a vector of samples of normal distributed quasi-random numbers).\n",
    "\n",
    "When the elements are of different types, they are mapped to a type that can represent every entry.\n",
    "For example, here we input a list of one `Int32` followed by three `Int64`s, which are automatically converted to `Int64`:"
   ]
  },
  {
   "cell_type": "code",
   "execution_count": 34,
   "metadata": {
    "execution": {
     "iopub.execute_input": "2021-11-19T16:21:49.862269Z",
     "iopub.status.busy": "2021-11-19T16:21:49.861752Z",
     "iopub.status.idle": "2021-11-19T16:21:49.889654Z",
     "shell.execute_reply": "2021-11-19T16:21:49.889216Z"
    }
   },
   "outputs": [
    {
     "data": {
      "text/plain": [
       "4-element Vector{Int64}:\n",
       " 1\n",
       " 2\n",
       " 3\n",
       " 4"
      ]
     },
     "execution_count": 34,
     "metadata": {},
     "output_type": "execute_result"
    }
   ],
   "source": [
    "[Int32(1), 2, 3, 4]"
   ]
  },
  {
   "cell_type": "markdown",
   "metadata": {},
   "source": [
    "In the event that the types cannot automatically be converted, it defaults to an `Any` vector.\n",
    "This is bad performancewise as it does not know how many bits each element will need, so should be avoided."
   ]
  },
  {
   "cell_type": "code",
   "execution_count": 35,
   "metadata": {
    "execution": {
     "iopub.execute_input": "2021-11-19T16:21:49.891656Z",
     "iopub.status.busy": "2021-11-19T16:21:49.891152Z",
     "iopub.status.idle": "2021-11-19T16:21:50.543747Z",
     "shell.execute_reply": "2021-11-19T16:21:50.543359Z"
    }
   },
   "outputs": [
    {
     "data": {
      "text/plain": [
       "3-element Vector{Any}:\n",
       " 1.0\n",
       " 1\n",
       "  \"1\""
      ]
     },
     "execution_count": 35,
     "metadata": {},
     "output_type": "execute_result"
    }
   ],
   "source": [
    "[1.0, 1, \"1\"]"
   ]
  },
  {
   "cell_type": "markdown",
   "metadata": {},
   "source": [
    "We can also specify the type of the Vector explicitly by writing the desired type before the first bracket:"
   ]
  },
  {
   "cell_type": "code",
   "execution_count": 36,
   "metadata": {
    "execution": {
     "iopub.execute_input": "2021-11-19T16:21:50.545639Z",
     "iopub.status.busy": "2021-11-19T16:21:50.545127Z",
     "iopub.status.idle": "2021-11-19T16:21:51.064454Z",
     "shell.execute_reply": "2021-11-19T16:21:51.064025Z"
    }
   },
   "outputs": [
    {
     "data": {
      "text/plain": [
       "3-element Vector{Int32}:\n",
       " 1\n",
       " 2\n",
       " 3"
      ]
     },
     "execution_count": 36,
     "metadata": {},
     "output_type": "execute_result"
    }
   ],
   "source": [
    "Int32[1, 2, 3]"
   ]
  },
  {
   "cell_type": "markdown",
   "metadata": {},
   "source": [
    "We can also create an array using brackets, a formula and a `for` command:"
   ]
  },
  {
   "cell_type": "code",
   "execution_count": 37,
   "metadata": {
    "execution": {
     "iopub.execute_input": "2021-11-19T16:21:51.066337Z",
     "iopub.status.busy": "2021-11-19T16:21:51.065855Z",
     "iopub.status.idle": "2021-11-19T16:21:51.098888Z",
     "shell.execute_reply": "2021-11-19T16:21:51.098454Z"
    }
   },
   "outputs": [
    {
     "data": {
      "text/plain": [
       "5-element Vector{Int64}:\n",
       "  1\n",
       "  4\n",
       "  9\n",
       " 16\n",
       " 25"
      ]
     },
     "execution_count": 37,
     "metadata": {},
     "output_type": "execute_result"
    }
   ],
   "source": [
    "[k^2 for k=1:5]"
   ]
  },
  {
   "cell_type": "markdown",
   "metadata": {},
   "source": [
    "Matrices are created similar to vectors, but by specifying two dimensions instead of one.\n",
    "Again, the simplest way is to `zeros` to create a matrix of all zeros:"
   ]
  },
  {
   "cell_type": "code",
   "execution_count": 38,
   "metadata": {
    "execution": {
     "iopub.execute_input": "2021-11-19T16:21:51.100827Z",
     "iopub.status.busy": "2021-11-19T16:21:51.100342Z",
     "iopub.status.idle": "2021-11-19T16:21:51.728367Z",
     "shell.execute_reply": "2021-11-19T16:21:51.727936Z"
    }
   },
   "outputs": [
    {
     "data": {
      "text/plain": [
       "5×5 Matrix{Int64}:\n",
       " 0  0  0  0  0\n",
       " 0  0  0  0  0\n",
       " 0  0  0  0  0\n",
       " 0  0  0  0  0\n",
       " 0  0  0  0  0"
      ]
     },
     "execution_count": 38,
     "metadata": {},
     "output_type": "execute_result"
    }
   ],
   "source": [
    "zeros(Int, 5, 5) # creates a 5x5 matrix of Int zeros"
   ]
  },
  {
   "cell_type": "markdown",
   "metadata": {},
   "source": [
    "We can also create matrices by hand.  Here, spaces delimit the columns and semicolons delimit the rows:"
   ]
  },
  {
   "cell_type": "code",
   "execution_count": 39,
   "metadata": {
    "execution": {
     "iopub.execute_input": "2021-11-19T16:21:51.730287Z",
     "iopub.status.busy": "2021-11-19T16:21:51.729776Z",
     "iopub.status.idle": "2021-11-19T16:21:51.758711Z",
     "shell.execute_reply": "2021-11-19T16:21:51.758268Z"
    }
   },
   "outputs": [
    {
     "data": {
      "text/plain": [
       "3×2 Matrix{Int64}:\n",
       " 1  2\n",
       " 3  4\n",
       " 5  6"
      ]
     },
     "execution_count": 39,
     "metadata": {},
     "output_type": "execute_result"
    }
   ],
   "source": [
    "[1 2; 3 4; 5 6]"
   ]
  },
  {
   "cell_type": "markdown",
   "metadata": {},
   "source": [
    "We can also create matrices using brackets, a formula, and a `for` command:"
   ]
  },
  {
   "cell_type": "code",
   "execution_count": 40,
   "metadata": {
    "execution": {
     "iopub.execute_input": "2021-11-19T16:21:51.760767Z",
     "iopub.status.busy": "2021-11-19T16:21:51.760254Z",
     "iopub.status.idle": "2021-11-19T16:21:51.820846Z",
     "shell.execute_reply": "2021-11-19T16:21:51.820374Z"
    }
   },
   "outputs": [
    {
     "data": {
      "text/plain": [
       "5×5 Matrix{Int64}:\n",
       "  2   3   4   5   6\n",
       "  5   6   7   8   9\n",
       " 10  11  12  13  14\n",
       " 17  18  19  20  21\n",
       " 26  27  28  29  30"
      ]
     },
     "execution_count": 40,
     "metadata": {},
     "output_type": "execute_result"
    }
   ],
   "source": [
    "[k^2+j for k=1:5, j=1:5]"
   ]
  },
  {
   "cell_type": "markdown",
   "metadata": {},
   "source": [
    "Matrices are really Vectors in disguise.  They are still stored in memory in a sequence of addresses.\n",
    "We can see the underlying vector using the `vec` command:"
   ]
  },
  {
   "cell_type": "code",
   "execution_count": 41,
   "metadata": {
    "execution": {
     "iopub.execute_input": "2021-11-19T16:21:51.823452Z",
     "iopub.status.busy": "2021-11-19T16:21:51.822880Z",
     "iopub.status.idle": "2021-11-19T16:21:51.832622Z",
     "shell.execute_reply": "2021-11-19T16:21:51.832248Z"
    }
   },
   "outputs": [
    {
     "data": {
      "text/plain": [
       "6-element Vector{Int64}:\n",
       " 1\n",
       " 3\n",
       " 5\n",
       " 2\n",
       " 4\n",
       " 6"
      ]
     },
     "execution_count": 41,
     "metadata": {},
     "output_type": "execute_result"
    }
   ],
   "source": [
    "M = [1 2; 3 4; 5 6]\n",
    "vec(M)"
   ]
  },
  {
   "cell_type": "markdown",
   "metadata": {},
   "source": [
    "The only difference between matrices and vectors from the computers perspective is that they have a `size` which changes the interpretation of whats stored in memory:"
   ]
  },
  {
   "cell_type": "code",
   "execution_count": 42,
   "metadata": {
    "execution": {
     "iopub.execute_input": "2021-11-19T16:21:51.834659Z",
     "iopub.status.busy": "2021-11-19T16:21:51.834151Z",
     "iopub.status.idle": "2021-11-19T16:21:51.839400Z",
     "shell.execute_reply": "2021-11-19T16:21:51.838942Z"
    }
   },
   "outputs": [
    {
     "data": {
      "text/plain": [
       "(3, 2)"
      ]
     },
     "execution_count": 42,
     "metadata": {},
     "output_type": "execute_result"
    }
   ],
   "source": [
    "size(M)"
   ]
  },
  {
   "cell_type": "markdown",
   "metadata": {},
   "source": [
    "Matrices can be manipulated easily on a computer.  We can multiply:"
   ]
  },
  {
   "cell_type": "code",
   "execution_count": 43,
   "metadata": {
    "execution": {
     "iopub.execute_input": "2021-11-19T16:21:51.841431Z",
     "iopub.status.busy": "2021-11-19T16:21:51.840920Z",
     "iopub.status.idle": "2021-11-19T16:21:52.376468Z",
     "shell.execute_reply": "2021-11-19T16:21:52.376033Z"
    }
   },
   "outputs": [
    {
     "data": {
      "text/plain": [
       "2×2 Matrix{Int64}:\n",
       " 16  19\n",
       " 36  43"
      ]
     },
     "execution_count": 43,
     "metadata": {},
     "output_type": "execute_result"
    }
   ],
   "source": [
    "[1 2; 3 4] * [4 5; 6 7]"
   ]
  },
  {
   "cell_type": "markdown",
   "metadata": {},
   "source": [
    "If you use `.*`, it does entrywise multiplication:"
   ]
  },
  {
   "cell_type": "code",
   "execution_count": 44,
   "metadata": {
    "execution": {
     "iopub.execute_input": "2021-11-19T16:21:52.378378Z",
     "iopub.status.busy": "2021-11-19T16:21:52.377822Z",
     "iopub.status.idle": "2021-11-19T16:21:52.475203Z",
     "shell.execute_reply": "2021-11-19T16:21:52.474487Z"
    }
   },
   "outputs": [
    {
     "data": {
      "text/plain": [
       "2×2 Matrix{Int64}:\n",
       "  4  10\n",
       " 18  28"
      ]
     },
     "execution_count": 44,
     "metadata": {},
     "output_type": "execute_result"
    }
   ],
   "source": [
    "[1 2; 3 4] .* [4 5; 6 7]"
   ]
  },
  {
   "cell_type": "markdown",
   "metadata": {},
   "source": [
    "Vectors are thought of as column vectors, and so `*` is not defined:"
   ]
  },
  {
   "cell_type": "code",
   "execution_count": 45,
   "metadata": {
    "execution": {
     "iopub.execute_input": "2021-11-19T16:21:52.477087Z",
     "iopub.status.busy": "2021-11-19T16:21:52.476578Z",
     "iopub.status.idle": "2021-11-19T16:21:54.025354Z",
     "shell.execute_reply": "2021-11-19T16:21:54.024598Z"
    }
   },
   "outputs": [
    {
     "ename": "LoadError",
     "evalue": "MethodError: no method matching *(::Vector{Int64}, ::Vector{Int64})\n\u001b[0mClosest candidates are:\n\u001b[0m  *(::Any, ::Any, \u001b[91m::Any\u001b[39m, \u001b[91m::Any...\u001b[39m) at operators.jl:560\n\u001b[0m  *(\u001b[91m::StridedMatrix{T}\u001b[39m, ::StridedVector{S}) where {T<:Union{Float32, Float64, ComplexF32, ComplexF64}, S<:Real} at /Users/sheehanolver/Projects/julia-1.6/usr/share/julia/stdlib/v1.6/LinearAlgebra/src/matmul.jl:44\n\u001b[0m  *(::StridedVecOrMat{T} where T, \u001b[91m::Adjoint{var\"#s832\", var\"#s831\"} where {var\"#s832\", var\"#s831\"<:LinearAlgebra.LQPackedQ}\u001b[39m) at /Users/sheehanolver/Projects/julia-1.6/usr/share/julia/stdlib/v1.6/LinearAlgebra/src/lq.jl:254\n\u001b[0m  ...",
     "output_type": "error",
     "traceback": [
      "MethodError: no method matching *(::Vector{Int64}, ::Vector{Int64})\n\u001b[0mClosest candidates are:\n\u001b[0m  *(::Any, ::Any, \u001b[91m::Any\u001b[39m, \u001b[91m::Any...\u001b[39m) at operators.jl:560\n\u001b[0m  *(\u001b[91m::StridedMatrix{T}\u001b[39m, ::StridedVector{S}) where {T<:Union{Float32, Float64, ComplexF32, ComplexF64}, S<:Real} at /Users/sheehanolver/Projects/julia-1.6/usr/share/julia/stdlib/v1.6/LinearAlgebra/src/matmul.jl:44\n\u001b[0m  *(::StridedVecOrMat{T} where T, \u001b[91m::Adjoint{var\"#s832\", var\"#s831\"} where {var\"#s832\", var\"#s831\"<:LinearAlgebra.LQPackedQ}\u001b[39m) at /Users/sheehanolver/Projects/julia-1.6/usr/share/julia/stdlib/v1.6/LinearAlgebra/src/lq.jl:254\n\u001b[0m  ...",
      "",
      "Stacktrace:",
      " [1] top-level scope",
      "   @ In[45]:3",
      " [2] eval",
      "   @ ./boot.jl:360 [inlined]",
      " [3] include_string(mapexpr::typeof(REPL.softscope), mod::Module, code::String, filename::String)",
      "   @ Base ./loading.jl:1116"
     ]
    }
   ],
   "source": [
    "a = [1, 2, 3]\n",
    "b = [4, 5, 6]\n",
    "a*b"
   ]
  },
  {
   "cell_type": "markdown",
   "metadata": {},
   "source": [
    "Whereas entry-wise multiplication with `.*` works fine (try it!).\n",
    "\n",
    "Transposing a Vector gives a row vector, which is represented by a `1 x n` matrix:"
   ]
  },
  {
   "cell_type": "code",
   "execution_count": 46,
   "metadata": {
    "execution": {
     "iopub.execute_input": "2021-11-19T16:21:54.027865Z",
     "iopub.status.busy": "2021-11-19T16:21:54.027273Z",
     "iopub.status.idle": "2021-11-19T16:21:54.499148Z",
     "shell.execute_reply": "2021-11-19T16:21:54.498704Z"
    }
   },
   "outputs": [
    {
     "data": {
      "text/plain": [
       "1×3 adjoint(::Vector{Int64}) with eltype Int64:\n",
       " 1  2  3"
      ]
     },
     "execution_count": 46,
     "metadata": {},
     "output_type": "execute_result"
    }
   ],
   "source": [
    "a'"
   ]
  },
  {
   "cell_type": "markdown",
   "metadata": {},
   "source": [
    "Thus we can do dot products as follows:"
   ]
  },
  {
   "cell_type": "code",
   "execution_count": 47,
   "metadata": {
    "execution": {
     "iopub.execute_input": "2021-11-19T16:21:54.501168Z",
     "iopub.status.busy": "2021-11-19T16:21:54.500539Z",
     "iopub.status.idle": "2021-11-19T16:21:54.519644Z",
     "shell.execute_reply": "2021-11-19T16:21:54.519159Z"
    }
   },
   "outputs": [
    {
     "data": {
      "text/plain": [
       "32"
      ]
     },
     "execution_count": 47,
     "metadata": {},
     "output_type": "execute_result"
    }
   ],
   "source": [
    "a' * b"
   ]
  },
  {
   "cell_type": "markdown",
   "metadata": {},
   "source": [
    "One important note: a vector is not the same as an `n x 1` matrix.\n",
    "\n",
    "### Accessing and altering subsections of arrays \n",
    "\n",
    "We will use the following notation to get at the columns and rows of matrices:\n",
    "```\n",
    "A[a:b,k]    # returns the a-th through b-th rows of the k-th column of A as a Vector of length (b-a+1)\n",
    "A[k,a:b]    # returns the ath through bth columns of the k-th row of A as a 1 x (b-a+1) Matrix\n",
    "A[:,k]      # returns all rows of the k-th column of A as a Vector of length size(A,1)\n",
    "A[k,:]      # returns all columns of the k-th row of A as a 1 x size(A,2) Matrix\n",
    "A[a:b,c:d]  # returns the a-th through b-th rows and c-th through d-th columns of A \n",
    "            # as a (b-a+1) x (d-c+1) Matrix\n",
    "```\n",
    " The ranges `a:b` and `c:d` can be replaced by any `AbstractVector{Int}`.  For example:"
   ]
  },
  {
   "cell_type": "code",
   "execution_count": 48,
   "metadata": {
    "execution": {
     "iopub.execute_input": "2021-11-19T16:21:54.521706Z",
     "iopub.status.busy": "2021-11-19T16:21:54.521194Z",
     "iopub.status.idle": "2021-11-19T16:21:54.571749Z",
     "shell.execute_reply": "2021-11-19T16:21:54.571278Z"
    }
   },
   "outputs": [
    {
     "ename": "LoadError",
     "evalue": "UndefVarError: A not defined",
     "output_type": "error",
     "traceback": [
      "UndefVarError: A not defined",
      "",
      "Stacktrace:",
      " [1] top-level scope",
      "   @ In[48]:1",
      " [2] eval",
      "   @ ./boot.jl:360 [inlined]",
      " [3] include_string(mapexpr::typeof(REPL.softscope), mod::Module, code::String, filename::String)",
      "   @ Base ./loading.jl:1116"
     ]
    }
   ],
   "source": [
    "A[[1,3,4],2]  # returns the 1st, 3rd and 4th rows of the 2nd column of A"
   ]
  },
  {
   "cell_type": "markdown",
   "metadata": {},
   "source": [
    "The function `vec` turns a matrix into a vector:"
   ]
  },
  {
   "cell_type": "code",
   "execution_count": 49,
   "metadata": {
    "execution": {
     "iopub.execute_input": "2021-11-19T16:21:54.574328Z",
     "iopub.status.busy": "2021-11-19T16:21:54.573424Z",
     "iopub.status.idle": "2021-11-19T16:21:54.576725Z",
     "shell.execute_reply": "2021-11-19T16:21:54.576273Z"
    }
   },
   "outputs": [
    {
     "ename": "LoadError",
     "evalue": "UndefVarError: A not defined",
     "output_type": "error",
     "traceback": [
      "UndefVarError: A not defined",
      "",
      "Stacktrace:",
      " [1] top-level scope",
      "   @ In[49]:1",
      " [2] eval",
      "   @ ./boot.jl:360 [inlined]",
      " [3] include_string(mapexpr::typeof(REPL.softscope), mod::Module, code::String, filename::String)",
      "   @ Base ./loading.jl:1116"
     ]
    }
   ],
   "source": [
    "vec(A[k,:])  # returns all columns of the k-th row of A as a size(A,2) Vector"
   ]
  },
  {
   "cell_type": "markdown",
   "metadata": {},
   "source": [
    "**Exercise**  Can you guess what `A[2,[1,3,4]]` returns, using the definition of `A` as above?  What about `A[1:2,[1,3]]`?  And `A[1,B[1:2,1]]`?  And `vec(A[1,B[1:2,1]])`?\n",
    "\n",
    "We can also use this notation to modify entries of the matrix.  For example, we can set the `1:2` x `2:3` subblock of A to `[1 2; 3 4]` as follows:"
   ]
  },
  {
   "cell_type": "code",
   "execution_count": 50,
   "metadata": {
    "execution": {
     "iopub.execute_input": "2021-11-19T16:21:54.578744Z",
     "iopub.status.busy": "2021-11-19T16:21:54.578196Z",
     "iopub.status.idle": "2021-11-19T16:21:54.581054Z",
     "shell.execute_reply": "2021-11-19T16:21:54.580613Z"
    }
   },
   "outputs": [
    {
     "ename": "LoadError",
     "evalue": "UndefVarError: A not defined",
     "output_type": "error",
     "traceback": [
      "UndefVarError: A not defined",
      "",
      "Stacktrace:",
      " [1] top-level scope",
      "   @ In[50]:1",
      " [2] eval",
      "   @ ./boot.jl:360 [inlined]",
      " [3] include_string(mapexpr::typeof(REPL.softscope), mod::Module, code::String, filename::String)",
      "   @ Base ./loading.jl:1116"
     ]
    }
   ],
   "source": [
    "A[1:2,2:3] = [1 2; 3 4]\n",
    "A"
   ]
  },
  {
   "cell_type": "markdown",
   "metadata": {},
   "source": [
    "### Broadcasting\n",
    "\n",
    "It often is necessary to apply a function to every entry of a vector.\n",
    "By adding `.` to the end of a function we \"broadcast\" the function over\n",
    "a vector:"
   ]
  },
  {
   "cell_type": "code",
   "execution_count": 51,
   "metadata": {
    "execution": {
     "iopub.execute_input": "2021-11-19T16:21:54.583085Z",
     "iopub.status.busy": "2021-11-19T16:21:54.582573Z",
     "iopub.status.idle": "2021-11-19T16:21:55.166022Z",
     "shell.execute_reply": "2021-11-19T16:21:55.165576Z"
    }
   },
   "outputs": [
    {
     "data": {
      "text/plain": [
       "3-element Vector{Float64}:\n",
       "  0.5403023058681398\n",
       " -0.4161468365471424\n",
       " -0.9899924966004454"
      ]
     },
     "execution_count": 51,
     "metadata": {},
     "output_type": "execute_result"
    }
   ],
   "source": [
    "x = [1,2,3]\n",
    "cos.(x) # equivalent to [cos(1), cos(2), cos(3)]"
   ]
  },
  {
   "cell_type": "markdown",
   "metadata": {},
   "source": [
    "Broadcasting has some interesting behaviour for matrices.\n",
    "If one dimension of a matrix (or vector) is 1, it automatically\n",
    "repeats the matrix (or vector) to match the size of another example.\n",
    "\n",
    "**Example**"
   ]
  },
  {
   "cell_type": "code",
   "execution_count": 52,
   "metadata": {
    "execution": {
     "iopub.execute_input": "2021-11-19T16:21:55.168007Z",
     "iopub.status.busy": "2021-11-19T16:21:55.167474Z",
     "iopub.status.idle": "2021-11-19T16:21:55.249492Z",
     "shell.execute_reply": "2021-11-19T16:21:55.249044Z"
    }
   },
   "outputs": [
    {
     "data": {
      "text/plain": [
       "3×2 Matrix{Int64}:\n",
       "  4   5\n",
       "  8  10\n",
       " 12  15"
      ]
     },
     "execution_count": 52,
     "metadata": {},
     "output_type": "execute_result"
    }
   ],
   "source": [
    "[1,2,3] .* [4,5]'"
   ]
  },
  {
   "cell_type": "markdown",
   "metadata": {},
   "source": [
    "Since `size([1,2,3],2) == 1` it repeats the same vector to match the size\n",
    "`size([4,5]',2) == 2`. Similarly, `[4,5]'` is repeated 3 times. So the\n",
    "above is equivalent to:"
   ]
  },
  {
   "cell_type": "code",
   "execution_count": 53,
   "metadata": {
    "execution": {
     "iopub.execute_input": "2021-11-19T16:21:55.251768Z",
     "iopub.status.busy": "2021-11-19T16:21:55.251122Z",
     "iopub.status.idle": "2021-11-19T16:21:55.254552Z",
     "shell.execute_reply": "2021-11-19T16:21:55.254018Z"
    }
   },
   "outputs": [
    {
     "data": {
      "text/plain": [
       "3×2 Matrix{Int64}:\n",
       "  4   5\n",
       "  8  10\n",
       " 12  15"
      ]
     },
     "execution_count": 53,
     "metadata": {},
     "output_type": "execute_result"
    }
   ],
   "source": [
    "[1 1; 2 2; 3 3] .* [4 5; 4 5; 4 5]"
   ]
  },
  {
   "cell_type": "markdown",
   "metadata": {},
   "source": [
    "## 4. Types\n",
    "\n",
    "\n",
    "Julia has two different kinds of types: bittypes (like `Int64`, `Int32`, `UInt32` and `Char`) and composite types.\n",
    "\n",
    "Here is an example of an inbuilt composite type representing complex numbers, for example,\n",
    "$z = 1+i$:"
   ]
  },
  {
   "cell_type": "code",
   "execution_count": 54,
   "metadata": {
    "execution": {
     "iopub.execute_input": "2021-11-19T16:21:55.256924Z",
     "iopub.status.busy": "2021-11-19T16:21:55.256424Z",
     "iopub.status.idle": "2021-11-19T16:21:55.267778Z",
     "shell.execute_reply": "2021-11-19T16:21:55.267390Z"
    }
   },
   "outputs": [
    {
     "data": {
      "text/plain": [
       "Complex{Int64}"
      ]
     },
     "execution_count": 54,
     "metadata": {},
     "output_type": "execute_result"
    }
   ],
   "source": [
    "z = 1 + 2im\n",
    "typeof(z)"
   ]
  },
  {
   "cell_type": "markdown",
   "metadata": {},
   "source": [
    "A complex number consists of two fields: a real part (denoted `re`)\n",
    "and an imaginary part (denoted `im`).\n",
    "Fields of a type can be accessed using the `.` notation:"
   ]
  },
  {
   "cell_type": "code",
   "execution_count": 55,
   "metadata": {
    "execution": {
     "iopub.execute_input": "2021-11-19T16:21:55.269781Z",
     "iopub.status.busy": "2021-11-19T16:21:55.269255Z",
     "iopub.status.idle": "2021-11-19T16:21:55.301942Z",
     "shell.execute_reply": "2021-11-19T16:21:55.301567Z"
    }
   },
   "outputs": [
    {
     "ename": "LoadError",
     "evalue": "type Array has no field re",
     "output_type": "error",
     "traceback": [
      "type Array has no field re",
      "",
      "Stacktrace:",
      " [1] getproperty(x::Vector{Int64}, f::Symbol)",
      "   @ Base ./Base.jl:33",
      " [2] top-level scope",
      "   @ In[55]:1",
      " [3] eval",
      "   @ ./boot.jl:360 [inlined]",
      " [4] include_string(mapexpr::typeof(REPL.softscope), mod::Module, code::String, filename::String)",
      "   @ Base ./loading.jl:1116"
     ]
    }
   ],
   "source": [
    "x.re, x.im"
   ]
  },
  {
   "cell_type": "markdown",
   "metadata": {},
   "source": [
    "We can also make our own types.  Let's make a type to represent complex numbers in the format\n",
    "$$z=rexp(i\\theta)$$\n",
    "That is, we want to create a type with two fields: `r` and `θ`.\n",
    "This is done using the `struct` syntax,\n",
    "followed by a list of names for the fields,\n",
    "and finally the keyword `end`."
   ]
  },
  {
   "cell_type": "code",
   "execution_count": 56,
   "metadata": {
    "execution": {
     "iopub.execute_input": "2021-11-19T16:21:55.304158Z",
     "iopub.status.busy": "2021-11-19T16:21:55.303507Z",
     "iopub.status.idle": "2021-11-19T16:21:55.579990Z",
     "shell.execute_reply": "2021-11-19T16:21:55.579557Z"
    }
   },
   "outputs": [
    {
     "data": {
      "text/plain": [
       "RadialComplex(1, 0.1)"
      ]
     },
     "execution_count": 56,
     "metadata": {},
     "output_type": "execute_result"
    }
   ],
   "source": [
    "struct RadialComplex\n",
    "    r\n",
    "    θ\n",
    "end\n",
    "z = RadialComplex(1,0.1)"
   ]
  },
  {
   "cell_type": "markdown",
   "metadata": {},
   "source": [
    "We can access the fields using `.`:"
   ]
  },
  {
   "cell_type": "code",
   "execution_count": 57,
   "metadata": {
    "execution": {
     "iopub.execute_input": "2021-11-19T16:21:55.582008Z",
     "iopub.status.busy": "2021-11-19T16:21:55.581510Z",
     "iopub.status.idle": "2021-11-19T16:21:55.847589Z",
     "shell.execute_reply": "2021-11-19T16:21:55.847145Z"
    }
   },
   "outputs": [
    {
     "data": {
      "text/plain": [
       "(1, 0.1)"
      ]
     },
     "execution_count": 57,
     "metadata": {},
     "output_type": "execute_result"
    }
   ],
   "source": [
    "z.r, z.θ"
   ]
  },
  {
   "cell_type": "markdown",
   "metadata": {},
   "source": [
    "Note that the fields are immutable: we can create\n",
    "a new `RadialComplex` but we cannot modify an existing one.\n",
    "To make a mutable type we use the command `mutable struct`:"
   ]
  },
  {
   "cell_type": "code",
   "execution_count": 58,
   "metadata": {
    "execution": {
     "iopub.execute_input": "2021-11-19T16:21:55.849686Z",
     "iopub.status.busy": "2021-11-19T16:21:55.849203Z",
     "iopub.status.idle": "2021-11-19T16:21:56.070374Z",
     "shell.execute_reply": "2021-11-19T16:21:56.069855Z"
    }
   },
   "outputs": [
    {
     "data": {
      "text/plain": [
       "MutableRadialComplex(2, 3)"
      ]
     },
     "execution_count": 58,
     "metadata": {},
     "output_type": "execute_result"
    }
   ],
   "source": [
    "mutable struct MutableRadialComplex\n",
    "    r\n",
    "    θ\n",
    "end\n",
    "\n",
    "z = MutableRadialComplex(1,2)\n",
    "z.r = 2\n",
    "z.θ = 3\n",
    "z"
   ]
  },
  {
   "cell_type": "markdown",
   "metadata": {},
   "source": [
    "### Abstract types\n",
    "\n",
    "An _abstract type_ represents groups of other types, but can never be instantiated on its own.  For example, every integer and floating point number is a real number.  Therefore, there is an abstract type `Real`, which encapsulates many other types, including `Float64`, `Float32`, `Int64` and `Int32`.  \n",
    "\n",
    "We can test if type `T` is part of an abstract type `V` using the sytax `T <: V`:"
   ]
  },
  {
   "cell_type": "code",
   "execution_count": 59,
   "metadata": {
    "execution": {
     "iopub.execute_input": "2021-11-19T16:21:56.072479Z",
     "iopub.status.busy": "2021-11-19T16:21:56.071817Z",
     "iopub.status.idle": "2021-11-19T16:21:56.342435Z",
     "shell.execute_reply": "2021-11-19T16:21:56.341964Z"
    }
   },
   "outputs": [
    {
     "data": {
      "text/plain": [
       "(true, true, true)"
      ]
     },
     "execution_count": 59,
     "metadata": {},
     "output_type": "execute_result"
    }
   ],
   "source": [
    "Float64 <: Real, Float32 <: Real, Int64 <: Real"
   ]
  },
  {
   "cell_type": "markdown",
   "metadata": {},
   "source": [
    "Every type has one and only one super type, which is _always_ an abstract type.  The function `supertype` applied to a type returns its super type:"
   ]
  },
  {
   "cell_type": "code",
   "execution_count": 60,
   "metadata": {
    "execution": {
     "iopub.execute_input": "2021-11-19T16:21:56.344512Z",
     "iopub.status.busy": "2021-11-19T16:21:56.343999Z",
     "iopub.status.idle": "2021-11-19T16:21:56.347939Z",
     "shell.execute_reply": "2021-11-19T16:21:56.347563Z"
    }
   },
   "outputs": [
    {
     "data": {
      "text/plain": [
       "Signed"
      ]
     },
     "execution_count": 60,
     "metadata": {},
     "output_type": "execute_result"
    }
   ],
   "source": [
    "supertype(Int32)  # returns Signed, which represents all signed integers."
   ]
  },
  {
   "cell_type": "code",
   "execution_count": 61,
   "metadata": {
    "execution": {
     "iopub.execute_input": "2021-11-19T16:21:56.349787Z",
     "iopub.status.busy": "2021-11-19T16:21:56.349211Z",
     "iopub.status.idle": "2021-11-19T16:21:56.351669Z",
     "shell.execute_reply": "2021-11-19T16:21:56.351239Z"
    }
   },
   "outputs": [
    {
     "data": {
      "text/plain": [
       "AbstractFloat"
      ]
     },
     "execution_count": 61,
     "metadata": {},
     "output_type": "execute_result"
    }
   ],
   "source": [
    "supertype(Float32) # returns `AbstractFloat`, which is a subtype of `Real`"
   ]
  },
  {
   "cell_type": "markdown",
   "metadata": {},
   "source": [
    "An abstract type also has a super type:"
   ]
  },
  {
   "cell_type": "code",
   "execution_count": 62,
   "metadata": {
    "execution": {
     "iopub.execute_input": "2021-11-19T16:21:56.353798Z",
     "iopub.status.busy": "2021-11-19T16:21:56.353040Z",
     "iopub.status.idle": "2021-11-19T16:21:56.356182Z",
     "shell.execute_reply": "2021-11-19T16:21:56.355654Z"
    }
   },
   "outputs": [
    {
     "data": {
      "text/plain": [
       "Number"
      ]
     },
     "execution_count": 62,
     "metadata": {},
     "output_type": "execute_result"
    }
   ],
   "source": [
    "supertype(Real)"
   ]
  },
  {
   "cell_type": "markdown",
   "metadata": {},
   "source": [
    "### Abstract types and vectors\n",
    "\n",
    "There are many different types that represent vectors.  \n",
    "This property is captured using `AbstractVector`.  \n",
    "For example, the command `rand(5)` returns a `Vector{Float64}`.\n",
    "On the other hand, the syntax `a:b` returns a range,\n",
    "which is an `AbstractVector` but not a `Vector`.\n",
    "Any `AbstractVector` can be converted to a `Vector` using the function `Vector`:"
   ]
  },
  {
   "cell_type": "code",
   "execution_count": 63,
   "metadata": {
    "execution": {
     "iopub.execute_input": "2021-11-19T16:21:56.358403Z",
     "iopub.status.busy": "2021-11-19T16:21:56.357822Z",
     "iopub.status.idle": "2021-11-19T16:21:56.364635Z",
     "shell.execute_reply": "2021-11-19T16:21:56.364166Z"
    }
   },
   "outputs": [
    {
     "data": {
      "text/plain": [
       "5-element Vector{Int64}:\n",
       " 2\n",
       " 3\n",
       " 4\n",
       " 5\n",
       " 6"
      ]
     },
     "execution_count": 63,
     "metadata": {},
     "output_type": "execute_result"
    }
   ],
   "source": [
    "Vector(2:6)"
   ]
  },
  {
   "cell_type": "markdown",
   "metadata": {},
   "source": [
    "Note that `Vector` is mutable but a range is not:"
   ]
  },
  {
   "cell_type": "code",
   "execution_count": 64,
   "metadata": {
    "execution": {
     "iopub.execute_input": "2021-11-19T16:21:56.366534Z",
     "iopub.status.busy": "2021-11-19T16:21:56.365907Z",
     "iopub.status.idle": "2021-11-19T16:21:56.386988Z",
     "shell.execute_reply": "2021-11-19T16:21:56.386534Z"
    }
   },
   "outputs": [
    {
     "ename": "LoadError",
     "evalue": "setindex! not defined for UnitRange{Int64}",
     "output_type": "error",
     "traceback": [
      "setindex! not defined for UnitRange{Int64}",
      "",
      "Stacktrace:",
      " [1] error(::String, ::Type)",
      "   @ Base ./error.jl:42",
      " [2] error_if_canonical_setindex(#unused#::IndexLinear, A::UnitRange{Int64}, #unused#::Int64)",
      "   @ Base ./abstractarray.jl:1275",
      " [3] setindex!(A::UnitRange{Int64}, v::Int64, I::Int64)",
      "   @ Base ./abstractarray.jl:1266",
      " [4] top-level scope",
      "   @ In[64]:2",
      " [5] eval",
      "   @ ./boot.jl:360 [inlined]",
      " [6] include_string(mapexpr::typeof(REPL.softscope), mod::Module, code::String, filename::String)",
      "   @ Base ./loading.jl:1116"
     ]
    }
   ],
   "source": [
    "r = 2:6\n",
    "r[2] = 3   # Not allowed"
   ]
  },
  {
   "cell_type": "markdown",
   "metadata": {},
   "source": [
    "### Type annotation and templating (advanced)\n",
    "\n",
    "The types `RadialComplex` and `MutableRadialComplex` \n",
    "won't be efficient as we have not told the compiler\n",
    "the type of `r` and `θ`. For the purposes of this module,\n",
    "this is fine as we are not focussing on high performance\n",
    "computing. However, it may be of interest how to rectify this.\n",
    "\n",
    "\n",
    "We can impose a type on the field name with `::`:"
   ]
  },
  {
   "cell_type": "code",
   "execution_count": 65,
   "metadata": {
    "execution": {
     "iopub.execute_input": "2021-11-19T16:21:56.389272Z",
     "iopub.status.busy": "2021-11-19T16:21:56.388620Z",
     "iopub.status.idle": "2021-11-19T16:21:56.668348Z",
     "shell.execute_reply": "2021-11-19T16:21:56.667972Z"
    }
   },
   "outputs": [
    {
     "data": {
      "text/plain": [
       "(1.0, 0.1)"
      ]
     },
     "execution_count": 65,
     "metadata": {},
     "output_type": "execute_result"
    }
   ],
   "source": [
    "struct FastRadialComplex\n",
    "    r::Float64\n",
    "    θ::Float64\n",
    "end\n",
    "z = FastRadialComplex(1,0.1)\n",
    "z.r, z.θ"
   ]
  },
  {
   "cell_type": "markdown",
   "metadata": {},
   "source": [
    "In this case `z` is stored using precisely 128-bits.\n",
    "\n",
    "Sometimes we want to support multiple types.\n",
    "For example, we may wish to support 32-bit\n",
    "floats. This can be done as follows:"
   ]
  },
  {
   "cell_type": "code",
   "execution_count": 66,
   "metadata": {
    "execution": {
     "iopub.execute_input": "2021-11-19T16:21:56.670789Z",
     "iopub.status.busy": "2021-11-19T16:21:56.670205Z",
     "iopub.status.idle": "2021-11-19T16:21:57.412606Z",
     "shell.execute_reply": "2021-11-19T16:21:57.412224Z"
    }
   },
   "outputs": [
    {
     "data": {
      "text/plain": [
       "TemplatedRadialComplex{Float32}(1.0f0, 0.1f0)"
      ]
     },
     "execution_count": 66,
     "metadata": {},
     "output_type": "execute_result"
    }
   ],
   "source": [
    "struct TemplatedRadialComplex{T}\n",
    "    r::T\n",
    "    θ::T\n",
    "end\n",
    "z = TemplatedRadialComplex(1f0,0.1f0) # f0 creates a `Float32`"
   ]
  },
  {
   "cell_type": "markdown",
   "metadata": {},
   "source": [
    "This is stored in precisely 64-bits.\n",
    "\n",
    "\n",
    "### Relationship with C structs, heap and stack (advanced+)\n",
    "\n",
    "For those familiar with C, a `struct` in Julia\n",
    "whose fields are primitive types or composite\n",
    "types built from primitive types,\n",
    "is exactly equivalent to a `struct` C,\n",
    "and can in fact be passed to C functions without\n",
    "any performance cost. Behind the scenes Julia uses the\n",
    "LLVM compiler and so C and Julia can be freely mixed.\n",
    "\n",
    "Another thing to note is that there are two types of\n",
    "memory: the [stack](https://en.wikipedia.org/wiki/Stack-based_memory_allocation)\n",
    "and the [heap](https://en.wikipedia.org/wiki/Memory_management). The stack has\n",
    "fixed memory length and is much\n",
    "faster as it avoids dynamic allocation and deallocation of memory.\n",
    "So an instance of a type with a known fixed length\n",
    "(like `FastRadialComplex`) will\n",
    "typically be in the stack and be much faster than\n",
    "an instance of a type with unknown or variable length\n",
    "(like `RadialComplex` or `Vector`), which will be on the heap.\n",
    "\n",
    "For stack-allocated instances, the compiler may even go a step further\n",
    "and compile a function so\n",
    "that an instance of a type only lives on the cache or even in registers.\n",
    "\n",
    "## 5. Loops and branches\n",
    "\n",
    "For loops work essentially the same as in Python. The one\n",
    "caveat is to remember we are using 1-based indexing, e.g.,\n",
    "`1:5` is a range consisting of `[1,2,3,4,5]`:"
   ]
  },
  {
   "cell_type": "code",
   "execution_count": 67,
   "metadata": {
    "execution": {
     "iopub.execute_input": "2021-11-19T16:21:57.414761Z",
     "iopub.status.busy": "2021-11-19T16:21:57.414194Z",
     "iopub.status.idle": "2021-11-19T16:21:57.447268Z",
     "shell.execute_reply": "2021-11-19T16:21:57.446920Z"
    }
   },
   "outputs": [
    {
     "name": "stdout",
     "output_type": "stream",
     "text": [
      "1\n",
      "4\n",
      "9\n",
      "16\n",
      "25\n"
     ]
    }
   ],
   "source": [
    "for k = 1:5\n",
    "    println(k^2) \n",
    "end"
   ]
  },
  {
   "cell_type": "markdown",
   "metadata": {},
   "source": [
    "## 6. Functions\n",
    "\n",
    "Functions are created in a number of ways.\n",
    "The most standard way is using the keyword `function`, \n",
    "followed by a name for the function, \n",
    "and in parentheses a list of arguments.  \n",
    "Let's make a function that takes in a \n",
    "single number $x$ and returns $x^2$."
   ]
  },
  {
   "cell_type": "code",
   "execution_count": 68,
   "metadata": {
    "execution": {
     "iopub.execute_input": "2021-11-19T16:21:57.449093Z",
     "iopub.status.busy": "2021-11-19T16:21:57.448608Z",
     "iopub.status.idle": "2021-11-19T16:21:57.453547Z",
     "shell.execute_reply": "2021-11-19T16:21:57.453115Z"
    }
   },
   "outputs": [
    {
     "data": {
      "text/plain": [
       "(4, 9)"
      ]
     },
     "execution_count": 68,
     "metadata": {},
     "output_type": "execute_result"
    }
   ],
   "source": [
    "function sq(x)\n",
    "   x^2 \n",
    "end\n",
    "sq(2),sq(3)"
   ]
  },
  {
   "cell_type": "markdown",
   "metadata": {},
   "source": [
    "There is also a convenient syntax for defining functions on\n",
    "one line, e.g., we can also write"
   ]
  },
  {
   "cell_type": "code",
   "execution_count": 69,
   "metadata": {
    "execution": {
     "iopub.execute_input": "2021-11-19T16:21:57.456168Z",
     "iopub.status.busy": "2021-11-19T16:21:57.455520Z",
     "iopub.status.idle": "2021-11-19T16:21:57.745781Z",
     "shell.execute_reply": "2021-11-19T16:21:57.745348Z"
    }
   },
   "outputs": [
    {
     "data": {
      "text/plain": [
       "sq (generic function with 1 method)"
      ]
     },
     "execution_count": 69,
     "metadata": {},
     "output_type": "execute_result"
    }
   ],
   "source": [
    "sq(x) = x^2"
   ]
  },
  {
   "cell_type": "markdown",
   "metadata": {},
   "source": [
    "Multiple arguments to the function can be included with `,`.  \n",
    "Here's a function that takes in 3 arguments and returns the average.  (We write it on 3 lines only to show that functions can take multiple lines.)"
   ]
  },
  {
   "cell_type": "code",
   "execution_count": 70,
   "metadata": {
    "execution": {
     "iopub.execute_input": "2021-11-19T16:21:57.747815Z",
     "iopub.status.busy": "2021-11-19T16:21:57.747328Z",
     "iopub.status.idle": "2021-11-19T16:21:57.752996Z",
     "shell.execute_reply": "2021-11-19T16:21:57.752621Z"
    }
   },
   "outputs": [
    {
     "data": {
      "text/plain": [
       "2.0"
      ]
     },
     "execution_count": 70,
     "metadata": {},
     "output_type": "execute_result"
    }
   ],
   "source": [
    "function av(x,y,z)\n",
    "    ret=x+y\n",
    "    ret=ret+z\n",
    "    ret/3\n",
    "end\n",
    "av(1,2,3)"
   ]
  },
  {
   "cell_type": "markdown",
   "metadata": {},
   "source": [
    "Variables live in different scopes.  In the previous example, `x`, `y`, `z` and `ret` are _local variables_: they only exist inside of `av`.  \n",
    "So this means `x` and `z` are _not_ the same as our complex number `x` and `z` defined above.\n",
    "\n",
    "**Warning**: if you reference variables not defined inside the function, they will use the outer scope definition.  \n",
    "The following example shows that if we mistype the first argument as `xx`, \n",
    "then it takes on the outer scope definition `x`, which is a complex number:"
   ]
  },
  {
   "cell_type": "code",
   "execution_count": 71,
   "metadata": {
    "execution": {
     "iopub.execute_input": "2021-11-19T16:21:57.755604Z",
     "iopub.status.busy": "2021-11-19T16:21:57.754589Z",
     "iopub.status.idle": "2021-11-19T16:21:57.848042Z",
     "shell.execute_reply": "2021-11-19T16:21:57.847595Z"
    }
   },
   "outputs": [
    {
     "data": {
      "text/plain": [
       "av2 (generic function with 1 method)"
      ]
     },
     "execution_count": 71,
     "metadata": {},
     "output_type": "execute_result"
    }
   ],
   "source": [
    "function av2(xx,y,z)\n",
    "    (x+y+z)/3\n",
    "end"
   ]
  },
  {
   "cell_type": "markdown",
   "metadata": {},
   "source": [
    "You should almost never use this feature!!  \n",
    "We should ideally be able to predict the output of a function from knowing just the inputs.\n",
    "\n",
    "### Functions of Vectors \n",
    "\n",
    "\n",
    "We can define functions for other types, for example vectors.  \n",
    "Let's create a function that calculates the average of the entries of a vector."
   ]
  },
  {
   "cell_type": "code",
   "execution_count": 72,
   "metadata": {
    "execution": {
     "iopub.execute_input": "2021-11-19T16:21:57.850015Z",
     "iopub.status.busy": "2021-11-19T16:21:57.849444Z",
     "iopub.status.idle": "2021-11-19T16:21:57.867205Z",
     "shell.execute_reply": "2021-11-19T16:21:57.866715Z"
    }
   },
   "outputs": [
    {
     "data": {
      "text/plain": [
       "3.5"
      ]
     },
     "execution_count": 72,
     "metadata": {},
     "output_type": "execute_result"
    }
   ],
   "source": [
    "function vecav(v)\n",
    "    ret=0\n",
    "    for k = 1:length(v)\n",
    "        ret = ret + v[k]\n",
    "    end\n",
    "    ret/length(v)\n",
    "end\n",
    "vecav([1,5,2,3,8,2])"
   ]
  },
  {
   "cell_type": "markdown",
   "metadata": {},
   "source": [
    "Julia has an inbuilt `sum` command that we can use to check our code:"
   ]
  },
  {
   "cell_type": "code",
   "execution_count": 73,
   "metadata": {
    "execution": {
     "iopub.execute_input": "2021-11-19T16:21:57.869476Z",
     "iopub.status.busy": "2021-11-19T16:21:57.868904Z",
     "iopub.status.idle": "2021-11-19T16:21:57.881596Z",
     "shell.execute_reply": "2021-11-19T16:21:57.880858Z"
    }
   },
   "outputs": [
    {
     "data": {
      "text/plain": [
       "3.5"
      ]
     },
     "execution_count": 73,
     "metadata": {},
     "output_type": "execute_result"
    }
   ],
   "source": [
    "sum([1,5,2,3,8,2])/6"
   ]
  },
  {
   "cell_type": "markdown",
   "metadata": {},
   "source": [
    "### Functions with type signatures\n",
    "\n",
    "functions can be defined only for specific types using `::` after the variable name.  The same function name can be used with different type signatures.  \n",
    "\n",
    "The following defines a function `mydot` that calculates the dot product, with a definition changing depending on whether it is an `Integer` or a `Vector`.  \n",
    "Note that `Integer` means any kind of integer: `mydot` is defined for pairs of `Int64`'s, `Int32`'s, etc."
   ]
  },
  {
   "cell_type": "code",
   "execution_count": 74,
   "metadata": {
    "execution": {
     "iopub.execute_input": "2021-11-19T16:21:57.884011Z",
     "iopub.status.busy": "2021-11-19T16:21:57.883490Z",
     "iopub.status.idle": "2021-11-19T16:21:57.889891Z",
     "shell.execute_reply": "2021-11-19T16:21:57.889290Z"
    }
   },
   "outputs": [
    {
     "data": {
      "text/plain": [
       "30"
      ]
     },
     "execution_count": 74,
     "metadata": {},
     "output_type": "execute_result"
    }
   ],
   "source": [
    "function mydot(a::Integer, b::Integer)\n",
    "    a*b\n",
    "end\n",
    "\n",
    "function mydot(a::Vector, b::Vector)\n",
    "    # we assume length(a)  == length(b)\n",
    "    ret=0\n",
    "    for k=1:length(a)\n",
    "        ret=ret+a[k]*b[k]\n",
    "    end\n",
    "    ret\n",
    "end\n",
    "\n",
    "mydot(5,6)  # calls the first definition"
   ]
  },
  {
   "cell_type": "code",
   "execution_count": 75,
   "metadata": {
    "execution": {
     "iopub.execute_input": "2021-11-19T16:21:57.891952Z",
     "iopub.status.busy": "2021-11-19T16:21:57.891349Z",
     "iopub.status.idle": "2021-11-19T16:21:58.089913Z",
     "shell.execute_reply": "2021-11-19T16:21:58.089517Z"
    }
   },
   "outputs": [
    {
     "data": {
      "text/plain": [
       "30"
      ]
     },
     "execution_count": 75,
     "metadata": {},
     "output_type": "execute_result"
    }
   ],
   "source": [
    "mydot(Int8(5),Int8(6))   # also calls the first definition"
   ]
  },
  {
   "cell_type": "code",
   "execution_count": 76,
   "metadata": {
    "execution": {
     "iopub.execute_input": "2021-11-19T16:21:58.091739Z",
     "iopub.status.busy": "2021-11-19T16:21:58.091211Z",
     "iopub.status.idle": "2021-11-19T16:21:58.110388Z",
     "shell.execute_reply": "2021-11-19T16:21:58.109906Z"
    }
   },
   "outputs": [
    {
     "data": {
      "text/plain": [
       "32"
      ]
     },
     "execution_count": 76,
     "metadata": {},
     "output_type": "execute_result"
    }
   ],
   "source": [
    "mydot([1,2,3],[4,5,6])    # calls the second definition"
   ]
  },
  {
   "cell_type": "code",
   "execution_count": 77,
   "metadata": {
    "execution": {
     "iopub.execute_input": "2021-11-19T16:21:58.112378Z",
     "iopub.status.busy": "2021-11-19T16:21:58.111892Z",
     "iopub.status.idle": "2021-11-19T16:21:58.116695Z",
     "shell.execute_reply": "2021-11-19T16:21:58.116263Z"
    }
   },
   "outputs": [
    {
     "ename": "LoadError",
     "evalue": "BoundsError: attempt to access 3-element Vector{Int64} at index [4]",
     "output_type": "error",
     "traceback": [
      "BoundsError: attempt to access 3-element Vector{Int64} at index [4]",
      "",
      "Stacktrace:",
      " [1] getindex",
      "   @ ./array.jl:801 [inlined]",
      " [2] mydot(a::Vector{Int64}, b::Vector{Int64})",
      "   @ Main ./In[74]:9",
      " [3] top-level scope",
      "   @ In[77]:1",
      " [4] eval",
      "   @ ./boot.jl:360 [inlined]",
      " [5] include_string(mapexpr::typeof(REPL.softscope), mod::Module, code::String, filename::String)",
      "   @ Base ./loading.jl:1116"
     ]
    }
   ],
   "source": [
    "mydot([1,2,3,4],[4,5,6])     # an error is thrown because length(a) > length(b)"
   ]
  },
  {
   "cell_type": "markdown",
   "metadata": {},
   "source": [
    "We should actually check that the lengths of `a` and `b` match.  Let's rewrite `mydot` using an `if`, `else` statement.  The following code only does the for loop if the length of a is equal to the length of b, otherwise, it throws an error.\n",
    "\n",
    "Note that `==` checks if two quantities are equal.  This is _not the same_ as `=`, which assigns the value of one quantity to the other\n",
    "\n",
    "If we name something with the exact same signature (name, and argument types), previous definitions get overriden."
   ]
  },
  {
   "cell_type": "code",
   "execution_count": 78,
   "metadata": {
    "execution": {
     "iopub.execute_input": "2021-11-19T16:21:58.118574Z",
     "iopub.status.busy": "2021-11-19T16:21:58.118089Z",
     "iopub.status.idle": "2021-11-19T16:21:58.129304Z",
     "shell.execute_reply": "2021-11-19T16:21:58.128864Z"
    }
   },
   "outputs": [
    {
     "data": {
      "text/plain": [
       "70"
      ]
     },
     "execution_count": 78,
     "metadata": {},
     "output_type": "execute_result"
    }
   ],
   "source": [
    "function mydot(a::Vector, b::Vector)\n",
    "    ret=0    \n",
    "    if length(a) == length(b)\n",
    "        for k = 1:length(a)\n",
    "            ret = ret + a[k]*b[k]\n",
    "        end\n",
    "    else\n",
    "        error(\"arguments have different lengths\") \n",
    "    end\n",
    "    ret    \n",
    "end\n",
    "mydot([1,2,3,4],[5,6,7,8])"
   ]
  },
  {
   "cell_type": "code",
   "execution_count": 79,
   "metadata": {
    "execution": {
     "iopub.execute_input": "2021-11-19T16:21:58.131330Z",
     "iopub.status.busy": "2021-11-19T16:21:58.130815Z",
     "iopub.status.idle": "2021-11-19T16:21:58.135271Z",
     "shell.execute_reply": "2021-11-19T16:21:58.134855Z"
    }
   },
   "outputs": [
    {
     "ename": "LoadError",
     "evalue": "arguments have different lengths",
     "output_type": "error",
     "traceback": [
      "arguments have different lengths",
      "",
      "Stacktrace:",
      " [1] error(s::String)",
      "   @ Base ./error.jl:33",
      " [2] mydot(a::Vector{Int64}, b::Vector{Int64})",
      "   @ Main ./In[78]:8",
      " [3] top-level scope",
      "   @ In[79]:1",
      " [4] eval",
      "   @ ./boot.jl:360 [inlined]",
      " [5] include_string(mapexpr::typeof(REPL.softscope), mod::Module, code::String, filename::String)",
      "   @ Base ./loading.jl:1116"
     ]
    }
   ],
   "source": [
    "mydot([1,2,3,4],[5,6,7])"
   ]
  },
  {
   "cell_type": "markdown",
   "metadata": {},
   "source": [
    "### Anonymous (lambda) functions\n",
    "\n",
    "Just like Python it is possible to make anonymous functions,\n",
    "with two variants on syntax:"
   ]
  },
  {
   "cell_type": "code",
   "execution_count": 80,
   "metadata": {
    "execution": {
     "iopub.execute_input": "2021-11-19T16:21:58.137029Z",
     "iopub.status.busy": "2021-11-19T16:21:58.136533Z",
     "iopub.status.idle": "2021-11-19T16:21:58.217540Z",
     "shell.execute_reply": "2021-11-19T16:21:58.217113Z"
    }
   },
   "outputs": [
    {
     "data": {
      "text/plain": [
       "#7 (generic function with 1 method)"
      ]
     },
     "execution_count": 80,
     "metadata": {},
     "output_type": "execute_result"
    }
   ],
   "source": [
    "f = x -> x^2\n",
    "g = function(x)\n",
    "    x^2\n",
    "end"
   ]
  },
  {
   "cell_type": "markdown",
   "metadata": {},
   "source": [
    "There is not much difference between named and anonymous functions,\n",
    "both are compiled in the same manner. One can essentially think of\n",
    "named functions as \"global constant anonymous functions\".\n",
    "\n",
    "### Tuples\n",
    "\n",
    "`Tuples` are similar to vectors but written with the notation `(x,y,z)` instead of `[x,y,z]`.  They allow the storage of _different types_.  For example:"
   ]
  },
  {
   "cell_type": "code",
   "execution_count": 81,
   "metadata": {
    "execution": {
     "iopub.execute_input": "2021-11-19T16:21:58.219595Z",
     "iopub.status.busy": "2021-11-19T16:21:58.218943Z",
     "iopub.status.idle": "2021-11-19T16:21:58.495528Z",
     "shell.execute_reply": "2021-11-19T16:21:58.495045Z"
    }
   },
   "outputs": [
    {
     "data": {
      "text/plain": [
       "(1, 2.0, \"hi\")"
      ]
     },
     "execution_count": 81,
     "metadata": {},
     "output_type": "execute_result"
    }
   ],
   "source": [
    "t = (1,2.0,\"hi\")"
   ]
  },
  {
   "cell_type": "markdown",
   "metadata": {},
   "source": [
    "On the surface, this is very similar to a `Vector{Any}`:"
   ]
  },
  {
   "cell_type": "code",
   "execution_count": 82,
   "metadata": {
    "execution": {
     "iopub.execute_input": "2021-11-19T16:21:58.497428Z",
     "iopub.status.busy": "2021-11-19T16:21:58.496945Z",
     "iopub.status.idle": "2021-11-19T16:21:58.527540Z",
     "shell.execute_reply": "2021-11-19T16:21:58.527054Z"
    }
   },
   "outputs": [
    {
     "data": {
      "text/plain": [
       "3-element Vector{Any}:\n",
       " 1\n",
       " 2.0\n",
       "  \"hi\""
      ]
     },
     "execution_count": 82,
     "metadata": {},
     "output_type": "execute_result"
    }
   ],
   "source": [
    "v=[1,2.0,\"hi\"]"
   ]
  },
  {
   "cell_type": "markdown",
   "metadata": {},
   "source": [
    "The main difference is that a `Tuple` knows the type of its arguments:"
   ]
  },
  {
   "cell_type": "code",
   "execution_count": 83,
   "metadata": {
    "execution": {
     "iopub.execute_input": "2021-11-19T16:21:58.529780Z",
     "iopub.status.busy": "2021-11-19T16:21:58.529243Z",
     "iopub.status.idle": "2021-11-19T16:21:58.531491Z",
     "shell.execute_reply": "2021-11-19T16:21:58.531096Z"
    }
   },
   "outputs": [
    {
     "data": {
      "text/plain": [
       "Tuple{Int64, Float64, String}"
      ]
     },
     "execution_count": 83,
     "metadata": {},
     "output_type": "execute_result"
    }
   ],
   "source": [
    "typeof(t)"
   ]
  },
  {
   "cell_type": "markdown",
   "metadata": {},
   "source": [
    "The main benefit of tuples for us is that they provide a convenient\n",
    "way to return multiple arguments from a function. \n",
    "For example, the following returns both `cos(x)` and `x^2`\n",
    "from a single function:"
   ]
  },
  {
   "cell_type": "code",
   "execution_count": 84,
   "metadata": {
    "execution": {
     "iopub.execute_input": "2021-11-19T16:21:58.533531Z",
     "iopub.status.busy": "2021-11-19T16:21:58.532895Z",
     "iopub.status.idle": "2021-11-19T16:21:58.841053Z",
     "shell.execute_reply": "2021-11-19T16:21:58.840630Z"
    }
   },
   "outputs": [
    {
     "data": {
      "text/plain": [
       "(0.28366218546322625, 25)"
      ]
     },
     "execution_count": 84,
     "metadata": {},
     "output_type": "execute_result"
    }
   ],
   "source": [
    "function mytuplereturn(x)\n",
    "    (cos(x), x^2)\n",
    "end\n",
    "mytuplereturn(5)"
   ]
  },
  {
   "cell_type": "markdown",
   "metadata": {},
   "source": [
    "We can also employ the convenient syntax to create two variables at once:"
   ]
  },
  {
   "cell_type": "code",
   "execution_count": 85,
   "metadata": {
    "execution": {
     "iopub.execute_input": "2021-11-19T16:21:58.843402Z",
     "iopub.status.busy": "2021-11-19T16:21:58.842763Z",
     "iopub.status.idle": "2021-11-19T16:21:58.853671Z",
     "shell.execute_reply": "2021-11-19T16:21:58.853289Z"
    }
   },
   "outputs": [
    {
     "data": {
      "text/plain": [
       "(0.28366218546322625, 25)"
      ]
     },
     "execution_count": 85,
     "metadata": {},
     "output_type": "execute_result"
    }
   ],
   "source": [
    "x,y = mytuplereturn(5)"
   ]
  },
  {
   "cell_type": "markdown",
   "metadata": {},
   "source": [
    "## Modules, Packages, and Plotting\n",
    "\n",
    "Julia, like Python, has modules and packages.\n",
    "For example to load support for linear algebra functionality\n",
    "like `norm` and `det`, we need to load the `LinearAlgebra` module:"
   ]
  },
  {
   "cell_type": "code",
   "execution_count": 86,
   "metadata": {
    "execution": {
     "iopub.execute_input": "2021-11-19T16:21:58.855655Z",
     "iopub.status.busy": "2021-11-19T16:21:58.855063Z",
     "iopub.status.idle": "2021-11-19T16:21:58.918859Z",
     "shell.execute_reply": "2021-11-19T16:21:58.918188Z"
    }
   },
   "outputs": [
    {
     "data": {
      "text/plain": [
       "3.7416573867739413"
      ]
     },
     "execution_count": 86,
     "metadata": {},
     "output_type": "execute_result"
    }
   ],
   "source": [
    "using LinearAlgebra\n",
    "norm([1,2,3])"
   ]
  },
  {
   "cell_type": "code",
   "execution_count": 87,
   "metadata": {
    "execution": {
     "iopub.execute_input": "2021-11-19T16:21:58.921043Z",
     "iopub.status.busy": "2021-11-19T16:21:58.920386Z",
     "iopub.status.idle": "2021-11-19T16:21:59.117264Z",
     "shell.execute_reply": "2021-11-19T16:21:59.116887Z"
    }
   },
   "outputs": [
    {
     "data": {
      "text/plain": [
       "-2.0"
      ]
     },
     "execution_count": 87,
     "metadata": {},
     "output_type": "execute_result"
    }
   ],
   "source": [
    "det([1 2; 3 4])"
   ]
  },
  {
   "cell_type": "markdown",
   "metadata": {},
   "source": [
    "It is fairly straightword to create ones own modules and packages, however,\n",
    "we will not need modules in this....module.\n",
    "\n",
    "### Plotting\n",
    "\n",
    "Some important functionality such as plotting requires non-built in\n",
    "packages. There are many packages such as [PyPlot.jl](https://github.com/JuliaPy/PyPlot.jl),\n",
    "which wraps Python's [matplotlib](https://matplotlib.org) and\n",
    "[Makie.jl](https://github.com/JuliaPlots/Makie.jl), which is a state-of-the-art\n",
    "GPU based 3D plotting package. We will use [Plots.jl](https://github.com/JuliaPlots/Plots.jl),\n",
    "which is an umbrella package that supports different backends.\n",
    "\n",
    "For example, we can plot a simple function as follows:"
   ]
  },
  {
   "cell_type": "code",
   "execution_count": 88,
   "metadata": {
    "execution": {
     "iopub.execute_input": "2021-11-19T16:21:59.119158Z",
     "iopub.status.busy": "2021-11-19T16:21:59.118626Z",
     "iopub.status.idle": "2021-11-19T16:22:11.126150Z",
     "shell.execute_reply": "2021-11-19T16:22:11.125704Z"
    }
   },
   "outputs": [
    {
     "data": {
      "image/svg+xml": [
       "<?xml version=\"1.0\" encoding=\"utf-8\"?>\n",
       "<svg xmlns=\"http://www.w3.org/2000/svg\" xmlns:xlink=\"http://www.w3.org/1999/xlink\" width=\"600\" height=\"400\" viewBox=\"0 0 2400 1600\">\n",
       "<defs>\n",
       "  <clipPath id=\"clip400\">\n",
       "    <rect x=\"0\" y=\"0\" width=\"2400\" height=\"1600\"/>\n",
       "  </clipPath>\n",
       "</defs>\n",
       "<path clip-path=\"url(#clip400)\" d=\"\n",
       "M0 1600 L2400 1600 L2400 0 L0 0  Z\n",
       "  \" fill=\"#ffffff\" fill-rule=\"evenodd\" fill-opacity=\"1\"/>\n",
       "<defs>\n",
       "  <clipPath id=\"clip401\">\n",
       "    <rect x=\"480\" y=\"0\" width=\"1681\" height=\"1600\"/>\n",
       "  </clipPath>\n",
       "</defs>\n",
       "<path clip-path=\"url(#clip400)\" d=\"\n",
       "M156.274 1486.45 L2352.76 1486.45 L2352.76 47.2441 L156.274 47.2441  Z\n",
       "  \" fill=\"#ffffff\" fill-rule=\"evenodd\" fill-opacity=\"1\"/>\n",
       "<defs>\n",
       "  <clipPath id=\"clip402\">\n",
       "    <rect x=\"156\" y=\"47\" width=\"2197\" height=\"1440\"/>\n",
       "  </clipPath>\n",
       "</defs>\n",
       "<polyline clip-path=\"url(#clip402)\" style=\"stroke:#000000; stroke-linecap:butt; stroke-linejoin:round; stroke-width:2; stroke-opacity:0.1; fill:none\" points=\"\n",
       "  218.439,1486.45 218.439,47.2441 \n",
       "  \"/>\n",
       "<polyline clip-path=\"url(#clip402)\" style=\"stroke:#000000; stroke-linecap:butt; stroke-linejoin:round; stroke-width:2; stroke-opacity:0.1; fill:none\" points=\"\n",
       "  736.477,1486.45 736.477,47.2441 \n",
       "  \"/>\n",
       "<polyline clip-path=\"url(#clip402)\" style=\"stroke:#000000; stroke-linecap:butt; stroke-linejoin:round; stroke-width:2; stroke-opacity:0.1; fill:none\" points=\"\n",
       "  1254.52,1486.45 1254.52,47.2441 \n",
       "  \"/>\n",
       "<polyline clip-path=\"url(#clip402)\" style=\"stroke:#000000; stroke-linecap:butt; stroke-linejoin:round; stroke-width:2; stroke-opacity:0.1; fill:none\" points=\"\n",
       "  1772.55,1486.45 1772.55,47.2441 \n",
       "  \"/>\n",
       "<polyline clip-path=\"url(#clip402)\" style=\"stroke:#000000; stroke-linecap:butt; stroke-linejoin:round; stroke-width:2; stroke-opacity:0.1; fill:none\" points=\"\n",
       "  2290.59,1486.45 2290.59,47.2441 \n",
       "  \"/>\n",
       "<polyline clip-path=\"url(#clip400)\" style=\"stroke:#000000; stroke-linecap:butt; stroke-linejoin:round; stroke-width:4; stroke-opacity:1; fill:none\" points=\"\n",
       "  156.274,1486.45 2352.76,1486.45 \n",
       "  \"/>\n",
       "<polyline clip-path=\"url(#clip400)\" style=\"stroke:#000000; stroke-linecap:butt; stroke-linejoin:round; stroke-width:4; stroke-opacity:1; fill:none\" points=\"\n",
       "  218.439,1486.45 218.439,1467.55 \n",
       "  \"/>\n",
       "<polyline clip-path=\"url(#clip400)\" style=\"stroke:#000000; stroke-linecap:butt; stroke-linejoin:round; stroke-width:4; stroke-opacity:1; fill:none\" points=\"\n",
       "  736.477,1486.45 736.477,1467.55 \n",
       "  \"/>\n",
       "<polyline clip-path=\"url(#clip400)\" style=\"stroke:#000000; stroke-linecap:butt; stroke-linejoin:round; stroke-width:4; stroke-opacity:1; fill:none\" points=\"\n",
       "  1254.52,1486.45 1254.52,1467.55 \n",
       "  \"/>\n",
       "<polyline clip-path=\"url(#clip400)\" style=\"stroke:#000000; stroke-linecap:butt; stroke-linejoin:round; stroke-width:4; stroke-opacity:1; fill:none\" points=\"\n",
       "  1772.55,1486.45 1772.55,1467.55 \n",
       "  \"/>\n",
       "<polyline clip-path=\"url(#clip400)\" style=\"stroke:#000000; stroke-linecap:butt; stroke-linejoin:round; stroke-width:4; stroke-opacity:1; fill:none\" points=\"\n",
       "  2290.59,1486.45 2290.59,1467.55 \n",
       "  \"/>\n",
       "<path clip-path=\"url(#clip400)\" d=\"M164.967 1532.02 L194.643 1532.02 L194.643 1535.95 L164.967 1535.95 L164.967 1532.02 Z\" fill=\"#000000\" fill-rule=\"evenodd\" fill-opacity=\"1\" /><path clip-path=\"url(#clip400)\" d=\"M205.545 1544.91 L213.184 1544.91 L213.184 1518.55 L204.874 1520.21 L204.874 1515.95 L213.138 1514.29 L217.814 1514.29 L217.814 1544.91 L225.453 1544.91 L225.453 1548.85 L205.545 1548.85 L205.545 1544.91 Z\" fill=\"#000000\" fill-rule=\"evenodd\" fill-opacity=\"1\" /><path clip-path=\"url(#clip400)\" d=\"M234.897 1542.97 L239.781 1542.97 L239.781 1548.85 L234.897 1548.85 L234.897 1542.97 Z\" fill=\"#000000\" fill-rule=\"evenodd\" fill-opacity=\"1\" /><path clip-path=\"url(#clip400)\" d=\"M259.966 1517.37 Q256.355 1517.37 254.527 1520.93 Q252.721 1524.47 252.721 1531.6 Q252.721 1538.71 254.527 1542.27 Q256.355 1545.82 259.966 1545.82 Q263.601 1545.82 265.406 1542.27 Q267.235 1538.71 267.235 1531.6 Q267.235 1524.47 265.406 1520.93 Q263.601 1517.37 259.966 1517.37 M259.966 1513.66 Q265.776 1513.66 268.832 1518.27 Q271.911 1522.85 271.911 1531.6 Q271.911 1540.33 268.832 1544.94 Q265.776 1549.52 259.966 1549.52 Q254.156 1549.52 251.077 1544.94 Q248.022 1540.33 248.022 1531.6 Q248.022 1522.85 251.077 1518.27 Q254.156 1513.66 259.966 1513.66 Z\" fill=\"#000000\" fill-rule=\"evenodd\" fill-opacity=\"1\" /><path clip-path=\"url(#clip400)\" d=\"M683.503 1532.02 L713.178 1532.02 L713.178 1535.95 L683.503 1535.95 L683.503 1532.02 Z\" fill=\"#000000\" fill-rule=\"evenodd\" fill-opacity=\"1\" /><path clip-path=\"url(#clip400)\" d=\"M733.271 1517.37 Q729.66 1517.37 727.831 1520.93 Q726.026 1524.47 726.026 1531.6 Q726.026 1538.71 727.831 1542.27 Q729.66 1545.82 733.271 1545.82 Q736.905 1545.82 738.711 1542.27 Q740.539 1538.71 740.539 1531.6 Q740.539 1524.47 738.711 1520.93 Q736.905 1517.37 733.271 1517.37 M733.271 1513.66 Q739.081 1513.66 742.137 1518.27 Q745.215 1522.85 745.215 1531.6 Q745.215 1540.33 742.137 1544.94 Q739.081 1549.52 733.271 1549.52 Q727.461 1549.52 724.382 1544.94 Q721.327 1540.33 721.327 1531.6 Q721.327 1522.85 724.382 1518.27 Q727.461 1513.66 733.271 1513.66 Z\" fill=\"#000000\" fill-rule=\"evenodd\" fill-opacity=\"1\" /><path clip-path=\"url(#clip400)\" d=\"M753.433 1542.97 L758.317 1542.97 L758.317 1548.85 L753.433 1548.85 L753.433 1542.97 Z\" fill=\"#000000\" fill-rule=\"evenodd\" fill-opacity=\"1\" /><path clip-path=\"url(#clip400)\" d=\"M768.548 1514.29 L786.905 1514.29 L786.905 1518.22 L772.831 1518.22 L772.831 1526.7 Q773.849 1526.35 774.868 1526.19 Q775.886 1526 776.905 1526 Q782.692 1526 786.072 1529.17 Q789.451 1532.34 789.451 1537.76 Q789.451 1543.34 785.979 1546.44 Q782.507 1549.52 776.187 1549.52 Q774.011 1549.52 771.743 1549.15 Q769.498 1548.78 767.09 1548.04 L767.09 1543.34 Q769.173 1544.47 771.396 1545.03 Q773.618 1545.58 776.095 1545.58 Q780.099 1545.58 782.437 1543.48 Q784.775 1541.37 784.775 1537.76 Q784.775 1534.15 782.437 1532.04 Q780.099 1529.94 776.095 1529.94 Q774.22 1529.94 772.345 1530.35 Q770.493 1530.77 768.548 1531.65 L768.548 1514.29 Z\" fill=\"#000000\" fill-rule=\"evenodd\" fill-opacity=\"1\" /><path clip-path=\"url(#clip400)\" d=\"M1231.9 1517.37 Q1228.29 1517.37 1226.46 1520.93 Q1224.65 1524.47 1224.65 1531.6 Q1224.65 1538.71 1226.46 1542.27 Q1228.29 1545.82 1231.9 1545.82 Q1235.53 1545.82 1237.34 1542.27 Q1239.17 1538.71 1239.17 1531.6 Q1239.17 1524.47 1237.34 1520.93 Q1235.53 1517.37 1231.9 1517.37 M1231.9 1513.66 Q1237.71 1513.66 1240.77 1518.27 Q1243.84 1522.85 1243.84 1531.6 Q1243.84 1540.33 1240.77 1544.94 Q1237.71 1549.52 1231.9 1549.52 Q1226.09 1549.52 1223.01 1544.94 Q1219.96 1540.33 1219.96 1531.6 Q1219.96 1522.85 1223.01 1518.27 Q1226.09 1513.66 1231.9 1513.66 Z\" fill=\"#000000\" fill-rule=\"evenodd\" fill-opacity=\"1\" /><path clip-path=\"url(#clip400)\" d=\"M1252.06 1542.97 L1256.95 1542.97 L1256.95 1548.85 L1252.06 1548.85 L1252.06 1542.97 Z\" fill=\"#000000\" fill-rule=\"evenodd\" fill-opacity=\"1\" /><path clip-path=\"url(#clip400)\" d=\"M1277.13 1517.37 Q1273.52 1517.37 1271.69 1520.93 Q1269.89 1524.47 1269.89 1531.6 Q1269.89 1538.71 1271.69 1542.27 Q1273.52 1545.82 1277.13 1545.82 Q1280.76 1545.82 1282.57 1542.27 Q1284.4 1538.71 1284.4 1531.6 Q1284.4 1524.47 1282.57 1520.93 Q1280.76 1517.37 1277.13 1517.37 M1277.13 1513.66 Q1282.94 1513.66 1286 1518.27 Q1289.08 1522.85 1289.08 1531.6 Q1289.08 1540.33 1286 1544.94 Q1282.94 1549.52 1277.13 1549.52 Q1271.32 1549.52 1268.24 1544.94 Q1265.19 1540.33 1265.19 1531.6 Q1265.19 1522.85 1268.24 1518.27 Q1271.32 1513.66 1277.13 1513.66 Z\" fill=\"#000000\" fill-rule=\"evenodd\" fill-opacity=\"1\" /><path clip-path=\"url(#clip400)\" d=\"M1750.44 1517.37 Q1746.82 1517.37 1745 1520.93 Q1743.19 1524.47 1743.19 1531.6 Q1743.19 1538.71 1745 1542.27 Q1746.82 1545.82 1750.44 1545.82 Q1754.07 1545.82 1755.88 1542.27 Q1757.7 1538.71 1757.7 1531.6 Q1757.7 1524.47 1755.88 1520.93 Q1754.07 1517.37 1750.44 1517.37 M1750.44 1513.66 Q1756.25 1513.66 1759.3 1518.27 Q1762.38 1522.85 1762.38 1531.6 Q1762.38 1540.33 1759.3 1544.94 Q1756.25 1549.52 1750.44 1549.52 Q1744.63 1549.52 1741.55 1544.94 Q1738.49 1540.33 1738.49 1531.6 Q1738.49 1522.85 1741.55 1518.27 Q1744.63 1513.66 1750.44 1513.66 Z\" fill=\"#000000\" fill-rule=\"evenodd\" fill-opacity=\"1\" /><path clip-path=\"url(#clip400)\" d=\"M1770.6 1542.97 L1775.48 1542.97 L1775.48 1548.85 L1770.6 1548.85 L1770.6 1542.97 Z\" fill=\"#000000\" fill-rule=\"evenodd\" fill-opacity=\"1\" /><path clip-path=\"url(#clip400)\" d=\"M1785.71 1514.29 L1804.07 1514.29 L1804.07 1518.22 L1790 1518.22 L1790 1526.7 Q1791.01 1526.35 1792.03 1526.19 Q1793.05 1526 1794.07 1526 Q1799.86 1526 1803.24 1529.17 Q1806.62 1532.34 1806.62 1537.76 Q1806.62 1543.34 1803.14 1546.44 Q1799.67 1549.52 1793.35 1549.52 Q1791.18 1549.52 1788.91 1549.15 Q1786.66 1548.78 1784.25 1548.04 L1784.25 1543.34 Q1786.34 1544.47 1788.56 1545.03 Q1790.78 1545.58 1793.26 1545.58 Q1797.26 1545.58 1799.6 1543.48 Q1801.94 1541.37 1801.94 1537.76 Q1801.94 1534.15 1799.6 1532.04 Q1797.26 1529.94 1793.26 1529.94 Q1791.38 1529.94 1789.51 1530.35 Q1787.66 1530.77 1785.71 1531.65 L1785.71 1514.29 Z\" fill=\"#000000\" fill-rule=\"evenodd\" fill-opacity=\"1\" /><path clip-path=\"url(#clip400)\" d=\"M2257.74 1544.91 L2265.38 1544.91 L2265.38 1518.55 L2257.07 1520.21 L2257.07 1515.95 L2265.34 1514.29 L2270.01 1514.29 L2270.01 1544.91 L2277.65 1544.91 L2277.65 1548.85 L2257.74 1548.85 L2257.74 1544.91 Z\" fill=\"#000000\" fill-rule=\"evenodd\" fill-opacity=\"1\" /><path clip-path=\"url(#clip400)\" d=\"M2287.1 1542.97 L2291.98 1542.97 L2291.98 1548.85 L2287.1 1548.85 L2287.1 1542.97 Z\" fill=\"#000000\" fill-rule=\"evenodd\" fill-opacity=\"1\" /><path clip-path=\"url(#clip400)\" d=\"M2312.17 1517.37 Q2308.55 1517.37 2306.73 1520.93 Q2304.92 1524.47 2304.92 1531.6 Q2304.92 1538.71 2306.73 1542.27 Q2308.55 1545.82 2312.17 1545.82 Q2315.8 1545.82 2317.61 1542.27 Q2319.43 1538.71 2319.43 1531.6 Q2319.43 1524.47 2317.61 1520.93 Q2315.8 1517.37 2312.17 1517.37 M2312.17 1513.66 Q2317.98 1513.66 2321.03 1518.27 Q2324.11 1522.85 2324.11 1531.6 Q2324.11 1540.33 2321.03 1544.94 Q2317.98 1549.52 2312.17 1549.52 Q2306.36 1549.52 2303.28 1544.94 Q2300.22 1540.33 2300.22 1531.6 Q2300.22 1522.85 2303.28 1518.27 Q2306.36 1513.66 2312.17 1513.66 Z\" fill=\"#000000\" fill-rule=\"evenodd\" fill-opacity=\"1\" /><polyline clip-path=\"url(#clip402)\" style=\"stroke:#000000; stroke-linecap:butt; stroke-linejoin:round; stroke-width:2; stroke-opacity:0.1; fill:none\" points=\"\n",
       "  156.274,1269.4 2352.76,1269.4 \n",
       "  \"/>\n",
       "<polyline clip-path=\"url(#clip402)\" style=\"stroke:#000000; stroke-linecap:butt; stroke-linejoin:round; stroke-width:2; stroke-opacity:0.1; fill:none\" points=\"\n",
       "  156.274,974.04 2352.76,974.04 \n",
       "  \"/>\n",
       "<polyline clip-path=\"url(#clip402)\" style=\"stroke:#000000; stroke-linecap:butt; stroke-linejoin:round; stroke-width:2; stroke-opacity:0.1; fill:none\" points=\"\n",
       "  156.274,678.685 2352.76,678.685 \n",
       "  \"/>\n",
       "<polyline clip-path=\"url(#clip402)\" style=\"stroke:#000000; stroke-linecap:butt; stroke-linejoin:round; stroke-width:2; stroke-opacity:0.1; fill:none\" points=\"\n",
       "  156.274,383.33 2352.76,383.33 \n",
       "  \"/>\n",
       "<polyline clip-path=\"url(#clip402)\" style=\"stroke:#000000; stroke-linecap:butt; stroke-linejoin:round; stroke-width:2; stroke-opacity:0.1; fill:none\" points=\"\n",
       "  156.274,87.9748 2352.76,87.9748 \n",
       "  \"/>\n",
       "<polyline clip-path=\"url(#clip400)\" style=\"stroke:#000000; stroke-linecap:butt; stroke-linejoin:round; stroke-width:4; stroke-opacity:1; fill:none\" points=\"\n",
       "  156.274,1486.45 156.274,47.2441 \n",
       "  \"/>\n",
       "<polyline clip-path=\"url(#clip400)\" style=\"stroke:#000000; stroke-linecap:butt; stroke-linejoin:round; stroke-width:4; stroke-opacity:1; fill:none\" points=\"\n",
       "  156.274,1269.4 175.172,1269.4 \n",
       "  \"/>\n",
       "<polyline clip-path=\"url(#clip400)\" style=\"stroke:#000000; stroke-linecap:butt; stroke-linejoin:round; stroke-width:4; stroke-opacity:1; fill:none\" points=\"\n",
       "  156.274,974.04 175.172,974.04 \n",
       "  \"/>\n",
       "<polyline clip-path=\"url(#clip400)\" style=\"stroke:#000000; stroke-linecap:butt; stroke-linejoin:round; stroke-width:4; stroke-opacity:1; fill:none\" points=\"\n",
       "  156.274,678.685 175.172,678.685 \n",
       "  \"/>\n",
       "<polyline clip-path=\"url(#clip400)\" style=\"stroke:#000000; stroke-linecap:butt; stroke-linejoin:round; stroke-width:4; stroke-opacity:1; fill:none\" points=\"\n",
       "  156.274,383.33 175.172,383.33 \n",
       "  \"/>\n",
       "<polyline clip-path=\"url(#clip400)\" style=\"stroke:#000000; stroke-linecap:butt; stroke-linejoin:round; stroke-width:4; stroke-opacity:1; fill:none\" points=\"\n",
       "  156.274,87.9748 175.172,87.9748 \n",
       "  \"/>\n",
       "<path clip-path=\"url(#clip400)\" d=\"M62.9365 1255.19 Q59.3254 1255.19 57.4967 1258.76 Q55.6912 1262.3 55.6912 1269.43 Q55.6912 1276.54 57.4967 1280.1 Q59.3254 1283.64 62.9365 1283.64 Q66.5707 1283.64 68.3763 1280.1 Q70.205 1276.54 70.205 1269.43 Q70.205 1262.3 68.3763 1258.76 Q66.5707 1255.19 62.9365 1255.19 M62.9365 1251.49 Q68.7467 1251.49 71.8022 1256.1 Q74.8809 1260.68 74.8809 1269.43 Q74.8809 1278.16 71.8022 1282.76 Q68.7467 1287.35 62.9365 1287.35 Q57.1264 1287.35 54.0477 1282.76 Q50.9921 1278.16 50.9921 1269.43 Q50.9921 1260.68 54.0477 1256.1 Q57.1264 1251.49 62.9365 1251.49 Z\" fill=\"#000000\" fill-rule=\"evenodd\" fill-opacity=\"1\" /><path clip-path=\"url(#clip400)\" d=\"M83.0984 1280.8 L87.9827 1280.8 L87.9827 1286.68 L83.0984 1286.68 L83.0984 1280.8 Z\" fill=\"#000000\" fill-rule=\"evenodd\" fill-opacity=\"1\" /><path clip-path=\"url(#clip400)\" d=\"M108.746 1267.53 Q105.598 1267.53 103.746 1269.68 Q101.918 1271.84 101.918 1275.59 Q101.918 1279.31 103.746 1281.49 Q105.598 1283.64 108.746 1283.64 Q111.895 1283.64 113.723 1281.49 Q115.575 1279.31 115.575 1275.59 Q115.575 1271.84 113.723 1269.68 Q111.895 1267.53 108.746 1267.53 M118.029 1252.88 L118.029 1257.14 Q116.27 1256.31 114.464 1255.87 Q112.682 1255.43 110.922 1255.43 Q106.293 1255.43 103.839 1258.55 Q101.409 1261.68 101.061 1268 Q102.427 1265.98 104.487 1264.92 Q106.547 1263.83 109.024 1263.83 Q114.233 1263.83 117.242 1267 Q120.274 1270.15 120.274 1275.59 Q120.274 1280.91 117.126 1284.13 Q113.978 1287.35 108.746 1287.35 Q102.751 1287.35 99.5798 1282.76 Q96.4085 1278.16 96.4085 1269.43 Q96.4085 1261.24 100.297 1256.37 Q104.186 1251.49 110.737 1251.49 Q112.496 1251.49 114.279 1251.84 Q116.084 1252.18 118.029 1252.88 Z\" fill=\"#000000\" fill-rule=\"evenodd\" fill-opacity=\"1\" /><path clip-path=\"url(#clip400)\" d=\"M64.0013 959.839 Q60.3902 959.839 58.5615 963.404 Q56.756 966.945 56.756 974.075 Q56.756 981.181 58.5615 984.746 Q60.3902 988.288 64.0013 988.288 Q67.6356 988.288 69.4411 984.746 Q71.2698 981.181 71.2698 974.075 Q71.2698 966.945 69.4411 963.404 Q67.6356 959.839 64.0013 959.839 M64.0013 956.135 Q69.8115 956.135 72.867 960.742 Q75.9457 965.325 75.9457 974.075 Q75.9457 982.802 72.867 987.408 Q69.8115 991.992 64.0013 991.992 Q58.1912 991.992 55.1125 987.408 Q52.0569 982.802 52.0569 974.075 Q52.0569 965.325 55.1125 960.742 Q58.1912 956.135 64.0013 956.135 Z\" fill=\"#000000\" fill-rule=\"evenodd\" fill-opacity=\"1\" /><path clip-path=\"url(#clip400)\" d=\"M84.1632 985.441 L89.0475 985.441 L89.0475 991.32 L84.1632 991.32 L84.1632 985.441 Z\" fill=\"#000000\" fill-rule=\"evenodd\" fill-opacity=\"1\" /><path clip-path=\"url(#clip400)\" d=\"M98.0521 956.76 L120.274 956.76 L120.274 958.751 L107.728 991.32 L102.844 991.32 L114.649 960.695 L98.0521 960.695 L98.0521 956.76 Z\" fill=\"#000000\" fill-rule=\"evenodd\" fill-opacity=\"1\" /><path clip-path=\"url(#clip400)\" d=\"M63.1911 664.484 Q59.58 664.484 57.7513 668.049 Q55.9458 671.59 55.9458 678.72 Q55.9458 685.826 57.7513 689.391 Q59.58 692.933 63.1911 692.933 Q66.8254 692.933 68.6309 689.391 Q70.4596 685.826 70.4596 678.72 Q70.4596 671.59 68.6309 668.049 Q66.8254 664.484 63.1911 664.484 M63.1911 660.78 Q69.0013 660.78 72.0568 665.387 Q75.1355 669.97 75.1355 678.72 Q75.1355 687.447 72.0568 692.053 Q69.0013 696.636 63.1911 696.636 Q57.381 696.636 54.3023 692.053 Q51.2468 687.447 51.2468 678.72 Q51.2468 669.97 54.3023 665.387 Q57.381 660.78 63.1911 660.78 Z\" fill=\"#000000\" fill-rule=\"evenodd\" fill-opacity=\"1\" /><path clip-path=\"url(#clip400)\" d=\"M83.3531 690.086 L88.2373 690.086 L88.2373 695.965 L83.3531 695.965 L83.3531 690.086 Z\" fill=\"#000000\" fill-rule=\"evenodd\" fill-opacity=\"1\" /><path clip-path=\"url(#clip400)\" d=\"M108.422 679.553 Q105.089 679.553 103.168 681.336 Q101.27 683.118 101.27 686.243 Q101.27 689.368 103.168 691.15 Q105.089 692.933 108.422 692.933 Q111.756 692.933 113.677 691.15 Q115.598 689.345 115.598 686.243 Q115.598 683.118 113.677 681.336 Q111.779 679.553 108.422 679.553 M103.746 677.562 Q100.737 676.822 99.0474 674.762 Q97.3808 672.701 97.3808 669.738 Q97.3808 665.595 100.321 663.188 Q103.284 660.78 108.422 660.78 Q113.584 660.78 116.524 663.188 Q119.464 665.595 119.464 669.738 Q119.464 672.701 117.774 674.762 Q116.108 676.822 113.121 677.562 Q116.501 678.349 118.376 680.641 Q120.274 682.933 120.274 686.243 Q120.274 691.266 117.195 693.951 Q114.14 696.636 108.422 696.636 Q102.705 696.636 99.6261 693.951 Q96.5706 691.266 96.5706 686.243 Q96.5706 682.933 98.4687 680.641 Q100.367 678.349 103.746 677.562 M102.034 670.178 Q102.034 672.863 103.7 674.368 Q105.39 675.873 108.422 675.873 Q111.432 675.873 113.121 674.368 Q114.834 672.863 114.834 670.178 Q114.834 667.493 113.121 665.988 Q111.432 664.484 108.422 664.484 Q105.39 664.484 103.7 665.988 Q102.034 667.493 102.034 670.178 Z\" fill=\"#000000\" fill-rule=\"evenodd\" fill-opacity=\"1\" /><path clip-path=\"url(#clip400)\" d=\"M63.2837 369.129 Q59.6726 369.129 57.8439 372.693 Q56.0384 376.235 56.0384 383.365 Q56.0384 390.471 57.8439 394.036 Q59.6726 397.578 63.2837 397.578 Q66.918 397.578 68.7235 394.036 Q70.5522 390.471 70.5522 383.365 Q70.5522 376.235 68.7235 372.693 Q66.918 369.129 63.2837 369.129 M63.2837 365.425 Q69.0939 365.425 72.1494 370.031 Q75.2281 374.615 75.2281 383.365 Q75.2281 392.091 72.1494 396.698 Q69.0939 401.281 63.2837 401.281 Q57.4736 401.281 54.3949 396.698 Q51.3393 392.091 51.3393 383.365 Q51.3393 374.615 54.3949 370.031 Q57.4736 365.425 63.2837 365.425 Z\" fill=\"#000000\" fill-rule=\"evenodd\" fill-opacity=\"1\" /><path clip-path=\"url(#clip400)\" d=\"M83.4457 394.73 L88.3299 394.73 L88.3299 400.61 L83.4457 400.61 L83.4457 394.73 Z\" fill=\"#000000\" fill-rule=\"evenodd\" fill-opacity=\"1\" /><path clip-path=\"url(#clip400)\" d=\"M98.6539 399.892 L98.6539 395.633 Q100.413 396.466 102.219 396.906 Q104.024 397.346 105.76 397.346 Q110.39 397.346 112.82 394.244 Q115.274 391.119 115.621 384.777 Q114.279 386.767 112.219 387.832 Q110.158 388.897 107.658 388.897 Q102.473 388.897 99.4409 385.772 Q96.4317 382.624 96.4317 377.184 Q96.4317 371.86 99.5798 368.643 Q102.728 365.425 107.959 365.425 Q113.955 365.425 117.103 370.031 Q120.274 374.615 120.274 383.365 Q120.274 391.536 116.385 396.42 Q112.52 401.281 105.969 401.281 Q104.209 401.281 102.404 400.934 Q100.598 400.587 98.6539 399.892 M107.959 385.24 Q111.108 385.24 112.936 383.087 Q114.788 380.934 114.788 377.184 Q114.788 373.457 112.936 371.305 Q111.108 369.129 107.959 369.129 Q104.811 369.129 102.959 371.305 Q101.131 373.457 101.131 377.184 Q101.131 380.934 102.959 383.087 Q104.811 385.24 107.959 385.24 Z\" fill=\"#000000\" fill-rule=\"evenodd\" fill-opacity=\"1\" /><path clip-path=\"url(#clip400)\" d=\"M53.9088 101.32 L61.5476 101.32 L61.5476 74.954 L53.2375 76.6207 L53.2375 72.3615 L61.5013 70.6948 L66.1772 70.6948 L66.1772 101.32 L73.8161 101.32 L73.8161 105.255 L53.9088 105.255 L53.9088 101.32 Z\" fill=\"#000000\" fill-rule=\"evenodd\" fill-opacity=\"1\" /><path clip-path=\"url(#clip400)\" d=\"M83.2605 99.3752 L88.1447 99.3752 L88.1447 105.255 L83.2605 105.255 L83.2605 99.3752 Z\" fill=\"#000000\" fill-rule=\"evenodd\" fill-opacity=\"1\" /><path clip-path=\"url(#clip400)\" d=\"M108.33 73.7735 Q104.719 73.7735 102.89 77.3383 Q101.084 80.8799 101.084 88.0095 Q101.084 95.116 102.89 98.6808 Q104.719 102.222 108.33 102.222 Q111.964 102.222 113.77 98.6808 Q115.598 95.116 115.598 88.0095 Q115.598 80.8799 113.77 77.3383 Q111.964 73.7735 108.33 73.7735 M108.33 70.0698 Q114.14 70.0698 117.195 74.6763 Q120.274 79.2596 120.274 88.0095 Q120.274 96.7363 117.195 101.343 Q114.14 105.926 108.33 105.926 Q102.52 105.926 99.4409 101.343 Q96.3854 96.7363 96.3854 88.0095 Q96.3854 79.2596 99.4409 74.6763 Q102.52 70.0698 108.33 70.0698 Z\" fill=\"#000000\" fill-rule=\"evenodd\" fill-opacity=\"1\" /><polyline clip-path=\"url(#clip402)\" style=\"stroke:#009af9; stroke-linecap:butt; stroke-linejoin:round; stroke-width:4; stroke-opacity:1; fill:none\" points=\"\n",
       "  218.439,1445.72 220.513,1440.74 222.587,1435.78 224.661,1430.82 226.736,1425.86 228.81,1420.92 230.884,1415.98 232.958,1411.04 235.033,1406.12 237.107,1401.2 \n",
       "  239.181,1396.28 241.255,1391.38 243.329,1386.47 245.404,1381.58 247.478,1376.69 249.552,1371.81 251.626,1366.94 253.701,1362.07 255.775,1357.21 257.849,1352.36 \n",
       "  259.923,1347.51 261.998,1342.67 264.072,1337.83 266.146,1333.01 268.22,1328.19 270.294,1323.38 272.369,1318.57 274.443,1313.77 276.517,1308.98 278.591,1304.19 \n",
       "  280.666,1299.41 282.74,1294.64 284.814,1289.88 286.888,1285.12 288.962,1280.37 291.037,1275.63 293.111,1270.89 295.185,1266.16 297.259,1261.44 299.334,1256.72 \n",
       "  301.408,1252.02 303.482,1247.32 305.556,1242.62 307.63,1237.94 309.705,1233.26 311.779,1228.59 313.853,1223.92 315.927,1219.27 318.002,1214.62 320.076,1209.97 \n",
       "  322.15,1205.34 324.224,1200.71 326.299,1196.09 328.373,1191.48 330.447,1186.87 332.521,1182.27 334.595,1177.68 336.67,1173.1 338.744,1168.52 340.818,1163.95 \n",
       "  342.892,1159.39 344.967,1154.84 347.041,1150.3 349.115,1145.76 351.189,1141.23 353.263,1136.7 355.338,1132.19 357.412,1127.68 359.486,1123.18 361.56,1118.69 \n",
       "  363.635,1114.21 365.709,1109.73 367.783,1105.26 369.857,1100.8 371.932,1096.34 374.006,1091.9 376.08,1087.46 378.154,1083.03 380.228,1078.61 382.303,1074.19 \n",
       "  384.377,1069.79 386.451,1065.39 388.525,1061 390.6,1056.62 392.674,1052.24 394.748,1047.88 396.822,1043.52 398.896,1039.17 400.971,1034.82 403.045,1030.49 \n",
       "  405.119,1026.16 407.193,1021.84 409.268,1017.53 411.342,1013.23 413.416,1008.94 415.49,1004.65 417.565,1000.37 419.639,996.103 421.713,991.841 423.787,987.588 \n",
       "  425.861,983.343 427.936,979.106 430.01,974.878 432.084,970.658 434.158,966.446 436.233,962.242 438.307,958.047 440.381,953.86 442.455,949.681 444.529,945.511 \n",
       "  446.604,941.349 448.678,937.196 450.752,933.051 452.826,928.914 454.901,924.786 456.975,920.667 459.049,916.556 461.123,912.453 463.198,908.359 465.272,904.274 \n",
       "  467.346,900.197 469.42,896.129 471.494,892.069 473.569,888.018 475.643,883.976 477.717,879.942 479.791,875.917 481.866,871.9 483.94,867.893 486.014,863.893 \n",
       "  488.088,859.903 490.162,855.922 492.237,851.949 494.311,847.985 496.385,844.03 498.459,840.083 500.534,836.146 502.608,832.217 504.682,828.297 506.756,824.386 \n",
       "  508.83,820.484 510.905,816.59 512.979,812.706 515.053,808.831 517.127,804.964 519.202,801.107 521.276,797.258 523.35,793.419 525.424,789.588 527.499,785.767 \n",
       "  529.573,781.954 531.647,778.151 533.721,774.357 535.795,770.571 537.87,766.795 539.944,763.028 542.018,759.27 544.092,755.522 546.167,751.782 548.241,748.052 \n",
       "  550.315,744.33 552.389,740.619 554.463,736.916 556.538,733.222 558.612,729.538 560.686,725.863 562.76,722.197 564.835,718.541 566.909,714.894 568.983,711.256 \n",
       "  571.057,707.627 573.132,704.008 575.206,700.399 577.28,696.798 579.354,693.207 581.428,689.626 583.503,686.054 585.577,682.491 587.651,678.938 589.725,675.394 \n",
       "  591.8,671.86 593.874,668.335 595.948,664.82 598.022,661.314 600.096,657.818 602.171,654.331 604.245,650.854 606.319,647.387 608.393,643.929 610.468,640.48 \n",
       "  612.542,637.042 614.616,633.613 616.69,630.193 618.765,626.784 620.839,623.384 622.913,619.993 624.987,616.613 627.061,613.242 629.136,609.881 631.21,606.529 \n",
       "  633.284,603.188 635.358,599.856 637.433,596.534 639.507,593.221 641.581,589.919 643.655,586.626 645.729,583.343 647.804,580.07 649.878,576.807 651.952,573.554 \n",
       "  654.026,570.311 656.101,567.077 658.175,563.854 660.249,560.64 662.323,557.436 664.398,554.243 666.472,551.059 668.546,547.885 670.62,544.721 672.694,541.568 \n",
       "  674.769,538.424 676.843,535.29 678.917,532.167 680.991,529.053 683.066,525.95 685.14,522.856 687.214,519.773 689.288,516.7 691.362,513.636 693.437,510.583 \n",
       "  695.511,507.541 697.585,504.508 699.659,501.485 701.734,498.473 703.808,495.471 705.882,492.479 707.956,489.497 710.03,486.526 712.105,483.565 714.179,480.614 \n",
       "  716.253,477.673 718.327,474.742 720.402,471.822 722.476,468.912 724.55,466.013 726.624,463.124 728.699,460.245 730.773,457.376 732.847,454.518 734.921,451.67 \n",
       "  736.995,448.833 739.07,446.006 741.144,443.189 743.218,440.383 745.292,437.587 747.367,434.802 749.441,432.027 751.515,429.262 753.589,426.508 755.663,423.765 \n",
       "  757.738,421.032 759.812,418.309 761.886,415.597 763.96,412.896 766.035,410.205 768.109,407.524 770.183,404.854 772.257,402.195 774.332,399.546 776.406,396.908 \n",
       "  778.48,394.281 780.554,391.664 782.628,389.058 784.703,386.462 786.777,383.877 788.851,381.303 790.925,378.739 793,376.186 795.074,373.643 797.148,371.112 \n",
       "  799.222,368.591 801.296,366.081 803.371,363.581 805.445,361.092 807.519,358.614 809.593,356.147 811.668,353.691 813.742,351.245 815.816,348.81 817.89,346.386 \n",
       "  819.965,343.972 822.039,341.57 824.113,339.178 826.187,336.797 828.261,334.427 830.336,332.068 832.41,329.72 834.484,327.382 836.558,325.055 838.633,322.74 \n",
       "  840.707,320.435 842.781,318.141 844.855,315.858 846.929,313.586 849.004,311.325 851.078,309.075 853.152,306.835 855.226,304.607 857.301,302.39 859.375,300.183 \n",
       "  861.449,297.988 863.523,295.804 865.598,293.63 867.672,291.468 869.746,289.317 871.82,287.176 873.894,285.047 875.969,282.929 878.043,280.822 880.117,278.726 \n",
       "  882.191,276.641 884.266,274.567 886.34,272.504 888.414,270.452 890.488,268.412 892.562,266.382 894.637,264.364 896.711,262.357 898.785,260.361 900.859,258.376 \n",
       "  902.934,256.402 905.008,254.439 907.082,252.488 909.156,250.547 911.23,248.618 913.305,246.7 915.379,244.794 917.453,242.898 919.527,241.014 921.602,239.141 \n",
       "  923.676,237.279 925.75,235.428 927.824,233.589 929.899,231.761 931.973,229.944 934.047,228.138 936.121,226.344 938.195,224.561 940.27,222.789 942.344,221.029 \n",
       "  944.418,219.28 946.492,217.542 948.567,215.816 950.641,214.1 952.715,212.397 954.789,210.704 956.863,209.023 958.938,207.353 961.012,205.695 963.086,204.048 \n",
       "  965.16,202.412 967.235,200.788 969.309,199.175 971.383,197.573 973.457,195.983 975.532,194.404 977.606,192.837 979.68,191.281 981.754,189.737 983.828,188.204 \n",
       "  985.903,186.682 987.977,185.172 990.051,183.673 992.125,182.186 994.2,180.71 996.274,179.246 998.348,177.793 1000.42,176.352 1002.5,174.922 1004.57,173.503 \n",
       "  1006.64,172.096 1008.72,170.701 1010.79,169.317 1012.87,167.945 1014.94,166.584 1017.02,165.234 1019.09,163.896 1021.16,162.57 1023.24,161.255 1025.31,159.952 \n",
       "  1027.39,158.661 1029.46,157.38 1031.54,156.112 1033.61,154.855 1035.68,153.609 1037.76,152.376 1039.83,151.153 1041.91,149.943 1043.98,148.744 1046.06,147.556 \n",
       "  1048.13,146.38 1050.2,145.216 1052.28,144.063 1054.35,142.922 1056.43,141.793 1058.5,140.675 1060.57,139.569 1062.65,138.474 1064.72,137.391 1066.8,136.32 \n",
       "  1068.87,135.26 1070.95,134.212 1073.02,133.176 1075.09,132.151 1077.17,131.138 1079.24,130.137 1081.32,129.147 1083.39,128.169 1085.47,127.203 1087.54,126.248 \n",
       "  1089.61,125.305 1091.69,124.374 1093.76,123.454 1095.84,122.546 1097.91,121.65 1099.99,120.766 1102.06,119.893 1104.13,119.032 1106.21,118.182 1108.28,117.345 \n",
       "  1110.36,116.519 1112.43,115.704 1114.5,114.902 1116.58,114.111 1118.65,113.332 1120.73,112.565 1122.8,111.809 1124.88,111.065 1126.95,110.333 1129.02,109.613 \n",
       "  1131.1,108.905 1133.17,108.208 1135.25,107.523 1137.32,106.849 1139.4,106.188 1141.47,105.538 1143.54,104.9 1145.62,104.274 1147.69,103.659 1149.77,103.057 \n",
       "  1151.84,102.466 1153.92,101.887 1155.99,101.319 1158.06,100.764 1160.14,100.22 1162.21,99.688 1164.29,99.1678 1166.36,98.6594 1168.43,98.1628 1170.51,97.678 \n",
       "  1172.58,97.205 1174.66,96.7438 1176.73,96.2944 1178.81,95.8568 1180.88,95.431 1182.95,95.017 1185.03,94.6148 1187.1,94.2245 1189.18,93.8459 1191.25,93.4792 \n",
       "  1193.33,93.1243 1195.4,92.7811 1197.47,92.4499 1199.55,92.1304 1201.62,91.8227 1203.7,91.5269 1205.77,91.2429 1207.84,90.9708 1209.92,90.7104 1211.99,90.4619 \n",
       "  1214.07,90.2252 1216.14,90.0003 1218.22,89.7873 1220.29,89.5861 1222.36,89.3967 1224.44,89.2192 1226.51,89.0535 1228.59,88.8996 1230.66,88.7575 1232.74,88.6273 \n",
       "  1234.81,88.509 1236.88,88.4024 1238.96,88.3077 1241.03,88.2249 1243.11,88.1538 1245.18,88.0947 1247.26,88.0473 1249.33,88.0118 1251.4,87.9881 1253.48,87.9763 \n",
       "  1255.55,87.9763 1257.63,87.9881 1259.7,88.0118 1261.77,88.0473 1263.85,88.0947 1265.92,88.1538 1268,88.2249 1270.07,88.3077 1272.15,88.4024 1274.22,88.509 \n",
       "  1276.29,88.6273 1278.37,88.7575 1280.44,88.8996 1282.52,89.0535 1284.59,89.2192 1286.67,89.3967 1288.74,89.5861 1290.81,89.7873 1292.89,90.0003 1294.96,90.2252 \n",
       "  1297.04,90.4619 1299.11,90.7104 1301.19,90.9708 1303.26,91.2429 1305.33,91.5269 1307.41,91.8227 1309.48,92.1304 1311.56,92.4499 1313.63,92.7811 1315.7,93.1243 \n",
       "  1317.78,93.4792 1319.85,93.8459 1321.93,94.2245 1324,94.6148 1326.08,95.017 1328.15,95.431 1330.22,95.8568 1332.3,96.2944 1334.37,96.7438 1336.45,97.205 \n",
       "  1338.52,97.678 1340.6,98.1628 1342.67,98.6594 1344.74,99.1678 1346.82,99.688 1348.89,100.22 1350.97,100.764 1353.04,101.319 1355.12,101.887 1357.19,102.466 \n",
       "  1359.26,103.057 1361.34,103.659 1363.41,104.274 1365.49,104.9 1367.56,105.538 1369.63,106.188 1371.71,106.849 1373.78,107.523 1375.86,108.208 1377.93,108.905 \n",
       "  1380.01,109.613 1382.08,110.333 1384.15,111.065 1386.23,111.809 1388.3,112.565 1390.38,113.332 1392.45,114.111 1394.53,114.902 1396.6,115.704 1398.67,116.519 \n",
       "  1400.75,117.345 1402.82,118.182 1404.9,119.032 1406.97,119.893 1409.04,120.766 1411.12,121.65 1413.19,122.546 1415.27,123.454 1417.34,124.374 1419.42,125.305 \n",
       "  1421.49,126.248 1423.56,127.203 1425.64,128.169 1427.71,129.147 1429.79,130.137 1431.86,131.138 1433.94,132.151 1436.01,133.176 1438.08,134.212 1440.16,135.26 \n",
       "  1442.23,136.32 1444.31,137.391 1446.38,138.474 1448.46,139.569 1450.53,140.675 1452.6,141.793 1454.68,142.922 1456.75,144.063 1458.83,145.216 1460.9,146.38 \n",
       "  1462.97,147.556 1465.05,148.744 1467.12,149.943 1469.2,151.153 1471.27,152.376 1473.35,153.609 1475.42,154.855 1477.49,156.112 1479.57,157.38 1481.64,158.661 \n",
       "  1483.72,159.952 1485.79,161.255 1487.87,162.57 1489.94,163.896 1492.01,165.234 1494.09,166.584 1496.16,167.945 1498.24,169.317 1500.31,170.701 1502.39,172.096 \n",
       "  1504.46,173.503 1506.53,174.922 1508.61,176.352 1510.68,177.793 1512.76,179.246 1514.83,180.71 1516.9,182.186 1518.98,183.673 1521.05,185.172 1523.13,186.682 \n",
       "  1525.2,188.204 1527.28,189.737 1529.35,191.281 1531.42,192.837 1533.5,194.404 1535.57,195.983 1537.65,197.573 1539.72,199.175 1541.8,200.788 1543.87,202.412 \n",
       "  1545.94,204.048 1548.02,205.695 1550.09,207.353 1552.17,209.023 1554.24,210.704 1556.32,212.397 1558.39,214.1 1560.46,215.816 1562.54,217.542 1564.61,219.28 \n",
       "  1566.69,221.029 1568.76,222.789 1570.83,224.561 1572.91,226.344 1574.98,228.138 1577.06,229.944 1579.13,231.761 1581.21,233.589 1583.28,235.428 1585.35,237.279 \n",
       "  1587.43,239.141 1589.5,241.014 1591.58,242.898 1593.65,244.794 1595.73,246.7 1597.8,248.618 1599.87,250.547 1601.95,252.488 1604.02,254.439 1606.1,256.402 \n",
       "  1608.17,258.376 1610.24,260.361 1612.32,262.357 1614.39,264.364 1616.47,266.382 1618.54,268.412 1620.62,270.452 1622.69,272.504 1624.76,274.567 1626.84,276.641 \n",
       "  1628.91,278.726 1630.99,280.822 1633.06,282.929 1635.14,285.047 1637.21,287.176 1639.28,289.317 1641.36,291.468 1643.43,293.63 1645.51,295.804 1647.58,297.988 \n",
       "  1649.66,300.183 1651.73,302.39 1653.8,304.607 1655.88,306.835 1657.95,309.075 1660.03,311.325 1662.1,313.586 1664.17,315.858 1666.25,318.141 1668.32,320.435 \n",
       "  1670.4,322.74 1672.47,325.055 1674.55,327.382 1676.62,329.72 1678.69,332.068 1680.77,334.427 1682.84,336.797 1684.92,339.178 1686.99,341.57 1689.07,343.972 \n",
       "  1691.14,346.386 1693.21,348.81 1695.29,351.245 1697.36,353.691 1699.44,356.147 1701.51,358.614 1703.59,361.092 1705.66,363.581 1707.73,366.081 1709.81,368.591 \n",
       "  1711.88,371.112 1713.96,373.643 1716.03,376.186 1718.1,378.739 1720.18,381.303 1722.25,383.877 1724.33,386.462 1726.4,389.058 1728.48,391.664 1730.55,394.281 \n",
       "  1732.62,396.908 1734.7,399.546 1736.77,402.195 1738.85,404.854 1740.92,407.524 1743,410.205 1745.07,412.896 1747.14,415.597 1749.22,418.309 1751.29,421.032 \n",
       "  1753.37,423.765 1755.44,426.508 1757.52,429.262 1759.59,432.027 1761.66,434.802 1763.74,437.587 1765.81,440.383 1767.89,443.189 1769.96,446.006 1772.03,448.833 \n",
       "  1774.11,451.67 1776.18,454.518 1778.26,457.376 1780.33,460.245 1782.41,463.124 1784.48,466.013 1786.55,468.912 1788.63,471.822 1790.7,474.742 1792.78,477.673 \n",
       "  1794.85,480.614 1796.93,483.565 1799,486.526 1801.07,489.497 1803.15,492.479 1805.22,495.471 1807.3,498.473 1809.37,501.485 1811.44,504.508 1813.52,507.541 \n",
       "  1815.59,510.583 1817.67,513.636 1819.74,516.7 1821.82,519.773 1823.89,522.856 1825.96,525.95 1828.04,529.053 1830.11,532.167 1832.19,535.29 1834.26,538.424 \n",
       "  1836.34,541.568 1838.41,544.721 1840.48,547.885 1842.56,551.059 1844.63,554.243 1846.71,557.436 1848.78,560.64 1850.86,563.854 1852.93,567.077 1855,570.311 \n",
       "  1857.08,573.554 1859.15,576.807 1861.23,580.07 1863.3,583.343 1865.37,586.626 1867.45,589.919 1869.52,593.221 1871.6,596.534 1873.67,599.856 1875.75,603.188 \n",
       "  1877.82,606.529 1879.89,609.881 1881.97,613.242 1884.04,616.613 1886.12,619.993 1888.19,623.384 1890.27,626.784 1892.34,630.193 1894.41,633.613 1896.49,637.042 \n",
       "  1898.56,640.48 1900.64,643.929 1902.71,647.387 1904.79,650.854 1906.86,654.331 1908.93,657.818 1911.01,661.314 1913.08,664.82 1915.16,668.335 1917.23,671.86 \n",
       "  1919.3,675.394 1921.38,678.938 1923.45,682.491 1925.53,686.054 1927.6,689.626 1929.68,693.207 1931.75,696.798 1933.82,700.399 1935.9,704.008 1937.97,707.627 \n",
       "  1940.05,711.256 1942.12,714.894 1944.2,718.541 1946.27,722.197 1948.34,725.863 1950.42,729.538 1952.49,733.222 1954.57,736.916 1956.64,740.619 1958.72,744.33 \n",
       "  1960.79,748.052 1962.86,751.782 1964.94,755.522 1967.01,759.27 1969.09,763.028 1971.16,766.795 1973.23,770.571 1975.31,774.357 1977.38,778.151 1979.46,781.954 \n",
       "  1981.53,785.767 1983.61,789.588 1985.68,793.419 1987.75,797.258 1989.83,801.107 1991.9,804.964 1993.98,808.831 1996.05,812.706 1998.13,816.59 2000.2,820.484 \n",
       "  2002.27,824.386 2004.35,828.297 2006.42,832.217 2008.5,836.146 2010.57,840.083 2012.64,844.03 2014.72,847.985 2016.79,851.949 2018.87,855.922 2020.94,859.903 \n",
       "  2023.02,863.893 2025.09,867.893 2027.16,871.9 2029.24,875.917 2031.31,879.942 2033.39,883.976 2035.46,888.018 2037.54,892.069 2039.61,896.129 2041.68,900.197 \n",
       "  2043.76,904.274 2045.83,908.359 2047.91,912.453 2049.98,916.556 2052.06,920.667 2054.13,924.786 2056.2,928.914 2058.28,933.051 2060.35,937.196 2062.43,941.349 \n",
       "  2064.5,945.511 2066.57,949.681 2068.65,953.86 2070.72,958.047 2072.8,962.242 2074.87,966.446 2076.95,970.658 2079.02,974.878 2081.09,979.106 2083.17,983.343 \n",
       "  2085.24,987.588 2087.32,991.841 2089.39,996.103 2091.47,1000.37 2093.54,1004.65 2095.61,1008.94 2097.69,1013.23 2099.76,1017.53 2101.84,1021.84 2103.91,1026.16 \n",
       "  2105.99,1030.49 2108.06,1034.82 2110.13,1039.17 2112.21,1043.52 2114.28,1047.88 2116.36,1052.24 2118.43,1056.62 2120.5,1061 2122.58,1065.39 2124.65,1069.79 \n",
       "  2126.73,1074.19 2128.8,1078.61 2130.88,1083.03 2132.95,1087.46 2135.02,1091.9 2137.1,1096.34 2139.17,1100.8 2141.25,1105.26 2143.32,1109.73 2145.4,1114.21 \n",
       "  2147.47,1118.69 2149.54,1123.18 2151.62,1127.68 2153.69,1132.19 2155.77,1136.7 2157.84,1141.23 2159.92,1145.76 2161.99,1150.3 2164.06,1154.84 2166.14,1159.39 \n",
       "  2168.21,1163.95 2170.29,1168.52 2172.36,1173.1 2174.43,1177.68 2176.51,1182.27 2178.58,1186.87 2180.66,1191.48 2182.73,1196.09 2184.81,1200.71 2186.88,1205.34 \n",
       "  2188.95,1209.97 2191.03,1214.62 2193.1,1219.27 2195.18,1223.92 2197.25,1228.59 2199.33,1233.26 2201.4,1237.94 2203.47,1242.62 2205.55,1247.32 2207.62,1252.02 \n",
       "  2209.7,1256.72 2211.77,1261.44 2213.84,1266.16 2215.92,1270.89 2217.99,1275.63 2220.07,1280.37 2222.14,1285.12 2224.22,1289.88 2226.29,1294.64 2228.36,1299.41 \n",
       "  2230.44,1304.19 2232.51,1308.98 2234.59,1313.77 2236.66,1318.57 2238.74,1323.38 2240.81,1328.19 2242.88,1333.01 2244.96,1337.83 2247.03,1342.67 2249.11,1347.51 \n",
       "  2251.18,1352.36 2253.26,1357.21 2255.33,1362.07 2257.4,1366.94 2259.48,1371.81 2261.55,1376.69 2263.63,1381.58 2265.7,1386.47 2267.77,1391.38 2269.85,1396.28 \n",
       "  2271.92,1401.2 2274,1406.12 2276.07,1411.04 2278.15,1415.98 2280.22,1420.92 2282.29,1425.86 2284.37,1430.82 2286.44,1435.78 2288.52,1440.74 2290.59,1445.72 \n",
       "  \n",
       "  \"/>\n",
       "<path clip-path=\"url(#clip400)\" d=\"\n",
       "M1983.06 198.898 L2279.54 198.898 L2279.54 95.2176 L1983.06 95.2176  Z\n",
       "  \" fill=\"#ffffff\" fill-rule=\"evenodd\" fill-opacity=\"1\"/>\n",
       "<polyline clip-path=\"url(#clip400)\" style=\"stroke:#000000; stroke-linecap:butt; stroke-linejoin:round; stroke-width:4; stroke-opacity:1; fill:none\" points=\"\n",
       "  1983.06,198.898 2279.54,198.898 2279.54,95.2176 1983.06,95.2176 1983.06,198.898 \n",
       "  \"/>\n",
       "<polyline clip-path=\"url(#clip400)\" style=\"stroke:#009af9; stroke-linecap:butt; stroke-linejoin:round; stroke-width:4; stroke-opacity:1; fill:none\" points=\"\n",
       "  2007.46,147.058 2153.89,147.058 \n",
       "  \"/>\n",
       "<path clip-path=\"url(#clip400)\" d=\"M2192.14 166.745 Q2190.34 171.375 2188.62 172.787 Q2186.91 174.199 2184.04 174.199 L2180.64 174.199 L2180.64 170.634 L2183.14 170.634 Q2184.9 170.634 2185.87 169.8 Q2186.84 168.967 2188.02 165.865 L2188.78 163.921 L2178.3 138.412 L2182.81 138.412 L2190.91 158.689 L2199.02 138.412 L2203.53 138.412 L2192.14 166.745 Z\" fill=\"#000000\" fill-rule=\"evenodd\" fill-opacity=\"1\" /><path clip-path=\"url(#clip400)\" d=\"M2210.82 160.402 L2218.46 160.402 L2218.46 134.037 L2210.15 135.703 L2210.15 131.444 L2218.41 129.778 L2223.09 129.778 L2223.09 160.402 L2230.73 160.402 L2230.73 164.338 L2210.82 164.338 L2210.82 160.402 Z\" fill=\"#000000\" fill-rule=\"evenodd\" fill-opacity=\"1\" /></svg>\n"
      ]
     },
     "execution_count": 88,
     "metadata": {},
     "output_type": "execute_result"
    }
   ],
   "source": [
    "using Plots\n",
    "x = range(-1, 1; length=1000) # Create a range of a 1000 evenly spaced numbers between -1 and 1\n",
    "y = cos.(x) # Create a new vector with `cos` applied to each entry of `x`\n",
    "plot(x, y)"
   ]
  },
  {
   "cell_type": "markdown",
   "metadata": {},
   "source": [
    "### Installing packages (advanced)\n",
    "\n",
    "If you choose to use Julia on your own machine, you may need to install\n",
    "packages. This can be done by typing the following, either in Jupyter or in the REPL:\n",
    "`] add Plots`."
   ]
  }
 ],
 "metadata": {
  "kernelspec": {
   "display_name": "Julia 1.6.2",
   "language": "julia",
   "name": "julia-1.6"
  },
  "language_info": {
   "file_extension": ".jl",
   "mimetype": "application/julia",
   "name": "julia",
   "version": "1.6.2"
  }
 },
 "nbformat": 4,
 "nbformat_minor": 2
}
